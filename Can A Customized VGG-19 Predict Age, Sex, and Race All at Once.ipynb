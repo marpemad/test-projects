{
 "cells": [
  {
   "cell_type": "markdown",
   "metadata": {},
   "source": [
    "# Can a Customized VGG-19 Detect Your Age, Race, and Sex All at Once?"
   ]
  },
  {
   "cell_type": "markdown",
   "metadata": {},
   "source": [
    "#### Libraries"
   ]
  },
  {
   "cell_type": "code",
   "execution_count": 21,
   "metadata": {},
   "outputs": [],
   "source": [
    "import pandas as pd\n",
    "import matplotlib.pyplot as plt\n",
    "from glob import glob\n",
    "import numpy as np\n",
    "from tensorflow.keras.layers import Dense, Conv2D, Flatten, MaxPooling2D, ZeroPadding2D,\\\n",
    "    Dropout, Input\n",
    "from tensorflow.keras.models import Model\n",
    "from tensorflow.keras.utils import to_categorical\n",
    "from sklearn.model_selection import train_test_split\n",
    "from time import time, sleep\n",
    "from winsound import Beep\n",
    "import cv2\n",
    "import os\n",
    "os.chdir('C:/Users/Nicolas/Documents/Data/faces')"
   ]
  },
  {
   "cell_type": "markdown",
   "metadata": {},
   "source": [
    "#### Functions"
   ]
  },
  {
   "cell_type": "markdown",
   "metadata": {},
   "source": [
    "Stopwatch "
   ]
  },
  {
   "cell_type": "code",
   "execution_count": 42,
   "metadata": {},
   "outputs": [],
   "source": [
    "def stopwatch():\n",
    "    if time()-start < 120:\n",
    "        print(str(int(time()-start)), 'seconds')\n",
    "    else:\n",
    "        print(str(int((time()-start)/60)), 'minutes')\n",
    "    for i in range(3):\n",
    "        for i in range(3):\n",
    "            Beep(1_000, 100)\n",
    "            sleep(.02)\n",
    "        sleep(1)"
   ]
  },
  {
   "cell_type": "code",
   "execution_count": 43,
   "metadata": {},
   "outputs": [],
   "source": [
    "dtype = np.float16"
   ]
  },
  {
   "cell_type": "markdown",
   "metadata": {},
   "source": [
    "#### Loading Images"
   ]
  },
  {
   "cell_type": "code",
   "execution_count": 44,
   "metadata": {},
   "outputs": [],
   "source": [
    "files = glob('combined/resized/*.jpg')"
   ]
  },
  {
   "cell_type": "code",
   "execution_count": 45,
   "metadata": {},
   "outputs": [
    {
     "name": "stdout",
     "output_type": "stream",
     "text": [
      "We have 23,705 faces for analysis.\n"
     ]
    }
   ],
   "source": [
    "print(f'We have {len(files):,} faces for analysis.')"
   ]
  },
  {
   "cell_type": "code",
   "execution_count": 46,
   "metadata": {},
   "outputs": [
    {
     "name": "stdout",
     "output_type": "stream",
     "text": [
      "3000 images uploaded\n",
      "6000 images uploaded\n",
      "9000 images uploaded\n",
      "12000 images uploaded\n",
      "15000 images uploaded\n",
      "18000 images uploaded\n",
      "21000 images uploaded\n",
      "\n",
      "23705 images were successfully uploaded\n"
     ]
    }
   ],
   "source": [
    "pictures_list = []\n",
    "filename_list = []\n",
    "number_to_upload = len(files)\n",
    "ix = 0\n",
    "for file in np.random.choice(files, number_to_upload):\n",
    "    ix += 1\n",
    "    if ix%3000 == 0:\n",
    "        print('%i images uploaded'%(ix))\n",
    "    if ix == number_to_upload:\n",
    "        print()\n",
    "        print('%i images were successfully uploaded'%(ix))\n",
    "    image = cv2.imread(file, 1)\n",
    "    pictures_list.append(image)\n",
    "    filename_list.append(file)"
   ]
  },
  {
   "cell_type": "code",
   "execution_count": 47,
   "metadata": {},
   "outputs": [],
   "source": [
    "height, width, channels = pictures_list[0].shape"
   ]
  },
  {
   "cell_type": "code",
   "execution_count": 48,
   "metadata": {},
   "outputs": [
    {
     "name": "stdout",
     "output_type": "stream",
     "text": [
      "We have 50 pixels of width, 50 pixels of height, and 3 channels.\n"
     ]
    }
   ],
   "source": [
    "print(f'We have {width} pixels of width, {height} pixels of height, and {channels} channels.')"
   ]
  },
  {
   "cell_type": "markdown",
   "metadata": {},
   "source": [
    "Turning the data into an array"
   ]
  },
  {
   "cell_type": "code",
   "execution_count": 49,
   "metadata": {},
   "outputs": [],
   "source": [
    "faces = np.array(pictures_list, dtype=dtype)"
   ]
  },
  {
   "cell_type": "markdown",
   "metadata": {},
   "source": [
    "#### Getting the Labels"
   ]
  },
  {
   "cell_type": "markdown",
   "metadata": {},
   "source": [
    "Labels"
   ]
  },
  {
   "cell_type": "code",
   "execution_count": 50,
   "metadata": {},
   "outputs": [],
   "source": [
    "race = [i.split('_')[2] for i in filename_list]"
   ]
  },
  {
   "cell_type": "code",
   "execution_count": 51,
   "metadata": {},
   "outputs": [],
   "source": [
    "age = np.array([i.split('_')[0].split('\\\\')[1] for i in filename_list], dtype=dtype)"
   ]
  },
  {
   "cell_type": "code",
   "execution_count": 52,
   "metadata": {},
   "outputs": [],
   "source": [
    "sex = [i.split('_')[1] for i in filename_list]"
   ]
  },
  {
   "cell_type": "markdown",
   "metadata": {},
   "source": [
    "Dictionaries"
   ]
  },
  {
   "cell_type": "code",
   "execution_count": 53,
   "metadata": {},
   "outputs": [],
   "source": [
    "race_dict = {\n",
    "             0: 'White',\n",
    "             1: 'Black',\n",
    "             2: 'Asian',\n",
    "             3: 'Indian',\n",
    "             4: 'Other'\n",
    "            }"
   ]
  },
  {
   "cell_type": "code",
   "execution_count": 54,
   "metadata": {},
   "outputs": [],
   "source": [
    "sex_dict = {\n",
    "             0: 'Male',\n",
    "             1: 'Female'\n",
    "            }"
   ]
  },
  {
   "cell_type": "markdown",
   "metadata": {},
   "source": [
    "#### Visualizing the Images / distributions"
   ]
  },
  {
   "cell_type": "markdown",
   "metadata": {},
   "source": [
    "Race"
   ]
  },
  {
   "cell_type": "code",
   "execution_count": 55,
   "metadata": {},
   "outputs": [
    {
     "data": {
      "image/png": "[encoded data removed]",
      "text/plain": [
       "<Figure size 864x864 with 4 Axes>"
      ]
     },
     "metadata": {},
     "output_type": "display_data"
    }
   ],
   "source": [
    "fig = plt.figure(figsize=(12, 12))\n",
    "for i in range(1, 5):\n",
    "    plt.subplot(1, 5, i)\n",
    "    rand = np.random.randint(number_to_upload)\n",
    "    ax = plt.imshow(cv2.cvtColor(pictures_list[rand], cv2.COLOR_BGR2RGB))\n",
    "    title = plt.title(race_dict[int(race[rand])])\n",
    "    yticks = plt.xticks([]); yticks = plt.yticks([])"
   ]
  },
  {
   "cell_type": "code",
   "execution_count": 56,
   "metadata": {},
   "outputs": [
    {
     "data": {
      "text/plain": [
       "array(['0', '1', '2', '3', '4'], dtype='<U1')"
      ]
     },
     "execution_count": 56,
     "metadata": {},
     "output_type": "execute_result"
    }
   ],
   "source": [
    "np.unique(race, return_counts=True)[0]"
   ]
  },
  {
   "cell_type": "code",
   "execution_count": 57,
   "metadata": {},
   "outputs": [
    {
     "data": {
      "text/plain": [
       "['White', 'Black', 'Asian', 'Indian', 'Other']"
      ]
     },
     "execution_count": 57,
     "metadata": {},
     "output_type": "execute_result"
    }
   ],
   "source": [
    "list(race_dict.values())"
   ]
  },
  {
   "cell_type": "code",
   "execution_count": 58,
   "metadata": {},
   "outputs": [
    {
     "data": {
      "text/plain": [
       "array(['0', '1', '2', '3', '4'], dtype='<U1')"
      ]
     },
     "execution_count": 58,
     "metadata": {},
     "output_type": "execute_result"
    }
   ],
   "source": [
    "np.unique(race, return_counts=True)[0]"
   ]
  },
  {
   "cell_type": "code",
   "execution_count": 59,
   "metadata": {},
   "outputs": [
    {
     "data": {
      "image/png": "[encoded data removed]",
      "text/plain": [
       "<Figure size 576x360 with 1 Axes>"
      ]
     },
     "metadata": {
      "needs_background": "light"
     },
     "output_type": "display_data"
    }
   ],
   "source": [
    "fig, ax = plt.subplots(figsize=(8, 5))\n",
    "_=ax.bar(list(race_dict.values()), np.unique(race, return_counts=True)[1], edgecolor='k', color='#5F758E', width=.6)\n",
    "_=ax.set_facecolor('#DBDFAC')\n",
    "_=plt.title('Race Distribution')\n",
    "_=plt.ylim(0, number_to_upload*.5)\n",
    "for p in ax.patches:\n",
    "    width, height = p.get_width(), p.get_height()\n",
    "    x, y = p.get_xy() \n",
    "    ax.annotate('{:.0%}'.format(height/number_to_upload), (p.get_x()+.5*width, \n",
    "                                                p.get_y() + height + number_to_upload*.01), ha = 'center')\n",
    "_=ax.set_yticklabels(['{:,}'.format(x) for x in np.array(ax.get_yticks(), \n",
    "                                                       dtype=int)])"
   ]
  },
  {
   "cell_type": "markdown",
   "metadata": {},
   "source": [
    "Age"
   ]
  },
  {
   "cell_type": "code",
   "execution_count": 60,
   "metadata": {},
   "outputs": [
    {
     "data": {
      "image/png": "[encoded data removed]",
      "text/plain": [
       "<Figure size 864x864 with 4 Axes>"
      ]
     },
     "metadata": {},
     "output_type": "display_data"
    }
   ],
   "source": [
    "fig = plt.figure(figsize=(12, 12))\n",
    "for i in range(1, 5):\n",
    "    plt.subplot(1, 5, i)\n",
    "    rand = np.random.randint(number_to_upload)\n",
    "    ax = plt.imshow(cv2.cvtColor(pictures_list[rand], cv2.COLOR_BGR2RGB))\n",
    "    title = plt.title(age[rand])\n",
    "    yticks = plt.xticks([]); yticks = plt.yticks([])"
   ]
  },
  {
   "cell_type": "code",
   "execution_count": 61,
   "metadata": {},
   "outputs": [
    {
     "data": {
      "image/png": "[encoded data removed]",
      "text/plain": [
       "<Figure size 576x360 with 1 Axes>"
      ]
     },
     "metadata": {
      "needs_background": "light"
     },
     "output_type": "display_data"
    }
   ],
   "source": [
    "fig, ax = plt.subplots(figsize=(8, 5))\n",
    "_=ax.hist(age, edgecolor='k', color='#5F758E')\n",
    "_=ax.set_facecolor('#DBDFAC')\n",
    "_=plt.title('Age Distribution')\n",
    "_=plt.ylim(0, .4*number_to_upload)\n",
    "for p in ax.patches:\n",
    "    width, height = p.get_width(), p.get_height()\n",
    "    x, y = p.get_xy() \n",
    "    ax.annotate('{:.0%}'.format(height/number_to_upload), (p.get_x()+.5*width, \n",
    "                                                p.get_y() + height + number_to_upload*.01), ha = 'center')\n",
    "_=ax.set_yticklabels(['{:,}'.format(x) for x in np.array(ax.get_yticks(), \n",
    "                                                       dtype=int)])"
   ]
  },
  {
   "cell_type": "markdown",
   "metadata": {},
   "source": [
    "Sex"
   ]
  },
  {
   "cell_type": "code",
   "execution_count": 62,
   "metadata": {},
   "outputs": [
    {
     "data": {
      "image/png": "[encoded data removed]",
      "text/plain": [
       "<Figure size 864x864 with 4 Axes>"
      ]
     },
     "metadata": {},
     "output_type": "display_data"
    }
   ],
   "source": [
    "fig = plt.figure(figsize=(12, 12))\n",
    "for i in range(1, 5):\n",
    "    plt.subplot(1, 5, i)\n",
    "    rand = np.random.randint(number_to_upload)\n",
    "    ax = plt.imshow(cv2.cvtColor(pictures_list[rand], cv2.COLOR_BGR2RGB))\n",
    "    title = plt.title(sex_dict[int(sex[rand])])\n",
    "    yticks = plt.xticks([]); yticks = plt.yticks([])"
   ]
  },
  {
   "cell_type": "code",
   "execution_count": 63,
   "metadata": {},
   "outputs": [
    {
     "data": {
      "image/png": "[encoded data removed]",
      "text/plain": [
       "<Figure size 576x360 with 1 Axes>"
      ]
     },
     "metadata": {
      "needs_background": "light"
     },
     "output_type": "display_data"
    }
   ],
   "source": [
    "fig, ax = plt.subplots(figsize=(8, 5))\n",
    "_=ax.bar(list(sex_dict.values()), np.unique(sex, return_counts=True)[1], edgecolor='k', color='#5F758E', width=.6)\n",
    "_=ax.set_facecolor('#DBDFAC')\n",
    "_=plt.title('Sex Distribution')\n",
    "_=plt.ylim(.3*number_to_upload, .58*number_to_upload)\n",
    "for p in ax.patches:\n",
    "    width, height = p.get_width(), p.get_height()\n",
    "    x, y = p.get_xy() \n",
    "    ax.annotate('{:.0%}'.format(height/number_to_upload), (p.get_x()+.5*width, \n",
    "                                                p.get_y() + height + number_to_upload*.01), ha='center')\n",
    "_=ax.set_yticklabels(['{:,}'.format(x) for x in np.array(ax.get_yticks(), \n",
    "                                                       dtype=int)])"
   ]
  },
  {
   "cell_type": "markdown",
   "metadata": {},
   "source": [
    "#### Encoding the Targets"
   ]
  },
  {
   "cell_type": "code",
   "execution_count": 64,
   "metadata": {},
   "outputs": [],
   "source": [
    "race = to_categorical(race)"
   ]
  },
  {
   "cell_type": "code",
   "execution_count": 65,
   "metadata": {},
   "outputs": [],
   "source": [
    "sex = to_categorical(sex, dtype=dtype)"
   ]
  },
  {
   "cell_type": "code",
   "execution_count": 66,
   "metadata": {},
   "outputs": [],
   "source": [
    "age = np.array(age, dtype=dtype)"
   ]
  },
  {
   "cell_type": "code",
   "execution_count": 67,
   "metadata": {},
   "outputs": [
    {
     "data": {
      "text/plain": [
       "((23705, 2), (23705, 5), (23705,))"
      ]
     },
     "execution_count": 67,
     "metadata": {},
     "output_type": "execute_result"
    }
   ],
   "source": [
    "sex.shape, race.shape, age.shape"
   ]
  },
  {
   "cell_type": "markdown",
   "metadata": {},
   "source": [
    "#### Rescale the Data"
   ]
  },
  {
   "cell_type": "code",
   "execution_count": 68,
   "metadata": {},
   "outputs": [
    {
     "name": "stdout",
     "output_type": "stream",
     "text": [
      "3 seconds\n"
     ]
    }
   ],
   "source": [
    "start = time()\n",
    "X = np.divide(faces, 255, dtype=dtype)\n",
    "stopwatch()"
   ]
  },
  {
   "cell_type": "code",
   "execution_count": 69,
   "metadata": {},
   "outputs": [],
   "source": [
    "faces = None"
   ]
  },
  {
   "cell_type": "code",
   "execution_count": 70,
   "metadata": {},
   "outputs": [
    {
     "data": {
      "text/plain": [
       "array([[0.6196, 0.6196, 0.6196],\n",
       "       [0.7373, 0.7373, 0.7373],\n",
       "       [0.749 , 0.749 , 0.749 ],\n",
       "       [0.698 , 0.698 , 0.698 ],\n",
       "       [0.678 , 0.678 , 0.678 ]], dtype=float16)"
      ]
     },
     "execution_count": 70,
     "metadata": {},
     "output_type": "execute_result"
    }
   ],
   "source": [
    "X[0][0][:5]"
   ]
  },
  {
   "cell_type": "code",
   "execution_count": 71,
   "metadata": {},
   "outputs": [
    {
     "data": {
      "text/plain": [
       "(23705, 50, 50, 3)"
      ]
     },
     "execution_count": 71,
     "metadata": {},
     "output_type": "execute_result"
    }
   ],
   "source": [
    "X.shape"
   ]
  },
  {
   "cell_type": "markdown",
   "metadata": {},
   "source": [
    "#### Train/test split"
   ]
  },
  {
   "cell_type": "code",
   "execution_count": 72,
   "metadata": {},
   "outputs": [
    {
     "name": "stdout",
     "output_type": "stream",
     "text": [
      "0 seconds\n"
     ]
    }
   ],
   "source": [
    "start = time()\n",
    "xtrain, xtest, race_train, race_test, sex_train, sex_test, age_train,\\\n",
    "    age_test = train_test_split(X, race, sex, age, test_size=.2)\n",
    "stopwatch()"
   ]
  },
  {
   "cell_type": "markdown",
   "metadata": {},
   "source": [
    "#### Making a Model"
   ]
  },
  {
   "cell_type": "markdown",
   "metadata": {},
   "source": [
    "Create a tensor"
   ]
  },
  {
   "cell_type": "code",
   "execution_count": 73,
   "metadata": {},
   "outputs": [],
   "source": [
    "inputs = Input(shape=(X.shape[1], X.shape[2], X.shape[3]))"
   ]
  },
  {
   "cell_type": "markdown",
   "metadata": {},
   "source": [
    "Create the model"
   ]
  },
  {
   "cell_type": "code",
   "execution_count": 75,
   "metadata": {},
   "outputs": [],
   "source": [
    "x = ZeroPadding2D((1,1))(inputs)\n",
    "x = Conv2D(64, 3, 3, activation='relu')(x)\n",
    "x = ZeroPadding2D((1,1))(x)\n",
    "x = Conv2D(64, 3, 3, activation='relu')(x)\n",
    "\n",
    "x = ZeroPadding2D((1,1))(x)\n",
    "x = Conv2D(128, 3, 3, activation='relu')(x)\n",
    "x = ZeroPadding2D((1,1))(x)\n",
    "x = Conv2D(128, 3, 3, activation='relu')(x)\n",
    "\n",
    "x = ZeroPadding2D((1,1))(x)\n",
    "x = Conv2D(256, 3, 3, activation='relu')(x)\n",
    "x = ZeroPadding2D((1,1))(x)\n",
    "x = Conv2D(256, 3, 3, activation='relu')(x)\n",
    "x = ZeroPadding2D((1,1))(x)\n",
    "x = Conv2D(256, 3, 3, activation='relu')(x)\n",
    "\n",
    "x = ZeroPadding2D((1,1))(x)\n",
    "x = Conv2D(512, 3, 3, activation='relu')(x)\n",
    "x = ZeroPadding2D((1,1))(x)\n",
    "x = Conv2D(512, 3, 3, activation='relu')(x)\n",
    "x = ZeroPadding2D((1,1))(x) \n",
    "x = Conv2D(512, 3, 3, activation='relu')(x)\n",
    "\n",
    "x = ZeroPadding2D((1,1))(x) \n",
    "x = Conv2D(512, 3, 3, activation='relu')(x)\n",
    "x = ZeroPadding2D((1,1))(x)\n",
    "x = Conv2D(512, 3, 3, activation='relu')(x)\n",
    "x = ZeroPadding2D((1,1))(x)\n",
    "x = Conv2D(512, 3, 3, activation='relu')(x)\n",
    "\n",
    "x = Flatten()(x)\n",
    "\n",
    "race_ = Dense(1024, activation='relu')(x)\n",
    "race_ = Dropout(0.5)(race_)\n",
    "race_ = Dense(2048, activation='relu')(race_)\n",
    "race_ = Dropout(0.5)(race_)\n",
    "race_ = Dense(4096, activation='relu')(race_)\n",
    "race_ = Dropout(0.5)(race_)\n",
    "race_out = Dense(5, activation='softmax', name='race')(race_)\n",
    "\n",
    "sex_ = Dense(1024, activation='relu')(x)\n",
    "sex_ = Dropout(0.5)(sex_)\n",
    "sex_ = Dense(2048, activation='relu')(sex_)\n",
    "sex_ = Dropout(0.5)(sex_)\n",
    "sex_ = Dense(4096, activation='relu')(sex_)\n",
    "sex_ = Dropout(0.5)(sex_)\n",
    "sex_out = Dense(2, activation='sigmoid', name='sex')(sex_)\n",
    "\n",
    "age_ = Dense(1024, activation='relu')(x)\n",
    "age_ = Dropout(0.5)(age_)\n",
    "age_ = Dense(2048, activation='relu')(age_)\n",
    "age_ = Dropout(0.5)(age_)\n",
    "age_ = Dense(4096, activation='relu')(age_)\n",
    "age_ = Dropout(0.5)(age_)\n",
    "age_out = Dense(1, activation='linear', name='age')(age_)"
   ]
  },
  {
   "cell_type": "markdown",
   "metadata": {},
   "source": [
    "Identify Output"
   ]
  },
  {
   "cell_type": "code",
   "execution_count": 76,
   "metadata": {},
   "outputs": [],
   "source": [
    "predictions = [sex_out, race_out, age_out]"
   ]
  },
  {
   "cell_type": "markdown",
   "metadata": {},
   "source": [
    "Finalize the model"
   ]
  },
  {
   "cell_type": "code",
   "execution_count": 77,
   "metadata": {},
   "outputs": [],
   "source": [
    "model = Model(inputs=inputs, outputs=predictions)"
   ]
  },
  {
   "cell_type": "markdown",
   "metadata": {},
   "source": [
    "Summarize the model"
   ]
  },
  {
   "cell_type": "code",
   "execution_count": 78,
   "metadata": {},
   "outputs": [
    {
     "name": "stdout",
     "output_type": "stream",
     "text": [
      "Model: \"model\"\n",
      "__________________________________________________________________________________________________\n",
      "Layer (type)                    Output Shape         Param #     Connected to                     \n",
      "==================================================================================================\n",
      "input_1 (InputLayer)            [(None, 50, 50, 3)]  0                                            \n",
      "__________________________________________________________________________________________________\n",
      "zero_padding2d_13 (ZeroPadding2 (None, 52, 52, 3)    0           input_1[0][0]                    \n",
      "__________________________________________________________________________________________________\n",
      "conv2d_13 (Conv2D)              (None, 17, 17, 64)   1792        zero_padding2d_13[0][0]          \n",
      "__________________________________________________________________________________________________\n",
      "zero_padding2d_14 (ZeroPadding2 (None, 19, 19, 64)   0           conv2d_13[0][0]                  \n",
      "__________________________________________________________________________________________________\n",
      "conv2d_14 (Conv2D)              (None, 6, 6, 64)     36928       zero_padding2d_14[0][0]          \n",
      "__________________________________________________________________________________________________\n",
      "zero_padding2d_15 (ZeroPadding2 (None, 8, 8, 64)     0           conv2d_14[0][0]                  \n",
      "__________________________________________________________________________________________________\n",
      "conv2d_15 (Conv2D)              (None, 2, 2, 128)    73856       zero_padding2d_15[0][0]          \n",
      "__________________________________________________________________________________________________\n",
      "zero_padding2d_16 (ZeroPadding2 (None, 4, 4, 128)    0           conv2d_15[0][0]                  \n",
      "__________________________________________________________________________________________________\n",
      "conv2d_16 (Conv2D)              (None, 1, 1, 128)    147584      zero_padding2d_16[0][0]          \n",
      "__________________________________________________________________________________________________\n",
      "zero_padding2d_17 (ZeroPadding2 (None, 3, 3, 128)    0           conv2d_16[0][0]                  \n",
      "__________________________________________________________________________________________________\n",
      "conv2d_17 (Conv2D)              (None, 1, 1, 256)    295168      zero_padding2d_17[0][0]          \n",
      "__________________________________________________________________________________________________\n",
      "zero_padding2d_18 (ZeroPadding2 (None, 3, 3, 256)    0           conv2d_17[0][0]                  \n",
      "__________________________________________________________________________________________________\n",
      "conv2d_18 (Conv2D)              (None, 1, 1, 256)    590080      zero_padding2d_18[0][0]          \n",
      "__________________________________________________________________________________________________\n",
      "zero_padding2d_19 (ZeroPadding2 (None, 3, 3, 256)    0           conv2d_18[0][0]                  \n",
      "__________________________________________________________________________________________________\n",
      "conv2d_19 (Conv2D)              (None, 1, 1, 256)    590080      zero_padding2d_19[0][0]          \n",
      "__________________________________________________________________________________________________\n",
      "zero_padding2d_20 (ZeroPadding2 (None, 3, 3, 256)    0           conv2d_19[0][0]                  \n",
      "__________________________________________________________________________________________________\n",
      "conv2d_20 (Conv2D)              (None, 1, 1, 512)    1180160     zero_padding2d_20[0][0]          \n",
      "__________________________________________________________________________________________________\n",
      "zero_padding2d_21 (ZeroPadding2 (None, 3, 3, 512)    0           conv2d_20[0][0]                  \n",
      "__________________________________________________________________________________________________\n",
      "conv2d_21 (Conv2D)              (None, 1, 1, 512)    2359808     zero_padding2d_21[0][0]          \n",
      "__________________________________________________________________________________________________\n",
      "zero_padding2d_22 (ZeroPadding2 (None, 3, 3, 512)    0           conv2d_21[0][0]                  \n",
      "__________________________________________________________________________________________________\n",
      "conv2d_22 (Conv2D)              (None, 1, 1, 512)    2359808     zero_padding2d_22[0][0]          \n",
      "__________________________________________________________________________________________________\n",
      "zero_padding2d_23 (ZeroPadding2 (None, 3, 3, 512)    0           conv2d_22[0][0]                  \n",
      "__________________________________________________________________________________________________\n",
      "conv2d_23 (Conv2D)              (None, 1, 1, 512)    2359808     zero_padding2d_23[0][0]          \n",
      "__________________________________________________________________________________________________\n",
      "zero_padding2d_24 (ZeroPadding2 (None, 3, 3, 512)    0           conv2d_23[0][0]                  \n",
      "__________________________________________________________________________________________________\n",
      "conv2d_24 (Conv2D)              (None, 1, 1, 512)    2359808     zero_padding2d_24[0][0]          \n",
      "__________________________________________________________________________________________________\n",
      "zero_padding2d_25 (ZeroPadding2 (None, 3, 3, 512)    0           conv2d_24[0][0]                  \n",
      "__________________________________________________________________________________________________\n",
      "conv2d_25 (Conv2D)              (None, 1, 1, 512)    2359808     zero_padding2d_25[0][0]          \n",
      "__________________________________________________________________________________________________\n",
      "flatten_1 (Flatten)             (None, 512)          0           conv2d_25[0][0]                  \n",
      "__________________________________________________________________________________________________\n",
      "dense_12 (Dense)                (None, 1024)         525312      flatten_1[0][0]                  \n",
      "__________________________________________________________________________________________________\n",
      "dense_9 (Dense)                 (None, 1024)         525312      flatten_1[0][0]                  \n",
      "__________________________________________________________________________________________________\n",
      "dense_15 (Dense)                (None, 1024)         525312      flatten_1[0][0]                  \n",
      "__________________________________________________________________________________________________\n",
      "dropout_12 (Dropout)            (None, 1024)         0           dense_12[0][0]                   \n",
      "__________________________________________________________________________________________________\n",
      "dropout_9 (Dropout)             (None, 1024)         0           dense_9[0][0]                    \n",
      "__________________________________________________________________________________________________\n",
      "dropout_15 (Dropout)            (None, 1024)         0           dense_15[0][0]                   \n",
      "__________________________________________________________________________________________________\n",
      "dense_13 (Dense)                (None, 2048)         2099200     dropout_12[0][0]                 \n",
      "__________________________________________________________________________________________________\n",
      "dense_10 (Dense)                (None, 2048)         2099200     dropout_9[0][0]                  \n",
      "__________________________________________________________________________________________________\n",
      "dense_16 (Dense)                (None, 2048)         2099200     dropout_15[0][0]                 \n",
      "__________________________________________________________________________________________________\n",
      "dropout_13 (Dropout)            (None, 2048)         0           dense_13[0][0]                   \n",
      "__________________________________________________________________________________________________\n",
      "dropout_10 (Dropout)            (None, 2048)         0           dense_10[0][0]                   \n",
      "__________________________________________________________________________________________________\n",
      "dropout_16 (Dropout)            (None, 2048)         0           dense_16[0][0]                   \n",
      "__________________________________________________________________________________________________\n",
      "dense_14 (Dense)                (None, 4096)         8392704     dropout_13[0][0]                 \n",
      "__________________________________________________________________________________________________\n",
      "dense_11 (Dense)                (None, 4096)         8392704     dropout_10[0][0]                 \n",
      "__________________________________________________________________________________________________\n",
      "dense_17 (Dense)                (None, 4096)         8392704     dropout_16[0][0]                 \n",
      "__________________________________________________________________________________________________\n",
      "dropout_14 (Dropout)            (None, 4096)         0           dense_14[0][0]                   \n",
      "__________________________________________________________________________________________________\n",
      "dropout_11 (Dropout)            (None, 4096)         0           dense_11[0][0]                   \n",
      "__________________________________________________________________________________________________\n",
      "dropout_17 (Dropout)            (None, 4096)         0           dense_17[0][0]                   \n",
      "__________________________________________________________________________________________________\n",
      "sex (Dense)                     (None, 2)            8194        dropout_14[0][0]                 \n",
      "__________________________________________________________________________________________________\n",
      "race (Dense)                    (None, 5)            20485       dropout_11[0][0]                 \n",
      "__________________________________________________________________________________________________\n",
      "age (Dense)                     (None, 1)            4097        dropout_17[0][0]                 \n",
      "==================================================================================================\n",
      "Total params: 47,799,112\n",
      "Trainable params: 47,799,112\n",
      "Non-trainable params: 0\n",
      "__________________________________________________________________________________________________\n"
     ]
    }
   ],
   "source": [
    "model.summary()"
   ]
  },
  {
   "cell_type": "markdown",
   "metadata": {},
   "source": [
    "Metrics dictionary"
   ]
  },
  {
   "cell_type": "code",
   "execution_count": 79,
   "metadata": {},
   "outputs": [],
   "source": [
    "metrics_dict = {\n",
    "    'race':'accuracy',\n",
    "    'sex':'accuracy',\n",
    "    'age':'mean_absolute_error'\n",
    "}"
   ]
  },
  {
   "cell_type": "markdown",
   "metadata": {},
   "source": [
    "Compile the model"
   ]
  },
  {
   "cell_type": "code",
   "execution_count": 80,
   "metadata": {},
   "outputs": [],
   "source": [
    "model.compile(optimizer='adam',\n",
    "              loss=['binary_crossentropy', 'categorical_crossentropy', 'mae'],\n",
    "              metrics=metrics_dict)"
   ]
  },
  {
   "cell_type": "markdown",
   "metadata": {},
   "source": [
    "Train the model"
   ]
  },
  {
   "cell_type": "code",
   "execution_count": 82,
   "metadata": {
    "scrolled": false
   },
   "outputs": [
    {
     "name": "stdout",
     "output_type": "stream",
     "text": [
      "Train on 18964 samples, validate on 4741 samples\n",
      "Epoch 1/25\n",
      "18964/18964 [==============================] - 235s 12ms/sample - loss: 17.6604 - sex_loss: 0.6934 - race_loss: 1.4683 - age_loss: 15.4964 - sex_acc: 0.5178 - race_acc: 0.4177 - age_mean_absolute_error: 15.4987 - val_loss: 17.5951 - val_sex_loss: 0.6923 - val_race_loss: 1.4374 - val_age_loss: 15.4620 - val_sex_acc: 0.5220 - val_race_acc: 0.4343 - val_age_mean_absolute_error: 15.465818.3006 - sex_loss: 0.6936 - race_loss: 1.4812 - age_loss: 16.1258 - sex_acc: 0.5278 - race_acc: 0.4181 - age_mean_absolute_error: 1 - ETA: 3:06 - loss: 18.3024 - sex_loss: 0.6936 - race_loss: 1.4810 - age_loss: 16.1279 - sex_acc: 0.5280 - race_acc: 0.4185 - age_me - ETA: 3:03 - loss: 18.2173 - sex_loss: 0.6936 - race_loss: 1.47 - ETA: 2:52 - loss: 18.1125 - sex_loss: 0.6940 - race_loss: 1.4716 - age_loss: 15.9469 - sex_acc: 0.5235  - ETA: 2:46 - loss: 18.0898 - sex_loss: 0.6939 - race_loss: 1.4723 - age_loss: 15.9236 - sex_acc: 0.5224 - race_acc: 0.4227 - ag - ETA: 2:43 - loss: 18.0592 - sex_loss: 0.6939 - race_loss: 1.4733 - age_loss: 15.8921 - sex_acc: 0.5225  - ETA: 2:37 - loss: 18.0 - ETA: 2:23 - loss: 18.0141 - sex_loss: 0.6940 - race_loss: 1.4670 - age_loss: 15.8531 - sex_acc: 0.5174 - race_acc: 0. - ETA: 2:19 - loss: 17.9709 - sex_loss: 0.6942 - race_loss: 1.4686 - age_loss: 15.8082 - sex_acc: 0.5168 - race_acc: 0.4246 - age_mean_abso - ETA: 2:17 - loss: 17.9899 - sex_loss: 0.6941 - race_loss: 1.4680 - age_loss: 15.8278 - sex_acc: 0.5169 - race_acc - ETA: 2:12 - loss: 17.9760 - sex_loss: 0.6939 - race_loss:  - ETA: 2:02 - loss: 17.8870 - sex_loss: 0.6936 - race_loss: 1.4690 - age_loss: 15.7244 - se - ETA: 1:40 - loss: 17 - ETA: 1:27 - loss: 17.8177 - sex_loss: 0.6935 - race_loss: 1.4673 - age_loss: 15.6568 - sex_acc: 0.5185 -  - ETA: 1:22 - loss: 17.7819 - sex_loss: 0.6935 - race_loss: 1.4668 - age_loss: 15.6216 - sex_acc: 0.5182 - race_acc: 0.4205 - age_mean_absolut - ETA: 1:20 - loss: 17.7490 - sex_loss: 0.6935 - race_loss: 1.4665 - age_loss: 15.5890 - sex_acc: 0.5182 - race_acc: 0.4207 - age_ - ETA: 1:17 - loss: 17.7309 - sex_loss: 0.6936 - race_loss: 1.466 - ETA: 56s - loss: 17.6483 - sex_loss: 0.6937 - race_loss: 1.4682 - age_loss: 15.4863 - sex_acc: 0.5134 - race_acc: 0.4187 - age_mean_absolute_ - ETA: 40s - loss: 17.629 - ETA: 34s - loss: 17.6416 - sex_loss: 0.6935 - race_loss: 1.4690 - age_loss: 15.4790 - sex_acc: 0.5163 - race_acc: 0.417 - ETA: 32s - loss: 17.6239 - sex_loss: 0.69 - ETA: 27s - loss: 17.6068 - sex_loss: 0.6935 - race_loss: 1.4687 - age_loss: 15.4446 - sex_acc: 0.5161 - race_acc: 0.4178 - age_mean_absolute_ - ETA: 26s - loss: 17.5984 - sex_loss: 0.6935 - race_loss: 1.4687 - age_loss: 15.4362 - sex_acc: 0.5166 - race_acc: 0.4177 - age_mean_absolute_er - ETA: 18s - loss: 17.6055 - sex_loss: 0.6935 - race_loss: 1.4696 - age_loss: 15.4423 - sex_acc: 0.5164 - race_acc: 0.4168 -  - ETA - ETA: 9s - loss: 17.6482 - sex_loss: 0.6933 - race_loss: 1.4685 - age_loss: 15.4864 - sex_acc: 0.5179 - race_acc: 0.4176 - age_mean_absolute_error: 15.4 - ETA: 9s - loss: 17.6514 - sex_loss: 0.6933 - race_loss: \n",
      "Epoch 2/25\n",
      "18964/18964 [==============================] - 232s 12ms/sample - loss: 17.3822 - sex_loss: 0.6926 - race_loss: 1.4630 - age_loss: 15.2276 - sex_acc: 0.5202 - race_acc: 0.4178 - age_mean_absolute_error: 15.2266 - val_loss: 17.4108 - val_sex_loss: 0.6922 - val_race_loss: 1.4351 - val_age_loss: 15.2857 - val_sex_acc: 0.5220 - val_race_acc: 0.4343 - val_age_mean_absolute_error: 15.2834\n",
      "Epoch 3/25\n",
      "18964/18964 [==============================] - 231s 12ms/sample - loss: 17.3885 - sex_loss: 0.6926 - race_loss: 1.4624 - age_loss: 15.2328 - sex_acc: 0.5226 - race_acc: 0.4178 - age_mean_absolute_error: 15.2335 - val_loss: 17.2204 - val_sex_loss: 0.6921 - val_race_loss: 1.4349 - val_age_loss: 15.0974 - val_sex_acc: 0.5220 - val_race_acc: 0.4343 - val_age_mean_absolute_error: 15.0932\n",
      "Epoch 4/25\n",
      "18964/18964 [==============================] - 231s 12ms/sample - loss: 17.3823 - sex_loss: 0.6922 - race_loss: 1.4618 - age_loss: 15.2273 - sex_acc: 0.5211 - race_acc: 0.4178 - age_mean_absolute_error: 15.2282 - val_loss: 17.2351 - val_sex_loss: 0.6923 - val_race_loss: 1.4358 - val_age_loss: 15.1056 - val_sex_acc: 0.5220 - val_race_acc: 0.4343 - val_age_mean_absolute_error: 15.1070 race_loss: 1.4618 - age_lo\n",
      "Epoch 5/25\n",
      "18964/18964 [==============================] - 231s 12ms/sample - loss: 17.3457 - sex_loss: 0.6924 - race_loss: 1.4619 - age_loss: 15.1923 - sex_acc: 0.5234 - race_acc: 0.4178 - age_mean_absolute_error: 15.1916 - val_loss: 17.2553 - val_sex_loss: 0.6923 - val_race_loss: 1.4369 - val_age_loss: 15.1235 - val_sex_acc: 0.5220 - val_race_acc: 0.4343 - val_age_mean_absolute_error: 15.1262s: 17.3574 - sex_loss: 0.6924 - race_loss: 1.4610 - age_loss: 15.2040 - sex_acc: 0.5228 - - ETA: 9s - loss: 17.3613 - sex_loss: 0.6924 - race\n",
      "Epoch 6/25\n",
      "18964/18964 [==============================] - 232s 12ms/sample - loss: 17.3666 - sex_loss: 0.6922 - race_loss: 1.4616 - age_loss: 15.2121 - sex_acc: 0.5227 - race_acc: 0.4178 - age_mean_absolute_error: 15.2129 - val_loss: 17.2326 - val_sex_loss: 0.6922 - val_race_loss: 1.4348 - val_age_loss: 15.1080 - val_sex_acc: 0.5220 - val_race_acc: 0.4343 - val_age_mean_absolute_error: 15.1055 - sex_loss: 0.6937 - race_loss: 1.4670 - age_loss: 15.3958 - sex_acc: 0.5092 - race_acc: 0.4086 - age_mean_absolute_er - ETA: 3:27 - loss: 17.7367 - sex_loss: 0.6937 - race_loss: 1.4602 - age_loss: 15.5829 - sex_acc: 0.5101 - race_acc: 0.4138 - age_mean_absolute_erro - ETA: 3:26 - loss: 17.6691 - sex_loss: 0.6936 - race_loss: 1.4633 - age_loss: 15.5122 - sex_acc: 0.5139 - race_acc: 0.4115 - age_m - ETA: 3:23 - loss: 17.6207 - sex_loss: 0.6933 - race_loss: 1 - ETA: 2:59 - loss: 17.5469 - sex_loss: 0.6929 - race_loss: 1.4570 - age_loss: 15.3970 - sex_acc: 0.5165 - race_acc: 0.4215  - ETA: 2:56 - loss: 17.5828 - sex_loss: 0.6924 - race_l - ETA: 2:46 - loss: 17.6405 - sex_loss: 0.6921 - race_loss: 1.4590 - age_loss: 15.4894 - sex_acc: 0.5243 - race_acc: 0.4181 - age_mean_absolute_err - ETA: 2:45 - loss: 17.6399 - sex_loss: 0.6922 - race_lo - ETA: 2:36 - loss: 17.5888 - sex_loss: 0.6920 - race_loss: 1.4595 - age_loss: 15.4374 - sex_acc: 0.5254 - race_acc: 0.4189 - age_mean - ETA: 2:33 - loss: 17.6001 - ETA: 2:21 - loss: 17.4896 - sex_loss: 0.6923 - race_loss: 1.4628 - age_loss: 15.3345 - sex_acc: 0.5 - ETA: 2:16 - loss: 17.4789 - sex_loss: 0.6922 - race_loss: 1.4625 - age_loss: 15.3241 - sex_acc: 0.5243 - race_acc - ETA: 2:12 - loss: 17.4650 - sex_loss: 0.6922 - race_loss: 1.4618 - age_loss: 15.3111 - sex_acc: 0.5250 - race_acc:\n",
      "Epoch 7/25\n",
      "18964/18964 [==============================] - 232s 12ms/sample - loss: 17.3173 - sex_loss: 0.6922 - race_loss: 1.4616 - age_loss: 15.1663 - sex_acc: 0.5237 - race_acc: 0.4178 - age_mean_absolute_error: 15.1634 - val_loss: 17.2056 - val_sex_loss: 0.6922 - val_race_loss: 1.4365 - val_age_loss: 15.0789 - val_sex_acc: 0.5220 - val_race_acc: 0.4343 - val_age_mean_absolute_error: 15.0768_acc: 0.5319 - race_acc: 0.3807 - age_mean_absolute_error:  - ETA: 3:23 - loss: 16.7961 - sex_loss: 0.6913 - race_loss: 1.5074 - ag - ETA: 38s - loss: 17.3138 - sex_loss: 0.69 - ETA: 18s - loss: 17.3299 - sex_loss: 0.6920 - race_loss: 1.4610 - age_loss: 15.1768 - sex_acc: 0.52 - ETA: 6s - loss: 17.3095 - sex_loss: 0.6921 - race_loss: 1.4617 - age_loss: 15.1557 - sex_acc: 0.5244 - race_ac - ETA: 1s - loss: 17.3268 - sex_loss: 0.6922 - race_loss: 1.4617 - age_loss: 15.1728 - sex_acc: 0.5236 - race_acc: 0.4179 - age_mean_ab\n",
      "Epoch 8/25\n",
      "18964/18964 [==============================] - 232s 12ms/sample - loss: 17.3052 - sex_loss: 0.6922 - race_loss: 1.4608 - age_loss: 15.1531 - sex_acc: 0.5235 - race_acc: 0.4178 - age_mean_absolute_error: 15.1522 - val_loss: 17.2034 - val_sex_loss: 0.6922 - val_race_loss: 1.4353 - val_age_loss: 15.0773 - val_sex_acc: 0.5220 - val_race_acc: 0.4343 - val_age_mean_absolute_error: 15.0761\n",
      "Epoch 9/25\n"
     ]
    },
    {
     "name": "stdout",
     "output_type": "stream",
     "text": [
      "18964/18964 [==============================] - 232s 12ms/sample - loss: 17.2449 - sex_loss: 0.6922 - race_loss: 1.4617 - age_loss: 15.0896 - sex_acc: 0.5241 - race_acc: 0.4178 - age_mean_absolute_error: 15.0910 - val_loss: 17.2041 - val_sex_loss: 0.6922 - val_race_loss: 1.4362 - val_age_loss: 15.0705 - val_sex_acc: 0.5220 - val_race_acc: 0.4343 - val_age_mean_absolute_error: 15.0758\n",
      "Epoch 10/25\n",
      "18964/18964 [==============================] - 232s 12ms/sample - loss: 17.2228 - sex_loss: 0.6920 - race_loss: 1.4611 - age_loss: 15.0692 - sex_acc: 0.5240 - race_acc: 0.4178 - age_mean_absolute_error: 15.0697 - val_loss: 17.2082 - val_sex_loss: 0.6922 - val_race_loss: 1.4354 - val_age_loss: 15.0775 - val_sex_acc: 0.5220 - val_race_acc: 0.4343 - val_age_mean_absolute_error: 15.0806s: 1.4607 - age\n",
      "Epoch 11/25\n",
      "18964/18964 [==============================] - 232s 12ms/sample - loss: 17.2036 - sex_loss: 0.6922 - race_loss: 1.4604 - age_loss: 15.0494 - sex_acc: 0.5242 - race_acc: 0.4178 - age_mean_absolute_error: 15.0509 - val_loss: 17.2062 - val_sex_loss: 0.6922 - val_race_loss: 1.4352 - val_age_loss: 15.0842 - val_sex_acc: 0.5220 - val_race_acc: 0.4343 - val_age_mean_absolute_error: 15.0786\n",
      "Epoch 12/25\n",
      "18964/18964 [==============================] - 232s 12ms/sample - loss: 17.1758 - sex_loss: 0.6920 - race_loss: 1.4598 - age_loss: 15.0249 - sex_acc: 0.5241 - race_acc: 0.4178 - age_mean_absolute_error: 15.0240 - val_loss: 17.2380 - val_sex_loss: 0.6922 - val_race_loss: 1.4349 - val_age_loss: 15.1083 - val_sex_acc: 0.5220 - val_race_acc: 0.4343 - val_age_mean_absolute_error: 15.1110\n",
      "Epoch 13/25\n",
      "18964/18964 [==============================] - 232s 12ms/sample - loss: 17.1633 - sex_loss: 0.6921 - race_loss: 1.4606 - age_loss: 15.0106 - sex_acc: 0.5241 - race_acc: 0.4178 - age_mean_absolute_error: 15.0106 - val_loss: 17.2078 - val_sex_loss: 0.6922 - val_race_loss: 1.4351 - val_age_loss: 15.0815 - val_sex_acc: 0.5220 - val_race_acc: 0.4343 - val_age_mean_absolute_error: 15.0801\n",
      "Epoch 14/25\n",
      "18964/18964 [==============================] - 232s 12ms/sample - loss: 17.1793 - sex_loss: 0.6921 - race_loss: 1.4605 - age_loss: 15.0282 - sex_acc: 0.5241 - race_acc: 0.4178 - age_mean_absolute_error: 15.0267 - val_loss: 17.2047 - val_sex_loss: 0.6922 - val_race_loss: 1.4356 - val_age_loss: 15.0723 - val_sex_acc: 0.5220 - val_race_acc: 0.4343 - val_age_mean_absolute_error: 15.0768\n",
      "Epoch 15/25\n",
      "18964/18964 [==============================] - 231s 12ms/sample - loss: 17.1692 - sex_loss: 0.6920 - race_loss: 1.4602 - age_loss: 15.0179 - sex_acc: 0.5241 - race_acc: 0.4178 - age_mean_absolute_error: 15.0170 - val_loss: 17.2352 - val_sex_loss: 0.6925 - val_race_loss: 1.4363 - val_age_loss: 15.1053 - val_sex_acc: 0.5220 - val_race_acc: 0.4343 - val_age_mean_absolute_error: 15.1065\n",
      "Epoch 16/25\n",
      "18964/18964 [==============================] - 232s 12ms/sample - loss: 17.1851 - sex_loss: 0.6920 - race_loss: 1.4594 - age_loss: 15.0340 - sex_acc: 0.5241 - race_acc: 0.4178 - age_mean_absolute_error: 15.0336 - val_loss: 17.2043 - val_sex_loss: 0.6922 - val_race_loss: 1.4345 - val_age_loss: 15.0755 - val_sex_acc: 0.5220 - val_race_acc: 0.4343 - val_age_mean_absolute_error: 15.0776\n",
      "Epoch 17/25\n",
      "18964/18964 [==============================] - 230s 12ms/sample - loss: 17.1653 - sex_loss: 0.6921 - race_loss: 1.4596 - age_loss: 15.0117 - sex_acc: 0.5241 - race_acc: 0.4178 - age_mean_absolute_error: 15.0137 - val_loss: 17.2036 - val_sex_loss: 0.6922 - val_race_loss: 1.4341 - val_age_loss: 15.0802 - val_sex_acc: 0.5220 - val_race_acc: 0.4343 - val_age_mean_absolute_error: 15.0771\n",
      "Epoch 18/25\n",
      "18964/18964 [==============================] - 230s 12ms/sample - loss: 17.1787 - sex_loss: 0.6920 - race_loss: 1.4595 - age_loss: 15.0273 - sex_acc: 0.5241 - race_acc: 0.4178 - age_mean_absolute_error: 15.0272 - val_loss: 17.2210 - val_sex_loss: 0.6924 - val_race_loss: 1.4340 - val_age_loss: 15.0901 - val_sex_acc: 0.5220 - val_race_acc: 0.4343 - val_age_mean_absolute_error: 15.0948\n",
      "Epoch 19/25\n",
      "18964/18964 [==============================] - 230s 12ms/sample - loss: 17.1652 - sex_loss: 0.6920 - race_loss: 1.4592 - age_loss: 15.0128 - sex_acc: 0.5241 - race_acc: 0.4178 - age_mean_absolute_error: 15.0140 - val_loss: 17.2209 - val_sex_loss: 0.6923 - val_race_loss: 1.4358 - val_age_loss: 15.0971 - val_sex_acc: 0.5220 - val_race_acc: 0.4343 - val_age_mean_absolute_error: 15.0928\n",
      "Epoch 20/25\n",
      "18964/18964 [==============================] - 230s 12ms/sample - loss: 17.1725 - sex_loss: 0.6921 - race_loss: 1.4593 - age_loss: 15.0217 - sex_acc: 0.5241 - race_acc: 0.4178 - age_mean_absolute_error: 15.0210 - val_loss: 17.2415 - val_sex_loss: 0.6922 - val_race_loss: 1.4343 - val_age_loss: 15.1108 - val_sex_acc: 0.5220 - val_race_acc: 0.4343 - val_age_mean_absolute_error: 15.1150\n",
      "Epoch 21/25\n",
      "18964/18964 [==============================] - 230s 12ms/sample - loss: 17.1462 - sex_loss: 0.6921 - race_loss: 1.4591 - age_loss: 14.9935 - sex_acc: 0.5241 - race_acc: 0.4178 - age_mean_absolute_error: 14.9949 - val_loss: 17.2320 - val_sex_loss: 0.6922 - val_race_loss: 1.4341 - val_age_loss: 15.1062 - val_sex_acc: 0.5220 - val_race_acc: 0.4343 - val_age_mean_absolute_error: 15.1055\n",
      "Epoch 22/25\n",
      "18964/18964 [==============================] - 230s 12ms/sample - loss: 17.1754 - sex_loss: 0.6921 - race_loss: 1.4592 - age_loss: 15.0246 - sex_acc: 0.5241 - race_acc: 0.4178 - age_mean_absolute_error: 15.0242 - val_loss: 17.3239 - val_sex_loss: 0.6922 - val_race_loss: 1.4351 - val_age_loss: 15.1973 - val_sex_acc: 0.5220 - val_race_acc: 0.4343 - val_age_mean_absolute_error: 15.1966_loss: 0.6921 - race_loss: 1.4590 - age_loss: 15.0219 - sex_acc: 0.5241 - race_acc: 0.4177 - age_mean_absolute_error\n",
      "Epoch 23/25\n",
      "18964/18964 [==============================] - 230s 12ms/sample - loss: 17.1774 - sex_loss: 0.6920 - race_loss: 1.4590 - age_loss: 15.0279 - sex_acc: 0.5241 - race_acc: 0.4178 - age_mean_absolute_error: 15.0264 - val_loss: 17.2236 - val_sex_loss: 0.6922 - val_race_loss: 1.4346 - val_age_loss: 15.0975 - val_sex_acc: 0.5220 - val_race_acc: 0.4343 - val_age_mean_absolute_error: 15.0965\n",
      "Epoch 24/25\n",
      "18964/18964 [==============================] - 230s 12ms/sample - loss: 17.1706 - sex_loss: 0.6920 - race_loss: 1.4591 - age_loss: 15.0192 - sex_acc: 0.5241 - race_acc: 0.4178 - age_mean_absolute_error: 15.0196 - val_loss: 17.2103 - val_sex_loss: 0.6922 - val_race_loss: 1.4351 - val_age_loss: 15.0794 - val_sex_acc: 0.5220 - val_race_acc: 0.4343 - val_age_mean_absolute_error: 15.0831\n",
      "Epoch 25/25\n",
      "18964/18964 [==============================] - 229s 12ms/sample - loss: 17.1745 - sex_loss: 0.6921 - race_loss: 1.4590 - age_loss: 15.0215 - sex_acc: 0.5241 - race_acc: 0.4178 - age_mean_absolute_error: 15.0235 - val_loss: 17.2073 - val_sex_loss: 0.6922 - val_race_loss: 1.4346 - val_age_loss: 15.0851 - val_sex_acc: 0.5220 - val_race_acc: 0.4343 - val_age_mean_absolute_error: 15.0804\n"
     ]
    }
   ],
   "source": [
    "hist = model.fit(xtrain, [sex_train, race_train, age_train],\n",
    "                 epochs=25,\n",
    "                 batch_size=8,\n",
    "                 validation_data=[xtest, [sex_test, race_test, age_test]])  "
   ]
  },
  {
   "cell_type": "markdown",
   "metadata": {},
   "source": [
    "#### Evaluating the model"
   ]
  },
  {
   "cell_type": "code",
   "execution_count": 83,
   "metadata": {},
   "outputs": [
    {
     "name": "stdout",
     "output_type": "stream",
     "text": [
      "4741/4741 [==============================] - 5s 1ms/sample - loss: 17.2073 - sex_loss: 0.6920 - race_loss: 1.4342 - age_loss: 15.0197 - sex_acc: 0.5220 - race_acc: 0.4343 - age_mean_absolute_error: 15.0804\n"
     ]
    }
   ],
   "source": [
    "eval = model.evaluate(xtest, [sex_test, race_test, age_test])"
   ]
  },
  {
   "cell_type": "markdown",
   "metadata": {},
   "source": [
    "#### Inspecting the Epochs"
   ]
  },
  {
   "cell_type": "code",
   "execution_count": 84,
   "metadata": {},
   "outputs": [
    {
     "data": {
      "text/html": [
       "<div>\n",
       "<style scoped>\n",
       "    .dataframe tbody tr th:only-of-type {\n",
       "        vertical-align: middle;\n",
       "    }\n",
       "\n",
       "    .dataframe tbody tr th {\n",
       "        vertical-align: top;\n",
       "    }\n",
       "\n",
       "    .dataframe thead th {\n",
       "        text-align: right;\n",
       "    }\n",
       "</style>\n",
       "<table border=\"1\" class=\"dataframe\">\n",
       "  <thead>\n",
       "    <tr style=\"text-align: right;\">\n",
       "      <th></th>\n",
       "      <th>loss</th>\n",
       "      <th>sex_loss</th>\n",
       "      <th>race_loss</th>\n",
       "      <th>age_loss</th>\n",
       "      <th>sex_acc</th>\n",
       "      <th>race_acc</th>\n",
       "      <th>age_mean_absolute_error</th>\n",
       "      <th>val_loss</th>\n",
       "      <th>val_sex_loss</th>\n",
       "      <th>val_race_loss</th>\n",
       "      <th>val_age_loss</th>\n",
       "      <th>val_sex_acc</th>\n",
       "      <th>val_race_acc</th>\n",
       "      <th>val_age_mean_absolute_error</th>\n",
       "    </tr>\n",
       "  </thead>\n",
       "  <tbody>\n",
       "    <tr>\n",
       "      <th>20</th>\n",
       "      <td>17.146194</td>\n",
       "      <td>0.692127</td>\n",
       "      <td>1.459122</td>\n",
       "      <td>14.993476</td>\n",
       "      <td>0.524098</td>\n",
       "      <td>0.417792</td>\n",
       "      <td>14.994893</td>\n",
       "      <td>17.231976</td>\n",
       "      <td>0.692185</td>\n",
       "      <td>1.434128</td>\n",
       "      <td>15.106151</td>\n",
       "      <td>0.522042</td>\n",
       "      <td>0.434297</td>\n",
       "      <td>15.105527</td>\n",
       "    </tr>\n",
       "    <tr>\n",
       "      <th>21</th>\n",
       "      <td>17.175399</td>\n",
       "      <td>0.692056</td>\n",
       "      <td>1.459224</td>\n",
       "      <td>15.024551</td>\n",
       "      <td>0.524098</td>\n",
       "      <td>0.417792</td>\n",
       "      <td>15.024243</td>\n",
       "      <td>17.323885</td>\n",
       "      <td>0.692200</td>\n",
       "      <td>1.435121</td>\n",
       "      <td>15.197300</td>\n",
       "      <td>0.522042</td>\n",
       "      <td>0.434297</td>\n",
       "      <td>15.196594</td>\n",
       "    </tr>\n",
       "    <tr>\n",
       "      <th>22</th>\n",
       "      <td>17.177393</td>\n",
       "      <td>0.692041</td>\n",
       "      <td>1.458972</td>\n",
       "      <td>15.027892</td>\n",
       "      <td>0.524098</td>\n",
       "      <td>0.417792</td>\n",
       "      <td>15.026415</td>\n",
       "      <td>17.223595</td>\n",
       "      <td>0.692181</td>\n",
       "      <td>1.434627</td>\n",
       "      <td>15.097521</td>\n",
       "      <td>0.522042</td>\n",
       "      <td>0.434297</td>\n",
       "      <td>15.096530</td>\n",
       "    </tr>\n",
       "    <tr>\n",
       "      <th>23</th>\n",
       "      <td>17.170558</td>\n",
       "      <td>0.692006</td>\n",
       "      <td>1.459113</td>\n",
       "      <td>15.019177</td>\n",
       "      <td>0.524098</td>\n",
       "      <td>0.417792</td>\n",
       "      <td>15.019550</td>\n",
       "      <td>17.210276</td>\n",
       "      <td>0.692179</td>\n",
       "      <td>1.435055</td>\n",
       "      <td>15.079410</td>\n",
       "      <td>0.522042</td>\n",
       "      <td>0.434297</td>\n",
       "      <td>15.083115</td>\n",
       "    </tr>\n",
       "    <tr>\n",
       "      <th>24</th>\n",
       "      <td>17.174465</td>\n",
       "      <td>0.692080</td>\n",
       "      <td>1.458982</td>\n",
       "      <td>15.021531</td>\n",
       "      <td>0.524098</td>\n",
       "      <td>0.417792</td>\n",
       "      <td>15.023480</td>\n",
       "      <td>17.207296</td>\n",
       "      <td>0.692162</td>\n",
       "      <td>1.434624</td>\n",
       "      <td>15.085127</td>\n",
       "      <td>0.522042</td>\n",
       "      <td>0.434297</td>\n",
       "      <td>15.080394</td>\n",
       "    </tr>\n",
       "  </tbody>\n",
       "</table>\n",
       "</div>"
      ],
      "text/plain": [
       "         loss  sex_loss  race_loss   age_loss   sex_acc  race_acc  \\\n",
       "20  17.146194  0.692127   1.459122  14.993476  0.524098  0.417792   \n",
       "21  17.175399  0.692056   1.459224  15.024551  0.524098  0.417792   \n",
       "22  17.177393  0.692041   1.458972  15.027892  0.524098  0.417792   \n",
       "23  17.170558  0.692006   1.459113  15.019177  0.524098  0.417792   \n",
       "24  17.174465  0.692080   1.458982  15.021531  0.524098  0.417792   \n",
       "\n",
       "    age_mean_absolute_error   val_loss  val_sex_loss  val_race_loss  \\\n",
       "20                14.994893  17.231976      0.692185       1.434128   \n",
       "21                15.024243  17.323885      0.692200       1.435121   \n",
       "22                15.026415  17.223595      0.692181       1.434627   \n",
       "23                15.019550  17.210276      0.692179       1.435055   \n",
       "24                15.023480  17.207296      0.692162       1.434624   \n",
       "\n",
       "    val_age_loss  val_sex_acc  val_race_acc  val_age_mean_absolute_error  \n",
       "20     15.106151     0.522042      0.434297                    15.105527  \n",
       "21     15.197300     0.522042      0.434297                    15.196594  \n",
       "22     15.097521     0.522042      0.434297                    15.096530  \n",
       "23     15.079410     0.522042      0.434297                    15.083115  \n",
       "24     15.085127     0.522042      0.434297                    15.080394  "
      ]
     },
     "execution_count": 84,
     "metadata": {},
     "output_type": "execute_result"
    }
   ],
   "source": [
    "df = pd.DataFrame(hist.history)\n",
    "df.tail()"
   ]
  },
  {
   "cell_type": "code",
   "execution_count": 85,
   "metadata": {},
   "outputs": [
    {
     "data": {
      "image/png": "[encoded data removed]",
      "text/plain": [
       "<Figure size 576x360 with 1 Axes>"
      ]
     },
     "metadata": {
      "needs_background": "light"
     },
     "output_type": "display_data"
    }
   ],
   "source": [
    "fig, ax = plt.subplots(figsize=(8, 5))\n",
    "_=ax.set_facecolor('#DBDFAC')\n",
    "\n",
    "_=plt.plot(df['sex_acc'], color='#A1C084', lw=2, marker='o', ms=12, mec='k', ls='--')\n",
    "_=plt.plot(df['race_acc'], color='#5F758E', lw=2, marker='o', ms=12, mec='k', ls='--')\n",
    "\n",
    "_=plt.legend(['Sex Acc', 'Race Acc'], fontsize='large')\n",
    "_=plt.title('Loss per Epoch')"
   ]
  },
  {
   "cell_type": "markdown",
   "metadata": {},
   "source": [
    "Well I guess not."
   ]
  }
 ],
 "metadata": {
  "kernelspec": {
   "display_name": "Python 3",
   "language": "python",
   "name": "python3"
  }
 },
 "nbformat": 4,
 "nbformat_minor": 2
}
