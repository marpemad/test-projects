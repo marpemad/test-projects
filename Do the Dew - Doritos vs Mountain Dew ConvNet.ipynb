{
 "cells": [
  {
   "cell_type": "markdown",
   "metadata": {},
   "source": [
    "# Training the ConvNet to Recognize Doritos and Mountain Dew"
   ]
  },
  {
   "cell_type": "markdown",
   "metadata": {},
   "source": [
    "#### Importing libraries"
   ]
  },
  {
   "cell_type": "code",
   "execution_count": 1,
   "metadata": {},
   "outputs": [],
   "source": [
    "import pandas as pd\n",
    "from glob import glob\n",
    "import matplotlib.pyplot as plt\n",
    "import numpy as np\n",
    "import os\n",
    "os.chdir('C:/Users/Nicolas/Documents/Scraping/doritos_mountaindew/cropped_final')\n",
    "import PIL \n",
    "from PIL import Image, ImageOps\n",
    "from tensorflow.keras.utils import to_categorical\n",
    "from tensorflow.keras.layers import Conv2D, MaxPooling2D, Dense,\\\n",
    "    Dropout, Flatten\n",
    "from tensorflow.keras.models import Sequential, load_model\n",
    "from tensorflow.keras.callbacks import EarlyStopping, ModelCheckpoint\n",
    "from sklearn.model_selection import train_test_split"
   ]
  },
  {
   "cell_type": "markdown",
   "metadata": {},
   "source": [
    "#### Importing the images"
   ]
  },
  {
   "cell_type": "code",
   "execution_count": 2,
   "metadata": {},
   "outputs": [],
   "source": [
    "dew = glob('mountaindew/*png')"
   ]
  },
  {
   "cell_type": "markdown",
   "metadata": {},
   "source": [
    "#### Appending the images"
   ]
  },
  {
   "cell_type": "code",
   "execution_count": 3,
   "metadata": {},
   "outputs": [],
   "source": [
    "images = []"
   ]
  },
  {
   "cell_type": "markdown",
   "metadata": {},
   "source": [
    "Appending the Mountain Dew images"
   ]
  },
  {
   "cell_type": "code",
   "execution_count": 4,
   "metadata": {},
   "outputs": [],
   "source": [
    "for image in dew:\n",
    "    if plt.imread(image).shape == (200, 200, 3):\n",
    "        images.append(plt.imread(image))"
   ]
  },
  {
   "cell_type": "code",
   "execution_count": 5,
   "metadata": {},
   "outputs": [
    {
     "data": {
      "text/plain": [
       "43"
      ]
     },
     "execution_count": 5,
     "metadata": {},
     "output_type": "execute_result"
    }
   ],
   "source": [
    "len(images)"
   ]
  },
  {
   "cell_type": "code",
   "execution_count": 6,
   "metadata": {},
   "outputs": [
    {
     "name": "stdout",
     "output_type": "stream",
     "text": [
      "We have 43 images of mountain dew.\n"
     ]
    }
   ],
   "source": [
    "print(f'We have {len(images)} images of mountain dew.')"
   ]
  },
  {
   "cell_type": "markdown",
   "metadata": {},
   "source": [
    "Appending the Doritos images"
   ]
  },
  {
   "cell_type": "code",
   "execution_count": 7,
   "metadata": {},
   "outputs": [],
   "source": [
    "chips = glob('doritos/*png')"
   ]
  },
  {
   "cell_type": "code",
   "execution_count": 8,
   "metadata": {},
   "outputs": [],
   "source": [
    "for image in chips:\n",
    "    if plt.imread(image).shape == (200, 200, 3):\n",
    "        images.append(plt.imread(image))"
   ]
  },
  {
   "cell_type": "code",
   "execution_count": 9,
   "metadata": {},
   "outputs": [],
   "source": [
    "images = np.array(images, dtype=np.float32)"
   ]
  },
  {
   "cell_type": "code",
   "execution_count": 10,
   "metadata": {},
   "outputs": [
    {
     "name": "stdout",
     "output_type": "stream",
     "text": [
      "We have 88 images in total.\n"
     ]
    }
   ],
   "source": [
    "print(f'We have {len(images)} images in total.')"
   ]
  },
  {
   "cell_type": "markdown",
   "metadata": {},
   "source": [
    "#### Making the target array"
   ]
  },
  {
   "cell_type": "code",
   "execution_count": 11,
   "metadata": {},
   "outputs": [],
   "source": [
    "labels = ['Mountain Dew', 'Doritos']"
   ]
  },
  {
   "cell_type": "code",
   "execution_count": 12,
   "metadata": {},
   "outputs": [],
   "source": [
    "y = np.hstack([[0 for i in range(43)], [1 for i in range(45)]])"
   ]
  },
  {
   "cell_type": "code",
   "execution_count": 13,
   "metadata": {},
   "outputs": [],
   "source": [
    "y = to_categorical(y, 2).astype(np.float32)"
   ]
  },
  {
   "cell_type": "markdown",
   "metadata": {},
   "source": [
    "#### Splitting the data in train and test"
   ]
  },
  {
   "cell_type": "code",
   "execution_count": 14,
   "metadata": {},
   "outputs": [],
   "source": [
    "X_train, X_test, y_train, y_test = train_test_split(images, y, test_size=0.2, shuffle=True)"
   ]
  },
  {
   "cell_type": "markdown",
   "metadata": {},
   "source": [
    "#### Building the ConvNet"
   ]
  },
  {
   "cell_type": "code",
   "execution_count": 15,
   "metadata": {},
   "outputs": [],
   "source": [
    "input_shape = (200, 200, 3)"
   ]
  },
  {
   "cell_type": "markdown",
   "metadata": {},
   "source": [
    "Model"
   ]
  },
  {
   "cell_type": "code",
   "execution_count": 40,
   "metadata": {},
   "outputs": [],
   "source": [
    "model = Sequential([\n",
    "    Conv2D(32, kernel_size=(3, 3), activation='relu', input_shape=input_shape),\n",
    "    Conv2D(64, (3, 3), activation='relu'),\n",
    "    MaxPooling2D(pool_size=(2, 2)),\n",
    "    Dense(128, activation='relu'),\n",
    "    MaxPooling2D(pool_size=(2, 2)),\n",
    "    Dropout(0.5),\n",
    "    Flatten(),\n",
    "    Dense(2, activation='sigmoid')\n",
    "    ])"
   ]
  },
  {
   "cell_type": "markdown",
   "metadata": {},
   "source": [
    "Callbacks"
   ]
  },
  {
   "cell_type": "code",
   "execution_count": 41,
   "metadata": {},
   "outputs": [],
   "source": [
    "callbacks = [ModelCheckpoint('doritos_dew_weights.h5', monitor='val_acc', save_best_only=True),\n",
    "             EarlyStopping(monitor='val_loss', patience=5, restore_best_weights=True)]"
   ]
  },
  {
   "cell_type": "markdown",
   "metadata": {},
   "source": [
    "Compiling"
   ]
  },
  {
   "cell_type": "code",
   "execution_count": 42,
   "metadata": {},
   "outputs": [],
   "source": [
    "model.compile(loss='binary_crossentropy', optimizer='adam', metrics=['acc'])"
   ]
  },
  {
   "cell_type": "markdown",
   "metadata": {},
   "source": [
    "Training"
   ]
  },
  {
   "cell_type": "code",
   "execution_count": 43,
   "metadata": {},
   "outputs": [
    {
     "name": "stdout",
     "output_type": "stream",
     "text": [
      "Train on 70 samples, validate on 18 samples\n",
      "Epoch 1/20\n",
      "70/70 [==============================] - 10s 141ms/sample - loss: 1.7259 - acc: 0.8000 - val_loss: 0.0031 - val_acc: 1.0000\n",
      "Epoch 2/20\n",
      "70/70 [==============================] - 3s 45ms/sample - loss: 0.0432 - acc: 0.9929 - val_loss: 1.0748e-04 - val_acc: 1.0000\n",
      "Epoch 3/20\n",
      "70/70 [==============================] - 3s 44ms/sample - loss: 0.0013 - acc: 1.0000 - val_loss: 0.0040 - val_acc: 1.0000\n",
      "Epoch 4/20\n",
      "70/70 [==============================] - 3s 45ms/sample - loss: 3.1541e-04 - acc: 1.0000 - val_loss: 2.9376e-04 - val_acc: 1.0000\n",
      "Epoch 5/20\n",
      "70/70 [==============================] - 3s 45ms/sample - loss: 3.0980e-05 - acc: 1.0000 - val_loss: 7.7672e-05 - val_acc: 1.0000\n",
      "Epoch 6/20\n",
      "70/70 [==============================] - 3s 45ms/sample - loss: 1.4685e-05 - acc: 1.0000 - val_loss: 4.3032e-05 - val_acc: 1.0000\n",
      "Epoch 7/20\n",
      "70/70 [==============================] - 3s 45ms/sample - loss: 1.1109e-05 - acc: 1.0000 - val_loss: 3.2176e-05 - val_acc: 1.0000\n",
      "Epoch 8/20\n",
      "70/70 [==============================] - 3s 45ms/sample - loss: 9.8923e-06 - acc: 1.0000 - val_loss: 2.5302e-05 - val_acc: 1.0000\n",
      "Epoch 9/20\n",
      "70/70 [==============================] - 7s 94ms/sample - loss: 9.9936e-06 - acc: 1.0000 - val_loss: 2.6403e-05 - val_acc: 1.0000\n",
      "Epoch 10/20\n",
      "70/70 [==============================] - 3s 45ms/sample - loss: 7.7455e-06 - acc: 1.0000 - val_loss: 2.1739e-05 - val_acc: 1.0000\n",
      "Epoch 11/20\n",
      "70/70 [==============================] - 3s 45ms/sample - loss: 7.1338e-06 - acc: 1.0000 - val_loss: 1.5502e-05 - val_acc: 1.0000\n",
      "Epoch 12/20\n",
      "70/70 [==============================] - 5s 65ms/sample - loss: 5.8987e-06 - acc: 1.0000 - val_loss: 1.7490e-05 - val_acc: 1.0000\n",
      "Epoch 13/20\n",
      "70/70 [==============================] - 5s 69ms/sample - loss: 5.7745e-06 - acc: 1.0000 - val_loss: 1.4441e-05 - val_acc: 1.0000\n",
      "Epoch 14/20\n",
      "70/70 [==============================] - 3s 45ms/sample - loss: 4.6337e-06 - acc: 1.0000 - val_loss: 1.1737e-05 - val_acc: 1.0000\n",
      "Epoch 15/20\n",
      "70/70 [==============================] - 3s 45ms/sample - loss: 4.4599e-06 - acc: 1.0000 - val_loss: 1.0369e-05 - val_acc: 1.0000\n",
      "Epoch 16/20\n",
      "70/70 [==============================] - 3s 45ms/sample - loss: 3.4792e-06 - acc: 1.0000 - val_loss: 9.8433e-06 - val_acc: 1.0000\n",
      "Epoch 17/20\n",
      "70/70 [==============================] - 3s 45ms/sample - loss: 4.3504e-06 - acc: 1.0000 - val_loss: 9.3142e-06 - val_acc: 1.0000\n",
      "Epoch 18/20\n",
      "70/70 [==============================] - 3s 47ms/sample - loss: 3.4797e-06 - acc: 1.0000 - val_loss: 8.9532e-06 - val_acc: 1.0000\n",
      "Epoch 19/20\n",
      "70/70 [==============================] - 6s 88ms/sample - loss: 3.3032e-06 - acc: 1.0000 - val_loss: 8.3618e-06 - val_acc: 1.0000\n",
      "Epoch 20/20\n",
      "70/70 [==============================] - 4s 59ms/sample - loss: 2.3954e-06 - acc: 1.0000 - val_loss: 7.5218e-06 - val_acc: 1.0000\n"
     ]
    }
   ],
   "source": [
    "_ =      model.fit(X_train, y_train,\n",
    "         epochs=20,\n",
    "         validation_data=[X_test, y_test],\n",
    "         batch_size=4,\n",
    "         callbacks=callbacks)"
   ]
  },
  {
   "cell_type": "markdown",
   "metadata": {},
   "source": [
    "Loading weights of the saved model"
   ]
  },
  {
   "cell_type": "code",
   "execution_count": 44,
   "metadata": {},
   "outputs": [],
   "source": [
    "model = load_model('doritos_dew_weights.h5')"
   ]
  },
  {
   "cell_type": "markdown",
   "metadata": {},
   "source": [
    "#### Functions"
   ]
  },
  {
   "cell_type": "code",
   "execution_count": 45,
   "metadata": {},
   "outputs": [],
   "source": [
    "def crop(img):\n",
    "    if img.shape[0]<img.shape[1]: # it means horizontal photo\n",
    "        x = img.shape[0]\n",
    "        y = img.shape[1]\n",
    "        crop_img = img[: , int(y/2-x/2):int(y/2+x/2)]\n",
    "    else:\n",
    "        x = img.shape[1]\n",
    "        y = img.shape[0]\n",
    "        crop_img = img[int(y/2-x/2):int(y/2+x/2) , :]\n",
    "\n",
    "    return crop_img"
   ]
  },
  {
   "cell_type": "code",
   "execution_count": 46,
   "metadata": {},
   "outputs": [],
   "source": [
    "def resize(img):\n",
    "    return Image.fromarray(img).resize((200, 200))"
   ]
  },
  {
   "cell_type": "code",
   "execution_count": 50,
   "metadata": {},
   "outputs": [],
   "source": [
    "def preprocess_predict(image):\n",
    "    a = plt.imread(image)\n",
    "    b = crop(a)\n",
    "    c = Image.fromarray(b)\n",
    "    d = c.resize((200, 200))\n",
    "    e = np.array(d)\n",
    "    image = e.reshape(1, 200, 200, 3)\n",
    "    y_hat = model.predict_proba(image)#[0]#.astype(int)\n",
    "    #prediction = labels[y_hat]\n",
    "    #prediction = labels[np.where(y_hat == 1)[0][0]]\n",
    "    \n",
    "    return y_hat #prediction, image"
   ]
  },
  {
   "cell_type": "markdown",
   "metadata": {},
   "source": [
    "#### Making a prediction for a test image"
   ]
  },
  {
   "cell_type": "markdown",
   "metadata": {},
   "source": [
    "Mountain Dew"
   ]
  },
  {
   "cell_type": "code",
   "execution_count": 51,
   "metadata": {},
   "outputs": [],
   "source": [
    "y_pred = preprocess_predict('../mtndew_test.jpg') #, image"
   ]
  },
  {
   "cell_type": "code",
   "execution_count": 52,
   "metadata": {},
   "outputs": [
    {
     "data": {
      "text/plain": [
       "array([[1., 0.]], dtype=float32)"
      ]
     },
     "execution_count": 52,
     "metadata": {},
     "output_type": "execute_result"
    }
   ],
   "source": [
    "y_pred"
   ]
  },
  {
   "cell_type": "code",
   "execution_count": 53,
   "metadata": {},
   "outputs": [
    {
     "ename": "AttributeError",
     "evalue": "'str' object has no attribute 'reshape'",
     "output_type": "error",
     "traceback": [
      "\u001b[1;31m---------------------------------------------------------------------------\u001b[0m",
      "\u001b[1;31mAttributeError\u001b[0m                            Traceback (most recent call last)",
      "\u001b[1;32m<ipython-input-53-ec5e161b660a>\u001b[0m in \u001b[0;36m<module>\u001b[1;34m()\u001b[0m\n\u001b[1;32m----> 1\u001b[1;33m \u001b[0mpic\u001b[0m \u001b[1;33m=\u001b[0m \u001b[0mplt\u001b[0m\u001b[1;33m.\u001b[0m\u001b[0mimshow\u001b[0m\u001b[1;33m(\u001b[0m\u001b[0mimage\u001b[0m\u001b[1;33m.\u001b[0m\u001b[0mreshape\u001b[0m\u001b[1;33m(\u001b[0m\u001b[0minput_shape\u001b[0m\u001b[1;33m)\u001b[0m\u001b[1;33m)\u001b[0m\u001b[1;33m\u001b[0m\u001b[0m\n\u001b[0m",
      "\u001b[1;31mAttributeError\u001b[0m: 'str' object has no attribute 'reshape'"
     ]
    }
   ],
   "source": [
    "pic = plt.imshow(image.reshape(input_shape))"
   ]
  },
  {
   "cell_type": "markdown",
   "metadata": {},
   "source": [
    "Doritos"
   ]
  },
  {
   "cell_type": "code",
   "execution_count": 54,
   "metadata": {},
   "outputs": [],
   "source": [
    "y_pred = preprocess_predict('../doritos_test.jpg') # , image"
   ]
  },
  {
   "cell_type": "code",
   "execution_count": 55,
   "metadata": {},
   "outputs": [
    {
     "data": {
      "text/plain": [
       "array([[0., 1.]], dtype=float32)"
      ]
     },
     "execution_count": 55,
     "metadata": {},
     "output_type": "execute_result"
    }
   ],
   "source": [
    "y_pred"
   ]
  },
  {
   "cell_type": "code",
   "execution_count": 78,
   "metadata": {},
   "outputs": [
    {
     "data": {
      "image/png": "[encoded data removed]",
      "text/plain": [
       "<Figure size 432x288 with 1 Axes>"
      ]
     },
     "metadata": {
      "needs_background": "light"
     },
     "output_type": "display_data"
    }
   ],
   "source": [
    "pic = plt.imshow(image.reshape(input_shape))"
   ]
  }
 ],
 "metadata": {
  "kernelspec": {
   "display_name": "Python 3",
   "language": "python",
   "name": "python3"
  },
  "language_info": {
   "codemirror_mode": {
    "name": "ipython",
    "version": 3
   },
   "file_extension": ".py",
   "mimetype": "text/x-python",
   "name": "python",
   "nbconvert_exporter": "python",
   "pygments_lexer": "ipython3",
   "version": "3.7.0"
  }
 },
 "nbformat": 4,
 "nbformat_minor": 2
}
