{
  "nbformat": 4,
  "nbformat_minor": 0,
  "metadata": {
    "colab": {
      "name": "Assignment 2 - Nicolas Gervais",
      "version": "0.3.2",
      "provenance": []
    },
    "kernelspec": {
      "name": "python3",
      "display_name": "Python 3"
    }
  },
  "cells": [
    {
      "metadata": {
        "id": "6HpCtq_I9WBG",
        "colab_type": "code",
        "colab": {}
      },
      "cell_type": "code",
      "source": [
        "# -------- importing libraries \n",
        "\n",
        "import pandas as pd\n",
        "from sklearn.model_selection import train_test_split\n",
        "%matplotlib inline\n",
        "import matplotlib.pyplot as plt\n",
        "import numpy as np\n",
        "from sklearn import linear_model\n",
        "from sklearn.metrics import mean_absolute_error, mean_squared_error\n",
        "from math import radians, cos, sin, asin, sqrt\n",
        "from geopy import distance"
      ],
      "execution_count": 0,
      "outputs": []
    },
    {
      "metadata": {
        "id": "jZEYMpr3_55o",
        "colab_type": "code",
        "outputId": "1f8a42df-6e79-4437-f330-ad57d07f2cc5",
        "colab": {
          "base_uri": "https://localhost:8080/",
          "height": 195
        }
      },
      "cell_type": "code",
      "source": [
        "# -------- importing the data\n",
        "\n",
        "taxidata = pd.read_csv(\"total.csv\")\n",
        "taxidata.head()"
      ],
      "execution_count": 0,
      "outputs": [
        {
          "output_type": "execute_result",
          "data": {
            "text/html": [
              "<div>\n",
              "<style scoped>\n",
              "    .dataframe tbody tr th:only-of-type {\n",
              "        vertical-align: middle;\n",
              "    }\n",
              "\n",
              "    .dataframe tbody tr th {\n",
              "        vertical-align: top;\n",
              "    }\n",
              "\n",
              "    .dataframe thead th {\n",
              "        text-align: right;\n",
              "    }\n",
              "</style>\n",
              "<table border=\"1\" class=\"dataframe\">\n",
              "  <thead>\n",
              "    <tr style=\"text-align: right;\">\n",
              "      <th></th>\n",
              "      <th>key</th>\n",
              "      <th>fare_amount</th>\n",
              "      <th>pickup_datetime</th>\n",
              "      <th>pickup_longitude</th>\n",
              "      <th>pickup_latitude</th>\n",
              "      <th>dropoff_longitude</th>\n",
              "      <th>dropoff_latitude</th>\n",
              "      <th>passenger_count</th>\n",
              "    </tr>\n",
              "  </thead>\n",
              "  <tbody>\n",
              "    <tr>\n",
              "      <th>0</th>\n",
              "      <td>2009-06-15 17:26:21.0000001</td>\n",
              "      <td>4.5</td>\n",
              "      <td>2009-06-15 17:26:21 UTC</td>\n",
              "      <td>-73.844311</td>\n",
              "      <td>40.721319</td>\n",
              "      <td>-73.841610</td>\n",
              "      <td>40.712278</td>\n",
              "      <td>1</td>\n",
              "    </tr>\n",
              "    <tr>\n",
              "      <th>1</th>\n",
              "      <td>2010-01-05 16:52:16.0000002</td>\n",
              "      <td>16.9</td>\n",
              "      <td>2010-01-05 16:52:16 UTC</td>\n",
              "      <td>-74.016048</td>\n",
              "      <td>40.711303</td>\n",
              "      <td>-73.979268</td>\n",
              "      <td>40.782004</td>\n",
              "      <td>1</td>\n",
              "    </tr>\n",
              "    <tr>\n",
              "      <th>2</th>\n",
              "      <td>2011-08-18 00:35:00.00000049</td>\n",
              "      <td>5.7</td>\n",
              "      <td>2011-08-18 00:35:00 UTC</td>\n",
              "      <td>-73.982738</td>\n",
              "      <td>40.761270</td>\n",
              "      <td>-73.991242</td>\n",
              "      <td>40.750562</td>\n",
              "      <td>2</td>\n",
              "    </tr>\n",
              "    <tr>\n",
              "      <th>3</th>\n",
              "      <td>2012-04-21 04:30:42.0000001</td>\n",
              "      <td>7.7</td>\n",
              "      <td>2012-04-21 04:30:42 UTC</td>\n",
              "      <td>-73.987130</td>\n",
              "      <td>40.733143</td>\n",
              "      <td>-73.991567</td>\n",
              "      <td>40.758092</td>\n",
              "      <td>1</td>\n",
              "    </tr>\n",
              "    <tr>\n",
              "      <th>4</th>\n",
              "      <td>2010-03-09 07:51:00.000000135</td>\n",
              "      <td>5.3</td>\n",
              "      <td>2010-03-09 07:51:00 UTC</td>\n",
              "      <td>-73.968095</td>\n",
              "      <td>40.768008</td>\n",
              "      <td>-73.956655</td>\n",
              "      <td>40.783762</td>\n",
              "      <td>1</td>\n",
              "    </tr>\n",
              "  </tbody>\n",
              "</table>\n",
              "</div>"
            ],
            "text/plain": [
              "                             key  fare_amount          pickup_datetime  \\\n",
              "0    2009-06-15 17:26:21.0000001          4.5  2009-06-15 17:26:21 UTC   \n",
              "1    2010-01-05 16:52:16.0000002         16.9  2010-01-05 16:52:16 UTC   \n",
              "2   2011-08-18 00:35:00.00000049          5.7  2011-08-18 00:35:00 UTC   \n",
              "3    2012-04-21 04:30:42.0000001          7.7  2012-04-21 04:30:42 UTC   \n",
              "4  2010-03-09 07:51:00.000000135          5.3  2010-03-09 07:51:00 UTC   \n",
              "\n",
              "   pickup_longitude  pickup_latitude  dropoff_longitude  dropoff_latitude  \\\n",
              "0        -73.844311        40.721319         -73.841610         40.712278   \n",
              "1        -74.016048        40.711303         -73.979268         40.782004   \n",
              "2        -73.982738        40.761270         -73.991242         40.750562   \n",
              "3        -73.987130        40.733143         -73.991567         40.758092   \n",
              "4        -73.968095        40.768008         -73.956655         40.783762   \n",
              "\n",
              "   passenger_count  \n",
              "0                1  \n",
              "1                1  \n",
              "2                2  \n",
              "3                1  \n",
              "4                1  "
            ]
          },
          "metadata": {
            "tags": []
          },
          "execution_count": 5
        }
      ]
    },
    {
      "metadata": {
        "id": "1_oyKOT4Hs3q",
        "colab_type": "code",
        "colab": {}
      },
      "cell_type": "code",
      "source": [
        "# -------- looking for abnormal values \n",
        "\n",
        "# taxidata.nsmallest(20, 'fare_amount') # 10 abnormally low fares, which are below 0\n",
        "# taxidata.nsmallest(20, 'pickup_longitude') \n",
        "# taxidata.nsmallest(20, 'pickup_latitude') \n",
        "# taxidata.nsmallest(20, 'dropoff_longitude') # 1 abnormal value of -85\n",
        "# taxidata.nsmallest(20, 'dropoff_latitude') \n",
        "# taxidata.nsmallest(150, 'passenger_count') # between 150 and 200 with no passenger\n",
        "# taxidata.nlargest(20, 'fare_amount') # highest is 200, but it's not impossible\n",
        "# taxidata.nlargest(20, 'pickup_longitude') \n",
        "# taxidata.nlargest(20, 'pickup_latitude') # 1 abnormal value of 400\n",
        "# taxidata.nlargest(20, 'dropoff_longitude')\n",
        "# taxidata.nlargest(20, 'dropoff_latitude')\n",
        "# taxidata.nlargest(20, 'passenger_count')"
      ],
      "execution_count": 0,
      "outputs": []
    },
    {
      "metadata": {
        "id": "Ae8mhv-FuMa8",
        "colab_type": "code",
        "colab": {}
      },
      "cell_type": "code",
      "source": [
        "# -------- deleting abnormal values found above\n",
        "\n",
        "taxidata = taxidata[taxidata.pickup_latitude < 180]\n",
        "taxidata = taxidata[taxidata.fare_amount > 0]\n",
        "taxidata = taxidata[taxidata.dropoff_longitude > -85]\n",
        "taxidata = taxidata[taxidata.pickup_latitude != 0]\n",
        "taxidata = taxidata[taxidata.passenger_count != 0]\n",
        "taxidata = taxidata[taxidata.pickup_longitude != 0]\n",
        "taxidata = taxidata[taxidata.dropoff_latitude != 0]\n",
        "taxidata = taxidata[taxidata.dropoff_latitude != 0]\n",
        "taxidata.dropna()"
      ],
      "execution_count": 0,
      "outputs": []
    },
    {
      "metadata": {
        "id": "CJ6ML25tvg27",
        "colab_type": "code",
        "outputId": "6315ea45-ca41-4e9b-dc4b-ebc2d2d26014",
        "colab": {
          "base_uri": "https://localhost:8080/",
          "height": 34
        }
      },
      "cell_type": "code",
      "source": [
        "# -------- number of remaining observations\n",
        "\n",
        "len(taxidata) # 48835"
      ],
      "execution_count": 0,
      "outputs": [
        {
          "output_type": "execute_result",
          "data": {
            "text/plain": [
              "48835"
            ]
          },
          "metadata": {
            "tags": []
          },
          "execution_count": 30
        }
      ]
    },
    {
      "metadata": {
        "id": "CELaDxclfKpo",
        "colab_type": "code",
        "colab": {}
      },
      "cell_type": "code",
      "source": [
        "# -------- calculating distance traveled\n",
        "\n",
        "for index, row in taxidata.iterrows():\n",
        "  coords_1 = taxidata.loc[index, \"pickup_latitude\"], taxidata.loc[index, \"pickup_longitude\"]\n",
        "  coords_2 = taxidata.loc[index, \"dropoff_latitude\"], taxidata.loc[index, \"dropoff_longitude\"]\n",
        "  taxidata.loc[index, \"distance_traveled\"] = distance.distance(coords_1, coords_2).km"
      ],
      "execution_count": 0,
      "outputs": []
    },
    {
      "metadata": {
        "id": "ikw200zwrYWo",
        "colab_type": "code",
        "colab": {}
      },
      "cell_type": "code",
      "source": [
        "# -------- looking if it worked\n",
        "\n",
        "taxidata.head()"
      ],
      "execution_count": 0,
      "outputs": []
    },
    {
      "metadata": {
        "id": "mLgg2gcBlZEf",
        "colab_type": "code",
        "colab": {}
      },
      "cell_type": "code",
      "source": [
        "# -------- looking for abnormal values \n",
        "\n",
        "# taxidata.nsmallest(20, 'distance_traveled') # bunch of zero distance traveled\n",
        "# taxidata.nlargest(20, 'distance_traveled') # bunch of 4,000km+ ditance traveled"
      ],
      "execution_count": 0,
      "outputs": []
    },
    {
      "metadata": {
        "id": "Lhz9Apk3nsrJ",
        "colab_type": "code",
        "outputId": "138b29ac-1fe8-4460-8464-5c337a88d7c9",
        "colab": {
          "base_uri": "https://localhost:8080/",
          "height": 195
        }
      },
      "cell_type": "code",
      "source": [
        "# -------- deleting abnormal values \n",
        "\n",
        "taxidata = taxidata[taxidata.distance_traveled > 0.1]\n",
        "taxidata = taxidata[taxidata.distance_traveled < 50]\n",
        "taxidata.head()"
      ],
      "execution_count": 0,
      "outputs": [
        {
          "output_type": "execute_result",
          "data": {
            "text/html": [
              "<div>\n",
              "<style scoped>\n",
              "    .dataframe tbody tr th:only-of-type {\n",
              "        vertical-align: middle;\n",
              "    }\n",
              "\n",
              "    .dataframe tbody tr th {\n",
              "        vertical-align: top;\n",
              "    }\n",
              "\n",
              "    .dataframe thead th {\n",
              "        text-align: right;\n",
              "    }\n",
              "</style>\n",
              "<table border=\"1\" class=\"dataframe\">\n",
              "  <thead>\n",
              "    <tr style=\"text-align: right;\">\n",
              "      <th></th>\n",
              "      <th>key</th>\n",
              "      <th>fare_amount</th>\n",
              "      <th>pickup_datetime</th>\n",
              "      <th>pickup_longitude</th>\n",
              "      <th>pickup_latitude</th>\n",
              "      <th>dropoff_longitude</th>\n",
              "      <th>dropoff_latitude</th>\n",
              "      <th>passenger_count</th>\n",
              "      <th>distance_traveled</th>\n",
              "    </tr>\n",
              "  </thead>\n",
              "  <tbody>\n",
              "    <tr>\n",
              "      <th>0</th>\n",
              "      <td>2009-06-15 17:26:21.0000001</td>\n",
              "      <td>4.5</td>\n",
              "      <td>2009-06-15 17:26:21 UTC</td>\n",
              "      <td>-73.844311</td>\n",
              "      <td>40.721319</td>\n",
              "      <td>-73.841610</td>\n",
              "      <td>40.712278</td>\n",
              "      <td>1</td>\n",
              "      <td>1.029601</td>\n",
              "    </tr>\n",
              "    <tr>\n",
              "      <th>1</th>\n",
              "      <td>2010-01-05 16:52:16.0000002</td>\n",
              "      <td>16.9</td>\n",
              "      <td>2010-01-05 16:52:16 UTC</td>\n",
              "      <td>-74.016048</td>\n",
              "      <td>40.711303</td>\n",
              "      <td>-73.979268</td>\n",
              "      <td>40.782004</td>\n",
              "      <td>1</td>\n",
              "      <td>8.443441</td>\n",
              "    </tr>\n",
              "    <tr>\n",
              "      <th>2</th>\n",
              "      <td>2011-08-18 00:35:00.00000049</td>\n",
              "      <td>5.7</td>\n",
              "      <td>2011-08-18 00:35:00 UTC</td>\n",
              "      <td>-73.982738</td>\n",
              "      <td>40.761270</td>\n",
              "      <td>-73.991242</td>\n",
              "      <td>40.750562</td>\n",
              "      <td>2</td>\n",
              "      <td>1.389132</td>\n",
              "    </tr>\n",
              "    <tr>\n",
              "      <th>3</th>\n",
              "      <td>2012-04-21 04:30:42.0000001</td>\n",
              "      <td>7.7</td>\n",
              "      <td>2012-04-21 04:30:42 UTC</td>\n",
              "      <td>-73.987130</td>\n",
              "      <td>40.733143</td>\n",
              "      <td>-73.991567</td>\n",
              "      <td>40.758092</td>\n",
              "      <td>1</td>\n",
              "      <td>2.795790</td>\n",
              "    </tr>\n",
              "    <tr>\n",
              "      <th>4</th>\n",
              "      <td>2010-03-09 07:51:00.000000135</td>\n",
              "      <td>5.3</td>\n",
              "      <td>2010-03-09 07:51:00 UTC</td>\n",
              "      <td>-73.968095</td>\n",
              "      <td>40.768008</td>\n",
              "      <td>-73.956655</td>\n",
              "      <td>40.783762</td>\n",
              "      <td>1</td>\n",
              "      <td>1.998338</td>\n",
              "    </tr>\n",
              "  </tbody>\n",
              "</table>\n",
              "</div>"
            ],
            "text/plain": [
              "                             key  fare_amount          pickup_datetime  \\\n",
              "0    2009-06-15 17:26:21.0000001          4.5  2009-06-15 17:26:21 UTC   \n",
              "1    2010-01-05 16:52:16.0000002         16.9  2010-01-05 16:52:16 UTC   \n",
              "2   2011-08-18 00:35:00.00000049          5.7  2011-08-18 00:35:00 UTC   \n",
              "3    2012-04-21 04:30:42.0000001          7.7  2012-04-21 04:30:42 UTC   \n",
              "4  2010-03-09 07:51:00.000000135          5.3  2010-03-09 07:51:00 UTC   \n",
              "\n",
              "   pickup_longitude  pickup_latitude  dropoff_longitude  dropoff_latitude  \\\n",
              "0        -73.844311        40.721319         -73.841610         40.712278   \n",
              "1        -74.016048        40.711303         -73.979268         40.782004   \n",
              "2        -73.982738        40.761270         -73.991242         40.750562   \n",
              "3        -73.987130        40.733143         -73.991567         40.758092   \n",
              "4        -73.968095        40.768008         -73.956655         40.783762   \n",
              "\n",
              "   passenger_count  distance_traveled  \n",
              "0                1           1.029601  \n",
              "1                1           8.443441  \n",
              "2                2           1.389132  \n",
              "3                1           2.795790  \n",
              "4                1           1.998338  "
            ]
          },
          "metadata": {
            "tags": []
          },
          "execution_count": 47
        }
      ]
    },
    {
      "metadata": {
        "id": "tzVU6UyUNQtt",
        "colab_type": "code",
        "outputId": "7a046539-7d06-4883-e3c2-118f18df0e6e",
        "colab": {
          "base_uri": "https://localhost:8080/",
          "height": 34
        }
      },
      "cell_type": "code",
      "source": [
        "# -------- checking if abnormal values remain\n",
        "\n",
        "taxidata.loc[:, \"distance_traveled\"].max() # 44.7km\n",
        "# taxidata.loc[:, \"distance_traveled\"].min() # 0.1km traveled, unlikely but not impossible"
      ],
      "execution_count": 0,
      "outputs": [
        {
          "output_type": "execute_result",
          "data": {
            "text/plain": [
              "44.69995031711877"
            ]
          },
          "metadata": {
            "tags": []
          },
          "execution_count": 48
        }
      ]
    },
    {
      "metadata": {
        "id": "5--0kWMmuwj7",
        "colab_type": "code",
        "outputId": "5c7d6eb5-7f1b-4e4c-acae-6feda0fdc105",
        "colab": {
          "base_uri": "https://localhost:8080/",
          "height": 34
        }
      },
      "cell_type": "code",
      "source": [
        "# -------- number of remaining observations\n",
        "\n",
        "len(taxidata) # 47962"
      ],
      "execution_count": 0,
      "outputs": [
        {
          "output_type": "execute_result",
          "data": {
            "text/plain": [
              "47962"
            ]
          },
          "metadata": {
            "tags": []
          },
          "execution_count": 49
        }
      ]
    },
    {
      "metadata": {
        "id": "r07oacTfODYA",
        "colab_type": "code",
        "outputId": "353efd38-430b-444d-a0ba-cf709d25cf2a",
        "colab": {
          "base_uri": "https://localhost:8080/",
          "height": 282
        }
      },
      "cell_type": "code",
      "source": [
        "# -------- inspecting the relationship between fare_amount and distance_traveled\n",
        "\n",
        "plt.scatter(taxidata.loc[:, \"distance_traveled\"], \n",
        "            taxidata.loc[:, \"fare_amount\"], alpha = 0.3, color=\"green\")\n",
        "\n",
        "# strong linear relationship!"
      ],
      "execution_count": 0,
      "outputs": [
        {
          "output_type": "execute_result",
          "data": {
            "text/plain": [
              "<matplotlib.collections.PathCollection at 0x7f08ee4a42e8>"
            ]
          },
          "metadata": {
            "tags": []
          },
          "execution_count": 60
        },
        {
          "output_type": "display_data",
          "data": {
            "image/png": "[encoded data removed]",
            "text/plain": [
              "<Figure size 432x288 with 1 Axes>"
            ]
          },
          "metadata": {
            "tags": []
          }
        }
      ]
    },
    {
      "metadata": {
        "id": "F8rYp0F0PvVo",
        "colab_type": "code",
        "outputId": "1c0b3b1a-89fb-403e-8439-438d57dcbcd1",
        "colab": {
          "base_uri": "https://localhost:8080/",
          "height": 254
        }
      },
      "cell_type": "code",
      "source": [
        "# -------- inspecting the relationships between variables\n",
        "\n",
        "taxidata.corr() # all null, except for distance_traveled (0.897)"
      ],
      "execution_count": 0,
      "outputs": [
        {
          "output_type": "execute_result",
          "data": {
            "text/html": [
              "<div>\n",
              "<style scoped>\n",
              "    .dataframe tbody tr th:only-of-type {\n",
              "        vertical-align: middle;\n",
              "    }\n",
              "\n",
              "    .dataframe tbody tr th {\n",
              "        vertical-align: top;\n",
              "    }\n",
              "\n",
              "    .dataframe thead th {\n",
              "        text-align: right;\n",
              "    }\n",
              "</style>\n",
              "<table border=\"1\" class=\"dataframe\">\n",
              "  <thead>\n",
              "    <tr style=\"text-align: right;\">\n",
              "      <th></th>\n",
              "      <th>fare_amount</th>\n",
              "      <th>pickup_longitude</th>\n",
              "      <th>pickup_latitude</th>\n",
              "      <th>dropoff_longitude</th>\n",
              "      <th>dropoff_latitude</th>\n",
              "      <th>passenger_count</th>\n",
              "      <th>distance_traveled</th>\n",
              "    </tr>\n",
              "  </thead>\n",
              "  <tbody>\n",
              "    <tr>\n",
              "      <th>fare_amount</th>\n",
              "      <td>1.000000</td>\n",
              "      <td>0.013313</td>\n",
              "      <td>-0.009036</td>\n",
              "      <td>0.011820</td>\n",
              "      <td>-0.008824</td>\n",
              "      <td>0.017185</td>\n",
              "      <td>0.897527</td>\n",
              "    </tr>\n",
              "    <tr>\n",
              "      <th>pickup_longitude</th>\n",
              "      <td>0.013313</td>\n",
              "      <td>1.000000</td>\n",
              "      <td>-0.995385</td>\n",
              "      <td>0.999835</td>\n",
              "      <td>-0.995347</td>\n",
              "      <td>0.005151</td>\n",
              "      <td>0.011154</td>\n",
              "    </tr>\n",
              "    <tr>\n",
              "      <th>pickup_latitude</th>\n",
              "      <td>-0.009036</td>\n",
              "      <td>-0.995385</td>\n",
              "      <td>1.000000</td>\n",
              "      <td>-0.995368</td>\n",
              "      <td>0.999900</td>\n",
              "      <td>-0.004999</td>\n",
              "      <td>-0.007779</td>\n",
              "    </tr>\n",
              "    <tr>\n",
              "      <th>dropoff_longitude</th>\n",
              "      <td>0.011820</td>\n",
              "      <td>0.999835</td>\n",
              "      <td>-0.995368</td>\n",
              "      <td>1.000000</td>\n",
              "      <td>-0.995326</td>\n",
              "      <td>0.005039</td>\n",
              "      <td>0.010342</td>\n",
              "    </tr>\n",
              "    <tr>\n",
              "      <th>dropoff_latitude</th>\n",
              "      <td>-0.008824</td>\n",
              "      <td>-0.995347</td>\n",
              "      <td>0.999900</td>\n",
              "      <td>-0.995326</td>\n",
              "      <td>1.000000</td>\n",
              "      <td>-0.005082</td>\n",
              "      <td>-0.006924</td>\n",
              "    </tr>\n",
              "    <tr>\n",
              "      <th>passenger_count</th>\n",
              "      <td>0.017185</td>\n",
              "      <td>0.005151</td>\n",
              "      <td>-0.004999</td>\n",
              "      <td>0.005039</td>\n",
              "      <td>-0.005082</td>\n",
              "      <td>1.000000</td>\n",
              "      <td>0.014643</td>\n",
              "    </tr>\n",
              "    <tr>\n",
              "      <th>distance_traveled</th>\n",
              "      <td>0.897527</td>\n",
              "      <td>0.011154</td>\n",
              "      <td>-0.007779</td>\n",
              "      <td>0.010342</td>\n",
              "      <td>-0.006924</td>\n",
              "      <td>0.014643</td>\n",
              "      <td>1.000000</td>\n",
              "    </tr>\n",
              "  </tbody>\n",
              "</table>\n",
              "</div>"
            ],
            "text/plain": [
              "                   fare_amount  pickup_longitude  pickup_latitude  \\\n",
              "fare_amount           1.000000          0.013313        -0.009036   \n",
              "pickup_longitude      0.013313          1.000000        -0.995385   \n",
              "pickup_latitude      -0.009036         -0.995385         1.000000   \n",
              "dropoff_longitude     0.011820          0.999835        -0.995368   \n",
              "dropoff_latitude     -0.008824         -0.995347         0.999900   \n",
              "passenger_count       0.017185          0.005151        -0.004999   \n",
              "distance_traveled     0.897527          0.011154        -0.007779   \n",
              "\n",
              "                   dropoff_longitude  dropoff_latitude  passenger_count  \\\n",
              "fare_amount                 0.011820         -0.008824         0.017185   \n",
              "pickup_longitude            0.999835         -0.995347         0.005151   \n",
              "pickup_latitude            -0.995368          0.999900        -0.004999   \n",
              "dropoff_longitude           1.000000         -0.995326         0.005039   \n",
              "dropoff_latitude           -0.995326          1.000000        -0.005082   \n",
              "passenger_count             0.005039         -0.005082         1.000000   \n",
              "distance_traveled           0.010342         -0.006924         0.014643   \n",
              "\n",
              "                   distance_traveled  \n",
              "fare_amount                 0.897527  \n",
              "pickup_longitude            0.011154  \n",
              "pickup_latitude            -0.007779  \n",
              "dropoff_longitude           0.010342  \n",
              "dropoff_latitude           -0.006924  \n",
              "passenger_count             0.014643  \n",
              "distance_traveled           1.000000  "
            ]
          },
          "metadata": {
            "tags": []
          },
          "execution_count": 62
        }
      ]
    },
    {
      "metadata": {
        "colab_type": "code",
        "id": "SD7ydUmKLFaj",
        "colab": {}
      },
      "cell_type": "code",
      "source": [
        "# -------- separating dependent and independent variables\n",
        "\n",
        "y = taxidata.loc[:, \"fare_amount\"]\n",
        "X = taxidata.loc[:, [\"distance_traveled\", \"passenger_count\"]]"
      ],
      "execution_count": 0,
      "outputs": []
    },
    {
      "metadata": {
        "id": "zVxJMN7eLTlE",
        "colab_type": "code",
        "colab": {}
      },
      "cell_type": "code",
      "source": [
        "# -------- train test split\n",
        "\n",
        "X_train,X_test,y_train,y_test = train_test_split(X,y,test_size=0.3)"
      ],
      "execution_count": 0,
      "outputs": []
    },
    {
      "metadata": {
        "id": "x8G44w8kOEjK",
        "colab_type": "code",
        "colab": {}
      },
      "cell_type": "code",
      "source": [
        "# -------- fitting the model to the training data\n",
        "\n",
        "model = linear_model.LinearRegression(fit_intercept=False)\n",
        "model.fit(X_train, y_train)\n",
        "y_test_predict= model.predict(X_test)"
      ],
      "execution_count": 0,
      "outputs": []
    },
    {
      "metadata": {
        "id": "GB1XbomvUsTA",
        "colab_type": "code",
        "outputId": "c168a618-4a8d-4ed2-ddf7-bd93e56f64bd",
        "colab": {
          "base_uri": "https://localhost:8080/",
          "height": 310
        }
      },
      "cell_type": "code",
      "source": [
        "# -------- making predictions with a regression model, comparing the to the observations\n",
        "\n",
        "predictions_reg = y_test_predict\n",
        "observations = y_test\n",
        "plt.scatter(predictions_reg, observations, color=\"orange\", alpha=0.3)\n",
        "plt.title(\"Predicted values vs. observed values (regression)\")\n",
        "plt.xlabel(\"Predicted values\")\n",
        "plt.ylabel(\"Observed values\")\n",
        "\n",
        "# strong linear relationship!"
      ],
      "execution_count": 0,
      "outputs": [
        {
          "output_type": "execute_result",
          "data": {
            "text/plain": [
              "Text(0, 0.5, 'Observed values')"
            ]
          },
          "metadata": {
            "tags": []
          },
          "execution_count": 85
        },
        {
          "output_type": "display_data",
          "data": {
            "image/png": "[encoded data removed]",
            "text/plain": [
              "<Figure size 432x288 with 1 Axes>"
            ]
          },
          "metadata": {
            "tags": []
          }
        }
      ]
    },
    {
      "metadata": {
        "id": "QSwRb0tuWASS",
        "colab_type": "code",
        "outputId": "9804cbcc-07fd-47df-d5fb-c390acdf824c",
        "colab": {
          "base_uri": "https://localhost:8080/",
          "height": 34
        }
      },
      "cell_type": "code",
      "source": [
        "# -------- how strong is the relationship plotted above?\n",
        "\n",
        "np.corrcoef(predictions_reg, observations)[0][1] # correlation coefficient of 0.895"
      ],
      "execution_count": 0,
      "outputs": [
        {
          "output_type": "execute_result",
          "data": {
            "text/plain": [
              "0.8945868034463869"
            ]
          },
          "metadata": {
            "tags": []
          },
          "execution_count": 90
        }
      ]
    },
    {
      "metadata": {
        "id": "3JPupq4DOUyq",
        "colab_type": "code",
        "outputId": "a265e7a1-a55f-4c13-aee3-e61857c8c18a",
        "colab": {
          "base_uri": "https://localhost:8080/",
          "height": 34
        }
      },
      "cell_type": "code",
      "source": [
        "# -------- calculating the mean absolute error \n",
        "\n",
        "mean_absolute_error(y_test_predict, y_test) # 2.68"
      ],
      "execution_count": 0,
      "outputs": [
        {
          "output_type": "execute_result",
          "data": {
            "text/plain": [
              "2.681902635731734"
            ]
          },
          "metadata": {
            "tags": []
          },
          "execution_count": 82
        }
      ]
    },
    {
      "metadata": {
        "id": "5wV8M_hTs5CV",
        "colab_type": "code",
        "outputId": "1cc5c08c-3a05-4aad-c2d6-98a718765404",
        "colab": {
          "base_uri": "https://localhost:8080/",
          "height": 310
        }
      },
      "cell_type": "code",
      "source": [
        "# -------- training and plotting ridge regression model\n",
        "\n",
        "reg = linear_model.Ridge()\n",
        "reg.fit(X_train, y_train)\n",
        "y_test_predict_reg = reg.predict(X_test)\n",
        "predictions_ridge = y_test_predict_reg\n",
        "\n",
        "plt.scatter(predictions_reg, observations, color=\"green\", alpha=0.3)\n",
        "plt.title(\"Predicted values vs. observed values (ridge)\")\n",
        "plt.xlabel(\"Predicted values\")\n",
        "plt.ylabel(\"Observed values\")\n",
        "\n",
        "# strong linear relationship!\n"
      ],
      "execution_count": 0,
      "outputs": [
        {
          "output_type": "execute_result",
          "data": {
            "text/plain": [
              "Text(0, 0.5, 'Observed values')"
            ]
          },
          "metadata": {
            "tags": []
          },
          "execution_count": 89
        },
        {
          "output_type": "display_data",
          "data": {
            "image/png": "[encoded data removed]",
            "text/plain": [
              "<Figure size 432x288 with 1 Axes>"
            ]
          },
          "metadata": {
            "tags": []
          }
        }
      ]
    },
    {
      "metadata": {
        "id": "FCxqGsJVYXfe",
        "colab_type": "code",
        "outputId": "de3c7cab-6351-4398-f4aa-11121892756e",
        "colab": {
          "base_uri": "https://localhost:8080/",
          "height": 34
        }
      },
      "cell_type": "code",
      "source": [
        "# -------- how strong is the relationship plotted above?\n",
        "\n",
        "np.corrcoef(predictions_ridge, observations)[0][1] # correlation coefficient of 0.90"
      ],
      "execution_count": 0,
      "outputs": [
        {
          "output_type": "execute_result",
          "data": {
            "text/plain": [
              "0.9029475628388142"
            ]
          },
          "metadata": {
            "tags": []
          },
          "execution_count": 91
        }
      ]
    },
    {
      "metadata": {
        "id": "BnTSuFWLYAPq",
        "colab_type": "code",
        "outputId": "2ac9ac1c-de42-4abb-a888-9076ab94d71b",
        "colab": {
          "base_uri": "https://localhost:8080/",
          "height": 34
        }
      },
      "cell_type": "code",
      "source": [
        "# -------- calculating the mean absolute error \n",
        "\n",
        "mean_absolute_error(predictions_ridge, observations) # 2.22"
      ],
      "execution_count": 0,
      "outputs": [
        {
          "output_type": "execute_result",
          "data": {
            "text/plain": [
              "2.2286896754261214"
            ]
          },
          "metadata": {
            "tags": []
          },
          "execution_count": 92
        }
      ]
    },
    {
      "metadata": {
        "id": "UFJSQw0ORmDR",
        "colab_type": "code",
        "colab": {}
      },
      "cell_type": "code",
      "source": [
        "# -------- splitting training data into training and validation sets\n",
        "\n",
        "X_train_2, X_validation, y_train_2, y_validation = train_test_split(X_train,y_train,test_size=0.1)"
      ],
      "execution_count": 0,
      "outputs": []
    },
    {
      "metadata": {
        "id": "zK9t-XtGvfTR",
        "colab_type": "code",
        "colab": {}
      },
      "cell_type": "code",
      "source": [
        "# -------- testing various lambda values \n",
        "\n",
        "for i in range(0, 11):\n",
        "  skridge = linear_model.Ridge(alpha=0+i/10)\n",
        "  skridge.fit(X_train_2, y_train_2)\n",
        "  y_valid_predict_ridge= skridge.predict(X_validation)\n",
        "  mae_ridge = mean_absolute_error(y_valid_predict_ridge, y_validation)\n",
        "  print(\"Ridge with Lambda value of \" + str(0+i/10) + \" gives a MAE of \" + str(mae_ridge))"
      ],
      "execution_count": 0,
      "outputs": []
    },
    {
      "metadata": {
        "id": "biTv3GdwavEL",
        "colab_type": "code",
        "colab": {}
      },
      "cell_type": "code",
      "source": [
        "# -------- the value of lambda doesn't matter, because i have only one large coefficient"
      ],
      "execution_count": 0,
      "outputs": []
    },
    {
      "metadata": {
        "id": "SwP5su3ZZio8",
        "colab_type": "code",
        "colab": {}
      },
      "cell_type": "code",
      "source": [
        "# -------- using the selected lambda value on the test set, exporting it \n",
        "\n",
        "y_test_predict_ridge = skridge.predict(X_test)\n",
        "predictions_ridge_test = y_test_predict_ridge\n",
        "\n",
        "predictions_csv = pd.DataFrame(predictions_ridge_test, X_test.index).to_csv(\"test_predictions.csv\", index=[X_test.index])"
      ],
      "execution_count": 0,
      "outputs": []
    },
    {
      "metadata": {
        "id": "xaLoFAbBaAuM",
        "colab_type": "code",
        "outputId": "42e7a2e4-971f-4a82-fe0e-c472bad988c0",
        "colab": {
          "base_uri": "https://localhost:8080/",
          "height": 310
        }
      },
      "cell_type": "code",
      "source": [
        "plt.scatter(predictions_ridge_test, observations, color=\"purple\", alpha=0.3)\n",
        "plt.title(\"Predicted values vs. observed values (ridge, lambda of 1)\")\n",
        "plt.xlabel(\"Predicted values\")\n",
        "plt.ylabel(\"Observed values\")"
      ],
      "execution_count": 0,
      "outputs": [
        {
          "output_type": "execute_result",
          "data": {
            "text/plain": [
              "Text(0, 0.5, 'Observed values')"
            ]
          },
          "metadata": {
            "tags": []
          },
          "execution_count": 105
        },
        {
          "output_type": "display_data",
          "data": {
            "image/png": "[encoded data removed]",
            "text/plain": [
              "<Figure size 432x288 with 1 Axes>"
            ]
          },
          "metadata": {
            "tags": []
          }
        }
      ]
    },
    {
      "metadata": {
        "id": "7YRck55tbSc9",
        "colab_type": "code",
        "outputId": "7b559a2f-4ba7-4bb4-ce7a-2e2eeb1d0a1b",
        "colab": {
          "base_uri": "https://localhost:8080/",
          "height": 34
        }
      },
      "cell_type": "code",
      "source": [
        "# -------- mae of the ridge regression model with lambda of 1\n",
        "\n",
        "mean_absolute_error(y_test_predict_ridge, y_test) # 2.22"
      ],
      "execution_count": 0,
      "outputs": [
        {
          "output_type": "execute_result",
          "data": {
            "text/plain": [
              "2.2281452305225007"
            ]
          },
          "metadata": {
            "tags": []
          },
          "execution_count": 109
        }
      ]
    }
  ]
}