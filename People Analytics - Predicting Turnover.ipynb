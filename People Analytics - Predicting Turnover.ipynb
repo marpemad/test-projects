{
 "cells": [
  {
   "cell_type": "markdown",
   "metadata": {},
   "source": [
    "# People Analytics: Predicting Employee Turnover"
   ]
  },
  {
   "cell_type": "markdown",
   "metadata": {},
   "source": [
    "#### Importing libraries"
   ]
  },
  {
   "cell_type": "code",
   "execution_count": 2,
   "metadata": {},
   "outputs": [],
   "source": [
    "import pandas as pd\n",
    "import seaborn as sns\n",
    "import matplotlib.pyplot as plt\n",
    "import numpy as np\n",
    "from time import time\n",
    "from sklearn.linear_model import LogisticRegression\n",
    "from sklearn.model_selection import train_test_split, \\\n",
    "    GridSearchCV, RandomizedSearchCV\n",
    "from sklearn.metrics import f1_score, recall_score, precision_score, \\\n",
    "    accuracy_score, confusion_matrix\n",
    "from sklearn.svm import SVC, LinearSVC\n",
    "from sklearn.tree import DecisionTreeClassifier, export_graphviz\n",
    "from sklearn.naive_bayes import GaussianNB\n",
    "from sklearn.neural_network import MLPClassifier\n",
    "from sklearn.ensemble import RandomForestClassifier, VotingClassifier\n",
    "from sklearn.preprocessing import MinMaxScaler\n",
    "from tensorflow.keras.callbacks import EarlyStopping\n",
    "from tensorflow.keras.models import Sequential, Model\n",
    "from tensorflow.keras.layers import Dense, Dropout\n",
    "from keras.utils import to_categorical\n",
    "import os\n",
    "os.chdir(r'C:\\Users\\Nicolas\\Documents\\Scraping\\hr_analytics')"
   ]
  },
  {
   "cell_type": "markdown",
   "metadata": {},
   "source": [
    "### Importing and exploring the data"
   ]
  },
  {
   "cell_type": "code",
   "execution_count": 3,
   "metadata": {},
   "outputs": [],
   "source": [
    "df = pd.read_csv('HR_comma_sep.csv')"
   ]
  },
  {
   "cell_type": "code",
   "execution_count": 4,
   "metadata": {
    "scrolled": true
   },
   "outputs": [
    {
     "data": {
      "text/html": [
       "<div>\n",
       "<style scoped>\n",
       "    .dataframe tbody tr th:only-of-type {\n",
       "        vertical-align: middle;\n",
       "    }\n",
       "\n",
       "    .dataframe tbody tr th {\n",
       "        vertical-align: top;\n",
       "    }\n",
       "\n",
       "    .dataframe thead th {\n",
       "        text-align: right;\n",
       "    }\n",
       "</style>\n",
       "<table border=\"1\" class=\"dataframe\">\n",
       "  <thead>\n",
       "    <tr style=\"text-align: right;\">\n",
       "      <th></th>\n",
       "      <th>satisfaction_level</th>\n",
       "      <th>last_evaluation</th>\n",
       "      <th>number_project</th>\n",
       "      <th>average_montly_hours</th>\n",
       "      <th>time_spend_company</th>\n",
       "      <th>Work_accident</th>\n",
       "      <th>left</th>\n",
       "      <th>promotion_last_5years</th>\n",
       "      <th>sales</th>\n",
       "      <th>salary</th>\n",
       "    </tr>\n",
       "  </thead>\n",
       "  <tbody>\n",
       "    <tr>\n",
       "      <th>0</th>\n",
       "      <td>0.38</td>\n",
       "      <td>0.53</td>\n",
       "      <td>2</td>\n",
       "      <td>157</td>\n",
       "      <td>3</td>\n",
       "      <td>0</td>\n",
       "      <td>1</td>\n",
       "      <td>0</td>\n",
       "      <td>sales</td>\n",
       "      <td>low</td>\n",
       "    </tr>\n",
       "    <tr>\n",
       "      <th>1</th>\n",
       "      <td>0.80</td>\n",
       "      <td>0.86</td>\n",
       "      <td>5</td>\n",
       "      <td>262</td>\n",
       "      <td>6</td>\n",
       "      <td>0</td>\n",
       "      <td>1</td>\n",
       "      <td>0</td>\n",
       "      <td>sales</td>\n",
       "      <td>medium</td>\n",
       "    </tr>\n",
       "    <tr>\n",
       "      <th>2</th>\n",
       "      <td>0.11</td>\n",
       "      <td>0.88</td>\n",
       "      <td>7</td>\n",
       "      <td>272</td>\n",
       "      <td>4</td>\n",
       "      <td>0</td>\n",
       "      <td>1</td>\n",
       "      <td>0</td>\n",
       "      <td>sales</td>\n",
       "      <td>medium</td>\n",
       "    </tr>\n",
       "    <tr>\n",
       "      <th>3</th>\n",
       "      <td>0.72</td>\n",
       "      <td>0.87</td>\n",
       "      <td>5</td>\n",
       "      <td>223</td>\n",
       "      <td>5</td>\n",
       "      <td>0</td>\n",
       "      <td>1</td>\n",
       "      <td>0</td>\n",
       "      <td>sales</td>\n",
       "      <td>low</td>\n",
       "    </tr>\n",
       "    <tr>\n",
       "      <th>4</th>\n",
       "      <td>0.37</td>\n",
       "      <td>0.52</td>\n",
       "      <td>2</td>\n",
       "      <td>159</td>\n",
       "      <td>3</td>\n",
       "      <td>0</td>\n",
       "      <td>1</td>\n",
       "      <td>0</td>\n",
       "      <td>sales</td>\n",
       "      <td>low</td>\n",
       "    </tr>\n",
       "  </tbody>\n",
       "</table>\n",
       "</div>"
      ],
      "text/plain": [
       "   satisfaction_level  last_evaluation  number_project  average_montly_hours  \\\n",
       "0                0.38             0.53               2                   157   \n",
       "1                0.80             0.86               5                   262   \n",
       "2                0.11             0.88               7                   272   \n",
       "3                0.72             0.87               5                   223   \n",
       "4                0.37             0.52               2                   159   \n",
       "\n",
       "   time_spend_company  Work_accident  left  promotion_last_5years  sales  \\\n",
       "0                   3              0     1                      0  sales   \n",
       "1                   6              0     1                      0  sales   \n",
       "2                   4              0     1                      0  sales   \n",
       "3                   5              0     1                      0  sales   \n",
       "4                   3              0     1                      0  sales   \n",
       "\n",
       "   salary  \n",
       "0     low  \n",
       "1  medium  \n",
       "2  medium  \n",
       "3     low  \n",
       "4     low  "
      ]
     },
     "execution_count": 4,
     "metadata": {},
     "output_type": "execute_result"
    }
   ],
   "source": [
    "df.head()"
   ]
  },
  {
   "cell_type": "markdown",
   "metadata": {},
   "source": [
    "Missing data"
   ]
  },
  {
   "cell_type": "code",
   "execution_count": 5,
   "metadata": {},
   "outputs": [
    {
     "data": {
      "text/plain": [
       "0"
      ]
     },
     "execution_count": 5,
     "metadata": {},
     "output_type": "execute_result"
    }
   ],
   "source": [
    "df.isnull().sum().sum()"
   ]
  },
  {
   "cell_type": "markdown",
   "metadata": {},
   "source": [
    "Columns"
   ]
  },
  {
   "cell_type": "code",
   "execution_count": 6,
   "metadata": {},
   "outputs": [
    {
     "data": {
      "text/plain": [
       "Index(['satisfaction_level', 'last_evaluation', 'number_project',\n",
       "       'average_montly_hours', 'time_spend_company', 'Work_accident', 'left',\n",
       "       'promotion_last_5years', 'sales', 'salary'],\n",
       "      dtype='object')"
      ]
     },
     "execution_count": 6,
     "metadata": {},
     "output_type": "execute_result"
    }
   ],
   "source": [
    "df.columns"
   ]
  },
  {
   "cell_type": "markdown",
   "metadata": {},
   "source": [
    "Shape"
   ]
  },
  {
   "cell_type": "code",
   "execution_count": 7,
   "metadata": {},
   "outputs": [
    {
     "data": {
      "text/plain": [
       "(14999, 10)"
      ]
     },
     "execution_count": 7,
     "metadata": {},
     "output_type": "execute_result"
    }
   ],
   "source": [
    "df.shape"
   ]
  },
  {
   "cell_type": "markdown",
   "metadata": {},
   "source": [
    "'Sales' column"
   ]
  },
  {
   "cell_type": "code",
   "execution_count": 8,
   "metadata": {},
   "outputs": [
    {
     "data": {
      "text/plain": [
       "sales          4140\n",
       "technical      2720\n",
       "support        2229\n",
       "IT             1227\n",
       "product_mng     902\n",
       "marketing       858\n",
       "RandD           787\n",
       "accounting      767\n",
       "hr              739\n",
       "management      630\n",
       "Name: sales, dtype: int64"
      ]
     },
     "execution_count": 8,
     "metadata": {},
     "output_type": "execute_result"
    }
   ],
   "source": [
    "df['sales'].value_counts()"
   ]
  },
  {
   "cell_type": "markdown",
   "metadata": {},
   "source": [
    "Overview"
   ]
  },
  {
   "cell_type": "code",
   "execution_count": 9,
   "metadata": {},
   "outputs": [],
   "source": [
    "df.columns = df.columns.str.lower()"
   ]
  },
  {
   "cell_type": "code",
   "execution_count": 10,
   "metadata": {},
   "outputs": [
    {
     "data": {
      "text/html": [
       "<div>\n",
       "<style scoped>\n",
       "    .dataframe tbody tr th:only-of-type {\n",
       "        vertical-align: middle;\n",
       "    }\n",
       "\n",
       "    .dataframe tbody tr th {\n",
       "        vertical-align: top;\n",
       "    }\n",
       "\n",
       "    .dataframe thead th {\n",
       "        text-align: right;\n",
       "    }\n",
       "</style>\n",
       "<table border=\"1\" class=\"dataframe\">\n",
       "  <thead>\n",
       "    <tr style=\"text-align: right;\">\n",
       "      <th></th>\n",
       "      <th>satisfaction_level</th>\n",
       "      <th>last_evaluation</th>\n",
       "      <th>number_project</th>\n",
       "      <th>average_montly_hours</th>\n",
       "      <th>time_spend_company</th>\n",
       "      <th>work_accident</th>\n",
       "      <th>left</th>\n",
       "      <th>promotion_last_5years</th>\n",
       "    </tr>\n",
       "  </thead>\n",
       "  <tbody>\n",
       "    <tr>\n",
       "      <th>count</th>\n",
       "      <td>14999.000000</td>\n",
       "      <td>14999.000000</td>\n",
       "      <td>14999.000000</td>\n",
       "      <td>14999.000000</td>\n",
       "      <td>14999.000000</td>\n",
       "      <td>14999.000000</td>\n",
       "      <td>14999.000000</td>\n",
       "      <td>14999.000000</td>\n",
       "    </tr>\n",
       "    <tr>\n",
       "      <th>mean</th>\n",
       "      <td>0.612834</td>\n",
       "      <td>0.716102</td>\n",
       "      <td>3.803054</td>\n",
       "      <td>201.050337</td>\n",
       "      <td>3.498233</td>\n",
       "      <td>0.144610</td>\n",
       "      <td>0.238083</td>\n",
       "      <td>0.021268</td>\n",
       "    </tr>\n",
       "    <tr>\n",
       "      <th>std</th>\n",
       "      <td>0.248631</td>\n",
       "      <td>0.171169</td>\n",
       "      <td>1.232592</td>\n",
       "      <td>49.943099</td>\n",
       "      <td>1.460136</td>\n",
       "      <td>0.351719</td>\n",
       "      <td>0.425924</td>\n",
       "      <td>0.144281</td>\n",
       "    </tr>\n",
       "    <tr>\n",
       "      <th>min</th>\n",
       "      <td>0.090000</td>\n",
       "      <td>0.360000</td>\n",
       "      <td>2.000000</td>\n",
       "      <td>96.000000</td>\n",
       "      <td>2.000000</td>\n",
       "      <td>0.000000</td>\n",
       "      <td>0.000000</td>\n",
       "      <td>0.000000</td>\n",
       "    </tr>\n",
       "    <tr>\n",
       "      <th>25%</th>\n",
       "      <td>0.440000</td>\n",
       "      <td>0.560000</td>\n",
       "      <td>3.000000</td>\n",
       "      <td>156.000000</td>\n",
       "      <td>3.000000</td>\n",
       "      <td>0.000000</td>\n",
       "      <td>0.000000</td>\n",
       "      <td>0.000000</td>\n",
       "    </tr>\n",
       "    <tr>\n",
       "      <th>50%</th>\n",
       "      <td>0.640000</td>\n",
       "      <td>0.720000</td>\n",
       "      <td>4.000000</td>\n",
       "      <td>200.000000</td>\n",
       "      <td>3.000000</td>\n",
       "      <td>0.000000</td>\n",
       "      <td>0.000000</td>\n",
       "      <td>0.000000</td>\n",
       "    </tr>\n",
       "    <tr>\n",
       "      <th>75%</th>\n",
       "      <td>0.820000</td>\n",
       "      <td>0.870000</td>\n",
       "      <td>5.000000</td>\n",
       "      <td>245.000000</td>\n",
       "      <td>4.000000</td>\n",
       "      <td>0.000000</td>\n",
       "      <td>0.000000</td>\n",
       "      <td>0.000000</td>\n",
       "    </tr>\n",
       "    <tr>\n",
       "      <th>max</th>\n",
       "      <td>1.000000</td>\n",
       "      <td>1.000000</td>\n",
       "      <td>7.000000</td>\n",
       "      <td>310.000000</td>\n",
       "      <td>10.000000</td>\n",
       "      <td>1.000000</td>\n",
       "      <td>1.000000</td>\n",
       "      <td>1.000000</td>\n",
       "    </tr>\n",
       "  </tbody>\n",
       "</table>\n",
       "</div>"
      ],
      "text/plain": [
       "       satisfaction_level  last_evaluation  number_project  \\\n",
       "count        14999.000000     14999.000000    14999.000000   \n",
       "mean             0.612834         0.716102        3.803054   \n",
       "std              0.248631         0.171169        1.232592   \n",
       "min              0.090000         0.360000        2.000000   \n",
       "25%              0.440000         0.560000        3.000000   \n",
       "50%              0.640000         0.720000        4.000000   \n",
       "75%              0.820000         0.870000        5.000000   \n",
       "max              1.000000         1.000000        7.000000   \n",
       "\n",
       "       average_montly_hours  time_spend_company  work_accident          left  \\\n",
       "count          14999.000000        14999.000000   14999.000000  14999.000000   \n",
       "mean             201.050337            3.498233       0.144610      0.238083   \n",
       "std               49.943099            1.460136       0.351719      0.425924   \n",
       "min               96.000000            2.000000       0.000000      0.000000   \n",
       "25%              156.000000            3.000000       0.000000      0.000000   \n",
       "50%              200.000000            3.000000       0.000000      0.000000   \n",
       "75%              245.000000            4.000000       0.000000      0.000000   \n",
       "max              310.000000           10.000000       1.000000      1.000000   \n",
       "\n",
       "       promotion_last_5years  \n",
       "count           14999.000000  \n",
       "mean                0.021268  \n",
       "std                 0.144281  \n",
       "min                 0.000000  \n",
       "25%                 0.000000  \n",
       "50%                 0.000000  \n",
       "75%                 0.000000  \n",
       "max                 1.000000  "
      ]
     },
     "execution_count": 10,
     "metadata": {},
     "output_type": "execute_result"
    }
   ],
   "source": [
    "df.describe()"
   ]
  },
  {
   "cell_type": "markdown",
   "metadata": {},
   "source": [
    "### Preprocessing"
   ]
  },
  {
   "cell_type": "markdown",
   "metadata": {},
   "source": [
    "Making the sales column lowercase"
   ]
  },
  {
   "cell_type": "code",
   "execution_count": 11,
   "metadata": {},
   "outputs": [],
   "source": [
    "df['sales'] = df['sales'].str.lower()"
   ]
  },
  {
   "cell_type": "markdown",
   "metadata": {},
   "source": [
    "We will make dummy variables after making a preliminary exploration of the data"
   ]
  },
  {
   "cell_type": "markdown",
   "metadata": {},
   "source": [
    "#### Functions for visuals"
   ]
  },
  {
   "cell_type": "code",
   "execution_count": 12,
   "metadata": {},
   "outputs": [],
   "source": [
    "theme = '#6457A6'\n",
    "\n",
    "def set_theme():\n",
    "    return ax.set_facecolor(theme), \\\n",
    "    ax.grid(True, alpha=2e-1, color='white'), \\\n",
    "    ax.set_axisbelow(True)"
   ]
  },
  {
   "cell_type": "markdown",
   "metadata": {},
   "source": [
    "### Preliminary analysis"
   ]
  },
  {
   "cell_type": "markdown",
   "metadata": {},
   "source": [
    "#### Correlation matrix"
   ]
  },
  {
   "cell_type": "code",
   "execution_count": 13,
   "metadata": {},
   "outputs": [
    {
     "data": {
      "image/png": "[encoded data removed]",
      "text/plain": [
       "<Figure size 576x360 with 1 Axes>"
      ]
     },
     "metadata": {
      "needs_background": "light"
     },
     "output_type": "display_data"
    }
   ],
   "source": [
    "fig, ax = plt.subplots(figsize=(8, 5))\n",
    "g=sns.heatmap(df.corr(), annot=True, cbar=False, center=0, \n",
    "              cmap='Purples', vmin=-.3, vmax=0.3, linewidths=.1)\n",
    "xticks = plt.xticks(rotation=30)"
   ]
  },
  {
   "cell_type": "markdown",
   "metadata": {},
   "source": [
    "#### Satisfaction Level"
   ]
  },
  {
   "cell_type": "code",
   "execution_count": 14,
   "metadata": {
    "scrolled": true
   },
   "outputs": [
    {
     "data": {
      "image/png": "[encoded data removed]",
      "text/plain": [
       "<Figure size 576x360 with 1 Axes>"
      ]
     },
     "metadata": {
      "needs_background": "light"
     },
     "output_type": "display_data"
    }
   ],
   "source": [
    "fig, ax = plt.subplots(figsize=(8, 5))\n",
    "ax.hist(df['satisfaction_level'],\n",
    "            bins=50, color='#E3C567')\n",
    "plt.title('Distribution Plot of Satisfaction Level')\n",
    "plt.xlabel('Satisfaction Level')\n",
    "plt.xticks(np.arange(0, 1, 0.1))\n",
    "set_theme()\n",
    "plt.show()"
   ]
  },
  {
   "cell_type": "markdown",
   "metadata": {},
   "source": [
    "We can see that the plurality (but not majority) of employees are greatly dissatisfied. Other than these, most employees seem rather satisfied. "
   ]
  },
  {
   "cell_type": "markdown",
   "metadata": {},
   "source": [
    "#### Last evaluation"
   ]
  },
  {
   "cell_type": "code",
   "execution_count": 15,
   "metadata": {},
   "outputs": [
    {
     "data": {
      "image/png": "[encoded data removed]",
      "text/plain": [
       "<Figure size 576x360 with 1 Axes>"
      ]
     },
     "metadata": {
      "needs_background": "light"
     },
     "output_type": "display_data"
    }
   ],
   "source": [
    "fig, ax = plt.subplots(figsize=(8, 5))\n",
    "ax.hist(df['last_evaluation'],\n",
    "            bins=30, color='#E3C567')\n",
    "plt.title('Distribution Plot of the Last Evaluation')\n",
    "plt.xlabel('Last Evaluation')\n",
    "plt.xticks(np.arange(0, 1, 0.1))\n",
    "plt.xlim(3e-1, 1.05)\n",
    "set_theme()\n",
    "plt.show()"
   ]
  },
  {
   "cell_type": "markdown",
   "metadata": {},
   "source": [
    "From that, we can see that most people are rated above 0.5, and that there is a strong tendency towards the middle."
   ]
  },
  {
   "cell_type": "markdown",
   "metadata": {},
   "source": [
    "#### Number of Projects"
   ]
  },
  {
   "cell_type": "code",
   "execution_count": 16,
   "metadata": {},
   "outputs": [
    {
     "data": {
      "text/plain": [
       "satisfaction_level      -0.142970\n",
       "last_evaluation          0.349333\n",
       "number_project           1.000000\n",
       "average_montly_hours     0.417211\n",
       "time_spend_company       0.196786\n",
       "work_accident           -0.004741\n",
       "left                     0.023787\n",
       "promotion_last_5years   -0.006064\n",
       "Name: number_project, dtype: float64"
      ]
     },
     "execution_count": 16,
     "metadata": {},
     "output_type": "execute_result"
    }
   ],
   "source": [
    "df.corr()['number_project']"
   ]
  },
  {
   "cell_type": "markdown",
   "metadata": {},
   "source": [
    "It's interesting to see that the more projects you commit to, the better your evaluation"
   ]
  },
  {
   "cell_type": "markdown",
   "metadata": {},
   "source": [
    "The number of bins for the histogram will be the number of unique values:"
   ]
  },
  {
   "cell_type": "code",
   "execution_count": 17,
   "metadata": {},
   "outputs": [],
   "source": [
    "bin_nb = df['number_project'].value_counts().shape[0]"
   ]
  },
  {
   "cell_type": "code",
   "execution_count": 18,
   "metadata": {},
   "outputs": [
    {
     "data": {
      "image/png": "[encoded data removed]",
      "text/plain": [
       "<Figure size 576x360 with 1 Axes>"
      ]
     },
     "metadata": {
      "needs_background": "light"
     },
     "output_type": "display_data"
    }
   ],
   "source": [
    "fig, ax = plt.subplots(figsize=(8, 5))\n",
    "ax.hist(df['number_project'],\n",
    "            bins=bin_nb, color='#E3C567', rwidth=0.5)\n",
    "plt.title('Histogram of Number of Projects')\n",
    "plt.xlabel('Number of Projects')\n",
    "set_theme()\n",
    "plt.show()"
   ]
  },
  {
   "cell_type": "markdown",
   "metadata": {},
   "source": [
    "Interestingly, no one is doing only 1 project at the moment. Most are doing 3 to 4."
   ]
  },
  {
   "cell_type": "markdown",
   "metadata": {},
   "source": [
    "#### Average monthly hours"
   ]
  },
  {
   "cell_type": "code",
   "execution_count": 19,
   "metadata": {},
   "outputs": [
    {
     "data": {
      "image/png": "[encoded data removed]",
      "text/plain": [
       "<Figure size 576x360 with 1 Axes>"
      ]
     },
     "metadata": {
      "needs_background": "light"
     },
     "output_type": "display_data"
    }
   ],
   "source": [
    "fig, ax = plt.subplots(figsize=(8, 5))\n",
    "ax.hist(df['average_montly_hours'],\n",
    "            bins=50, color='#E3C567')\n",
    "plt.title('Distribution Plot of Average Monthly Hours')\n",
    "plt.xlabel('Monthly Hours')\n",
    "set_theme()\n",
    "plt.show()"
   ]
  },
  {
   "cell_type": "markdown",
   "metadata": {},
   "source": [
    "A large majority is working overtime (>160 hours)."
   ]
  },
  {
   "cell_type": "markdown",
   "metadata": {},
   "source": [
    "#### Time Spent in Company"
   ]
  },
  {
   "cell_type": "code",
   "execution_count": 20,
   "metadata": {},
   "outputs": [
    {
     "data": {
      "image/png": "[encoded data removed]",
      "text/plain": [
       "<Figure size 576x360 with 1 Axes>"
      ]
     },
     "metadata": {
      "needs_background": "light"
     },
     "output_type": "display_data"
    }
   ],
   "source": [
    "fig, ax = plt.subplots(figsize=(8, 5))\n",
    "df['time_spend_company'].value_counts().plot(kind='bar', color='#E3C567')\n",
    "plt.title('Histogram of Time Spent at Company')\n",
    "plt.xlabel('Time')\n",
    "plt.xticks(rotation=0)\n",
    "set_theme()\n",
    "plt.show()"
   ]
  },
  {
   "cell_type": "markdown",
   "metadata": {},
   "source": [
    "Most people spent between 2 and 4 years at their company"
   ]
  },
  {
   "cell_type": "markdown",
   "metadata": {},
   "source": [
    "#### Work accident"
   ]
  },
  {
   "cell_type": "code",
   "execution_count": 21,
   "metadata": {},
   "outputs": [
    {
     "data": {
      "image/png": "[encoded data removed]",
      "text/plain": [
       "<Figure size 576x360 with 1 Axes>"
      ]
     },
     "metadata": {
      "needs_background": "light"
     },
     "output_type": "display_data"
    }
   ],
   "source": [
    "fig, ax = plt.subplots(figsize=(8, 5))\n",
    "df['work_accident'].value_counts().plot(kind='bar', color='#E3C567')\n",
    "plt.title('Histogram of Work Accident')\n",
    "plt.xlabel('Accident (0=no, 1=yes)')\n",
    "plt.xticks([0, 1], rotation=0)\n",
    "set_theme()\n",
    "plt.show()"
   ]
  },
  {
   "cell_type": "markdown",
   "metadata": {},
   "source": [
    "That's a substantial number of people"
   ]
  },
  {
   "cell_type": "markdown",
   "metadata": {},
   "source": [
    "#### Left"
   ]
  },
  {
   "cell_type": "code",
   "execution_count": 22,
   "metadata": {},
   "outputs": [
    {
     "data": {
      "image/png": "[encoded data removed]",
      "text/plain": [
       "<Figure size 576x360 with 1 Axes>"
      ]
     },
     "metadata": {
      "needs_background": "light"
     },
     "output_type": "display_data"
    }
   ],
   "source": [
    "fig, ax = plt.subplots(figsize=(8, 5))\n",
    "df['left'].value_counts().plot(kind='bar', color='#E3C567')\n",
    "plt.title('Histogram of Departure')\n",
    "plt.xlabel('Left (0=no, 1=yes)')\n",
    "plt.xticks([0, 1], rotation=0)\n",
    "set_theme()\n",
    "plt.show()"
   ]
  },
  {
   "cell_type": "markdown",
   "metadata": {},
   "source": [
    "So about one third of our sample left at the time data was collected"
   ]
  },
  {
   "cell_type": "markdown",
   "metadata": {},
   "source": [
    "#### Promotion in the last 5 years"
   ]
  },
  {
   "cell_type": "code",
   "execution_count": 23,
   "metadata": {},
   "outputs": [
    {
     "data": {
      "image/png": "[encoded data removed]",
      "text/plain": [
       "<Figure size 576x360 with 1 Axes>"
      ]
     },
     "metadata": {
      "needs_background": "light"
     },
     "output_type": "display_data"
    }
   ],
   "source": [
    "fig, ax = plt.subplots(figsize=(8, 5))\n",
    "df['promotion_last_5years'].value_counts().plot(kind='bar', color='#E3C567')\n",
    "plt.title('Histogram of Promotion in the Last 5 Years')\n",
    "plt.xlabel('Promotion (0=no, 1=yes)')\n",
    "plt.xticks([0, 1], rotation=0)\n",
    "set_theme()\n",
    "plt.show()"
   ]
  },
  {
   "cell_type": "markdown",
   "metadata": {},
   "source": [
    "Not many people were promoted recently"
   ]
  },
  {
   "cell_type": "markdown",
   "metadata": {},
   "source": [
    "#### Sales"
   ]
  },
  {
   "cell_type": "code",
   "execution_count": 24,
   "metadata": {},
   "outputs": [
    {
     "data": {
      "text/plain": [
       "sales          4140\n",
       "technical      2720\n",
       "support        2229\n",
       "it             1227\n",
       "product_mng     902\n",
       "marketing       858\n",
       "randd           787\n",
       "accounting      767\n",
       "hr              739\n",
       "management      630\n",
       "Name: sales, dtype: int64"
      ]
     },
     "execution_count": 24,
     "metadata": {},
     "output_type": "execute_result"
    }
   ],
   "source": [
    "df['sales'].value_counts()"
   ]
  },
  {
   "cell_type": "code",
   "execution_count": 25,
   "metadata": {},
   "outputs": [
    {
     "data": {
      "image/png": "[encoded data removed]",
      "text/plain": [
       "<Figure size 576x360 with 1 Axes>"
      ]
     },
     "metadata": {
      "needs_background": "light"
     },
     "output_type": "display_data"
    }
   ],
   "source": [
    "fig, ax = plt.subplots(figsize=(8, 5))\n",
    "df['sales'].value_counts().plot(kind='bar', color='#E3C567')\n",
    "plt.title('Histogram of Departments')\n",
    "plt.xlabel('Department')\n",
    "plt.xticks(rotation=30)\n",
    "set_theme()\n",
    "plt.show()"
   ]
  },
  {
   "cell_type": "markdown",
   "metadata": {},
   "source": [
    "'randd' is research and development"
   ]
  },
  {
   "cell_type": "markdown",
   "metadata": {},
   "source": [
    "#### Salary"
   ]
  },
  {
   "cell_type": "code",
   "execution_count": 26,
   "metadata": {},
   "outputs": [
    {
     "data": {
      "image/png": "[encoded data removed]",
      "text/plain": [
       "<Figure size 576x360 with 1 Axes>"
      ]
     },
     "metadata": {
      "needs_background": "light"
     },
     "output_type": "display_data"
    }
   ],
   "source": [
    "fig, ax = plt.subplots(figsize=(8, 5))\n",
    "df['salary'].value_counts().plot(kind='bar', color='#E3C567')\n",
    "plt.title('Histogram of Salary')\n",
    "plt.xlabel('Salary')\n",
    "set_theme()\n",
    "plt.show()"
   ]
  },
  {
   "cell_type": "markdown",
   "metadata": {},
   "source": [
    "Sad!"
   ]
  },
  {
   "cell_type": "markdown",
   "metadata": {},
   "source": [
    "### Preparation for Analysis"
   ]
  },
  {
   "cell_type": "markdown",
   "metadata": {},
   "source": [
    "#### One-hot encoding the categorical variables"
   ]
  },
  {
   "cell_type": "markdown",
   "metadata": {},
   "source": [
    "Department"
   ]
  },
  {
   "cell_type": "code",
   "execution_count": 27,
   "metadata": {},
   "outputs": [],
   "source": [
    "dummies_department = pd.get_dummies(df['sales'], prefix='dept')"
   ]
  },
  {
   "cell_type": "code",
   "execution_count": 28,
   "metadata": {},
   "outputs": [],
   "source": [
    "df = pd.concat([df, dummies_department], axis=1, sort=False)"
   ]
  },
  {
   "cell_type": "code",
   "execution_count": 29,
   "metadata": {},
   "outputs": [
    {
     "data": {
      "text/html": [
       "<div>\n",
       "<style scoped>\n",
       "    .dataframe tbody tr th:only-of-type {\n",
       "        vertical-align: middle;\n",
       "    }\n",
       "\n",
       "    .dataframe tbody tr th {\n",
       "        vertical-align: top;\n",
       "    }\n",
       "\n",
       "    .dataframe thead th {\n",
       "        text-align: right;\n",
       "    }\n",
       "</style>\n",
       "<table border=\"1\" class=\"dataframe\">\n",
       "  <thead>\n",
       "    <tr style=\"text-align: right;\">\n",
       "      <th></th>\n",
       "      <th>satisfaction_level</th>\n",
       "      <th>last_evaluation</th>\n",
       "      <th>number_project</th>\n",
       "      <th>average_montly_hours</th>\n",
       "      <th>time_spend_company</th>\n",
       "      <th>work_accident</th>\n",
       "      <th>left</th>\n",
       "      <th>promotion_last_5years</th>\n",
       "      <th>sales</th>\n",
       "      <th>salary</th>\n",
       "      <th>dept_accounting</th>\n",
       "      <th>dept_hr</th>\n",
       "      <th>dept_it</th>\n",
       "      <th>dept_management</th>\n",
       "      <th>dept_marketing</th>\n",
       "      <th>dept_product_mng</th>\n",
       "      <th>dept_randd</th>\n",
       "      <th>dept_sales</th>\n",
       "      <th>dept_support</th>\n",
       "      <th>dept_technical</th>\n",
       "    </tr>\n",
       "  </thead>\n",
       "  <tbody>\n",
       "    <tr>\n",
       "      <th>0</th>\n",
       "      <td>0.38</td>\n",
       "      <td>0.53</td>\n",
       "      <td>2</td>\n",
       "      <td>157</td>\n",
       "      <td>3</td>\n",
       "      <td>0</td>\n",
       "      <td>1</td>\n",
       "      <td>0</td>\n",
       "      <td>sales</td>\n",
       "      <td>low</td>\n",
       "      <td>0</td>\n",
       "      <td>0</td>\n",
       "      <td>0</td>\n",
       "      <td>0</td>\n",
       "      <td>0</td>\n",
       "      <td>0</td>\n",
       "      <td>0</td>\n",
       "      <td>1</td>\n",
       "      <td>0</td>\n",
       "      <td>0</td>\n",
       "    </tr>\n",
       "    <tr>\n",
       "      <th>1</th>\n",
       "      <td>0.80</td>\n",
       "      <td>0.86</td>\n",
       "      <td>5</td>\n",
       "      <td>262</td>\n",
       "      <td>6</td>\n",
       "      <td>0</td>\n",
       "      <td>1</td>\n",
       "      <td>0</td>\n",
       "      <td>sales</td>\n",
       "      <td>medium</td>\n",
       "      <td>0</td>\n",
       "      <td>0</td>\n",
       "      <td>0</td>\n",
       "      <td>0</td>\n",
       "      <td>0</td>\n",
       "      <td>0</td>\n",
       "      <td>0</td>\n",
       "      <td>1</td>\n",
       "      <td>0</td>\n",
       "      <td>0</td>\n",
       "    </tr>\n",
       "    <tr>\n",
       "      <th>2</th>\n",
       "      <td>0.11</td>\n",
       "      <td>0.88</td>\n",
       "      <td>7</td>\n",
       "      <td>272</td>\n",
       "      <td>4</td>\n",
       "      <td>0</td>\n",
       "      <td>1</td>\n",
       "      <td>0</td>\n",
       "      <td>sales</td>\n",
       "      <td>medium</td>\n",
       "      <td>0</td>\n",
       "      <td>0</td>\n",
       "      <td>0</td>\n",
       "      <td>0</td>\n",
       "      <td>0</td>\n",
       "      <td>0</td>\n",
       "      <td>0</td>\n",
       "      <td>1</td>\n",
       "      <td>0</td>\n",
       "      <td>0</td>\n",
       "    </tr>\n",
       "    <tr>\n",
       "      <th>3</th>\n",
       "      <td>0.72</td>\n",
       "      <td>0.87</td>\n",
       "      <td>5</td>\n",
       "      <td>223</td>\n",
       "      <td>5</td>\n",
       "      <td>0</td>\n",
       "      <td>1</td>\n",
       "      <td>0</td>\n",
       "      <td>sales</td>\n",
       "      <td>low</td>\n",
       "      <td>0</td>\n",
       "      <td>0</td>\n",
       "      <td>0</td>\n",
       "      <td>0</td>\n",
       "      <td>0</td>\n",
       "      <td>0</td>\n",
       "      <td>0</td>\n",
       "      <td>1</td>\n",
       "      <td>0</td>\n",
       "      <td>0</td>\n",
       "    </tr>\n",
       "    <tr>\n",
       "      <th>4</th>\n",
       "      <td>0.37</td>\n",
       "      <td>0.52</td>\n",
       "      <td>2</td>\n",
       "      <td>159</td>\n",
       "      <td>3</td>\n",
       "      <td>0</td>\n",
       "      <td>1</td>\n",
       "      <td>0</td>\n",
       "      <td>sales</td>\n",
       "      <td>low</td>\n",
       "      <td>0</td>\n",
       "      <td>0</td>\n",
       "      <td>0</td>\n",
       "      <td>0</td>\n",
       "      <td>0</td>\n",
       "      <td>0</td>\n",
       "      <td>0</td>\n",
       "      <td>1</td>\n",
       "      <td>0</td>\n",
       "      <td>0</td>\n",
       "    </tr>\n",
       "  </tbody>\n",
       "</table>\n",
       "</div>"
      ],
      "text/plain": [
       "   satisfaction_level  last_evaluation  number_project  average_montly_hours  \\\n",
       "0                0.38             0.53               2                   157   \n",
       "1                0.80             0.86               5                   262   \n",
       "2                0.11             0.88               7                   272   \n",
       "3                0.72             0.87               5                   223   \n",
       "4                0.37             0.52               2                   159   \n",
       "\n",
       "   time_spend_company  work_accident  left  promotion_last_5years  sales  \\\n",
       "0                   3              0     1                      0  sales   \n",
       "1                   6              0     1                      0  sales   \n",
       "2                   4              0     1                      0  sales   \n",
       "3                   5              0     1                      0  sales   \n",
       "4                   3              0     1                      0  sales   \n",
       "\n",
       "   salary  dept_accounting  dept_hr  dept_it  dept_management  dept_marketing  \\\n",
       "0     low                0        0        0                0               0   \n",
       "1  medium                0        0        0                0               0   \n",
       "2  medium                0        0        0                0               0   \n",
       "3     low                0        0        0                0               0   \n",
       "4     low                0        0        0                0               0   \n",
       "\n",
       "   dept_product_mng  dept_randd  dept_sales  dept_support  dept_technical  \n",
       "0                 0           0           1             0               0  \n",
       "1                 0           0           1             0               0  \n",
       "2                 0           0           1             0               0  \n",
       "3                 0           0           1             0               0  \n",
       "4                 0           0           1             0               0  "
      ]
     },
     "execution_count": 29,
     "metadata": {},
     "output_type": "execute_result"
    }
   ],
   "source": [
    "df.head()"
   ]
  },
  {
   "cell_type": "code",
   "execution_count": 30,
   "metadata": {},
   "outputs": [],
   "source": [
    "df.drop('sales', axis=1, inplace=True)"
   ]
  },
  {
   "cell_type": "markdown",
   "metadata": {},
   "source": [
    "Salary"
   ]
  },
  {
   "cell_type": "code",
   "execution_count": 31,
   "metadata": {},
   "outputs": [],
   "source": [
    "dummies_salary = pd.get_dummies(df['salary'], prefix='salary')"
   ]
  },
  {
   "cell_type": "code",
   "execution_count": 32,
   "metadata": {},
   "outputs": [],
   "source": [
    "df = pd.concat([df, dummies_salary], axis=1, sort=False)"
   ]
  },
  {
   "cell_type": "code",
   "execution_count": 33,
   "metadata": {},
   "outputs": [
    {
     "data": {
      "text/html": [
       "<div>\n",
       "<style scoped>\n",
       "    .dataframe tbody tr th:only-of-type {\n",
       "        vertical-align: middle;\n",
       "    }\n",
       "\n",
       "    .dataframe tbody tr th {\n",
       "        vertical-align: top;\n",
       "    }\n",
       "\n",
       "    .dataframe thead th {\n",
       "        text-align: right;\n",
       "    }\n",
       "</style>\n",
       "<table border=\"1\" class=\"dataframe\">\n",
       "  <thead>\n",
       "    <tr style=\"text-align: right;\">\n",
       "      <th></th>\n",
       "      <th>satisfaction_level</th>\n",
       "      <th>last_evaluation</th>\n",
       "      <th>number_project</th>\n",
       "      <th>average_montly_hours</th>\n",
       "      <th>time_spend_company</th>\n",
       "      <th>work_accident</th>\n",
       "      <th>left</th>\n",
       "      <th>promotion_last_5years</th>\n",
       "      <th>salary</th>\n",
       "      <th>dept_accounting</th>\n",
       "      <th>...</th>\n",
       "      <th>dept_management</th>\n",
       "      <th>dept_marketing</th>\n",
       "      <th>dept_product_mng</th>\n",
       "      <th>dept_randd</th>\n",
       "      <th>dept_sales</th>\n",
       "      <th>dept_support</th>\n",
       "      <th>dept_technical</th>\n",
       "      <th>salary_high</th>\n",
       "      <th>salary_low</th>\n",
       "      <th>salary_medium</th>\n",
       "    </tr>\n",
       "  </thead>\n",
       "  <tbody>\n",
       "    <tr>\n",
       "      <th>0</th>\n",
       "      <td>0.38</td>\n",
       "      <td>0.53</td>\n",
       "      <td>2</td>\n",
       "      <td>157</td>\n",
       "      <td>3</td>\n",
       "      <td>0</td>\n",
       "      <td>1</td>\n",
       "      <td>0</td>\n",
       "      <td>low</td>\n",
       "      <td>0</td>\n",
       "      <td>...</td>\n",
       "      <td>0</td>\n",
       "      <td>0</td>\n",
       "      <td>0</td>\n",
       "      <td>0</td>\n",
       "      <td>1</td>\n",
       "      <td>0</td>\n",
       "      <td>0</td>\n",
       "      <td>0</td>\n",
       "      <td>1</td>\n",
       "      <td>0</td>\n",
       "    </tr>\n",
       "    <tr>\n",
       "      <th>1</th>\n",
       "      <td>0.80</td>\n",
       "      <td>0.86</td>\n",
       "      <td>5</td>\n",
       "      <td>262</td>\n",
       "      <td>6</td>\n",
       "      <td>0</td>\n",
       "      <td>1</td>\n",
       "      <td>0</td>\n",
       "      <td>medium</td>\n",
       "      <td>0</td>\n",
       "      <td>...</td>\n",
       "      <td>0</td>\n",
       "      <td>0</td>\n",
       "      <td>0</td>\n",
       "      <td>0</td>\n",
       "      <td>1</td>\n",
       "      <td>0</td>\n",
       "      <td>0</td>\n",
       "      <td>0</td>\n",
       "      <td>0</td>\n",
       "      <td>1</td>\n",
       "    </tr>\n",
       "    <tr>\n",
       "      <th>2</th>\n",
       "      <td>0.11</td>\n",
       "      <td>0.88</td>\n",
       "      <td>7</td>\n",
       "      <td>272</td>\n",
       "      <td>4</td>\n",
       "      <td>0</td>\n",
       "      <td>1</td>\n",
       "      <td>0</td>\n",
       "      <td>medium</td>\n",
       "      <td>0</td>\n",
       "      <td>...</td>\n",
       "      <td>0</td>\n",
       "      <td>0</td>\n",
       "      <td>0</td>\n",
       "      <td>0</td>\n",
       "      <td>1</td>\n",
       "      <td>0</td>\n",
       "      <td>0</td>\n",
       "      <td>0</td>\n",
       "      <td>0</td>\n",
       "      <td>1</td>\n",
       "    </tr>\n",
       "    <tr>\n",
       "      <th>3</th>\n",
       "      <td>0.72</td>\n",
       "      <td>0.87</td>\n",
       "      <td>5</td>\n",
       "      <td>223</td>\n",
       "      <td>5</td>\n",
       "      <td>0</td>\n",
       "      <td>1</td>\n",
       "      <td>0</td>\n",
       "      <td>low</td>\n",
       "      <td>0</td>\n",
       "      <td>...</td>\n",
       "      <td>0</td>\n",
       "      <td>0</td>\n",
       "      <td>0</td>\n",
       "      <td>0</td>\n",
       "      <td>1</td>\n",
       "      <td>0</td>\n",
       "      <td>0</td>\n",
       "      <td>0</td>\n",
       "      <td>1</td>\n",
       "      <td>0</td>\n",
       "    </tr>\n",
       "    <tr>\n",
       "      <th>4</th>\n",
       "      <td>0.37</td>\n",
       "      <td>0.52</td>\n",
       "      <td>2</td>\n",
       "      <td>159</td>\n",
       "      <td>3</td>\n",
       "      <td>0</td>\n",
       "      <td>1</td>\n",
       "      <td>0</td>\n",
       "      <td>low</td>\n",
       "      <td>0</td>\n",
       "      <td>...</td>\n",
       "      <td>0</td>\n",
       "      <td>0</td>\n",
       "      <td>0</td>\n",
       "      <td>0</td>\n",
       "      <td>1</td>\n",
       "      <td>0</td>\n",
       "      <td>0</td>\n",
       "      <td>0</td>\n",
       "      <td>1</td>\n",
       "      <td>0</td>\n",
       "    </tr>\n",
       "  </tbody>\n",
       "</table>\n",
       "<p>5 rows × 22 columns</p>\n",
       "</div>"
      ],
      "text/plain": [
       "   satisfaction_level  last_evaluation  number_project  average_montly_hours  \\\n",
       "0                0.38             0.53               2                   157   \n",
       "1                0.80             0.86               5                   262   \n",
       "2                0.11             0.88               7                   272   \n",
       "3                0.72             0.87               5                   223   \n",
       "4                0.37             0.52               2                   159   \n",
       "\n",
       "   time_spend_company  work_accident  left  promotion_last_5years  salary  \\\n",
       "0                   3              0     1                      0     low   \n",
       "1                   6              0     1                      0  medium   \n",
       "2                   4              0     1                      0  medium   \n",
       "3                   5              0     1                      0     low   \n",
       "4                   3              0     1                      0     low   \n",
       "\n",
       "   dept_accounting      ...        dept_management  dept_marketing  \\\n",
       "0                0      ...                      0               0   \n",
       "1                0      ...                      0               0   \n",
       "2                0      ...                      0               0   \n",
       "3                0      ...                      0               0   \n",
       "4                0      ...                      0               0   \n",
       "\n",
       "   dept_product_mng  dept_randd  dept_sales  dept_support  dept_technical  \\\n",
       "0                 0           0           1             0               0   \n",
       "1                 0           0           1             0               0   \n",
       "2                 0           0           1             0               0   \n",
       "3                 0           0           1             0               0   \n",
       "4                 0           0           1             0               0   \n",
       "\n",
       "   salary_high  salary_low  salary_medium  \n",
       "0            0           1              0  \n",
       "1            0           0              1  \n",
       "2            0           0              1  \n",
       "3            0           1              0  \n",
       "4            0           1              0  \n",
       "\n",
       "[5 rows x 22 columns]"
      ]
     },
     "execution_count": 33,
     "metadata": {},
     "output_type": "execute_result"
    }
   ],
   "source": [
    "df.head()"
   ]
  },
  {
   "cell_type": "code",
   "execution_count": 34,
   "metadata": {},
   "outputs": [],
   "source": [
    "df.drop('salary', axis=1, inplace=True)"
   ]
  },
  {
   "cell_type": "code",
   "execution_count": 35,
   "metadata": {},
   "outputs": [
    {
     "data": {
      "text/plain": [
       "Index(['satisfaction_level', 'last_evaluation', 'number_project',\n",
       "       'average_montly_hours', 'time_spend_company', 'work_accident', 'left',\n",
       "       'promotion_last_5years', 'dept_accounting', 'dept_hr', 'dept_it',\n",
       "       'dept_management', 'dept_marketing', 'dept_product_mng', 'dept_randd',\n",
       "       'dept_sales', 'dept_support', 'dept_technical', 'salary_high',\n",
       "       'salary_low', 'salary_medium'],\n",
       "      dtype='object')"
      ]
     },
     "execution_count": 35,
     "metadata": {},
     "output_type": "execute_result"
    }
   ],
   "source": [
    "df.columns"
   ]
  },
  {
   "cell_type": "markdown",
   "metadata": {},
   "source": [
    "#### Splitting the data into train/test sets"
   ]
  },
  {
   "cell_type": "code",
   "execution_count": 36,
   "metadata": {},
   "outputs": [],
   "source": [
    "X_train, X_test, y_train, y_test = train_test_split(df.drop('left', \n",
    "                axis=1), df['left'], test_size=2e-1, shuffle=True)"
   ]
  },
  {
   "cell_type": "code",
   "execution_count": 37,
   "metadata": {},
   "outputs": [
    {
     "data": {
      "text/plain": [
       "((11999, 20), (3000, 20))"
      ]
     },
     "execution_count": 37,
     "metadata": {},
     "output_type": "execute_result"
    }
   ],
   "source": [
    "X_train.shape, X_test.shape"
   ]
  },
  {
   "cell_type": "markdown",
   "metadata": {},
   "source": [
    "For analysis, we have 20 columns. 12,000 instances to train the model, and 3,000 instances to test the model"
   ]
  },
  {
   "cell_type": "markdown",
   "metadata": {},
   "source": [
    "## Predicting turnover"
   ]
  },
  {
   "cell_type": "markdown",
   "metadata": {},
   "source": [
    "#### #1. Logistic Regression"
   ]
  },
  {
   "cell_type": "code",
   "execution_count": 38,
   "metadata": {},
   "outputs": [],
   "source": [
    "logit = LogisticRegression(solver='lbfgs', max_iter=10_000)"
   ]
  },
  {
   "cell_type": "code",
   "execution_count": 39,
   "metadata": {},
   "outputs": [
    {
     "data": {
      "text/plain": [
       "LogisticRegression(C=1.0, class_weight=None, dual=False, fit_intercept=True,\n",
       "          intercept_scaling=1, max_iter=10000, multi_class='ovr', n_jobs=1,\n",
       "          penalty='l2', random_state=None, solver='lbfgs', tol=0.0001,\n",
       "          verbose=0, warm_start=False)"
      ]
     },
     "execution_count": 39,
     "metadata": {},
     "output_type": "execute_result"
    }
   ],
   "source": [
    "logit.fit(X_train, y_train)"
   ]
  },
  {
   "cell_type": "code",
   "execution_count": 40,
   "metadata": {},
   "outputs": [],
   "source": [
    "y_pred = logit.predict(X_test)"
   ]
  },
  {
   "cell_type": "code",
   "execution_count": 41,
   "metadata": {},
   "outputs": [
    {
     "data": {
      "text/plain": [
       "array([0, 0, 0, 0, 0, 0, 0, 0, 0, 1], dtype=int64)"
      ]
     },
     "execution_count": 41,
     "metadata": {},
     "output_type": "execute_result"
    }
   ],
   "source": [
    "y_pred[:10]"
   ]
  },
  {
   "cell_type": "markdown",
   "metadata": {},
   "source": [
    "Is the classifier only predicting non-departures?"
   ]
  },
  {
   "cell_type": "code",
   "execution_count": 42,
   "metadata": {
    "scrolled": true
   },
   "outputs": [
    {
     "data": {
      "text/plain": [
       "array([2574,  426], dtype=int64)"
      ]
     },
     "execution_count": 42,
     "metadata": {},
     "output_type": "execute_result"
    }
   ],
   "source": [
    "counts = np.unique(y_pred, return_counts=True)[1]\n",
    "counts"
   ]
  },
  {
   "cell_type": "markdown",
   "metadata": {},
   "source": [
    "No"
   ]
  },
  {
   "cell_type": "code",
   "execution_count": 43,
   "metadata": {},
   "outputs": [
    {
     "name": "stdout",
     "output_type": "stream",
     "text": [
      "The classifier predicts a departure in 17% of cases, compared to a real rate of 24%.\n"
     ]
    }
   ],
   "source": [
    "print('The classifier predicts a departure in %i%% of cases, compared'\\\n",
    "      ' to a real rate of 24%%.'%round(counts[1]*1e2/counts[0]))"
   ]
  },
  {
   "cell_type": "markdown",
   "metadata": {},
   "source": [
    "Evaluating the predictions:"
   ]
  },
  {
   "cell_type": "code",
   "execution_count": 44,
   "metadata": {
    "scrolled": true
   },
   "outputs": [
    {
     "data": {
      "text/plain": [
       "array([[2138,  173],\n",
       "       [ 436,  253]], dtype=int64)"
      ]
     },
     "execution_count": 44,
     "metadata": {},
     "output_type": "execute_result"
    }
   ],
   "source": [
    "confusion_matrix(y_test, y_pred)"
   ]
  },
  {
   "cell_type": "code",
   "execution_count": 45,
   "metadata": {},
   "outputs": [
    {
     "data": {
      "text/plain": [
       "0.3671988388969521"
      ]
     },
     "execution_count": 45,
     "metadata": {},
     "output_type": "execute_result"
    }
   ],
   "source": [
    "recall_logit = recall_score(y_test, y_pred)\n",
    "recall_logit"
   ]
  },
  {
   "cell_type": "code",
   "execution_count": 46,
   "metadata": {},
   "outputs": [
    {
     "name": "stdout",
     "output_type": "stream",
     "text": [
      "37% of the people who left the company were predicted to do so.\n"
     ]
    }
   ],
   "source": [
    "print('%i%% of the people who left the company were predicted to do so.'%round(recall_logit*100))"
   ]
  },
  {
   "cell_type": "code",
   "execution_count": 47,
   "metadata": {},
   "outputs": [
    {
     "data": {
      "text/plain": [
       "0.5938967136150235"
      ]
     },
     "execution_count": 47,
     "metadata": {},
     "output_type": "execute_result"
    }
   ],
   "source": [
    "precision_logit = precision_score(y_test, y_pred)\n",
    "precision_logit"
   ]
  },
  {
   "cell_type": "code",
   "execution_count": 48,
   "metadata": {},
   "outputs": [
    {
     "name": "stdout",
     "output_type": "stream",
     "text": [
      "59% of the people who didn't leave the company were predicted to do so.\n"
     ]
    }
   ],
   "source": [
    "print('%i%% of the people who didn\\'t leave the company were predicted to do so.'%round(precision_logit*100))"
   ]
  },
  {
   "cell_type": "code",
   "execution_count": 49,
   "metadata": {},
   "outputs": [
    {
     "data": {
      "text/plain": [
       "0.4538116591928251"
      ]
     },
     "execution_count": 49,
     "metadata": {},
     "output_type": "execute_result"
    }
   ],
   "source": [
    "f1_logit = f1_score(y_test, y_pred)\n",
    "f1_logit"
   ]
  },
  {
   "cell_type": "code",
   "execution_count": 50,
   "metadata": {},
   "outputs": [
    {
     "name": "stdout",
     "output_type": "stream",
     "text": [
      "f1 score: 45%.\n"
     ]
    }
   ],
   "source": [
    "print('f1 score: %i%%.'%round(f1_logit*100))"
   ]
  },
  {
   "cell_type": "code",
   "execution_count": 51,
   "metadata": {},
   "outputs": [
    {
     "data": {
      "text/plain": [
       "0.797"
      ]
     },
     "execution_count": 51,
     "metadata": {},
     "output_type": "execute_result"
    }
   ],
   "source": [
    "accuracy_logit = accuracy_score(y_test, y_pred)\n",
    "accuracy_logit"
   ]
  },
  {
   "cell_type": "code",
   "execution_count": 52,
   "metadata": {},
   "outputs": [
    {
     "name": "stdout",
     "output_type": "stream",
     "text": [
      "80% of the people were classified in the correct category.\n"
     ]
    }
   ],
   "source": [
    "print('%i%% of the people were classified in the correct category.'%round(accuracy_logit*100))"
   ]
  },
  {
   "cell_type": "markdown",
   "metadata": {},
   "source": [
    "In this case accuracy isn't too relevant because the classes are very imbalanced. An algorithm that would predict a non-departure in all cases would have the following accuracy:"
   ]
  },
  {
   "cell_type": "code",
   "execution_count": 53,
   "metadata": {},
   "outputs": [
    {
     "name": "stdout",
     "output_type": "stream",
     "text": [
      "76.0 % accuracy\n"
     ]
    }
   ],
   "source": [
    "print(str(round(df['left'].value_counts().iloc[0]/(df.shape[0]), 2)*100), '% accuracy')"
   ]
  },
  {
   "cell_type": "markdown",
   "metadata": {},
   "source": [
    "So we gained 3% above this accuracy."
   ]
  },
  {
   "cell_type": "markdown",
   "metadata": {},
   "source": [
    "Grid Search for Hyperparameter Fine-Tuning"
   ]
  },
  {
   "cell_type": "code",
   "execution_count": 54,
   "metadata": {},
   "outputs": [],
   "source": [
    "params = {'C':np.linspace(0.0001, 10, 1_00)}"
   ]
  },
  {
   "cell_type": "code",
   "execution_count": 55,
   "metadata": {},
   "outputs": [],
   "source": [
    "logit_grid = GridSearchCV(logit, params, scoring='recall', cv=3, n_jobs=-1)"
   ]
  },
  {
   "cell_type": "code",
   "execution_count": 56,
   "metadata": {},
   "outputs": [
    {
     "name": "stdout",
     "output_type": "stream",
     "text": [
      "32 seconds\n"
     ]
    }
   ],
   "source": [
    "start_timer = time()\n",
    "logit_grid.fit(X_train, y_train)\n",
    "stop_timer = time()\n",
    "print(round(stop_timer-start_timer), 'seconds')"
   ]
  },
  {
   "cell_type": "code",
   "execution_count": 57,
   "metadata": {},
   "outputs": [
    {
     "data": {
      "text/plain": [
       "0.3487195275182921"
      ]
     },
     "execution_count": 57,
     "metadata": {},
     "output_type": "execute_result"
    }
   ],
   "source": [
    "logit_grid.best_score_"
   ]
  },
  {
   "cell_type": "markdown",
   "metadata": {},
   "source": [
    "We got a better recall score using the grid search"
   ]
  },
  {
   "cell_type": "code",
   "execution_count": 58,
   "metadata": {},
   "outputs": [
    {
     "data": {
      "text/plain": [
       "LogisticRegression(C=4.242481818181818, class_weight=None, dual=False,\n",
       "          fit_intercept=True, intercept_scaling=1, max_iter=10000,\n",
       "          multi_class='ovr', n_jobs=1, penalty='l2', random_state=None,\n",
       "          solver='lbfgs', tol=0.0001, verbose=0, warm_start=False)"
      ]
     },
     "execution_count": 58,
     "metadata": {},
     "output_type": "execute_result"
    }
   ],
   "source": [
    "logit_grid.best_estimator_"
   ]
  },
  {
   "cell_type": "code",
   "execution_count": 59,
   "metadata": {},
   "outputs": [],
   "source": [
    "y_pred = logit_grid.best_estimator_.predict(X_test)"
   ]
  },
  {
   "cell_type": "code",
   "execution_count": 60,
   "metadata": {},
   "outputs": [],
   "source": [
    "recall_logit = recall_score(y_test, y_pred)\n",
    "precision_logit = precision_score(y_test, y_pred)\n",
    "f1_logit = f1_score(y_test, y_pred)\n",
    "accuracy_logit = accuracy_score(y_test, y_pred)"
   ]
  },
  {
   "cell_type": "markdown",
   "metadata": {},
   "source": [
    "Metrics dataframe. We will place recall score first because it's the most important, and accuracy last because it's the least informative. We might not even need to plot it"
   ]
  },
  {
   "cell_type": "code",
   "execution_count": 61,
   "metadata": {},
   "outputs": [
    {
     "data": {
      "text/html": [
       "<div>\n",
       "<style scoped>\n",
       "    .dataframe tbody tr th:only-of-type {\n",
       "        vertical-align: middle;\n",
       "    }\n",
       "\n",
       "    .dataframe tbody tr th {\n",
       "        vertical-align: top;\n",
       "    }\n",
       "\n",
       "    .dataframe thead th {\n",
       "        text-align: right;\n",
       "    }\n",
       "</style>\n",
       "<table border=\"1\" class=\"dataframe\">\n",
       "  <thead>\n",
       "    <tr style=\"text-align: right;\">\n",
       "      <th></th>\n",
       "      <th>Logit</th>\n",
       "    </tr>\n",
       "  </thead>\n",
       "  <tbody>\n",
       "    <tr>\n",
       "      <th>Recall</th>\n",
       "      <td>0.377358</td>\n",
       "    </tr>\n",
       "    <tr>\n",
       "      <th>Precision</th>\n",
       "      <td>0.599078</td>\n",
       "    </tr>\n",
       "    <tr>\n",
       "      <th>F1 Score</th>\n",
       "      <td>0.463045</td>\n",
       "    </tr>\n",
       "    <tr>\n",
       "      <th>Accuracy</th>\n",
       "      <td>0.799000</td>\n",
       "    </tr>\n",
       "  </tbody>\n",
       "</table>\n",
       "</div>"
      ],
      "text/plain": [
       "              Logit\n",
       "Recall     0.377358\n",
       "Precision  0.599078\n",
       "F1 Score   0.463045\n",
       "Accuracy   0.799000"
      ]
     },
     "execution_count": 61,
     "metadata": {},
     "output_type": "execute_result"
    }
   ],
   "source": [
    "metrics_df = pd.DataFrame([recall_logit, precision_logit, \n",
    "                          f1_logit, accuracy_logit], \n",
    "                          columns=['Logit'],\n",
    "                          index=['Recall', 'Precision', \n",
    "                                'F1 Score', 'Accuracy'])\n",
    "metrics_df"
   ]
  },
  {
   "cell_type": "markdown",
   "metadata": {},
   "source": [
    "Metrics plot"
   ]
  },
  {
   "cell_type": "code",
   "execution_count": 64,
   "metadata": {},
   "outputs": [
    {
     "data": {
      "image/png": "[encoded data removed]",
      "text/plain": [
       "<Figure size 576x360 with 1 Axes>"
      ]
     },
     "metadata": {
      "needs_background": "light"
     },
     "output_type": "display_data"
    }
   ],
   "source": [
    "fig, ax = plt.subplots(figsize=(8, 5))\n",
    "\n",
    "ax.plot(metrics_df.index, metrics_df.Logit, color='#E3C567', \n",
    "        marker='o', ms=10, linewidth=2, linestyle='dashed')\n",
    "\n",
    "ax.legend(['Logit'], fontsize='large', framealpha=.4)\n",
    "ax.set_yticklabels(['{:.0%}'.format(x) for x in ax.get_yticks()])\n",
    "plt.title('Histogram of Metrics per Algorithm')\n",
    "set_theme()\n",
    "plt.show()"
   ]
  },
  {
   "cell_type": "markdown",
   "metadata": {},
   "source": [
    "#### #2. Support Vector Machine (SVM)"
   ]
  },
  {
   "cell_type": "code",
   "execution_count": 73,
   "metadata": {},
   "outputs": [],
   "source": [
    "svm = SVC(gamma='auto', kernel='rbf')"
   ]
  },
  {
   "cell_type": "code",
   "execution_count": 74,
   "metadata": {
    "scrolled": true
   },
   "outputs": [
    {
     "data": {
      "text/plain": [
       "SVC(C=1.0, cache_size=200, class_weight=None, coef0=0.0,\n",
       "  decision_function_shape='ovr', degree=3, gamma='auto', kernel='rbf',\n",
       "  max_iter=-1, probability=False, random_state=None, shrinking=True,\n",
       "  tol=0.001, verbose=False)"
      ]
     },
     "execution_count": 74,
     "metadata": {},
     "output_type": "execute_result"
    }
   ],
   "source": [
    "svm.fit(X_train, y_train)"
   ]
  },
  {
   "cell_type": "code",
   "execution_count": 75,
   "metadata": {},
   "outputs": [],
   "source": [
    "y_pred = logit.predict(X_test)"
   ]
  },
  {
   "cell_type": "code",
   "execution_count": 76,
   "metadata": {},
   "outputs": [
    {
     "data": {
      "text/plain": [
       "array([0, 0, 0, 0, 0, 0, 0, 0, 0, 1], dtype=int64)"
      ]
     },
     "execution_count": 76,
     "metadata": {},
     "output_type": "execute_result"
    }
   ],
   "source": [
    "y_pred[:10]"
   ]
  },
  {
   "cell_type": "code",
   "execution_count": 77,
   "metadata": {
    "scrolled": true
   },
   "outputs": [
    {
     "data": {
      "text/plain": [
       "array([2574,  426], dtype=int64)"
      ]
     },
     "execution_count": 77,
     "metadata": {},
     "output_type": "execute_result"
    }
   ],
   "source": [
    "counts = np.unique(y_pred, return_counts=True)[1]\n",
    "counts"
   ]
  },
  {
   "cell_type": "code",
   "execution_count": 78,
   "metadata": {},
   "outputs": [
    {
     "name": "stdout",
     "output_type": "stream",
     "text": [
      "The classifier predicts a departure in 17% of cases, compared to a real rate of 24%.\n"
     ]
    }
   ],
   "source": [
    "print('The classifier predicts a departure in %i%% of cases, compared'\\\n",
    "      ' to a real rate of 24%%.'%round(counts[1]*1e2/counts[0]))"
   ]
  },
  {
   "cell_type": "markdown",
   "metadata": {},
   "source": [
    "Evaluating the predictions:"
   ]
  },
  {
   "cell_type": "code",
   "execution_count": 79,
   "metadata": {
    "scrolled": true
   },
   "outputs": [
    {
     "data": {
      "text/plain": [
       "array([[2138,  173],\n",
       "       [ 436,  253]], dtype=int64)"
      ]
     },
     "execution_count": 79,
     "metadata": {},
     "output_type": "execute_result"
    }
   ],
   "source": [
    "confusion_matrix(y_test, y_pred)"
   ]
  },
  {
   "cell_type": "code",
   "execution_count": 80,
   "metadata": {},
   "outputs": [
    {
     "data": {
      "text/plain": [
       "0.3671988388969521"
      ]
     },
     "execution_count": 80,
     "metadata": {},
     "output_type": "execute_result"
    }
   ],
   "source": [
    "recall_svm = recall_score(y_test, y_pred)\n",
    "recall_svm"
   ]
  },
  {
   "cell_type": "code",
   "execution_count": 81,
   "metadata": {},
   "outputs": [
    {
     "name": "stdout",
     "output_type": "stream",
     "text": [
      "37% of the people who left the company were predicted to do so.\n"
     ]
    }
   ],
   "source": [
    "print('%i%% of the people who left the company were predicted to do so.'%round(recall_svm*100))"
   ]
  },
  {
   "cell_type": "code",
   "execution_count": 82,
   "metadata": {},
   "outputs": [
    {
     "data": {
      "text/plain": [
       "0.5938967136150235"
      ]
     },
     "execution_count": 82,
     "metadata": {},
     "output_type": "execute_result"
    }
   ],
   "source": [
    "precision_svm = precision_score(y_test, y_pred)\n",
    "precision_svm"
   ]
  },
  {
   "cell_type": "code",
   "execution_count": 83,
   "metadata": {},
   "outputs": [
    {
     "name": "stdout",
     "output_type": "stream",
     "text": [
      "59% of the people who didn't leave the company were predicted to do so.\n"
     ]
    }
   ],
   "source": [
    "print('%i%% of the people who didn\\'t leave the company were predicted to do so.'%round(precision_svm*100))"
   ]
  },
  {
   "cell_type": "code",
   "execution_count": 84,
   "metadata": {},
   "outputs": [
    {
     "data": {
      "text/plain": [
       "0.4538116591928251"
      ]
     },
     "execution_count": 84,
     "metadata": {},
     "output_type": "execute_result"
    }
   ],
   "source": [
    "f1_svm = f1_score(y_test, y_pred)\n",
    "f1_svm"
   ]
  },
  {
   "cell_type": "code",
   "execution_count": 85,
   "metadata": {},
   "outputs": [
    {
     "name": "stdout",
     "output_type": "stream",
     "text": [
      "f1 score: 45%.\n"
     ]
    }
   ],
   "source": [
    "print('f1 score: %i%%.'%round(f1_svm*100))"
   ]
  },
  {
   "cell_type": "code",
   "execution_count": 86,
   "metadata": {},
   "outputs": [
    {
     "data": {
      "text/plain": [
       "0.797"
      ]
     },
     "execution_count": 86,
     "metadata": {},
     "output_type": "execute_result"
    }
   ],
   "source": [
    "accuracy_svm = accuracy_score(y_test, y_pred)\n",
    "accuracy_svm"
   ]
  },
  {
   "cell_type": "code",
   "execution_count": 87,
   "metadata": {
    "scrolled": true
   },
   "outputs": [
    {
     "name": "stdout",
     "output_type": "stream",
     "text": [
      "80% of the people were classified in the correct category.\n"
     ]
    }
   ],
   "source": [
    "print('%i%% of the people were classified in the correct category.'%round(accuracy_svm*100))"
   ]
  },
  {
   "cell_type": "markdown",
   "metadata": {},
   "source": [
    "Grid Search for Hyperparameter Fine-Tuning"
   ]
  },
  {
   "cell_type": "code",
   "execution_count": 88,
   "metadata": {},
   "outputs": [],
   "source": [
    "params = {'C':np.linspace(7, 8, 1_0),\n",
    "          'gamma':np.linspace(7, 8, 1_0)\n",
    "         }"
   ]
  },
  {
   "cell_type": "code",
   "execution_count": 89,
   "metadata": {},
   "outputs": [],
   "source": [
    "svm_grid = RandomizedSearchCV(svm, params, scoring='recall', cv=3, verbose=0,\n",
    "                              n_jobs=-1, n_iter=10, return_train_score=True)"
   ]
  },
  {
   "cell_type": "code",
   "execution_count": 90,
   "metadata": {
    "collapsed": true
   },
   "outputs": [
    {
     "name": "stdout",
     "output_type": "stream",
     "text": [
      "3.85 minutes\n"
     ]
    }
   ],
   "source": [
    "start_timer = time()\n",
    "svm_grid.fit(X_train, y_train)\n",
    "stop_timer = time()\n",
    "print(round(stop_timer-start_timer)/60, 'minutes')"
   ]
  },
  {
   "cell_type": "code",
   "execution_count": 91,
   "metadata": {},
   "outputs": [
    {
     "data": {
      "text/plain": [
       "0.6488538909524979"
      ]
     },
     "execution_count": 91,
     "metadata": {},
     "output_type": "execute_result"
    }
   ],
   "source": [
    "svm_grid.best_score_"
   ]
  },
  {
   "cell_type": "markdown",
   "metadata": {},
   "source": [
    "We got a better recall score using the grid search"
   ]
  },
  {
   "cell_type": "code",
   "execution_count": 92,
   "metadata": {},
   "outputs": [
    {
     "data": {
      "text/plain": [
       "SVC(C=7.666666666666667, cache_size=200, class_weight=None, coef0=0.0,\n",
       "  decision_function_shape='ovr', degree=3, gamma=7.777777777777778,\n",
       "  kernel='rbf', max_iter=-1, probability=False, random_state=None,\n",
       "  shrinking=True, tol=0.001, verbose=False)"
      ]
     },
     "execution_count": 92,
     "metadata": {},
     "output_type": "execute_result"
    }
   ],
   "source": [
    "svm_grid.best_estimator_"
   ]
  },
  {
   "cell_type": "code",
   "execution_count": 93,
   "metadata": {},
   "outputs": [
    {
     "name": "stdout",
     "output_type": "stream",
     "text": [
      "0.85 minutes\n"
     ]
    }
   ],
   "source": [
    "start_timer = time()\n",
    "svm_grid = SVC(C=7.6, gamma=7.2, kernel='rbf', degree=3)\n",
    "svm_grid.fit(X_train, y_train)\n",
    "stop_timer = time()\n",
    "print(round(stop_timer-start_timer)/60, 'minutes')"
   ]
  },
  {
   "cell_type": "code",
   "execution_count": 94,
   "metadata": {},
   "outputs": [],
   "source": [
    "y_pred = svm_grid.predict(X_test)"
   ]
  },
  {
   "cell_type": "code",
   "execution_count": 95,
   "metadata": {},
   "outputs": [],
   "source": [
    "recall_svm = recall_score(y_test, y_pred)\n",
    "precision_svm = precision_score(y_test, y_pred)\n",
    "f1_svm = f1_score(y_test, y_pred)\n",
    "accuracy_svm = accuracy_score(y_test, y_pred)"
   ]
  },
  {
   "cell_type": "markdown",
   "metadata": {},
   "source": [
    "Metrics dataframe"
   ]
  },
  {
   "cell_type": "code",
   "execution_count": 96,
   "metadata": {},
   "outputs": [
    {
     "data": {
      "text/html": [
       "<div>\n",
       "<style scoped>\n",
       "    .dataframe tbody tr th:only-of-type {\n",
       "        vertical-align: middle;\n",
       "    }\n",
       "\n",
       "    .dataframe tbody tr th {\n",
       "        vertical-align: top;\n",
       "    }\n",
       "\n",
       "    .dataframe thead th {\n",
       "        text-align: right;\n",
       "    }\n",
       "</style>\n",
       "<table border=\"1\" class=\"dataframe\">\n",
       "  <thead>\n",
       "    <tr style=\"text-align: right;\">\n",
       "      <th></th>\n",
       "      <th>Logit</th>\n",
       "      <th>SVM</th>\n",
       "    </tr>\n",
       "  </thead>\n",
       "  <tbody>\n",
       "    <tr>\n",
       "      <th>Recall</th>\n",
       "      <td>0.377358</td>\n",
       "      <td>0.785196</td>\n",
       "    </tr>\n",
       "    <tr>\n",
       "      <th>Precision</th>\n",
       "      <td>0.599078</td>\n",
       "      <td>0.987226</td>\n",
       "    </tr>\n",
       "    <tr>\n",
       "      <th>F1 Score</th>\n",
       "      <td>0.463045</td>\n",
       "      <td>0.874697</td>\n",
       "    </tr>\n",
       "    <tr>\n",
       "      <th>Accuracy</th>\n",
       "      <td>0.799000</td>\n",
       "      <td>0.948333</td>\n",
       "    </tr>\n",
       "  </tbody>\n",
       "</table>\n",
       "</div>"
      ],
      "text/plain": [
       "              Logit       SVM\n",
       "Recall     0.377358  0.785196\n",
       "Precision  0.599078  0.987226\n",
       "F1 Score   0.463045  0.874697\n",
       "Accuracy   0.799000  0.948333"
      ]
     },
     "execution_count": 96,
     "metadata": {},
     "output_type": "execute_result"
    }
   ],
   "source": [
    "metrics_svm = pd.DataFrame([recall_svm, precision_svm, \n",
    "                          f1_svm, accuracy_svm], \n",
    "                          columns=['SVM'],\n",
    "                          index=['Recall', 'Precision', \n",
    "                                'F1 Score', 'Accuracy'])\n",
    "metrics_df = pd.concat([metrics_df, metrics_svm], axis=1, sort=False)\n",
    "metrics_df"
   ]
  },
  {
   "cell_type": "markdown",
   "metadata": {},
   "source": [
    "Metrics plot"
   ]
  },
  {
   "cell_type": "code",
   "execution_count": 97,
   "metadata": {
    "scrolled": true
   },
   "outputs": [
    {
     "data": {
      "image/png": "[encoded data removed]",
      "text/plain": [
       "<Figure size 576x360 with 1 Axes>"
      ]
     },
     "metadata": {
      "needs_background": "light"
     },
     "output_type": "display_data"
    }
   ],
   "source": [
    "fig, ax = plt.subplots(figsize=(8, 5))\n",
    "\n",
    "ax.plot(metrics_df.index, metrics_df['Logit'], color='white', \n",
    "        marker='o', ms=10, linewidth=2, linestyle='dashed', alpha=0.3)\n",
    "\n",
    "ax.plot(metrics_df.index, metrics_df['SVM'], color='#E3C567', \n",
    "        marker='s', ms=10, linewidth=2, linestyle='dashed')\n",
    "\n",
    "ax.legend(['Logit', 'SVM'], fontsize='large', framealpha=.4)\n",
    "ax.set_yticklabels(['{:.0%}'.format(x) for x in ax.get_yticks()])\n",
    "plt.title('Histogram of Metrics per Algorithm')\n",
    "set_theme()\n",
    "plt.show()"
   ]
  },
  {
   "cell_type": "markdown",
   "metadata": {},
   "source": [
    "#### #3. Gaussian Naïve Bayes"
   ]
  },
  {
   "cell_type": "code",
   "execution_count": 98,
   "metadata": {},
   "outputs": [],
   "source": [
    "gnb = GaussianNB()"
   ]
  },
  {
   "cell_type": "code",
   "execution_count": 99,
   "metadata": {},
   "outputs": [
    {
     "data": {
      "text/plain": [
       "GaussianNB(priors=None)"
      ]
     },
     "execution_count": 99,
     "metadata": {},
     "output_type": "execute_result"
    }
   ],
   "source": [
    "gnb.fit(X_train, y_train)"
   ]
  },
  {
   "cell_type": "code",
   "execution_count": 100,
   "metadata": {},
   "outputs": [],
   "source": [
    "y_pred = gnb.predict(X_test)"
   ]
  },
  {
   "cell_type": "code",
   "execution_count": 101,
   "metadata": {},
   "outputs": [
    {
     "data": {
      "text/plain": [
       "array([0, 1, 1, 1, 1, 0, 0, 1, 0, 1], dtype=int64)"
      ]
     },
     "execution_count": 101,
     "metadata": {},
     "output_type": "execute_result"
    }
   ],
   "source": [
    "y_pred[:10]"
   ]
  },
  {
   "cell_type": "code",
   "execution_count": 102,
   "metadata": {
    "scrolled": true
   },
   "outputs": [
    {
     "data": {
      "text/plain": [
       "array([1557, 1443], dtype=int64)"
      ]
     },
     "execution_count": 102,
     "metadata": {},
     "output_type": "execute_result"
    }
   ],
   "source": [
    "counts = np.unique(y_pred, return_counts=True)[1]\n",
    "counts"
   ]
  },
  {
   "cell_type": "code",
   "execution_count": 103,
   "metadata": {},
   "outputs": [
    {
     "name": "stdout",
     "output_type": "stream",
     "text": [
      "The classifier predicts a departure in 93% of cases, compared to a real rate of 24%.\n"
     ]
    }
   ],
   "source": [
    "print('The classifier predicts a departure in %i%% of cases, compared'\\\n",
    "      ' to a real rate of 24%%.'%round(counts[1]*1e2/counts[0]))"
   ]
  },
  {
   "cell_type": "markdown",
   "metadata": {},
   "source": [
    "Evaluating the predictions:"
   ]
  },
  {
   "cell_type": "code",
   "execution_count": 104,
   "metadata": {
    "scrolled": true
   },
   "outputs": [
    {
     "data": {
      "text/plain": [
       "array([[1423,  888],\n",
       "       [ 134,  555]], dtype=int64)"
      ]
     },
     "execution_count": 104,
     "metadata": {},
     "output_type": "execute_result"
    }
   ],
   "source": [
    "confusion_matrix(y_test, y_pred)"
   ]
  },
  {
   "cell_type": "code",
   "execution_count": 105,
   "metadata": {},
   "outputs": [
    {
     "data": {
      "text/plain": [
       "0.8055152394775036"
      ]
     },
     "execution_count": 105,
     "metadata": {},
     "output_type": "execute_result"
    }
   ],
   "source": [
    "recall_gnb = recall_score(y_test, y_pred)\n",
    "recall_gnb"
   ]
  },
  {
   "cell_type": "code",
   "execution_count": 106,
   "metadata": {},
   "outputs": [
    {
     "name": "stdout",
     "output_type": "stream",
     "text": [
      "81% of the people who left the company were predicted to do so.\n"
     ]
    }
   ],
   "source": [
    "print('%i%% of the people who left the company were predicted to do so.'%round(recall_gnb*100))"
   ]
  },
  {
   "cell_type": "code",
   "execution_count": 107,
   "metadata": {},
   "outputs": [
    {
     "data": {
      "text/plain": [
       "0.38461538461538464"
      ]
     },
     "execution_count": 107,
     "metadata": {},
     "output_type": "execute_result"
    }
   ],
   "source": [
    "precision_gnb = precision_score(y_test, y_pred)\n",
    "precision_gnb"
   ]
  },
  {
   "cell_type": "code",
   "execution_count": 108,
   "metadata": {},
   "outputs": [
    {
     "name": "stdout",
     "output_type": "stream",
     "text": [
      "38% of the people who didn't leave the company were predicted to do so.\n"
     ]
    }
   ],
   "source": [
    "print('%i%% of the people who didn\\'t leave the company were predicted to do so.'%round(precision_gnb*100))"
   ]
  },
  {
   "cell_type": "code",
   "execution_count": 109,
   "metadata": {},
   "outputs": [
    {
     "data": {
      "text/plain": [
       "0.5206378986866792"
      ]
     },
     "execution_count": 109,
     "metadata": {},
     "output_type": "execute_result"
    }
   ],
   "source": [
    "f1_gnb = f1_score(y_test, y_pred)\n",
    "f1_gnb"
   ]
  },
  {
   "cell_type": "code",
   "execution_count": 110,
   "metadata": {},
   "outputs": [
    {
     "name": "stdout",
     "output_type": "stream",
     "text": [
      "f1 score: 52%.\n"
     ]
    }
   ],
   "source": [
    "print('f1 score: %i%%.'%round(f1_gnb*100))"
   ]
  },
  {
   "cell_type": "code",
   "execution_count": 111,
   "metadata": {},
   "outputs": [
    {
     "data": {
      "text/plain": [
       "0.6593333333333333"
      ]
     },
     "execution_count": 111,
     "metadata": {},
     "output_type": "execute_result"
    }
   ],
   "source": [
    "accuracy_gnb = accuracy_score(y_test, y_pred)\n",
    "accuracy_gnb"
   ]
  },
  {
   "cell_type": "code",
   "execution_count": 112,
   "metadata": {
    "scrolled": true
   },
   "outputs": [
    {
     "name": "stdout",
     "output_type": "stream",
     "text": [
      "66% of the people were classified in the correct category.\n"
     ]
    }
   ],
   "source": [
    "print('%i%% of the people were classified in the correct category.'%round(accuracy_gnb*100))"
   ]
  },
  {
   "cell_type": "markdown",
   "metadata": {},
   "source": [
    "Metrics dataframe"
   ]
  },
  {
   "cell_type": "code",
   "execution_count": 113,
   "metadata": {},
   "outputs": [
    {
     "data": {
      "text/html": [
       "<div>\n",
       "<style scoped>\n",
       "    .dataframe tbody tr th:only-of-type {\n",
       "        vertical-align: middle;\n",
       "    }\n",
       "\n",
       "    .dataframe tbody tr th {\n",
       "        vertical-align: top;\n",
       "    }\n",
       "\n",
       "    .dataframe thead th {\n",
       "        text-align: right;\n",
       "    }\n",
       "</style>\n",
       "<table border=\"1\" class=\"dataframe\">\n",
       "  <thead>\n",
       "    <tr style=\"text-align: right;\">\n",
       "      <th></th>\n",
       "      <th>Logit</th>\n",
       "      <th>SVM</th>\n",
       "      <th>Naïve Bayes</th>\n",
       "    </tr>\n",
       "  </thead>\n",
       "  <tbody>\n",
       "    <tr>\n",
       "      <th>Recall</th>\n",
       "      <td>0.377358</td>\n",
       "      <td>0.785196</td>\n",
       "      <td>0.805515</td>\n",
       "    </tr>\n",
       "    <tr>\n",
       "      <th>Precision</th>\n",
       "      <td>0.599078</td>\n",
       "      <td>0.987226</td>\n",
       "      <td>0.384615</td>\n",
       "    </tr>\n",
       "    <tr>\n",
       "      <th>F1 Score</th>\n",
       "      <td>0.463045</td>\n",
       "      <td>0.874697</td>\n",
       "      <td>0.520638</td>\n",
       "    </tr>\n",
       "    <tr>\n",
       "      <th>Accuracy</th>\n",
       "      <td>0.799000</td>\n",
       "      <td>0.948333</td>\n",
       "      <td>0.659333</td>\n",
       "    </tr>\n",
       "  </tbody>\n",
       "</table>\n",
       "</div>"
      ],
      "text/plain": [
       "              Logit       SVM  Naïve Bayes\n",
       "Recall     0.377358  0.785196     0.805515\n",
       "Precision  0.599078  0.987226     0.384615\n",
       "F1 Score   0.463045  0.874697     0.520638\n",
       "Accuracy   0.799000  0.948333     0.659333"
      ]
     },
     "execution_count": 113,
     "metadata": {},
     "output_type": "execute_result"
    }
   ],
   "source": [
    "metrics_gnb = pd.DataFrame([recall_gnb, precision_gnb, \n",
    "                          f1_gnb, accuracy_gnb], \n",
    "                          columns=['Naïve Bayes'],\n",
    "                          index=['Recall', 'Precision', \n",
    "                                'F1 Score', 'Accuracy'])\n",
    "metrics_df = pd.concat([metrics_df, metrics_gnb], axis=1, sort=False)\n",
    "metrics_df"
   ]
  },
  {
   "cell_type": "markdown",
   "metadata": {},
   "source": [
    "Metrics plot"
   ]
  },
  {
   "cell_type": "code",
   "execution_count": 114,
   "metadata": {},
   "outputs": [
    {
     "data": {
      "image/png": "[encoded data removed]",
      "text/plain": [
       "<Figure size 576x360 with 1 Axes>"
      ]
     },
     "metadata": {
      "needs_background": "light"
     },
     "output_type": "display_data"
    }
   ],
   "source": [
    "fig, ax = plt.subplots(figsize=(8, 5))\n",
    "\n",
    "ax.plot(metrics_df.index, metrics_df['Logit'], color='white', \n",
    "        marker='o', ms=10, linewidth=2, linestyle='dashed', alpha=0.3)\n",
    "\n",
    "ax.plot(metrics_df.index, metrics_df['SVM'], color='white', \n",
    "        marker='s', ms=10, linewidth=2, linestyle='dashed', alpha=0.3)\n",
    "\n",
    "ax.plot(metrics_df.index, metrics_df['Naïve Bayes'], color='#E3C567', \n",
    "        marker='^', ms=10, linewidth=2, linestyle='dashed')\n",
    "\n",
    "ax.legend(['Logit', 'SVM', 'Naïve Bayes'], fontsize='large', framealpha=.4)\n",
    "ax.set_yticklabels(['{:.0%}'.format(x) for x in ax.get_yticks()])\n",
    "plt.title('Histogram of Metrics per Algorithm')\n",
    "set_theme()\n",
    "plt.show()"
   ]
  },
  {
   "cell_type": "markdown",
   "metadata": {},
   "source": [
    "#### #4. Decision Tree Classifier"
   ]
  },
  {
   "cell_type": "code",
   "execution_count": 115,
   "metadata": {},
   "outputs": [],
   "source": [
    "tree = DecisionTreeClassifier()"
   ]
  },
  {
   "cell_type": "code",
   "execution_count": 116,
   "metadata": {},
   "outputs": [
    {
     "data": {
      "text/plain": [
       "DecisionTreeClassifier(class_weight=None, criterion='gini', max_depth=None,\n",
       "            max_features=None, max_leaf_nodes=None,\n",
       "            min_impurity_decrease=0.0, min_impurity_split=None,\n",
       "            min_samples_leaf=1, min_samples_split=2,\n",
       "            min_weight_fraction_leaf=0.0, presort=False, random_state=None,\n",
       "            splitter='best')"
      ]
     },
     "execution_count": 116,
     "metadata": {},
     "output_type": "execute_result"
    }
   ],
   "source": [
    "tree.fit(X_train, y_train)"
   ]
  },
  {
   "cell_type": "code",
   "execution_count": 117,
   "metadata": {},
   "outputs": [],
   "source": [
    "y_pred = tree.predict(X_test)"
   ]
  },
  {
   "cell_type": "code",
   "execution_count": 118,
   "metadata": {},
   "outputs": [
    {
     "data": {
      "text/plain": [
       "array([0, 1, 0, 0, 0, 0, 0, 1, 0, 1], dtype=int64)"
      ]
     },
     "execution_count": 118,
     "metadata": {},
     "output_type": "execute_result"
    }
   ],
   "source": [
    "y_pred[:10]"
   ]
  },
  {
   "cell_type": "code",
   "execution_count": 119,
   "metadata": {
    "scrolled": true
   },
   "outputs": [
    {
     "data": {
      "text/plain": [
       "array([2298,  702], dtype=int64)"
      ]
     },
     "execution_count": 119,
     "metadata": {},
     "output_type": "execute_result"
    }
   ],
   "source": [
    "counts = np.unique(y_pred, return_counts=True)[1]\n",
    "counts"
   ]
  },
  {
   "cell_type": "code",
   "execution_count": 120,
   "metadata": {},
   "outputs": [
    {
     "name": "stdout",
     "output_type": "stream",
     "text": [
      "The classifier predicts a departure in 31% of cases, compared to a real rate of 24%.\n"
     ]
    }
   ],
   "source": [
    "print('The classifier predicts a departure in %i%% of cases, compared'\\\n",
    "      ' to a real rate of 24%%.'%round(counts[1]*1e2/counts[0]))"
   ]
  },
  {
   "cell_type": "markdown",
   "metadata": {},
   "source": [
    "Evaluating the predictions:"
   ]
  },
  {
   "cell_type": "code",
   "execution_count": 121,
   "metadata": {
    "scrolled": true
   },
   "outputs": [
    {
     "data": {
      "text/plain": [
       "array([[2277,   34],\n",
       "       [  21,  668]], dtype=int64)"
      ]
     },
     "execution_count": 121,
     "metadata": {},
     "output_type": "execute_result"
    }
   ],
   "source": [
    "confusion_matrix(y_test, y_pred)"
   ]
  },
  {
   "cell_type": "code",
   "execution_count": 122,
   "metadata": {},
   "outputs": [
    {
     "data": {
      "text/plain": [
       "0.969521044992743"
      ]
     },
     "execution_count": 122,
     "metadata": {},
     "output_type": "execute_result"
    }
   ],
   "source": [
    "recall_tree = recall_score(y_test, y_pred)\n",
    "recall_tree"
   ]
  },
  {
   "cell_type": "code",
   "execution_count": 123,
   "metadata": {},
   "outputs": [
    {
     "name": "stdout",
     "output_type": "stream",
     "text": [
      "97% of the people who left the company were predicted to do so.\n"
     ]
    }
   ],
   "source": [
    "print('%i%% of the people who left the company were predicted to do so.'%round(recall_tree*100))"
   ]
  },
  {
   "cell_type": "code",
   "execution_count": 124,
   "metadata": {},
   "outputs": [
    {
     "data": {
      "text/plain": [
       "0.9515669515669516"
      ]
     },
     "execution_count": 124,
     "metadata": {},
     "output_type": "execute_result"
    }
   ],
   "source": [
    "precision_tree = precision_score(y_test, y_pred)\n",
    "precision_tree"
   ]
  },
  {
   "cell_type": "code",
   "execution_count": 125,
   "metadata": {},
   "outputs": [
    {
     "name": "stdout",
     "output_type": "stream",
     "text": [
      "95% of the people who didn't leave the company were predicted to do so.\n"
     ]
    }
   ],
   "source": [
    "print('%i%% of the people who didn\\'t leave the company were predicted to do so.'%round(precision_tree*100))"
   ]
  },
  {
   "cell_type": "code",
   "execution_count": 126,
   "metadata": {},
   "outputs": [
    {
     "data": {
      "text/plain": [
       "0.9604601006470165"
      ]
     },
     "execution_count": 126,
     "metadata": {},
     "output_type": "execute_result"
    }
   ],
   "source": [
    "f1_tree = f1_score(y_test, y_pred)\n",
    "f1_tree"
   ]
  },
  {
   "cell_type": "code",
   "execution_count": 127,
   "metadata": {},
   "outputs": [
    {
     "name": "stdout",
     "output_type": "stream",
     "text": [
      "f1 score: 96%.\n"
     ]
    }
   ],
   "source": [
    "print('f1 score: %i%%.'%round(f1_tree*100))"
   ]
  },
  {
   "cell_type": "code",
   "execution_count": 128,
   "metadata": {},
   "outputs": [
    {
     "data": {
      "text/plain": [
       "0.9816666666666667"
      ]
     },
     "execution_count": 128,
     "metadata": {},
     "output_type": "execute_result"
    }
   ],
   "source": [
    "accuracy_tree = accuracy_score(y_test, y_pred)\n",
    "accuracy_tree"
   ]
  },
  {
   "cell_type": "code",
   "execution_count": 129,
   "metadata": {
    "scrolled": true
   },
   "outputs": [
    {
     "name": "stdout",
     "output_type": "stream",
     "text": [
      "98% of the people were classified in the correct category.\n"
     ]
    }
   ],
   "source": [
    "print('%i%% of the people were classified in the correct category.'%round(accuracy_tree*100))"
   ]
  },
  {
   "cell_type": "markdown",
   "metadata": {},
   "source": [
    "Grid Search for Hyperparameter Fine-Tuning"
   ]
  },
  {
   "cell_type": "code",
   "execution_count": 130,
   "metadata": {},
   "outputs": [
    {
     "data": {
      "text/plain": [
       "dict_keys(['class_weight', 'criterion', 'max_depth', 'max_features', 'max_leaf_nodes', 'min_impurity_decrease', 'min_impurity_split', 'min_samples_leaf', 'min_samples_split', 'min_weight_fraction_leaf', 'presort', 'random_state', 'splitter'])"
      ]
     },
     "execution_count": 130,
     "metadata": {},
     "output_type": "execute_result"
    }
   ],
   "source": [
    "tree.get_params().keys()"
   ]
  },
  {
   "cell_type": "code",
   "execution_count": 131,
   "metadata": {},
   "outputs": [],
   "source": [
    "params = {'max_depth':np.arange(4, 15),\n",
    "          'max_features':np.arange(2, df.columns.shape[0]),\n",
    "          'min_samples_split':np.arange(10, 100, 10),\n",
    "          'min_impurity_decrease':np.arange(0.01, 0.1, 0.01)\n",
    "         }"
   ]
  },
  {
   "cell_type": "code",
   "execution_count": 133,
   "metadata": {},
   "outputs": [],
   "source": [
    "tree_grid = RandomizedSearchCV(tree, params, scoring='recall', cv=3, verbose=0,\n",
    "                              n_jobs=-1, n_iter=1_000, return_train_score=True)"
   ]
  },
  {
   "cell_type": "code",
   "execution_count": 134,
   "metadata": {},
   "outputs": [
    {
     "name": "stdout",
     "output_type": "stream",
     "text": [
      "18 seconds\n"
     ]
    }
   ],
   "source": [
    "start_timer = time()\n",
    "tree_grid.fit(X_train, y_train)\n",
    "stop_timer = time()\n",
    "print(round(stop_timer-start_timer), 'seconds')"
   ]
  },
  {
   "cell_type": "code",
   "execution_count": 135,
   "metadata": {},
   "outputs": [
    {
     "data": {
      "text/plain": [
       "0.9396186604476838"
      ]
     },
     "execution_count": 135,
     "metadata": {},
     "output_type": "execute_result"
    }
   ],
   "source": [
    "tree_grid.best_score_"
   ]
  },
  {
   "cell_type": "markdown",
   "metadata": {},
   "source": [
    "We got a better recall score using the grid search"
   ]
  },
  {
   "cell_type": "code",
   "execution_count": 136,
   "metadata": {},
   "outputs": [
    {
     "data": {
      "text/plain": [
       "DecisionTreeClassifier(class_weight=None, criterion='gini', max_depth=7,\n",
       "            max_features=8, max_leaf_nodes=None,\n",
       "            min_impurity_decrease=0.01, min_impurity_split=None,\n",
       "            min_samples_leaf=1, min_samples_split=10,\n",
       "            min_weight_fraction_leaf=0.0, presort=False, random_state=None,\n",
       "            splitter='best')"
      ]
     },
     "execution_count": 136,
     "metadata": {},
     "output_type": "execute_result"
    }
   ],
   "source": [
    "tree_grid.best_estimator_"
   ]
  },
  {
   "cell_type": "code",
   "execution_count": 137,
   "metadata": {},
   "outputs": [],
   "source": [
    "y_pred = tree_grid.best_estimator_.predict(X_test)"
   ]
  },
  {
   "cell_type": "code",
   "execution_count": 138,
   "metadata": {},
   "outputs": [],
   "source": [
    "recall_tree = recall_score(y_test, y_pred)\n",
    "precision_tree = precision_score(y_test, y_pred)\n",
    "f1_tree = f1_score(y_test, y_pred)\n",
    "accuracy_tree = accuracy_score(y_test, y_pred)"
   ]
  },
  {
   "cell_type": "markdown",
   "metadata": {},
   "source": [
    "Plotting the decision tree"
   ]
  },
  {
   "cell_type": "code",
   "execution_count": 139,
   "metadata": {},
   "outputs": [
    {
     "data": {
      "text/plain": [
       "array(['satisfaction_level', 'last_evaluation', 'number_project',\n",
       "       'average_montly_hours', 'time_spend_company', 'work_accident',\n",
       "       'promotion_last_5years', 'dept_accounting', 'dept_hr', 'dept_it',\n",
       "       'dept_management', 'dept_marketing', 'dept_product_mng',\n",
       "       'dept_randd', 'dept_sales', 'dept_support', 'dept_technical',\n",
       "       'salary_high', 'salary_low', 'salary_medium'], dtype=object)"
      ]
     },
     "execution_count": 139,
     "metadata": {},
     "output_type": "execute_result"
    }
   ],
   "source": [
    "X_train.columns.values"
   ]
  },
  {
   "cell_type": "code",
   "execution_count": 140,
   "metadata": {},
   "outputs": [],
   "source": [
    "export_graphviz(\n",
    "    tree,\n",
    "    out_file=r'C:\\Users\\Nicolas\\Anaconda3\\pkgs\\graphviz-2.38-hfd603c8_2\\Library\\bin/graphviz/hr_tree.dot',\n",
    "    feature_names=X_train.columns,\n",
    "    class_names=y_train.unique().astype(str),\n",
    "    rounded=True,\n",
    "    max_depth=2,\n",
    "    filled=True,\n",
    "    rotate=True)"
   ]
  },
  {
   "cell_type": "code",
   "execution_count": 141,
   "metadata": {},
   "outputs": [],
   "source": [
    "# type this into the command line: \n",
    "# dot -Tpng C:\\Users\\Nicolas\\Anaconda3\\pkgs\\graphviz-2.38-hfd603c8_2\\Library\\bin\\graphviz/hr_tree.dot -o \n",
    "# C:\\Users\\Nicolas\\Anaconda3\\pkgs\\graphviz-2.38-hfd603c8_2\\Library\\bin\\graphviz/hr_tree.jpg"
   ]
  },
  {
   "cell_type": "code",
   "execution_count": 142,
   "metadata": {},
   "outputs": [],
   "source": [
    "import matplotlib as mpl\n",
    "mpl.rcParams['figure.dpi']= 400"
   ]
  },
  {
   "cell_type": "code",
   "execution_count": 143,
   "metadata": {},
   "outputs": [
    {
     "data": {
      "image/png": "[encoded data removed]",
      "text/plain": [
       "<Figure size 6000x6000 with 1 Axes>"
      ]
     },
     "metadata": {},
     "output_type": "display_data"
    }
   ],
   "source": [
    "tree_plot = plt.imread(r'C:\\Users\\Nicolas\\Anaconda3\\pkgs\\graphviz-2.38-hfd603c8_2\\Library\\bin\\graphviz/hr_tree.jpg')\n",
    "plt.figure(figsize=(15,15))\n",
    "plt.grid(None, alpha=0)\n",
    "plt.axis('off')\n",
    "plt.title('Decision Tree Plot: \"Are they going to leave?\"')\n",
    "plt.xticks([]), plt.yticks([])\n",
    "show=plt.imshow(tree_plot, interpolation='nearest')"
   ]
  },
  {
   "cell_type": "markdown",
   "metadata": {},
   "source": [
    "Above, you can see the decision tree. For instance, here's someone who's likely to leave: satisfaction level under 0.465, number of projects under 2.5, last evaluation under 5.75, etc"
   ]
  },
  {
   "cell_type": "markdown",
   "metadata": {},
   "source": [
    "Inspecting the importance of various features"
   ]
  },
  {
   "cell_type": "code",
   "execution_count": 144,
   "metadata": {},
   "outputs": [
    {
     "data": {
      "text/html": [
       "<div>\n",
       "<style scoped>\n",
       "    .dataframe tbody tr th:only-of-type {\n",
       "        vertical-align: middle;\n",
       "    }\n",
       "\n",
       "    .dataframe tbody tr th {\n",
       "        vertical-align: top;\n",
       "    }\n",
       "\n",
       "    .dataframe thead th {\n",
       "        text-align: right;\n",
       "    }\n",
       "</style>\n",
       "<table border=\"1\" class=\"dataframe\">\n",
       "  <thead>\n",
       "    <tr style=\"text-align: right;\">\n",
       "      <th></th>\n",
       "      <th>Importance</th>\n",
       "    </tr>\n",
       "  </thead>\n",
       "  <tbody>\n",
       "    <tr>\n",
       "      <th>satisfaction_level</th>\n",
       "      <td>0.493014</td>\n",
       "    </tr>\n",
       "    <tr>\n",
       "      <th>last_evaluation</th>\n",
       "      <td>0.147394</td>\n",
       "    </tr>\n",
       "    <tr>\n",
       "      <th>time_spend_company</th>\n",
       "      <td>0.144354</td>\n",
       "    </tr>\n",
       "    <tr>\n",
       "      <th>number_project</th>\n",
       "      <td>0.103512</td>\n",
       "    </tr>\n",
       "    <tr>\n",
       "      <th>average_montly_hours</th>\n",
       "      <td>0.093152</td>\n",
       "    </tr>\n",
       "  </tbody>\n",
       "</table>\n",
       "</div>"
      ],
      "text/plain": [
       "                      Importance\n",
       "satisfaction_level      0.493014\n",
       "last_evaluation         0.147394\n",
       "time_spend_company      0.144354\n",
       "number_project          0.103512\n",
       "average_montly_hours    0.093152"
      ]
     },
     "execution_count": 144,
     "metadata": {},
     "output_type": "execute_result"
    }
   ],
   "source": [
    "imp = pd.DataFrame(tree.feature_importances_, index=[X_train.columns], \n",
    "             columns=['Importance']).sort_values(by='Importance', ascending=False)\n",
    "imp.head()"
   ]
  },
  {
   "cell_type": "markdown",
   "metadata": {},
   "source": [
    "We can see that the satisfaction level is the most important feature"
   ]
  },
  {
   "cell_type": "markdown",
   "metadata": {},
   "source": [
    "Metrics dataframe"
   ]
  },
  {
   "cell_type": "code",
   "execution_count": 145,
   "metadata": {},
   "outputs": [
    {
     "data": {
      "text/html": [
       "<div>\n",
       "<style scoped>\n",
       "    .dataframe tbody tr th:only-of-type {\n",
       "        vertical-align: middle;\n",
       "    }\n",
       "\n",
       "    .dataframe tbody tr th {\n",
       "        vertical-align: top;\n",
       "    }\n",
       "\n",
       "    .dataframe thead th {\n",
       "        text-align: right;\n",
       "    }\n",
       "</style>\n",
       "<table border=\"1\" class=\"dataframe\">\n",
       "  <thead>\n",
       "    <tr style=\"text-align: right;\">\n",
       "      <th></th>\n",
       "      <th>Logit</th>\n",
       "      <th>SVM</th>\n",
       "      <th>Naïve Bayes</th>\n",
       "      <th>Decision Tree</th>\n",
       "    </tr>\n",
       "  </thead>\n",
       "  <tbody>\n",
       "    <tr>\n",
       "      <th>Recall</th>\n",
       "      <td>0.377358</td>\n",
       "      <td>0.785196</td>\n",
       "      <td>0.805515</td>\n",
       "      <td>0.921626</td>\n",
       "    </tr>\n",
       "    <tr>\n",
       "      <th>Precision</th>\n",
       "      <td>0.599078</td>\n",
       "      <td>0.987226</td>\n",
       "      <td>0.384615</td>\n",
       "      <td>0.847797</td>\n",
       "    </tr>\n",
       "    <tr>\n",
       "      <th>F1 Score</th>\n",
       "      <td>0.463045</td>\n",
       "      <td>0.874697</td>\n",
       "      <td>0.520638</td>\n",
       "      <td>0.883171</td>\n",
       "    </tr>\n",
       "    <tr>\n",
       "      <th>Accuracy</th>\n",
       "      <td>0.799000</td>\n",
       "      <td>0.948333</td>\n",
       "      <td>0.659333</td>\n",
       "      <td>0.944000</td>\n",
       "    </tr>\n",
       "  </tbody>\n",
       "</table>\n",
       "</div>"
      ],
      "text/plain": [
       "              Logit       SVM  Naïve Bayes  Decision Tree\n",
       "Recall     0.377358  0.785196     0.805515       0.921626\n",
       "Precision  0.599078  0.987226     0.384615       0.847797\n",
       "F1 Score   0.463045  0.874697     0.520638       0.883171\n",
       "Accuracy   0.799000  0.948333     0.659333       0.944000"
      ]
     },
     "execution_count": 145,
     "metadata": {},
     "output_type": "execute_result"
    }
   ],
   "source": [
    "metrics_tree = pd.DataFrame([recall_tree, precision_tree, \n",
    "                          f1_tree, accuracy_tree], \n",
    "                          columns=['Decision Tree'],\n",
    "                          index=['Recall', 'Precision', \n",
    "                                'F1 Score', 'Accuracy'])\n",
    "metrics_df = pd.concat([metrics_df, metrics_tree], axis=1, sort=False)\n",
    "metrics_df"
   ]
  },
  {
   "cell_type": "markdown",
   "metadata": {},
   "source": [
    "Metrics plot"
   ]
  },
  {
   "cell_type": "code",
   "execution_count": 147,
   "metadata": {},
   "outputs": [],
   "source": [
    "mpl.rcParams['figure.dpi']= 75"
   ]
  },
  {
   "cell_type": "code",
   "execution_count": 148,
   "metadata": {
    "scrolled": true
   },
   "outputs": [
    {
     "data": {
      "image/png": "[encoded data removed]",
      "text/plain": [
       "<Figure size 600x375 with 1 Axes>"
      ]
     },
     "metadata": {
      "needs_background": "light"
     },
     "output_type": "display_data"
    }
   ],
   "source": [
    "fig, ax = plt.subplots(figsize=(8, 5))\n",
    "\n",
    "ax.plot(metrics_df.index, metrics_df['Logit'], color='white', \n",
    "        marker='o', ms=10, linewidth=2, linestyle='dashed', alpha=0.3)\n",
    "\n",
    "ax.plot(metrics_df.index, metrics_df['SVM'], color='white', \n",
    "        marker='s', ms=10, linewidth=2, linestyle='dashed', alpha=0.3)\n",
    "\n",
    "ax.plot(metrics_df.index, metrics_df['Naïve Bayes'], color='white', \n",
    "        marker='^', ms=10, linewidth=2, linestyle='dashed', alpha=0.3)\n",
    "\n",
    "ax.plot(metrics_df.index, metrics_df['Decision Tree'], color='#E3C567', \n",
    "        marker='D', ms=10, linewidth=2, linestyle='dashed')\n",
    "\n",
    "ax.legend(['Logit', 'SVM', 'Naive Bayes', 'Decision Tree'], \n",
    "          fontsize='large', framealpha=.4, loc='lower right')\n",
    "ax.set_yticklabels(['{:.0%}'.format(x) for x in ax.get_yticks()])\n",
    "plt.title('Histogram of Metrics per Algorithm')\n",
    "set_theme()\n",
    "plt.show()"
   ]
  },
  {
   "cell_type": "markdown",
   "metadata": {},
   "source": [
    "So far the best model is the decision tree. The most important metric here is either the recall score, or the f1 score, which is a weighted mixture of precision and recall. It largely depends how a manager would want to isolate a target group. Would you end up with a large samples, with 80% of the people who will potentially quit, or a small sample containing only people who will definitely quit, but missing many more? "
   ]
  },
  {
   "cell_type": "markdown",
   "metadata": {},
   "source": [
    "#### #5. Multi-Layer Perceptron Classifier (Neural Network)"
   ]
  },
  {
   "cell_type": "code",
   "execution_count": 199,
   "metadata": {},
   "outputs": [],
   "source": [
    "net = MLPClassifier(hidden_layer_sizes=(24, 48), batch_size=8,\n",
    "                   activation='relu', solver='adam',\n",
    "                   early_stopping=True)"
   ]
  },
  {
   "cell_type": "code",
   "execution_count": 200,
   "metadata": {
    "scrolled": true
   },
   "outputs": [
    {
     "data": {
      "text/plain": [
       "MLPClassifier(activation='relu', alpha=0.0001, batch_size=8, beta_1=0.9,\n",
       "       beta_2=0.999, early_stopping=True, epsilon=1e-08,\n",
       "       hidden_layer_sizes=(24, 48), learning_rate='constant',\n",
       "       learning_rate_init=0.001, max_iter=200, momentum=0.9,\n",
       "       nesterovs_momentum=True, power_t=0.5, random_state=None,\n",
       "       shuffle=True, solver='adam', tol=0.0001, validation_fraction=0.1,\n",
       "       verbose=False, warm_start=False)"
      ]
     },
     "execution_count": 200,
     "metadata": {},
     "output_type": "execute_result"
    }
   ],
   "source": [
    "net.fit(X_train, y_train)"
   ]
  },
  {
   "cell_type": "code",
   "execution_count": 201,
   "metadata": {},
   "outputs": [],
   "source": [
    "y_pred = net.predict(X_test)"
   ]
  },
  {
   "cell_type": "code",
   "execution_count": 202,
   "metadata": {},
   "outputs": [
    {
     "data": {
      "text/plain": [
       "array([0, 1, 1, 0, 0, 0, 0, 1, 0, 1], dtype=int64)"
      ]
     },
     "execution_count": 202,
     "metadata": {},
     "output_type": "execute_result"
    }
   ],
   "source": [
    "y_pred[:10]"
   ]
  },
  {
   "cell_type": "code",
   "execution_count": 203,
   "metadata": {
    "scrolled": true
   },
   "outputs": [
    {
     "data": {
      "text/plain": [
       "array([2178,  822], dtype=int64)"
      ]
     },
     "execution_count": 203,
     "metadata": {},
     "output_type": "execute_result"
    }
   ],
   "source": [
    "counts = np.unique(y_pred, return_counts=True)[1]\n",
    "counts"
   ]
  },
  {
   "cell_type": "code",
   "execution_count": 204,
   "metadata": {},
   "outputs": [
    {
     "name": "stdout",
     "output_type": "stream",
     "text": [
      "The classifier predicts a departure in 38% of cases, compared to a real rate of 24%.\n"
     ]
    }
   ],
   "source": [
    "print('The classifier predicts a departure in %i%% of cases, compared'\\\n",
    "      ' to a real rate of 24%%.'%round(counts[1]*1e2/counts[0]))"
   ]
  },
  {
   "cell_type": "markdown",
   "metadata": {},
   "source": [
    "Evaluating the predictions:"
   ]
  },
  {
   "cell_type": "code",
   "execution_count": 205,
   "metadata": {
    "scrolled": true
   },
   "outputs": [
    {
     "data": {
      "text/plain": [
       "array([[2064,  247],\n",
       "       [ 114,  575]], dtype=int64)"
      ]
     },
     "execution_count": 205,
     "metadata": {},
     "output_type": "execute_result"
    }
   ],
   "source": [
    "confusion_matrix(y_test, y_pred)"
   ]
  },
  {
   "cell_type": "code",
   "execution_count": 206,
   "metadata": {},
   "outputs": [
    {
     "data": {
      "text/plain": [
       "0.8345428156748912"
      ]
     },
     "execution_count": 206,
     "metadata": {},
     "output_type": "execute_result"
    }
   ],
   "source": [
    "recall_net = recall_score(y_test, y_pred)\n",
    "recall_net"
   ]
  },
  {
   "cell_type": "code",
   "execution_count": 207,
   "metadata": {},
   "outputs": [
    {
     "name": "stdout",
     "output_type": "stream",
     "text": [
      "83% of the people who left the company were predicted to do so.\n"
     ]
    }
   ],
   "source": [
    "print('%i%% of the people who left the company were predicted to do so.'%round(recall_net*100))"
   ]
  },
  {
   "cell_type": "code",
   "execution_count": 208,
   "metadata": {},
   "outputs": [
    {
     "data": {
      "text/plain": [
       "0.6995133819951338"
      ]
     },
     "execution_count": 208,
     "metadata": {},
     "output_type": "execute_result"
    }
   ],
   "source": [
    "precision_net = precision_score(y_test, y_pred)\n",
    "precision_net"
   ]
  },
  {
   "cell_type": "code",
   "execution_count": 209,
   "metadata": {},
   "outputs": [
    {
     "name": "stdout",
     "output_type": "stream",
     "text": [
      "70% of the people who didn't leave the company were predicted to do so.\n"
     ]
    }
   ],
   "source": [
    "print('%i%% of the people who didn\\'t leave the company were predicted to do so.'%round(precision_net*100))"
   ]
  },
  {
   "cell_type": "code",
   "execution_count": 210,
   "metadata": {},
   "outputs": [
    {
     "data": {
      "text/plain": [
       "0.7610853739245533"
      ]
     },
     "execution_count": 210,
     "metadata": {},
     "output_type": "execute_result"
    }
   ],
   "source": [
    "f1_net = f1_score(y_test, y_pred)\n",
    "f1_net"
   ]
  },
  {
   "cell_type": "code",
   "execution_count": 211,
   "metadata": {},
   "outputs": [
    {
     "name": "stdout",
     "output_type": "stream",
     "text": [
      "f1 score: 76%.\n"
     ]
    }
   ],
   "source": [
    "print('f1 score: %i%%.'%round(f1_net*100))"
   ]
  },
  {
   "cell_type": "code",
   "execution_count": 212,
   "metadata": {},
   "outputs": [
    {
     "data": {
      "text/plain": [
       "0.8796666666666667"
      ]
     },
     "execution_count": 212,
     "metadata": {},
     "output_type": "execute_result"
    }
   ],
   "source": [
    "accuracy_net = accuracy_score(y_test, y_pred)\n",
    "accuracy_net"
   ]
  },
  {
   "cell_type": "code",
   "execution_count": 213,
   "metadata": {
    "scrolled": true
   },
   "outputs": [
    {
     "name": "stdout",
     "output_type": "stream",
     "text": [
      "88% of the people were classified in the correct category.\n"
     ]
    }
   ],
   "source": [
    "print('%i%% of the people were classified in the correct category.'%round(accuracy_net*100))"
   ]
  },
  {
   "cell_type": "markdown",
   "metadata": {},
   "source": [
    "Grid Search for Hyperparameter Fine-Tuning"
   ]
  },
  {
   "cell_type": "code",
   "execution_count": 214,
   "metadata": {},
   "outputs": [],
   "source": [
    "params = {'alpha':np.linspace(0.00005, 0.0001, 5),\n",
    "          'hidden_layer_sizes':[(32, 64), (64, 128)],\n",
    "          'batch_size':[8, 16, 24, 32, 64, 100]\n",
    "         }"
   ]
  },
  {
   "cell_type": "code",
   "execution_count": 217,
   "metadata": {},
   "outputs": [],
   "source": [
    "net_grid = RandomizedSearchCV(net, params, scoring='recall', cv=3, verbose=0,\n",
    "                              n_jobs=-1, n_iter=50, return_train_score=True)"
   ]
  },
  {
   "cell_type": "code",
   "execution_count": 218,
   "metadata": {},
   "outputs": [
    {
     "name": "stdout",
     "output_type": "stream",
     "text": [
      "2.8666666666666667 minutes\n"
     ]
    }
   ],
   "source": [
    "start_timer = time()\n",
    "net_grid.fit(X_train, y_train)\n",
    "stop_timer = time()\n",
    "print(round(stop_timer-start_timer)/60, 'minutes')"
   ]
  },
  {
   "cell_type": "code",
   "execution_count": 219,
   "metadata": {
    "scrolled": true
   },
   "outputs": [
    {
     "data": {
      "text/plain": [
       "0.8681382194288824"
      ]
     },
     "execution_count": 219,
     "metadata": {},
     "output_type": "execute_result"
    }
   ],
   "source": [
    "net_grid.best_score_"
   ]
  },
  {
   "cell_type": "code",
   "execution_count": 220,
   "metadata": {},
   "outputs": [
    {
     "data": {
      "text/plain": [
       "{'hidden_layer_sizes': (32, 64), 'batch_size': 8, 'alpha': 0.0001}"
      ]
     },
     "execution_count": 220,
     "metadata": {},
     "output_type": "execute_result"
    }
   ],
   "source": [
    "net_grid.best_params_"
   ]
  },
  {
   "cell_type": "markdown",
   "metadata": {},
   "source": [
    "We did NOT get a better recall score using the grid search"
   ]
  },
  {
   "cell_type": "markdown",
   "metadata": {},
   "source": [
    "Metrics dataframe"
   ]
  },
  {
   "cell_type": "code",
   "execution_count": 221,
   "metadata": {},
   "outputs": [
    {
     "data": {
      "text/html": [
       "<div>\n",
       "<style scoped>\n",
       "    .dataframe tbody tr th:only-of-type {\n",
       "        vertical-align: middle;\n",
       "    }\n",
       "\n",
       "    .dataframe tbody tr th {\n",
       "        vertical-align: top;\n",
       "    }\n",
       "\n",
       "    .dataframe thead th {\n",
       "        text-align: right;\n",
       "    }\n",
       "</style>\n",
       "<table border=\"1\" class=\"dataframe\">\n",
       "  <thead>\n",
       "    <tr style=\"text-align: right;\">\n",
       "      <th></th>\n",
       "      <th>Logit</th>\n",
       "      <th>SVM</th>\n",
       "      <th>Naïve Bayes</th>\n",
       "      <th>Decision Tree</th>\n",
       "      <th>MLP</th>\n",
       "    </tr>\n",
       "  </thead>\n",
       "  <tbody>\n",
       "    <tr>\n",
       "      <th>Recall</th>\n",
       "      <td>0.377358</td>\n",
       "      <td>0.785196</td>\n",
       "      <td>0.805515</td>\n",
       "      <td>0.921626</td>\n",
       "      <td>0.834543</td>\n",
       "    </tr>\n",
       "    <tr>\n",
       "      <th>Precision</th>\n",
       "      <td>0.599078</td>\n",
       "      <td>0.987226</td>\n",
       "      <td>0.384615</td>\n",
       "      <td>0.847797</td>\n",
       "      <td>0.699513</td>\n",
       "    </tr>\n",
       "    <tr>\n",
       "      <th>F1 Score</th>\n",
       "      <td>0.463045</td>\n",
       "      <td>0.874697</td>\n",
       "      <td>0.520638</td>\n",
       "      <td>0.883171</td>\n",
       "      <td>0.761085</td>\n",
       "    </tr>\n",
       "    <tr>\n",
       "      <th>Accuracy</th>\n",
       "      <td>0.799000</td>\n",
       "      <td>0.948333</td>\n",
       "      <td>0.659333</td>\n",
       "      <td>0.944000</td>\n",
       "      <td>0.879667</td>\n",
       "    </tr>\n",
       "  </tbody>\n",
       "</table>\n",
       "</div>"
      ],
      "text/plain": [
       "              Logit       SVM  Naïve Bayes  Decision Tree       MLP\n",
       "Recall     0.377358  0.785196     0.805515       0.921626  0.834543\n",
       "Precision  0.599078  0.987226     0.384615       0.847797  0.699513\n",
       "F1 Score   0.463045  0.874697     0.520638       0.883171  0.761085\n",
       "Accuracy   0.799000  0.948333     0.659333       0.944000  0.879667"
      ]
     },
     "execution_count": 221,
     "metadata": {},
     "output_type": "execute_result"
    }
   ],
   "source": [
    "metrics_net = pd.DataFrame([recall_net, precision_net, \n",
    "                          f1_net, accuracy_net], \n",
    "                          columns=['MLP'],\n",
    "                          index=['Recall', 'Precision', \n",
    "                                'F1 Score', 'Accuracy'])\n",
    "metrics_df = pd.concat([metrics_df, metrics_net], axis=1, sort=False)\n",
    "metrics_df"
   ]
  },
  {
   "cell_type": "markdown",
   "metadata": {},
   "source": [
    "Metrics plot"
   ]
  },
  {
   "cell_type": "code",
   "execution_count": 223,
   "metadata": {
    "scrolled": false
   },
   "outputs": [
    {
     "data": {
      "image/png": "[encoded data removed]",
      "text/plain": [
       "<Figure size 600x375 with 1 Axes>"
      ]
     },
     "metadata": {
      "needs_background": "light"
     },
     "output_type": "display_data"
    }
   ],
   "source": [
    "fig, ax = plt.subplots(figsize=(8, 5))\n",
    "\n",
    "ax.plot(metrics_df.index, metrics_df['Logit'], color='white', \n",
    "        marker='o', ms=10, linewidth=2, linestyle='dashed', alpha=0.3)\n",
    "\n",
    "ax.plot(metrics_df.index, metrics_df['SVM'], color='white', \n",
    "        marker='s', ms=10, linewidth=2, linestyle='dashed', alpha=0.3)\n",
    "\n",
    "ax.plot(metrics_df.index, metrics_df['Naïve Bayes'], color='white', \n",
    "        marker='^', ms=10, linewidth=2, linestyle='dashed', alpha=0.3)\n",
    "\n",
    "ax.plot(metrics_df.index, metrics_df['Decision Tree'], color='white', \n",
    "        marker='D', ms=10, linewidth=2, linestyle='dashed', alpha=0.3)\n",
    "\n",
    "ax.plot(metrics_df.index, metrics_df['MLP'], color='#E3C567', \n",
    "        marker='v', ms=12, linewidth=2, linestyle='dashed')\n",
    "\n",
    "ax.legend(['Logit', 'SVM', 'Naïve Bayes', 'Decision Tree', 'MLP'], \n",
    "          fontsize='large', framealpha=.4, loc='lower right')\n",
    "ax.set_yticklabels(['{:.0%}'.format(x) for x in ax.get_yticks()])\n",
    "plt.title('Histogram of Metrics per Algorithm')\n",
    "set_theme()\n",
    "plt.show()"
   ]
  },
  {
   "cell_type": "markdown",
   "metadata": {},
   "source": [
    "#### #6. Random Forest Classifier"
   ]
  },
  {
   "cell_type": "code",
   "execution_count": 224,
   "metadata": {},
   "outputs": [],
   "source": [
    "rf = RandomForestClassifier(n_estimators=1_00, n_jobs=-1)"
   ]
  },
  {
   "cell_type": "code",
   "execution_count": 225,
   "metadata": {
    "scrolled": true
   },
   "outputs": [
    {
     "data": {
      "text/plain": [
       "RandomForestClassifier(bootstrap=True, class_weight=None, criterion='gini',\n",
       "            max_depth=None, max_features='auto', max_leaf_nodes=None,\n",
       "            min_impurity_decrease=0.0, min_impurity_split=None,\n",
       "            min_samples_leaf=1, min_samples_split=2,\n",
       "            min_weight_fraction_leaf=0.0, n_estimators=100, n_jobs=-1,\n",
       "            oob_score=False, random_state=None, verbose=0,\n",
       "            warm_start=False)"
      ]
     },
     "execution_count": 225,
     "metadata": {},
     "output_type": "execute_result"
    }
   ],
   "source": [
    "rf.fit(X_train, y_train)"
   ]
  },
  {
   "cell_type": "code",
   "execution_count": 226,
   "metadata": {},
   "outputs": [],
   "source": [
    "y_pred = rf.predict(X_test)"
   ]
  },
  {
   "cell_type": "code",
   "execution_count": 227,
   "metadata": {},
   "outputs": [
    {
     "data": {
      "text/plain": [
       "array([0, 1, 0, 0, 0, 0, 0, 1, 0, 1], dtype=int64)"
      ]
     },
     "execution_count": 227,
     "metadata": {},
     "output_type": "execute_result"
    }
   ],
   "source": [
    "y_pred[:10]"
   ]
  },
  {
   "cell_type": "code",
   "execution_count": 228,
   "metadata": {
    "scrolled": true
   },
   "outputs": [
    {
     "data": {
      "text/plain": [
       "array([2326,  674], dtype=int64)"
      ]
     },
     "execution_count": 228,
     "metadata": {},
     "output_type": "execute_result"
    }
   ],
   "source": [
    "counts = np.unique(y_pred, return_counts=True)[1]\n",
    "counts"
   ]
  },
  {
   "cell_type": "code",
   "execution_count": 229,
   "metadata": {},
   "outputs": [
    {
     "name": "stdout",
     "output_type": "stream",
     "text": [
      "The classifier predicts a departure in 29% of cases, compared to a real rate of 24%.\n"
     ]
    }
   ],
   "source": [
    "print('The classifier predicts a departure in %i%% of cases, compared'\\\n",
    "      ' to a real rate of 24%%.'%round(counts[1]*1e2/counts[0]))"
   ]
  },
  {
   "cell_type": "markdown",
   "metadata": {},
   "source": [
    "Evaluating the predictions:"
   ]
  },
  {
   "cell_type": "code",
   "execution_count": 230,
   "metadata": {
    "scrolled": true
   },
   "outputs": [
    {
     "data": {
      "text/plain": [
       "array([[2304,    7],\n",
       "       [  22,  667]], dtype=int64)"
      ]
     },
     "execution_count": 230,
     "metadata": {},
     "output_type": "execute_result"
    }
   ],
   "source": [
    "confusion_matrix(y_test, y_pred)"
   ]
  },
  {
   "cell_type": "code",
   "execution_count": 231,
   "metadata": {},
   "outputs": [
    {
     "data": {
      "text/plain": [
       "0.9680696661828737"
      ]
     },
     "execution_count": 231,
     "metadata": {},
     "output_type": "execute_result"
    }
   ],
   "source": [
    "recall_rf = recall_score(y_test, y_pred)\n",
    "recall_rf"
   ]
  },
  {
   "cell_type": "code",
   "execution_count": 232,
   "metadata": {},
   "outputs": [
    {
     "name": "stdout",
     "output_type": "stream",
     "text": [
      "97% of the people who left the company were predicted to do so.\n"
     ]
    }
   ],
   "source": [
    "print('%i%% of the people who left the company were predicted to do so.'%round(recall_rf*100))"
   ]
  },
  {
   "cell_type": "code",
   "execution_count": 233,
   "metadata": {},
   "outputs": [
    {
     "data": {
      "text/plain": [
       "0.9896142433234422"
      ]
     },
     "execution_count": 233,
     "metadata": {},
     "output_type": "execute_result"
    }
   ],
   "source": [
    "precision_rf = precision_score(y_test, y_pred)\n",
    "precision_rf"
   ]
  },
  {
   "cell_type": "code",
   "execution_count": 234,
   "metadata": {},
   "outputs": [
    {
     "name": "stdout",
     "output_type": "stream",
     "text": [
      "99% of the people who didn't leave the company were predicted to do so.\n"
     ]
    }
   ],
   "source": [
    "print('%i%% of the people who didn\\'t leave the company were predicted to do so.'%round(precision_rf*100))"
   ]
  },
  {
   "cell_type": "code",
   "execution_count": 235,
   "metadata": {},
   "outputs": [
    {
     "data": {
      "text/plain": [
       "0.9787234042553191"
      ]
     },
     "execution_count": 235,
     "metadata": {},
     "output_type": "execute_result"
    }
   ],
   "source": [
    "f1_rf = f1_score(y_test, y_pred)\n",
    "f1_rf"
   ]
  },
  {
   "cell_type": "code",
   "execution_count": 236,
   "metadata": {},
   "outputs": [
    {
     "name": "stdout",
     "output_type": "stream",
     "text": [
      "f1 score: 76%.\n"
     ]
    }
   ],
   "source": [
    "print('f1 score: %i%%.'%round(f1_net*100))"
   ]
  },
  {
   "cell_type": "code",
   "execution_count": 237,
   "metadata": {},
   "outputs": [
    {
     "data": {
      "text/plain": [
       "0.9903333333333333"
      ]
     },
     "execution_count": 237,
     "metadata": {},
     "output_type": "execute_result"
    }
   ],
   "source": [
    "accuracy_rf = accuracy_score(y_test, y_pred)\n",
    "accuracy_rf"
   ]
  },
  {
   "cell_type": "code",
   "execution_count": 238,
   "metadata": {
    "scrolled": true
   },
   "outputs": [
    {
     "name": "stdout",
     "output_type": "stream",
     "text": [
      "99% of the people were classified in the correct category.\n"
     ]
    }
   ],
   "source": [
    "print('%i%% of the people were classified in the correct category.'%round(accuracy_rf*100))"
   ]
  },
  {
   "cell_type": "markdown",
   "metadata": {},
   "source": [
    "Grid Search for Hyperparameter Fine-Tuning"
   ]
  },
  {
   "cell_type": "code",
   "execution_count": 239,
   "metadata": {},
   "outputs": [],
   "source": [
    "params = {'max_features':np.arange(6, X_train.shape[1]),\n",
    "          'min_impurity_decrease':np.linspace(0, .01, 10),\n",
    "          'min_samples_split':np.arange(10, 100, 10)\n",
    "         }"
   ]
  },
  {
   "cell_type": "code",
   "execution_count": 240,
   "metadata": {},
   "outputs": [],
   "source": [
    "rf_grid = RandomizedSearchCV(rf, params, scoring='recall', cv=3, verbose=1,\n",
    "                              n_jobs=-1, n_iter=50, return_train_score=True)"
   ]
  },
  {
   "cell_type": "code",
   "execution_count": 241,
   "metadata": {},
   "outputs": [
    {
     "name": "stdout",
     "output_type": "stream",
     "text": [
      "Fitting 3 folds for each of 50 candidates, totalling 150 fits\n"
     ]
    },
    {
     "name": "stderr",
     "output_type": "stream",
     "text": [
      "[Parallel(n_jobs=-1)]: Done  42 tasks      | elapsed:   12.6s\n",
      "[Parallel(n_jobs=-1)]: Done 150 out of 150 | elapsed:   39.3s finished\n"
     ]
    },
    {
     "name": "stdout",
     "output_type": "stream",
     "text": [
      "40 seconds\n"
     ]
    }
   ],
   "source": [
    "start_timer = time()\n",
    "rf_grid.fit(X_train, y_train)\n",
    "stop_timer = time()\n",
    "print(round(stop_timer-start_timer), 'seconds')"
   ]
  },
  {
   "cell_type": "code",
   "execution_count": 242,
   "metadata": {
    "scrolled": true
   },
   "outputs": [
    {
     "data": {
      "text/plain": [
       "0.9240108149621208"
      ]
     },
     "execution_count": 242,
     "metadata": {},
     "output_type": "execute_result"
    }
   ],
   "source": [
    "rf_grid.best_score_"
   ]
  },
  {
   "cell_type": "code",
   "execution_count": 243,
   "metadata": {},
   "outputs": [
    {
     "data": {
      "text/plain": [
       "{'min_samples_split': 30, 'min_impurity_decrease': 0.0, 'max_features': 14}"
      ]
     },
     "execution_count": 243,
     "metadata": {},
     "output_type": "execute_result"
    }
   ],
   "source": [
    "rf_grid.best_params_"
   ]
  },
  {
   "cell_type": "markdown",
   "metadata": {},
   "source": [
    "We did NOT get a better recall score using the grid search"
   ]
  },
  {
   "cell_type": "markdown",
   "metadata": {},
   "source": [
    "Metrics dataframe"
   ]
  },
  {
   "cell_type": "code",
   "execution_count": 244,
   "metadata": {},
   "outputs": [
    {
     "data": {
      "text/html": [
       "<div>\n",
       "<style scoped>\n",
       "    .dataframe tbody tr th:only-of-type {\n",
       "        vertical-align: middle;\n",
       "    }\n",
       "\n",
       "    .dataframe tbody tr th {\n",
       "        vertical-align: top;\n",
       "    }\n",
       "\n",
       "    .dataframe thead th {\n",
       "        text-align: right;\n",
       "    }\n",
       "</style>\n",
       "<table border=\"1\" class=\"dataframe\">\n",
       "  <thead>\n",
       "    <tr style=\"text-align: right;\">\n",
       "      <th></th>\n",
       "      <th>Logit</th>\n",
       "      <th>SVM</th>\n",
       "      <th>Naïve Bayes</th>\n",
       "      <th>Decision Tree</th>\n",
       "      <th>MLP</th>\n",
       "      <th>Random Forest</th>\n",
       "    </tr>\n",
       "  </thead>\n",
       "  <tbody>\n",
       "    <tr>\n",
       "      <th>Recall</th>\n",
       "      <td>0.377358</td>\n",
       "      <td>0.785196</td>\n",
       "      <td>0.805515</td>\n",
       "      <td>0.921626</td>\n",
       "      <td>0.834543</td>\n",
       "      <td>0.968070</td>\n",
       "    </tr>\n",
       "    <tr>\n",
       "      <th>Precision</th>\n",
       "      <td>0.599078</td>\n",
       "      <td>0.987226</td>\n",
       "      <td>0.384615</td>\n",
       "      <td>0.847797</td>\n",
       "      <td>0.699513</td>\n",
       "      <td>0.989614</td>\n",
       "    </tr>\n",
       "    <tr>\n",
       "      <th>F1 Score</th>\n",
       "      <td>0.463045</td>\n",
       "      <td>0.874697</td>\n",
       "      <td>0.520638</td>\n",
       "      <td>0.883171</td>\n",
       "      <td>0.761085</td>\n",
       "      <td>0.978723</td>\n",
       "    </tr>\n",
       "    <tr>\n",
       "      <th>Accuracy</th>\n",
       "      <td>0.799000</td>\n",
       "      <td>0.948333</td>\n",
       "      <td>0.659333</td>\n",
       "      <td>0.944000</td>\n",
       "      <td>0.879667</td>\n",
       "      <td>0.990333</td>\n",
       "    </tr>\n",
       "  </tbody>\n",
       "</table>\n",
       "</div>"
      ],
      "text/plain": [
       "              Logit       SVM  Naïve Bayes  Decision Tree       MLP  \\\n",
       "Recall     0.377358  0.785196     0.805515       0.921626  0.834543   \n",
       "Precision  0.599078  0.987226     0.384615       0.847797  0.699513   \n",
       "F1 Score   0.463045  0.874697     0.520638       0.883171  0.761085   \n",
       "Accuracy   0.799000  0.948333     0.659333       0.944000  0.879667   \n",
       "\n",
       "           Random Forest  \n",
       "Recall          0.968070  \n",
       "Precision       0.989614  \n",
       "F1 Score        0.978723  \n",
       "Accuracy        0.990333  "
      ]
     },
     "execution_count": 244,
     "metadata": {},
     "output_type": "execute_result"
    }
   ],
   "source": [
    "metrics_rf = pd.DataFrame([recall_rf, precision_rf, \n",
    "                          f1_rf, accuracy_rf], \n",
    "                          columns=['Random Forest'],\n",
    "                          index=['Recall', 'Precision', \n",
    "                                'F1 Score', 'Accuracy'])\n",
    "metrics_df = pd.concat([metrics_df, metrics_rf], axis=1, sort=False)\n",
    "metrics_df"
   ]
  },
  {
   "cell_type": "markdown",
   "metadata": {},
   "source": [
    "Metrics plot"
   ]
  },
  {
   "cell_type": "code",
   "execution_count": 245,
   "metadata": {},
   "outputs": [],
   "source": [
    "mpl.rcParams['figure.dpi']= 75"
   ]
  },
  {
   "cell_type": "markdown",
   "metadata": {},
   "source": [
    "<font color='red'>__ATTENTION:__</font> We will start removing the weaker models from the plot"
   ]
  },
  {
   "cell_type": "code",
   "execution_count": 246,
   "metadata": {
    "scrolled": true
   },
   "outputs": [
    {
     "data": {
      "image/png": "[encoded data removed]",
      "text/plain": [
       "<Figure size 600x375 with 1 Axes>"
      ]
     },
     "metadata": {
      "needs_background": "light"
     },
     "output_type": "display_data"
    }
   ],
   "source": [
    "fig, ax = plt.subplots(figsize=(8, 5))\n",
    "\n",
    "ax.plot(metrics_df.index, metrics_df['Decision Tree'], color='white', \n",
    "        marker='D', ms=10, linewidth=2, linestyle='dashed', alpha=0.3)\n",
    "\n",
    "ax.plot(metrics_df.index, metrics_df['MLP'], color='white', \n",
    "        marker='v', ms=12, linewidth=2, linestyle='dashed', alpha=0.3)\n",
    "\n",
    "ax.plot(metrics_df.index, metrics_df['Random Forest'], color='#E3C567', \n",
    "        marker='o', ms=10, linewidth=2, linestyle='dashed')\n",
    "\n",
    "ax.legend(['Decision Tree', 'MLP', 'Random Forest'], \n",
    "          fontsize='large', framealpha=.4, loc='lower right')\n",
    "ax.set_yticklabels(['{:.0%}'.format(x) for x in ax.get_yticks()])\n",
    "plt.title('Histogram of Metrics per Algorithm')\n",
    "set_theme()\n",
    "plt.show()"
   ]
  },
  {
   "cell_type": "markdown",
   "metadata": {},
   "source": [
    "So far, the random forest is the best algorithm, by a _large_ margin"
   ]
  },
  {
   "cell_type": "markdown",
   "metadata": {},
   "source": [
    "#### #7. Voting Classifier"
   ]
  },
  {
   "cell_type": "code",
   "execution_count": 247,
   "metadata": {},
   "outputs": [],
   "source": [
    "voting = VotingClassifier([('dt', tree), ('mlp', net), ('rf', rf)], voting='hard')"
   ]
  },
  {
   "cell_type": "code",
   "execution_count": 248,
   "metadata": {},
   "outputs": [
    {
     "data": {
      "text/plain": [
       "VotingClassifier(estimators=[('dt', DecisionTreeClassifier(class_weight=None, criterion='gini', max_depth=None,\n",
       "            max_features=None, max_leaf_nodes=None,\n",
       "            min_impurity_decrease=0.0, min_impurity_split=None,\n",
       "            min_samples_leaf=1, min_samples_split=2,\n",
       "            min_weight_fraction_leaf..._jobs=-1,\n",
       "            oob_score=False, random_state=None, verbose=0,\n",
       "            warm_start=False))],\n",
       "         flatten_transform=None, n_jobs=1, voting='hard', weights=None)"
      ]
     },
     "execution_count": 248,
     "metadata": {},
     "output_type": "execute_result"
    }
   ],
   "source": [
    "voting.fit(X_train, y_train)"
   ]
  },
  {
   "cell_type": "code",
   "execution_count": 254,
   "metadata": {},
   "outputs": [
    {
     "name": "stderr",
     "output_type": "stream",
     "text": [
      "C:\\Users\\Nicolas\\Anaconda3\\lib\\site-packages\\sklearn\\preprocessing\\label.py:151: DeprecationWarning: The truth value of an empty array is ambiguous. Returning False, but in future this will result in an error. Use `array.size > 0` to check that an array is not empty.\n",
      "  if diff:\n"
     ]
    }
   ],
   "source": [
    "y_pred = voting.predict(X_test)"
   ]
  },
  {
   "cell_type": "code",
   "execution_count": 255,
   "metadata": {},
   "outputs": [
    {
     "data": {
      "text/plain": [
       "array([0, 1, 0, 0, 0, 0, 0, 1, 0, 1], dtype=int64)"
      ]
     },
     "execution_count": 255,
     "metadata": {},
     "output_type": "execute_result"
    }
   ],
   "source": [
    "y_pred[:10]"
   ]
  },
  {
   "cell_type": "code",
   "execution_count": 256,
   "metadata": {
    "scrolled": true
   },
   "outputs": [
    {
     "data": {
      "text/plain": [
       "array([2318,  682], dtype=int64)"
      ]
     },
     "execution_count": 256,
     "metadata": {},
     "output_type": "execute_result"
    }
   ],
   "source": [
    "counts = np.unique(y_pred, return_counts=True)[1]\n",
    "counts"
   ]
  },
  {
   "cell_type": "code",
   "execution_count": 257,
   "metadata": {},
   "outputs": [
    {
     "name": "stdout",
     "output_type": "stream",
     "text": [
      "The classifier predicts a departure in 29% of cases, compared to a real rate of 24%.\n"
     ]
    }
   ],
   "source": [
    "print('The classifier predicts a departure in %i%% of cases, compared'\\\n",
    "      ' to a real rate of 24%%.'%round(counts[1]*1e2/counts[0]))"
   ]
  },
  {
   "cell_type": "markdown",
   "metadata": {},
   "source": [
    "Evaluating the predictions:"
   ]
  },
  {
   "cell_type": "code",
   "execution_count": 258,
   "metadata": {
    "scrolled": true
   },
   "outputs": [
    {
     "data": {
      "text/plain": [
       "array([[2297,   14],\n",
       "       [  21,  668]], dtype=int64)"
      ]
     },
     "execution_count": 258,
     "metadata": {},
     "output_type": "execute_result"
    }
   ],
   "source": [
    "confusion_matrix(y_test, y_pred)"
   ]
  },
  {
   "cell_type": "code",
   "execution_count": 259,
   "metadata": {},
   "outputs": [
    {
     "data": {
      "text/plain": [
       "0.969521044992743"
      ]
     },
     "execution_count": 259,
     "metadata": {},
     "output_type": "execute_result"
    }
   ],
   "source": [
    "recall_voting = recall_score(y_test, y_pred)\n",
    "recall_voting"
   ]
  },
  {
   "cell_type": "code",
   "execution_count": 260,
   "metadata": {},
   "outputs": [
    {
     "name": "stdout",
     "output_type": "stream",
     "text": [
      "97% of the people who left the company were predicted to do so.\n"
     ]
    }
   ],
   "source": [
    "print('%i%% of the people who left the company were predicted to do so.'%round(recall_voting*100))"
   ]
  },
  {
   "cell_type": "code",
   "execution_count": 261,
   "metadata": {},
   "outputs": [
    {
     "data": {
      "text/plain": [
       "0.9794721407624634"
      ]
     },
     "execution_count": 261,
     "metadata": {},
     "output_type": "execute_result"
    }
   ],
   "source": [
    "precision_voting = precision_score(y_test, y_pred)\n",
    "precision_voting"
   ]
  },
  {
   "cell_type": "code",
   "execution_count": 262,
   "metadata": {},
   "outputs": [
    {
     "name": "stdout",
     "output_type": "stream",
     "text": [
      "98% of the people who didn't leave the company were predicted to do so.\n"
     ]
    }
   ],
   "source": [
    "print('%i%% of the people who didn\\'t leave the company were predicted to do so.'%round(precision_voting*100))"
   ]
  },
  {
   "cell_type": "code",
   "execution_count": 263,
   "metadata": {},
   "outputs": [
    {
     "data": {
      "text/plain": [
       "0.974471188913202"
      ]
     },
     "execution_count": 263,
     "metadata": {},
     "output_type": "execute_result"
    }
   ],
   "source": [
    "f1_voting = f1_score(y_test, y_pred)\n",
    "f1_voting"
   ]
  },
  {
   "cell_type": "code",
   "execution_count": 264,
   "metadata": {},
   "outputs": [
    {
     "name": "stdout",
     "output_type": "stream",
     "text": [
      "f1 score: 97%.\n"
     ]
    }
   ],
   "source": [
    "print('f1 score: %i%%.'%round(f1_voting*100))"
   ]
  },
  {
   "cell_type": "code",
   "execution_count": 265,
   "metadata": {},
   "outputs": [
    {
     "data": {
      "text/plain": [
       "0.9883333333333333"
      ]
     },
     "execution_count": 265,
     "metadata": {},
     "output_type": "execute_result"
    }
   ],
   "source": [
    "accuracy_voting = accuracy_score(y_test, y_pred)\n",
    "accuracy_voting"
   ]
  },
  {
   "cell_type": "code",
   "execution_count": 266,
   "metadata": {
    "scrolled": true
   },
   "outputs": [
    {
     "name": "stdout",
     "output_type": "stream",
     "text": [
      "99% of the people were classified in the correct category.\n"
     ]
    }
   ],
   "source": [
    "print('%i%% of the people were classified in the correct category.'%round(accuracy_voting*100))"
   ]
  },
  {
   "cell_type": "markdown",
   "metadata": {},
   "source": [
    "Grid Search for Hyperparameter Fine-Tuning"
   ]
  },
  {
   "cell_type": "code",
   "execution_count": 267,
   "metadata": {},
   "outputs": [],
   "source": [
    "params = {'voting':['soft', 'hard']}"
   ]
  },
  {
   "cell_type": "code",
   "execution_count": 271,
   "metadata": {},
   "outputs": [],
   "source": [
    "voting_grid = RandomizedSearchCV(voting, params, scoring='recall', cv=3, verbose=0,\n",
    "                              n_jobs=-1, return_train_score=True, n_iter=2)"
   ]
  },
  {
   "cell_type": "code",
   "execution_count": 272,
   "metadata": {},
   "outputs": [
    {
     "name": "stdout",
     "output_type": "stream",
     "text": [
      "19 seconds\n"
     ]
    }
   ],
   "source": [
    "start_timer = time()\n",
    "voting_grid.fit(X_train, y_train)\n",
    "stop_timer = time()\n",
    "print(round(stop_timer-start_timer), 'seconds')"
   ]
  },
  {
   "cell_type": "code",
   "execution_count": 273,
   "metadata": {
    "scrolled": true
   },
   "outputs": [
    {
     "data": {
      "text/plain": [
       "0.9531575209202744"
      ]
     },
     "execution_count": 273,
     "metadata": {},
     "output_type": "execute_result"
    }
   ],
   "source": [
    "voting_grid.best_score_"
   ]
  },
  {
   "cell_type": "code",
   "execution_count": 274,
   "metadata": {},
   "outputs": [
    {
     "data": {
      "text/plain": [
       "{'voting': 'hard'}"
      ]
     },
     "execution_count": 274,
     "metadata": {},
     "output_type": "execute_result"
    }
   ],
   "source": [
    "voting_grid.best_params_"
   ]
  },
  {
   "cell_type": "markdown",
   "metadata": {},
   "source": [
    "We did NOT get a better recall score using the grid search"
   ]
  },
  {
   "cell_type": "markdown",
   "metadata": {},
   "source": [
    "Metrics dataframe"
   ]
  },
  {
   "cell_type": "code",
   "execution_count": 275,
   "metadata": {},
   "outputs": [
    {
     "data": {
      "text/html": [
       "<div>\n",
       "<style scoped>\n",
       "    .dataframe tbody tr th:only-of-type {\n",
       "        vertical-align: middle;\n",
       "    }\n",
       "\n",
       "    .dataframe tbody tr th {\n",
       "        vertical-align: top;\n",
       "    }\n",
       "\n",
       "    .dataframe thead th {\n",
       "        text-align: right;\n",
       "    }\n",
       "</style>\n",
       "<table border=\"1\" class=\"dataframe\">\n",
       "  <thead>\n",
       "    <tr style=\"text-align: right;\">\n",
       "      <th></th>\n",
       "      <th>Logit</th>\n",
       "      <th>SVM</th>\n",
       "      <th>Naïve Bayes</th>\n",
       "      <th>Decision Tree</th>\n",
       "      <th>MLP</th>\n",
       "      <th>Random Forest</th>\n",
       "      <th>Voting Classifier</th>\n",
       "    </tr>\n",
       "  </thead>\n",
       "  <tbody>\n",
       "    <tr>\n",
       "      <th>Recall</th>\n",
       "      <td>0.377358</td>\n",
       "      <td>0.785196</td>\n",
       "      <td>0.805515</td>\n",
       "      <td>0.921626</td>\n",
       "      <td>0.834543</td>\n",
       "      <td>0.968070</td>\n",
       "      <td>0.969521</td>\n",
       "    </tr>\n",
       "    <tr>\n",
       "      <th>Precision</th>\n",
       "      <td>0.599078</td>\n",
       "      <td>0.987226</td>\n",
       "      <td>0.384615</td>\n",
       "      <td>0.847797</td>\n",
       "      <td>0.699513</td>\n",
       "      <td>0.989614</td>\n",
       "      <td>0.979472</td>\n",
       "    </tr>\n",
       "    <tr>\n",
       "      <th>F1 Score</th>\n",
       "      <td>0.463045</td>\n",
       "      <td>0.874697</td>\n",
       "      <td>0.520638</td>\n",
       "      <td>0.883171</td>\n",
       "      <td>0.761085</td>\n",
       "      <td>0.978723</td>\n",
       "      <td>0.974471</td>\n",
       "    </tr>\n",
       "    <tr>\n",
       "      <th>Accuracy</th>\n",
       "      <td>0.799000</td>\n",
       "      <td>0.948333</td>\n",
       "      <td>0.659333</td>\n",
       "      <td>0.944000</td>\n",
       "      <td>0.879667</td>\n",
       "      <td>0.990333</td>\n",
       "      <td>0.988333</td>\n",
       "    </tr>\n",
       "  </tbody>\n",
       "</table>\n",
       "</div>"
      ],
      "text/plain": [
       "              Logit       SVM  Naïve Bayes  Decision Tree       MLP  \\\n",
       "Recall     0.377358  0.785196     0.805515       0.921626  0.834543   \n",
       "Precision  0.599078  0.987226     0.384615       0.847797  0.699513   \n",
       "F1 Score   0.463045  0.874697     0.520638       0.883171  0.761085   \n",
       "Accuracy   0.799000  0.948333     0.659333       0.944000  0.879667   \n",
       "\n",
       "           Random Forest  Voting Classifier  \n",
       "Recall          0.968070           0.969521  \n",
       "Precision       0.989614           0.979472  \n",
       "F1 Score        0.978723           0.974471  \n",
       "Accuracy        0.990333           0.988333  "
      ]
     },
     "execution_count": 275,
     "metadata": {},
     "output_type": "execute_result"
    }
   ],
   "source": [
    "metrics_voting = pd.DataFrame([recall_voting, precision_voting, \n",
    "                          f1_voting, accuracy_voting], \n",
    "                          columns=['Voting Classifier'],\n",
    "                          index=['Recall', 'Precision', \n",
    "                                'F1 Score', 'Accuracy'])\n",
    "metrics_df = pd.concat([metrics_df, metrics_voting], axis=1, sort=False)\n",
    "metrics_df"
   ]
  },
  {
   "cell_type": "markdown",
   "metadata": {},
   "source": [
    "<font color='red'>__ATTENTION:__</font> Seems like we hit the peak of ensemble methods, so we will not add this model to the plot. We will move on to the next step: neural networks with Tensorflow. In the meantime, here's the performance of our models so far."
   ]
  },
  {
   "cell_type": "code",
   "execution_count": 276,
   "metadata": {
    "scrolled": true
   },
   "outputs": [
    {
     "data": {
      "image/png": "[encoded data removed]",
      "text/plain": [
       "<Figure size 600x375 with 1 Axes>"
      ]
     },
     "metadata": {
      "needs_background": "light"
     },
     "output_type": "display_data"
    }
   ],
   "source": [
    "fig, ax = plt.subplots(figsize=(8, 5))\n",
    "\n",
    "'''ax.plot(metrics_df.index, metrics_df['SVM'], color='white', \n",
    "        marker='s', ms=10, linewidth=2, linestyle='dashed', alpha=0.3)'''\n",
    "\n",
    "'''ax.plot(metrics_df.index, metrics_df['Naive Bayes'], color='white', \n",
    "        marker='^', ms=10, linewidth=2, linestyle='dashed', alpha=0.3)'''\n",
    "\n",
    "ax.plot(metrics_df.index, metrics_df['Decision Tree'], color='white', \n",
    "        marker='D', ms=10, linewidth=2, linestyle='dashed', alpha=0.3)\n",
    "\n",
    "ax.plot(metrics_df.index, metrics_df['MLP'], color='white', \n",
    "        marker='v', ms=12, linewidth=2, linestyle='dashed', alpha=0.3)\n",
    "\n",
    "ax.plot(metrics_df.index, metrics_df['Random Forest'], color='#E3C567', \n",
    "        marker='o', ms=10, linewidth=2, linestyle='dashed')\n",
    "\n",
    "ax.legend(['Decision Tree', 'MLP', 'Random Forest'], \n",
    "          fontsize='large', framealpha=.4, loc='lower right')\n",
    "ax.set_yticklabels(['{:.0%}'.format(x) for x in ax.get_yticks()])\n",
    "plt.title('Histogram of Metrics per Algorithm')\n",
    "set_theme()\n",
    "plt.show()"
   ]
  },
  {
   "cell_type": "markdown",
   "metadata": {},
   "source": [
    "#### #8. Fully Connected Neural Network"
   ]
  },
  {
   "cell_type": "code",
   "execution_count": 277,
   "metadata": {},
   "outputs": [],
   "source": [
    "scaler = MinMaxScaler()"
   ]
  },
  {
   "cell_type": "code",
   "execution_count": 278,
   "metadata": {},
   "outputs": [],
   "source": [
    "X_train = scaler.fit_transform(X_train).astype(np.float32)\n",
    "X_test = scaler.transform(X_test).astype(np.float32)"
   ]
  },
  {
   "cell_type": "code",
   "execution_count": 279,
   "metadata": {},
   "outputs": [],
   "source": [
    "y_train = np.array(y_train.astype(np.float32))\n",
    "y_test = np.array(y_test.astype(np.float32))"
   ]
  },
  {
   "cell_type": "code",
   "execution_count": 280,
   "metadata": {},
   "outputs": [],
   "source": [
    "y_train = to_categorical(y_train, 2)\n",
    "y_test = to_categorical(y_test, 2)"
   ]
  },
  {
   "cell_type": "markdown",
   "metadata": {},
   "source": [
    "Model parameters"
   ]
  },
  {
   "cell_type": "code",
   "execution_count": 281,
   "metadata": {},
   "outputs": [],
   "source": [
    "input_shape = X_train.shape[1]\n",
    "early_stopping = EarlyStopping(monitor='val_categorical_accuracy', patience=25, restore_best_weights=True)"
   ]
  },
  {
   "cell_type": "markdown",
   "metadata": {},
   "source": [
    "Building the model"
   ]
  },
  {
   "cell_type": "code",
   "execution_count": 284,
   "metadata": {},
   "outputs": [],
   "source": [
    "model = Sequential([\n",
    "    Dense(48, input_shape=(input_shape,)),\n",
    "    Dense(96, activation='relu'),\n",
    "    Dropout(5e-1),\n",
    "    Dense(2, activation='sigmoid')\n",
    "    ])"
   ]
  },
  {
   "cell_type": "markdown",
   "metadata": {},
   "source": [
    "Compiling the model"
   ]
  },
  {
   "cell_type": "code",
   "execution_count": 285,
   "metadata": {},
   "outputs": [],
   "source": [
    "model.compile(optimizer='adam',\n",
    "             loss='binary_crossentropy',\n",
    "             metrics=['categorical_accuracy'])"
   ]
  },
  {
   "cell_type": "code",
   "execution_count": 286,
   "metadata": {},
   "outputs": [
    {
     "name": "stdout",
     "output_type": "stream",
     "text": [
      "_________________________________________________________________\n",
      "Layer (type)                 Output Shape              Param #   \n",
      "=================================================================\n",
      "dense_3 (Dense)              (None, 48)                1008      \n",
      "_________________________________________________________________\n",
      "dense_4 (Dense)              (None, 96)                4704      \n",
      "_________________________________________________________________\n",
      "dropout_1 (Dropout)          (None, 96)                0         \n",
      "_________________________________________________________________\n",
      "dense_5 (Dense)              (None, 2)                 194       \n",
      "=================================================================\n",
      "Total params: 5,906\n",
      "Trainable params: 5,906\n",
      "Non-trainable params: 0\n",
      "_________________________________________________________________\n"
     ]
    }
   ],
   "source": [
    "model.summary()"
   ]
  },
  {
   "cell_type": "markdown",
   "metadata": {},
   "source": [
    "Training the model"
   ]
  },
  {
   "cell_type": "code",
   "execution_count": 287,
   "metadata": {},
   "outputs": [
    {
     "name": "stdout",
     "output_type": "stream",
     "text": [
      "Train on 11999 samples, validate on 3000 samples\n",
      "WARNING:tensorflow:From C:\\Users\\Nicolas\\Anaconda3\\lib\\site-packages\\tensorflow\\python\\ops\\math_ops.py:3066: to_int32 (from tensorflow.python.ops.math_ops) is deprecated and will be removed in a future version.\n",
      "Instructions for updating:\n",
      "Use tf.cast instead.\n",
      "Epoch 1/100\n",
      "11999/11999 [==============================] - 7s 597us/sample - loss: 0.3982 - categorical_accuracy: 0.8181 - val_loss: 0.2255 - val_categorical_accuracy: 0.9150\n",
      "Epoch 2/100\n",
      "11999/11999 [==============================] - 8s 626us/sample - loss: 0.2098 - categorical_accuracy: 0.9297 - val_loss: 0.1664 - val_categorical_accuracy: 0.9473\n",
      "Epoch 3/100\n",
      "11999/11999 [==============================] - 7s 559us/sample - loss: 0.1871 - categorical_accuracy: 0.9430 - val_loss: 0.1552 - val_categorical_accuracy: 0.9507\n",
      "Epoch 4/100\n",
      "11999/11999 [==============================] - 7s 568us/sample - loss: 0.1852 - categorical_accuracy: 0.9443 - val_loss: 0.1523 - val_categorical_accuracy: 0.9507\n",
      "Epoch 5/100\n",
      "11999/11999 [==============================] - 7s 568us/sample - loss: 0.1823 - categorical_accuracy: 0.9443 - val_loss: 0.1534 - val_categorical_accuracy: 0.9523\n",
      "Epoch 6/100\n",
      "11999/11999 [==============================] - 7s 560us/sample - loss: 0.1754 - categorical_accuracy: 0.9486 - val_loss: 0.1639 - val_categorical_accuracy: 0.9460\n",
      "Epoch 7/100\n",
      "11999/11999 [==============================] - 7s 607us/sample - loss: 0.1742 - categorical_accuracy: 0.9486 - val_loss: 0.1548 - val_categorical_accuracy: 0.9510\n",
      "Epoch 8/100\n",
      "11999/11999 [==============================] - 7s 609us/sample - loss: 0.1765 - categorical_accuracy: 0.9492 - val_loss: 0.1524 - val_categorical_accuracy: 0.9520\n",
      "Epoch 9/100\n",
      "11999/11999 [==============================] - 8s 643us/sample - loss: 0.1747 - categorical_accuracy: 0.9478 - val_loss: 0.1524 - val_categorical_accuracy: 0.9563\n",
      "Epoch 10/100\n",
      "11999/11999 [==============================] - 8s 677us/sample - loss: 0.1761 - categorical_accuracy: 0.9508 - val_loss: 0.1512 - val_categorical_accuracy: 0.9550\n",
      "Epoch 11/100\n",
      "11999/11999 [==============================] - 8s 665us/sample - loss: 0.1771 - categorical_accuracy: 0.9483 - val_loss: 0.1505 - val_categorical_accuracy: 0.9560\n",
      "Epoch 12/100\n",
      "11999/11999 [==============================] - 8s 645us/sample - loss: 0.1751 - categorical_accuracy: 0.9485 - val_loss: 0.1470 - val_categorical_accuracy: 0.9577\n",
      "Epoch 13/100\n",
      "11999/11999 [==============================] - 8s 646us/sample - loss: 0.1681 - categorical_accuracy: 0.9504 - val_loss: 0.1491 - val_categorical_accuracy: 0.9577\n",
      "Epoch 14/100\n",
      "11999/11999 [==============================] - 9s 730us/sample - loss: 0.1696 - categorical_accuracy: 0.9499 - val_loss: 0.1490 - val_categorical_accuracy: 0.9573\n",
      "Epoch 15/100\n",
      "11999/11999 [==============================] - 9s 738us/sample - loss: 0.1702 - categorical_accuracy: 0.9502 - val_loss: 0.1516 - val_categorical_accuracy: 0.9570\n",
      "Epoch 16/100\n",
      "11999/11999 [==============================] - 9s 729us/sample - loss: 0.1670 - categorical_accuracy: 0.9510 - val_loss: 0.1439 - val_categorical_accuracy: 0.9577\n",
      "Epoch 17/100\n",
      "11999/11999 [==============================] - 9s 729us/sample - loss: 0.1689 - categorical_accuracy: 0.9508 - val_loss: 0.1465 - val_categorical_accuracy: 0.9570\n",
      "Epoch 18/100\n",
      "11999/11999 [==============================] - 9s 731us/sample - loss: 0.1660 - categorical_accuracy: 0.9517 - val_loss: 0.1474 - val_categorical_accuracy: 0.9533\n",
      "Epoch 19/100\n",
      "11999/11999 [==============================] - 9s 724us/sample - loss: 0.1663 - categorical_accuracy: 0.9512 - val_loss: 0.1469 - val_categorical_accuracy: 0.9553\n",
      "Epoch 20/100\n",
      "11999/11999 [==============================] - 8s 708us/sample - loss: 0.1678 - categorical_accuracy: 0.9517 - val_loss: 0.1512 - val_categorical_accuracy: 0.9527\n",
      "Epoch 21/100\n",
      "11999/11999 [==============================] - 8s 650us/sample - loss: 0.1698 - categorical_accuracy: 0.9504 - val_loss: 0.1471 - val_categorical_accuracy: 0.9580\n",
      "Epoch 22/100\n",
      "11999/11999 [==============================] - 8s 629us/sample - loss: 0.1677 - categorical_accuracy: 0.9521 - val_loss: 0.1523 - val_categorical_accuracy: 0.9527\n",
      "Epoch 23/100\n",
      "11999/11999 [==============================] - 8s 635us/sample - loss: 0.1653 - categorical_accuracy: 0.9527 - val_loss: 0.1538 - val_categorical_accuracy: 0.9560\n",
      "Epoch 24/100\n",
      "11999/11999 [==============================] - 8s 645us/sample - loss: 0.1639 - categorical_accuracy: 0.9526 - val_loss: 0.1395 - val_categorical_accuracy: 0.9553\n",
      "Epoch 25/100\n",
      "11999/11999 [==============================] - 8s 661us/sample - loss: 0.1669 - categorical_accuracy: 0.9520 - val_loss: 0.1406 - val_categorical_accuracy: 0.9600\n",
      "Epoch 26/100\n",
      "11999/11999 [==============================] - 9s 721us/sample - loss: 0.1616 - categorical_accuracy: 0.9540 - val_loss: 0.1611 - val_categorical_accuracy: 0.9463\n",
      "Epoch 27/100\n",
      "11999/11999 [==============================] - 8s 701us/sample - loss: 0.1651 - categorical_accuracy: 0.9517 - val_loss: 0.1400 - val_categorical_accuracy: 0.9580\n",
      "Epoch 28/100\n",
      "11999/11999 [==============================] - 8s 655us/sample - loss: 0.1616 - categorical_accuracy: 0.9517 - val_loss: 0.1388 - val_categorical_accuracy: 0.9573\n",
      "Epoch 29/100\n",
      "11999/11999 [==============================] - 8s 663us/sample - loss: 0.1600 - categorical_accuracy: 0.9536 - val_loss: 0.1402 - val_categorical_accuracy: 0.9587\n",
      "Epoch 30/100\n",
      "11999/11999 [==============================] - 7s 591us/sample - loss: 0.1608 - categorical_accuracy: 0.9522 - val_loss: 0.1393 - val_categorical_accuracy: 0.9573\n",
      "Epoch 31/100\n",
      "11999/11999 [==============================] - 9s 714us/sample - loss: 0.1609 - categorical_accuracy: 0.9530 - val_loss: 0.1408 - val_categorical_accuracy: 0.9570\n",
      "Epoch 32/100\n",
      "11999/11999 [==============================] - 8s 653us/sample - loss: 0.1600 - categorical_accuracy: 0.9535 - val_loss: 0.1477 - val_categorical_accuracy: 0.9543\n",
      "Epoch 33/100\n",
      "11999/11999 [==============================] - 8s 633us/sample - loss: 0.1575 - categorical_accuracy: 0.9525 - val_loss: 0.1414 - val_categorical_accuracy: 0.9577\n",
      "Epoch 34/100\n",
      "11999/11999 [==============================] - 8s 630us/sample - loss: 0.1571 - categorical_accuracy: 0.9552 - val_loss: 0.1399 - val_categorical_accuracy: 0.9557\n",
      "Epoch 35/100\n",
      "11999/11999 [==============================] - 8s 631us/sample - loss: 0.1522 - categorical_accuracy: 0.9557 - val_loss: 0.1344 - val_categorical_accuracy: 0.9587\n",
      "Epoch 36/100\n",
      "11999/11999 [==============================] - 7s 624us/sample - loss: 0.1618 - categorical_accuracy: 0.9525 - val_loss: 0.1339 - val_categorical_accuracy: 0.9580\n",
      "Epoch 37/100\n",
      "11999/11999 [==============================] - 8s 630us/sample - loss: 0.1586 - categorical_accuracy: 0.9525 - val_loss: 0.1339 - val_categorical_accuracy: 0.9580\n",
      "Epoch 38/100\n",
      "11999/11999 [==============================] - 7s 619us/sample - loss: 0.1589 - categorical_accuracy: 0.9534 - val_loss: 0.1405 - val_categorical_accuracy: 0.9603\n",
      "Epoch 39/100\n",
      "11999/11999 [==============================] - 7s 621us/sample - loss: 0.1572 - categorical_accuracy: 0.9552 - val_loss: 0.1431 - val_categorical_accuracy: 0.9563\n",
      "Epoch 40/100\n",
      "11999/11999 [==============================] - 7s 618us/sample - loss: 0.1558 - categorical_accuracy: 0.9537 - val_loss: 0.1348 - val_categorical_accuracy: 0.9593\n",
      "Epoch 41/100\n",
      "11999/11999 [==============================] - 7s 622us/sample - loss: 0.1568 - categorical_accuracy: 0.9540 - val_loss: 0.1326 - val_categorical_accuracy: 0.9580\n",
      "Epoch 42/100\n",
      "11999/11999 [==============================] - 7s 617us/sample - loss: 0.1571 - categorical_accuracy: 0.9549 - val_loss: 0.1338 - val_categorical_accuracy: 0.9593\n",
      "Epoch 43/100\n",
      "11999/11999 [==============================] - 8s 650us/sample - loss: 0.1615 - categorical_accuracy: 0.9524 - val_loss: 0.1351 - val_categorical_accuracy: 0.9603\n",
      "Epoch 44/100\n",
      "11999/11999 [==============================] - 7s 582us/sample - loss: 0.1560 - categorical_accuracy: 0.9557 - val_loss: 0.1288 - val_categorical_accuracy: 0.9597\n",
      "Epoch 45/100\n",
      "11999/11999 [==============================] - 7s 582us/sample - loss: 0.1564 - categorical_accuracy: 0.9550 - val_loss: 0.1294 - val_categorical_accuracy: 0.9617\n",
      "Epoch 46/100\n",
      "11999/11999 [==============================] - 7s 588us/sample - loss: 0.1542 - categorical_accuracy: 0.9552 - val_loss: 0.1276 - val_categorical_accuracy: 0.9600\n",
      "Epoch 47/100\n",
      "11999/11999 [==============================] - 7s 592us/sample - loss: 0.1542 - categorical_accuracy: 0.9555 - val_loss: 0.1335 - val_categorical_accuracy: 0.9597\n",
      "Epoch 48/100\n",
      "11999/11999 [==============================] - 9s 710us/sample - loss: 0.1536 - categorical_accuracy: 0.9555 - val_loss: 0.1359 - val_categorical_accuracy: 0.9577\n",
      "Epoch 49/100\n",
      "11999/11999 [==============================] - 7s 619us/sample - loss: 0.1576 - categorical_accuracy: 0.9549 - val_loss: 0.1344 - val_categorical_accuracy: 0.9593\n",
      "Epoch 50/100\n",
      "11999/11999 [==============================] - 7s 597us/sample - loss: 0.1533 - categorical_accuracy: 0.9543 - val_loss: 0.1354 - val_categorical_accuracy: 0.9567\n",
      "Epoch 51/100\n",
      "11999/11999 [==============================] - 7s 580us/sample - loss: 0.1544 - categorical_accuracy: 0.9549 - val_loss: 0.1339 - val_categorical_accuracy: 0.9580\n",
      "Epoch 52/100\n",
      "11999/11999 [==============================] - 8s 661us/sample - loss: 0.1533 - categorical_accuracy: 0.9546 - val_loss: 0.1301 - val_categorical_accuracy: 0.9600\n",
      "Epoch 53/100\n",
      "11999/11999 [==============================] - 8s 630us/sample - loss: 0.1538 - categorical_accuracy: 0.9552 - val_loss: 0.1319 - val_categorical_accuracy: 0.9580\n",
      "Epoch 54/100\n",
      "11999/11999 [==============================] - 8s 631us/sample - loss: 0.1534 - categorical_accuracy: 0.9547 - val_loss: 0.1293 - val_categorical_accuracy: 0.9623\n",
      "Epoch 55/100\n",
      "11999/11999 [==============================] - 8s 662us/sample - loss: 0.1515 - categorical_accuracy: 0.9572 - val_loss: 0.1378 - val_categorical_accuracy: 0.9543\n",
      "Epoch 56/100\n",
      "11999/11999 [==============================] - 8s 627us/sample - loss: 0.1508 - categorical_accuracy: 0.9558 - val_loss: 0.1425 - val_categorical_accuracy: 0.9567\n",
      "Epoch 57/100\n",
      "11999/11999 [==============================] - 8s 691us/sample - loss: 0.1523 - categorical_accuracy: 0.9547 - val_loss: 0.1332 - val_categorical_accuracy: 0.9573\n",
      "Epoch 58/100\n",
      "11999/11999 [==============================] - 8s 688us/sample - loss: 0.1480 - categorical_accuracy: 0.9563 - val_loss: 0.1296 - val_categorical_accuracy: 0.9597\n",
      "Epoch 59/100\n",
      "11999/11999 [==============================] - 8s 702us/sample - loss: 0.1472 - categorical_accuracy: 0.9554 - val_loss: 0.1361 - val_categorical_accuracy: 0.9580\n",
      "Epoch 60/100\n",
      "11999/11999 [==============================] - 8s 689us/sample - loss: 0.1465 - categorical_accuracy: 0.9567 - val_loss: 0.1278 - val_categorical_accuracy: 0.9593\n",
      "Epoch 61/100\n",
      "11999/11999 [==============================] - 8s 628us/sample - loss: 0.1472 - categorical_accuracy: 0.9559 - val_loss: 0.1269 - val_categorical_accuracy: 0.9607\n",
      "Epoch 62/100\n",
      "11999/11999 [==============================] - 9s 729us/sample - loss: 0.1481 - categorical_accuracy: 0.9554 - val_loss: 0.1312 - val_categorical_accuracy: 0.9607\n",
      "Epoch 63/100\n",
      "11999/11999 [==============================] - 8s 630us/sample - loss: 0.1489 - categorical_accuracy: 0.9569 - val_loss: 0.1271 - val_categorical_accuracy: 0.9623\n",
      "Epoch 64/100\n",
      "11999/11999 [==============================] - 8s 628us/sample - loss: 0.1485 - categorical_accuracy: 0.9564 - val_loss: 0.1284 - val_categorical_accuracy: 0.9587\n",
      "Epoch 65/100\n",
      "11999/11999 [==============================] - 8s 691us/sample - loss: 0.1484 - categorical_accuracy: 0.9580 - val_loss: 0.1279 - val_categorical_accuracy: 0.9623\n",
      "Epoch 66/100\n",
      "11999/11999 [==============================] - 8s 627us/sample - loss: 0.1453 - categorical_accuracy: 0.9574 - val_loss: 0.1362 - val_categorical_accuracy: 0.9590\n",
      "Epoch 67/100\n",
      "11999/11999 [==============================] - 7s 617us/sample - loss: 0.1442 - categorical_accuracy: 0.9562 - val_loss: 0.1261 - val_categorical_accuracy: 0.9593\n",
      "Epoch 68/100\n",
      "11999/11999 [==============================] - 8s 633us/sample - loss: 0.1449 - categorical_accuracy: 0.9574 - val_loss: 0.1251 - val_categorical_accuracy: 0.9590\n",
      "Epoch 69/100\n",
      "11999/11999 [==============================] - 7s 625us/sample - loss: 0.1470 - categorical_accuracy: 0.9577 - val_loss: 0.1287 - val_categorical_accuracy: 0.9600\n",
      "Epoch 70/100\n",
      "11999/11999 [==============================] - 7s 625us/sample - loss: 0.1495 - categorical_accuracy: 0.9547 - val_loss: 0.1289 - val_categorical_accuracy: 0.9607\n",
      "Epoch 71/100\n",
      "11999/11999 [==============================] - 7s 618us/sample - loss: 0.1483 - categorical_accuracy: 0.9550 - val_loss: 0.1276 - val_categorical_accuracy: 0.9587\n",
      "Epoch 72/100\n",
      "11999/11999 [==============================] - 7s 623us/sample - loss: 0.1460 - categorical_accuracy: 0.9578 - val_loss: 0.1256 - val_categorical_accuracy: 0.9600\n",
      "Epoch 73/100\n",
      "11999/11999 [==============================] - 7s 616us/sample - loss: 0.1453 - categorical_accuracy: 0.9572 - val_loss: 0.1280 - val_categorical_accuracy: 0.9610\n",
      "Epoch 74/100\n",
      "11999/11999 [==============================] - 8s 651us/sample - loss: 0.1481 - categorical_accuracy: 0.9555 - val_loss: 0.1289 - val_categorical_accuracy: 0.9610\n",
      "Epoch 75/100\n",
      "11999/11999 [==============================] - 8s 636us/sample - loss: 0.1484 - categorical_accuracy: 0.9568 - val_loss: 0.1275 - val_categorical_accuracy: 0.9613\n",
      "Epoch 76/100\n",
      "11999/11999 [==============================] - 8s 628us/sample - loss: 0.1487 - categorical_accuracy: 0.9571 - val_loss: 0.1284 - val_categorical_accuracy: 0.9593\n",
      "Epoch 77/100\n",
      "11999/11999 [==============================] - 7s 624us/sample - loss: 0.1476 - categorical_accuracy: 0.9570 - val_loss: 0.1287 - val_categorical_accuracy: 0.9620\n",
      "Epoch 78/100\n",
      "11999/11999 [==============================] - 7s 621us/sample - loss: 0.1473 - categorical_accuracy: 0.9563 - val_loss: 0.1270 - val_categorical_accuracy: 0.9620\n",
      "Epoch 79/100\n",
      "11999/11999 [==============================] - 8s 633us/sample - loss: 0.1458 - categorical_accuracy: 0.9572 - val_loss: 0.1351 - val_categorical_accuracy: 0.9640\n",
      "Epoch 80/100\n",
      "11999/11999 [==============================] - 7s 621us/sample - loss: 0.1476 - categorical_accuracy: 0.9576 - val_loss: 0.1283 - val_categorical_accuracy: 0.9610\n",
      "Epoch 81/100\n",
      "11999/11999 [==============================] - 8s 705us/sample - loss: 0.1458 - categorical_accuracy: 0.9565 - val_loss: 0.1300 - val_categorical_accuracy: 0.9620\n",
      "Epoch 82/100\n",
      "11999/11999 [==============================] - 8s 628us/sample - loss: 0.1475 - categorical_accuracy: 0.9575 - val_loss: 0.1295 - val_categorical_accuracy: 0.9597\n",
      "Epoch 83/100\n",
      "11999/11999 [==============================] - 8s 669us/sample - loss: 0.1483 - categorical_accuracy: 0.9586 - val_loss: 0.1260 - val_categorical_accuracy: 0.9623\n",
      "Epoch 84/100\n",
      "11999/11999 [==============================] - 8s 675us/sample - loss: 0.1435 - categorical_accuracy: 0.9572 - val_loss: 0.1239 - val_categorical_accuracy: 0.9640\n",
      "Epoch 85/100\n",
      "11999/11999 [==============================] - 8s 639us/sample - loss: 0.1407 - categorical_accuracy: 0.9574 - val_loss: 0.1272 - val_categorical_accuracy: 0.9657\n",
      "Epoch 86/100\n",
      "11999/11999 [==============================] - 7s 620us/sample - loss: 0.1464 - categorical_accuracy: 0.9561 - val_loss: 0.1250 - val_categorical_accuracy: 0.9617\n",
      "Epoch 87/100\n",
      "11999/11999 [==============================] - 8s 664us/sample - loss: 0.1444 - categorical_accuracy: 0.9591 - val_loss: 0.1296 - val_categorical_accuracy: 0.9603\n",
      "Epoch 88/100\n",
      "11999/11999 [==============================] - 8s 659us/sample - loss: 0.1430 - categorical_accuracy: 0.9586 - val_loss: 0.1334 - val_categorical_accuracy: 0.9607\n",
      "Epoch 89/100\n",
      "11999/11999 [==============================] - 8s 633us/sample - loss: 0.1467 - categorical_accuracy: 0.9570 - val_loss: 0.1238 - val_categorical_accuracy: 0.9633\n",
      "Epoch 90/100\n",
      "11999/11999 [==============================] - 7s 620us/sample - loss: 0.1460 - categorical_accuracy: 0.9566 - val_loss: 0.1250 - val_categorical_accuracy: 0.9620\n",
      "Epoch 91/100\n",
      "11999/11999 [==============================] - 8s 659us/sample - loss: 0.1395 - categorical_accuracy: 0.9583 - val_loss: 0.1199 - val_categorical_accuracy: 0.9613\n",
      "Epoch 92/100\n",
      "11999/11999 [==============================] - 8s 672us/sample - loss: 0.1435 - categorical_accuracy: 0.9592 - val_loss: 0.1242 - val_categorical_accuracy: 0.9633\n",
      "Epoch 93/100\n",
      "11999/11999 [==============================] - 9s 709us/sample - loss: 0.1442 - categorical_accuracy: 0.9561 - val_loss: 0.1260 - val_categorical_accuracy: 0.9610\n",
      "Epoch 94/100\n",
      "11999/11999 [==============================] - 8s 641us/sample - loss: 0.1417 - categorical_accuracy: 0.9579 - val_loss: 0.1258 - val_categorical_accuracy: 0.9637\n",
      "Epoch 95/100\n",
      "11999/11999 [==============================] - 8s 687us/sample - loss: 0.1467 - categorical_accuracy: 0.9564 - val_loss: 0.1267 - val_categorical_accuracy: 0.9630\n",
      "Epoch 96/100\n",
      "11999/11999 [==============================] - 8s 694us/sample - loss: 0.1430 - categorical_accuracy: 0.9599 - val_loss: 0.1269 - val_categorical_accuracy: 0.9603\n",
      "Epoch 97/100\n",
      "11999/11999 [==============================] - 8s 653us/sample - loss: 0.1469 - categorical_accuracy: 0.9586 - val_loss: 0.1250 - val_categorical_accuracy: 0.9620\n",
      "Epoch 98/100\n",
      "11999/11999 [==============================] - 8s 691us/sample - loss: 0.1459 - categorical_accuracy: 0.9582 - val_loss: 0.1379 - val_categorical_accuracy: 0.9617\n",
      "Epoch 99/100\n",
      "11999/11999 [==============================] - 9s 769us/sample - loss: 0.1459 - categorical_accuracy: 0.9585 - val_loss: 0.1234 - val_categorical_accuracy: 0.9637\n",
      "Epoch 100/100\n",
      "11999/11999 [==============================] - 8s 641us/sample - loss: 0.1422 - categorical_accuracy: 0.9581 - val_loss: 0.1247 - val_categorical_accuracy: 0.9610\n"
     ]
    }
   ],
   "source": [
    "history = model.fit(X_train, y_train,\n",
    "                    epochs=100,\n",
    "                    validation_data=[X_test, y_test], \n",
    "                    batch_size=8,\n",
    "                    verbose=1,\n",
    "                    callbacks=[early_stopping])"
   ]
  },
  {
   "cell_type": "code",
   "execution_count": 288,
   "metadata": {},
   "outputs": [
    {
     "name": "stdout",
     "output_type": "stream",
     "text": [
      "3000/3000 [==============================] - 0s 59us/sample - loss: 0.1247 - categorical_accuracy: 0.9610\n"
     ]
    }
   ],
   "source": [
    "eval = model.evaluate(X_test, y_test)"
   ]
  },
  {
   "cell_type": "code",
   "execution_count": 289,
   "metadata": {},
   "outputs": [
    {
     "name": "stdout",
     "output_type": "stream",
     "text": [
      "The final loss is 0.124727 and the final accuracy is 96%.\n"
     ]
    }
   ],
   "source": [
    "print('The final loss is %f and the final accuracy is %i%%.'%(eval[0], eval[1]*100))"
   ]
  },
  {
   "cell_type": "code",
   "execution_count": 290,
   "metadata": {},
   "outputs": [],
   "source": [
    "y_pred = model.predict(X_test)"
   ]
  },
  {
   "cell_type": "code",
   "execution_count": 291,
   "metadata": {},
   "outputs": [
    {
     "data": {
      "text/plain": [
       "array([1., 0., 1., 1., 1., 1., 1., 0., 1., 0.], dtype=float32)"
      ]
     },
     "execution_count": 291,
     "metadata": {},
     "output_type": "execute_result"
    }
   ],
   "source": [
    "y_pred = np.array(y_pred[:, 0] > .5, dtype=np.float32)*1\n",
    "y_pred[:10]"
   ]
  },
  {
   "cell_type": "code",
   "execution_count": 292,
   "metadata": {
    "scrolled": true
   },
   "outputs": [
    {
     "data": {
      "text/plain": [
       "array([ 664, 2336], dtype=int64)"
      ]
     },
     "execution_count": 292,
     "metadata": {},
     "output_type": "execute_result"
    }
   ],
   "source": [
    "counts = np.unique(y_pred, return_counts=True)[1]\n",
    "counts"
   ]
  },
  {
   "cell_type": "code",
   "execution_count": 293,
   "metadata": {},
   "outputs": [
    {
     "name": "stdout",
     "output_type": "stream",
     "text": [
      "The classifier predicts a departure in 28% of cases, compared to a real rate of 24%.\n"
     ]
    }
   ],
   "source": [
    "print('The classifier predicts a departure in %i%% of cases, compared'\\\n",
    "      ' to a real rate of 24%%.'%round(counts[0]*1e2/counts[1]))"
   ]
  },
  {
   "cell_type": "markdown",
   "metadata": {},
   "source": [
    "Evaluating the predictions:"
   ]
  },
  {
   "cell_type": "code",
   "execution_count": 294,
   "metadata": {
    "scrolled": true
   },
   "outputs": [
    {
     "data": {
      "text/plain": [
       "array([[ 618,   71],\n",
       "       [  46, 2265]], dtype=int64)"
      ]
     },
     "execution_count": 294,
     "metadata": {},
     "output_type": "execute_result"
    }
   ],
   "source": [
    "confusion_matrix(y_test[:, 0], y_pred)"
   ]
  },
  {
   "cell_type": "code",
   "execution_count": 295,
   "metadata": {},
   "outputs": [
    {
     "data": {
      "text/plain": [
       "0.9800951968844656"
      ]
     },
     "execution_count": 295,
     "metadata": {},
     "output_type": "execute_result"
    }
   ],
   "source": [
    "recall_dense = recall_score(y_test[:, 0], y_pred)\n",
    "recall_dense"
   ]
  },
  {
   "cell_type": "code",
   "execution_count": 296,
   "metadata": {},
   "outputs": [
    {
     "name": "stdout",
     "output_type": "stream",
     "text": [
      "98% of the people who left the company were predicted to do so.\n"
     ]
    }
   ],
   "source": [
    "print('%i%% of the people who left the company were predicted to do so.'%round(recall_dense*100))"
   ]
  },
  {
   "cell_type": "code",
   "execution_count": 297,
   "metadata": {},
   "outputs": [
    {
     "data": {
      "text/plain": [
       "0.9696061643835616"
      ]
     },
     "execution_count": 297,
     "metadata": {},
     "output_type": "execute_result"
    }
   ],
   "source": [
    "precision_dense = precision_score(y_test[:, 0], y_pred)\n",
    "precision_dense"
   ]
  },
  {
   "cell_type": "code",
   "execution_count": 298,
   "metadata": {},
   "outputs": [
    {
     "name": "stdout",
     "output_type": "stream",
     "text": [
      "97% of the people who didn't leave the company were predicted to do so.\n"
     ]
    }
   ],
   "source": [
    "print('%i%% of the people who didn\\'t leave the company were predicted to do so.'%round(precision_dense*100))"
   ]
  },
  {
   "cell_type": "code",
   "execution_count": 299,
   "metadata": {},
   "outputs": [
    {
     "data": {
      "text/plain": [
       "0.9748224661071659"
      ]
     },
     "execution_count": 299,
     "metadata": {},
     "output_type": "execute_result"
    }
   ],
   "source": [
    "f1_dense = f1_score(y_test[:, 0], y_pred)\n",
    "f1_dense"
   ]
  },
  {
   "cell_type": "code",
   "execution_count": 300,
   "metadata": {},
   "outputs": [
    {
     "name": "stdout",
     "output_type": "stream",
     "text": [
      "f1 score: 97%.\n"
     ]
    }
   ],
   "source": [
    "print('f1 score: %i%%.'%round(f1_dense*100))"
   ]
  },
  {
   "cell_type": "code",
   "execution_count": 301,
   "metadata": {},
   "outputs": [
    {
     "data": {
      "text/plain": [
       "0.961"
      ]
     },
     "execution_count": 301,
     "metadata": {},
     "output_type": "execute_result"
    }
   ],
   "source": [
    "accuracy_dense = accuracy_score(y_test[:, 0], y_pred)\n",
    "accuracy_dense"
   ]
  },
  {
   "cell_type": "code",
   "execution_count": 302,
   "metadata": {
    "scrolled": true
   },
   "outputs": [
    {
     "name": "stdout",
     "output_type": "stream",
     "text": [
      "96% of the people were classified in the correct category.\n"
     ]
    }
   ],
   "source": [
    "print('%i%% of the people were classified in the correct category.'%round(accuracy_dense*100))"
   ]
  },
  {
   "cell_type": "markdown",
   "metadata": {},
   "source": [
    "Metrics dataframe"
   ]
  },
  {
   "cell_type": "code",
   "execution_count": 303,
   "metadata": {},
   "outputs": [
    {
     "data": {
      "text/html": [
       "<div>\n",
       "<style scoped>\n",
       "    .dataframe tbody tr th:only-of-type {\n",
       "        vertical-align: middle;\n",
       "    }\n",
       "\n",
       "    .dataframe tbody tr th {\n",
       "        vertical-align: top;\n",
       "    }\n",
       "\n",
       "    .dataframe thead th {\n",
       "        text-align: right;\n",
       "    }\n",
       "</style>\n",
       "<table border=\"1\" class=\"dataframe\">\n",
       "  <thead>\n",
       "    <tr style=\"text-align: right;\">\n",
       "      <th></th>\n",
       "      <th>Logit</th>\n",
       "      <th>SVM</th>\n",
       "      <th>Naïve Bayes</th>\n",
       "      <th>Decision Tree</th>\n",
       "      <th>MLP</th>\n",
       "      <th>Random Forest</th>\n",
       "      <th>Voting Classifier</th>\n",
       "      <th>Dense Network</th>\n",
       "    </tr>\n",
       "  </thead>\n",
       "  <tbody>\n",
       "    <tr>\n",
       "      <th>Recall</th>\n",
       "      <td>0.377358</td>\n",
       "      <td>0.785196</td>\n",
       "      <td>0.805515</td>\n",
       "      <td>0.921626</td>\n",
       "      <td>0.834543</td>\n",
       "      <td>0.968070</td>\n",
       "      <td>0.969521</td>\n",
       "      <td>0.980095</td>\n",
       "    </tr>\n",
       "    <tr>\n",
       "      <th>Precision</th>\n",
       "      <td>0.599078</td>\n",
       "      <td>0.987226</td>\n",
       "      <td>0.384615</td>\n",
       "      <td>0.847797</td>\n",
       "      <td>0.699513</td>\n",
       "      <td>0.989614</td>\n",
       "      <td>0.979472</td>\n",
       "      <td>0.969606</td>\n",
       "    </tr>\n",
       "    <tr>\n",
       "      <th>F1 Score</th>\n",
       "      <td>0.463045</td>\n",
       "      <td>0.874697</td>\n",
       "      <td>0.520638</td>\n",
       "      <td>0.883171</td>\n",
       "      <td>0.761085</td>\n",
       "      <td>0.978723</td>\n",
       "      <td>0.974471</td>\n",
       "      <td>0.974822</td>\n",
       "    </tr>\n",
       "    <tr>\n",
       "      <th>Accuracy</th>\n",
       "      <td>0.799000</td>\n",
       "      <td>0.948333</td>\n",
       "      <td>0.659333</td>\n",
       "      <td>0.944000</td>\n",
       "      <td>0.879667</td>\n",
       "      <td>0.990333</td>\n",
       "      <td>0.988333</td>\n",
       "      <td>0.961000</td>\n",
       "    </tr>\n",
       "  </tbody>\n",
       "</table>\n",
       "</div>"
      ],
      "text/plain": [
       "              Logit       SVM  Naïve Bayes  Decision Tree       MLP  \\\n",
       "Recall     0.377358  0.785196     0.805515       0.921626  0.834543   \n",
       "Precision  0.599078  0.987226     0.384615       0.847797  0.699513   \n",
       "F1 Score   0.463045  0.874697     0.520638       0.883171  0.761085   \n",
       "Accuracy   0.799000  0.948333     0.659333       0.944000  0.879667   \n",
       "\n",
       "           Random Forest  Voting Classifier  Dense Network  \n",
       "Recall          0.968070           0.969521       0.980095  \n",
       "Precision       0.989614           0.979472       0.969606  \n",
       "F1 Score        0.978723           0.974471       0.974822  \n",
       "Accuracy        0.990333           0.988333       0.961000  "
      ]
     },
     "execution_count": 303,
     "metadata": {},
     "output_type": "execute_result"
    }
   ],
   "source": [
    "metrics_dense = pd.DataFrame([recall_dense, precision_dense, \n",
    "                          f1_dense, accuracy_dense], \n",
    "                          columns=['Dense Network'],\n",
    "                          index=['Recall', 'Precision', \n",
    "                                'F1 Score', 'Accuracy'])\n",
    "metrics_df = pd.concat([metrics_df, metrics_dense], axis=1, sort=False)\n",
    "metrics_df"
   ]
  },
  {
   "cell_type": "markdown",
   "metadata": {},
   "source": [
    "Metrics plot"
   ]
  },
  {
   "cell_type": "markdown",
   "metadata": {},
   "source": [
    "<font color='red'>__ATTENTION:__</font> We will start removing the weaker models from the plot"
   ]
  },
  {
   "cell_type": "code",
   "execution_count": 304,
   "metadata": {
    "scrolled": true
   },
   "outputs": [
    {
     "data": {
      "image/png": "[encoded data removed]",
      "text/plain": [
       "<Figure size 600x375 with 1 Axes>"
      ]
     },
     "metadata": {
      "needs_background": "light"
     },
     "output_type": "display_data"
    }
   ],
   "source": [
    "fig, ax = plt.subplots(figsize=(8, 5))\n",
    "\n",
    "'''ax.plot(metrics_df.index, metrics_df['SVM'], color='white', \n",
    "        marker='s', ms=10, linewidth=2, linestyle='dashed', alpha=0.3)'''\n",
    "\n",
    "ax.plot(metrics_df.index, metrics_df['Decision Tree'], color='white', \n",
    "        marker='D', ms=10, linewidth=2, linestyle='dashed', alpha=0.3)\n",
    "\n",
    "ax.plot(metrics_df.index, metrics_df['MLP'], color='white', \n",
    "        marker='v', ms=12, linewidth=2, linestyle='dashed', alpha=0.3)\n",
    "\n",
    "ax.plot(metrics_df.index, metrics_df['Random Forest'], color='white', \n",
    "        marker='o', ms=10, linewidth=2, linestyle='dashed', alpha=3e-1)\n",
    "\n",
    "ax.plot(metrics_df.index, metrics_df['Dense Network'], color='#E3C567', \n",
    "        marker='^', ms=10, linewidth=2, linestyle='dashed')\n",
    "\n",
    "ax.legend(['Decision Tree', 'MLP', 'Random Forest', 'Dense Network'], \n",
    "          fontsize='large', framealpha=.4, loc='lower right')\n",
    "ax.set_yticklabels(['{:.0%}'.format(x) for x in ax.get_yticks()])\n",
    "plt.title('Histogram of Metrics per Algorithm')\n",
    "set_theme()\n",
    "plt.show()"
   ]
  },
  {
   "cell_type": "markdown",
   "metadata": {},
   "source": [
    "The best model is the random forest. We started with an f1 score of 46% with logistic regression, and now we reached 97.87% with our final model. "
   ]
  }
 ],
 "metadata": {
  "kernelspec": {
   "display_name": "Python 3",
   "language": "python",
   "name": "python3"
  },
  "language_info": {
   "codemirror_mode": {
    "name": "ipython",
    "version": 3
   },
   "file_extension": ".py",
   "mimetype": "text/x-python",
   "name": "python",
   "nbconvert_exporter": "python",
   "pygments_lexer": "ipython3",
   "version": "3.7.0"
  }
 },
 "nbformat": 4,
 "nbformat_minor": 2
}
