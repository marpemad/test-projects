{
 "cells": [
  {
   "cell_type": "markdown",
   "metadata": {},
   "source": [
    "## Classifying cars using decision tree classifier"
   ]
  },
  {
   "cell_type": "markdown",
   "metadata": {},
   "source": [
    "##### Importing libraries"
   ]
  },
  {
   "cell_type": "code",
   "execution_count": 27,
   "metadata": {},
   "outputs": [],
   "source": [
    "import pandas as pd\n",
    "import numpy as np\n",
    "from sklearn.tree import DecisionTreeClassifier\n",
    "from sklearn.model_selection import train_test_split\n",
    "from sklearn.metrics import accuracy_score\n",
    "from sklearn.metrics import confusion_matrix\n",
    "from sklearn.model_selection import cross_val_score\n",
    "import matplotlib.pyplot as plt\n",
    "%matplotlib inline"
   ]
  },
  {
   "cell_type": "markdown",
   "metadata": {},
   "source": [
    "##### Importing and shuffling the data"
   ]
  },
  {
   "cell_type": "code",
   "execution_count": 2,
   "metadata": {},
   "outputs": [],
   "source": [
    "df = pd.read_csv('C:/Users/Nicolas/Documents/Scraping/thecarconnection/raw_data_imputed.csv', \n",
    "                 index_col=0).sample(frac=1, random_state=42)"
   ]
  },
  {
   "cell_type": "code",
   "execution_count": 3,
   "metadata": {},
   "outputs": [
    {
     "data": {
      "text/html": [
       "<div>\n",
       "<style scoped>\n",
       "    .dataframe tbody tr th:only-of-type {\n",
       "        vertical-align: middle;\n",
       "    }\n",
       "\n",
       "    .dataframe tbody tr th {\n",
       "        vertical-align: top;\n",
       "    }\n",
       "\n",
       "    .dataframe thead th {\n",
       "        text-align: right;\n",
       "    }\n",
       "</style>\n",
       "<table border=\"1\" class=\"dataframe\">\n",
       "  <thead>\n",
       "    <tr style=\"text-align: right;\">\n",
       "      <th></th>\n",
       "      <th>Make</th>\n",
       "      <th>Model</th>\n",
       "      <th>MSRP</th>\n",
       "      <th>Style Name</th>\n",
       "      <th>Drivetrain</th>\n",
       "      <th>Passenger Capacity</th>\n",
       "      <th>Passenger Doors</th>\n",
       "      <th>Body Style</th>\n",
       "      <th>EPA Classification</th>\n",
       "      <th>Base Curb Weight (lbs)</th>\n",
       "      <th>...</th>\n",
       "      <th>Displacement (cc)</th>\n",
       "      <th>Rear Tire Width</th>\n",
       "      <th>Front Tire Width</th>\n",
       "      <th>Rear Wheel Size</th>\n",
       "      <th>Front Wheel Size</th>\n",
       "      <th>Tire Rating</th>\n",
       "      <th>Tire Width Ratio</th>\n",
       "      <th>Wheel Size Ratio</th>\n",
       "      <th>Tire Ratio</th>\n",
       "      <th>Year</th>\n",
       "    </tr>\n",
       "  </thead>\n",
       "  <tbody>\n",
       "    <tr>\n",
       "      <th>2016 Ford Expedition Specs: 4WD 4-Door King Ranch</th>\n",
       "      <td>Ford</td>\n",
       "      <td>Expedition</td>\n",
       "      <td>62295.0</td>\n",
       "      <td>4WD 4dr King Ranch</td>\n",
       "      <td>Four Wheel Drive</td>\n",
       "      <td>8.0</td>\n",
       "      <td>4</td>\n",
       "      <td>Sport Utility</td>\n",
       "      <td>Small Sport Utility Vehicles 4WD</td>\n",
       "      <td>3905.44</td>\n",
       "      <td>...</td>\n",
       "      <td>213.0</td>\n",
       "      <td>275.0</td>\n",
       "      <td>275.0</td>\n",
       "      <td>20.0</td>\n",
       "      <td>20.0</td>\n",
       "      <td>S</td>\n",
       "      <td>1.000000</td>\n",
       "      <td>1.0</td>\n",
       "      <td>5.0</td>\n",
       "      <td>2016.0</td>\n",
       "    </tr>\n",
       "    <tr>\n",
       "      <th>2016 Subaru Crosstrek Specs: 5-Door Touring</th>\n",
       "      <td>Subaru</td>\n",
       "      <td>Crosstrek</td>\n",
       "      <td>29995.0</td>\n",
       "      <td>Touring CVT</td>\n",
       "      <td>All Wheel Drive</td>\n",
       "      <td>5.0</td>\n",
       "      <td>4</td>\n",
       "      <td>Sport Utility</td>\n",
       "      <td>Small Sport Utility Vehicles 4WD</td>\n",
       "      <td>3495.00</td>\n",
       "      <td>...</td>\n",
       "      <td>122.0</td>\n",
       "      <td>225.0</td>\n",
       "      <td>225.0</td>\n",
       "      <td>17.0</td>\n",
       "      <td>17.0</td>\n",
       "      <td>H</td>\n",
       "      <td>1.000000</td>\n",
       "      <td>1.0</td>\n",
       "      <td>5.0</td>\n",
       "      <td>2016.0</td>\n",
       "    </tr>\n",
       "    <tr>\n",
       "      <th>2018 Porsche 911 Specs: Turbo Coupe</th>\n",
       "      <td>Porsche</td>\n",
       "      <td>911</td>\n",
       "      <td>161800.0</td>\n",
       "      <td>Turbo Coupe</td>\n",
       "      <td>All Wheel Drive</td>\n",
       "      <td>4.0</td>\n",
       "      <td>2</td>\n",
       "      <td>2dr Car</td>\n",
       "      <td>Minicompact Cars</td>\n",
       "      <td>3516.00</td>\n",
       "      <td>...</td>\n",
       "      <td>232.0</td>\n",
       "      <td>305.0</td>\n",
       "      <td>245.0</td>\n",
       "      <td>20.0</td>\n",
       "      <td>20.0</td>\n",
       "      <td>Y</td>\n",
       "      <td>1.244898</td>\n",
       "      <td>1.0</td>\n",
       "      <td>3.0</td>\n",
       "      <td>2018.0</td>\n",
       "    </tr>\n",
       "    <tr>\n",
       "      <th>2017 Volvo XC90 Specs: T5 AWD 5-Passenger Momentum</th>\n",
       "      <td>Volvo</td>\n",
       "      <td>XC90</td>\n",
       "      <td>47950.0</td>\n",
       "      <td>T5 AWD 5-Passenger Momentum</td>\n",
       "      <td>All Wheel Drive</td>\n",
       "      <td>5.0</td>\n",
       "      <td>4</td>\n",
       "      <td>Sport Utility</td>\n",
       "      <td>Small Sport Utility Vehicles 4WD</td>\n",
       "      <td>4394.00</td>\n",
       "      <td>...</td>\n",
       "      <td>120.0</td>\n",
       "      <td>235.0</td>\n",
       "      <td>235.0</td>\n",
       "      <td>18.0</td>\n",
       "      <td>18.0</td>\n",
       "      <td>H</td>\n",
       "      <td>1.000000</td>\n",
       "      <td>1.0</td>\n",
       "      <td>6.0</td>\n",
       "      <td>2017.0</td>\n",
       "    </tr>\n",
       "    <tr>\n",
       "      <th>2017 Mercedes-Benz SL Class Specs: SL 550 Roadster</th>\n",
       "      <td>Mercedes-Benz</td>\n",
       "      <td>SL Class</td>\n",
       "      <td>110800.0</td>\n",
       "      <td>SL 550</td>\n",
       "      <td>Rear Wheel Drive</td>\n",
       "      <td>2.0</td>\n",
       "      <td>2</td>\n",
       "      <td>Convertible</td>\n",
       "      <td>Two-Seaters</td>\n",
       "      <td>3959.00</td>\n",
       "      <td>...</td>\n",
       "      <td>285.0</td>\n",
       "      <td>285.0</td>\n",
       "      <td>255.0</td>\n",
       "      <td>19.0</td>\n",
       "      <td>19.0</td>\n",
       "      <td>Y</td>\n",
       "      <td>1.117647</td>\n",
       "      <td>1.0</td>\n",
       "      <td>3.0</td>\n",
       "      <td>2017.0</td>\n",
       "    </tr>\n",
       "  </tbody>\n",
       "</table>\n",
       "<p>5 rows × 94 columns</p>\n",
       "</div>"
      ],
      "text/plain": [
       "                                                             Make       Model  \\\n",
       "2016 Ford Expedition Specs: 4WD 4-Door King Ranch            Ford  Expedition   \n",
       "2016 Subaru Crosstrek Specs: 5-Door Touring                Subaru   Crosstrek   \n",
       "2018 Porsche 911 Specs: Turbo Coupe                       Porsche         911   \n",
       "2017 Volvo XC90 Specs: T5 AWD 5-Passenger Momentum          Volvo        XC90   \n",
       "2017 Mercedes-Benz SL Class Specs: SL 550 Roadster  Mercedes-Benz    SL Class   \n",
       "\n",
       "                                                        MSRP  \\\n",
       "2016 Ford Expedition Specs: 4WD 4-Door King Ranch    62295.0   \n",
       "2016 Subaru Crosstrek Specs: 5-Door Touring          29995.0   \n",
       "2018 Porsche 911 Specs: Turbo Coupe                 161800.0   \n",
       "2017 Volvo XC90 Specs: T5 AWD 5-Passenger Momentum   47950.0   \n",
       "2017 Mercedes-Benz SL Class Specs: SL 550 Roadster  110800.0   \n",
       "\n",
       "                                                                     Style Name  \\\n",
       "2016 Ford Expedition Specs: 4WD 4-Door King Ranch            4WD 4dr King Ranch   \n",
       "2016 Subaru Crosstrek Specs: 5-Door Touring                         Touring CVT   \n",
       "2018 Porsche 911 Specs: Turbo Coupe                                 Turbo Coupe   \n",
       "2017 Volvo XC90 Specs: T5 AWD 5-Passenger Momentum  T5 AWD 5-Passenger Momentum   \n",
       "2017 Mercedes-Benz SL Class Specs: SL 550 Roadster                       SL 550   \n",
       "\n",
       "                                                          Drivetrain  \\\n",
       "2016 Ford Expedition Specs: 4WD 4-Door King Ranch   Four Wheel Drive   \n",
       "2016 Subaru Crosstrek Specs: 5-Door Touring          All Wheel Drive   \n",
       "2018 Porsche 911 Specs: Turbo Coupe                  All Wheel Drive   \n",
       "2017 Volvo XC90 Specs: T5 AWD 5-Passenger Momentum   All Wheel Drive   \n",
       "2017 Mercedes-Benz SL Class Specs: SL 550 Roadster  Rear Wheel Drive   \n",
       "\n",
       "                                                    Passenger Capacity  \\\n",
       "2016 Ford Expedition Specs: 4WD 4-Door King Ranch                  8.0   \n",
       "2016 Subaru Crosstrek Specs: 5-Door Touring                        5.0   \n",
       "2018 Porsche 911 Specs: Turbo Coupe                                4.0   \n",
       "2017 Volvo XC90 Specs: T5 AWD 5-Passenger Momentum                 5.0   \n",
       "2017 Mercedes-Benz SL Class Specs: SL 550 Roadster                 2.0   \n",
       "\n",
       "                                                    Passenger Doors  \\\n",
       "2016 Ford Expedition Specs: 4WD 4-Door King Ranch                 4   \n",
       "2016 Subaru Crosstrek Specs: 5-Door Touring                       4   \n",
       "2018 Porsche 911 Specs: Turbo Coupe                               2   \n",
       "2017 Volvo XC90 Specs: T5 AWD 5-Passenger Momentum                4   \n",
       "2017 Mercedes-Benz SL Class Specs: SL 550 Roadster                2   \n",
       "\n",
       "                                                       Body Style  \\\n",
       "2016 Ford Expedition Specs: 4WD 4-Door King Ranch   Sport Utility   \n",
       "2016 Subaru Crosstrek Specs: 5-Door Touring         Sport Utility   \n",
       "2018 Porsche 911 Specs: Turbo Coupe                       2dr Car   \n",
       "2017 Volvo XC90 Specs: T5 AWD 5-Passenger Momentum  Sport Utility   \n",
       "2017 Mercedes-Benz SL Class Specs: SL 550 Roadster    Convertible   \n",
       "\n",
       "                                                                  EPA Classification  \\\n",
       "2016 Ford Expedition Specs: 4WD 4-Door King Ranch   Small Sport Utility Vehicles 4WD   \n",
       "2016 Subaru Crosstrek Specs: 5-Door Touring         Small Sport Utility Vehicles 4WD   \n",
       "2018 Porsche 911 Specs: Turbo Coupe                                 Minicompact Cars   \n",
       "2017 Volvo XC90 Specs: T5 AWD 5-Passenger Momentum  Small Sport Utility Vehicles 4WD   \n",
       "2017 Mercedes-Benz SL Class Specs: SL 550 Roadster                       Two-Seaters   \n",
       "\n",
       "                                                    Base Curb Weight (lbs)  \\\n",
       "2016 Ford Expedition Specs: 4WD 4-Door King Ranch                  3905.44   \n",
       "2016 Subaru Crosstrek Specs: 5-Door Touring                        3495.00   \n",
       "2018 Porsche 911 Specs: Turbo Coupe                                3516.00   \n",
       "2017 Volvo XC90 Specs: T5 AWD 5-Passenger Momentum                 4394.00   \n",
       "2017 Mercedes-Benz SL Class Specs: SL 550 Roadster                 3959.00   \n",
       "\n",
       "                                                     ...    Displacement (cc)  \\\n",
       "2016 Ford Expedition Specs: 4WD 4-Door King Ranch    ...                213.0   \n",
       "2016 Subaru Crosstrek Specs: 5-Door Touring          ...                122.0   \n",
       "2018 Porsche 911 Specs: Turbo Coupe                  ...                232.0   \n",
       "2017 Volvo XC90 Specs: T5 AWD 5-Passenger Momentum   ...                120.0   \n",
       "2017 Mercedes-Benz SL Class Specs: SL 550 Roadster   ...                285.0   \n",
       "\n",
       "                                                    Rear Tire Width  \\\n",
       "2016 Ford Expedition Specs: 4WD 4-Door King Ranch             275.0   \n",
       "2016 Subaru Crosstrek Specs: 5-Door Touring                   225.0   \n",
       "2018 Porsche 911 Specs: Turbo Coupe                           305.0   \n",
       "2017 Volvo XC90 Specs: T5 AWD 5-Passenger Momentum            235.0   \n",
       "2017 Mercedes-Benz SL Class Specs: SL 550 Roadster            285.0   \n",
       "\n",
       "                                                    Front Tire Width  \\\n",
       "2016 Ford Expedition Specs: 4WD 4-Door King Ranch              275.0   \n",
       "2016 Subaru Crosstrek Specs: 5-Door Touring                    225.0   \n",
       "2018 Porsche 911 Specs: Turbo Coupe                            245.0   \n",
       "2017 Volvo XC90 Specs: T5 AWD 5-Passenger Momentum             235.0   \n",
       "2017 Mercedes-Benz SL Class Specs: SL 550 Roadster             255.0   \n",
       "\n",
       "                                                    Rear Wheel Size  \\\n",
       "2016 Ford Expedition Specs: 4WD 4-Door King Ranch              20.0   \n",
       "2016 Subaru Crosstrek Specs: 5-Door Touring                    17.0   \n",
       "2018 Porsche 911 Specs: Turbo Coupe                            20.0   \n",
       "2017 Volvo XC90 Specs: T5 AWD 5-Passenger Momentum             18.0   \n",
       "2017 Mercedes-Benz SL Class Specs: SL 550 Roadster             19.0   \n",
       "\n",
       "                                                    Front Wheel Size  \\\n",
       "2016 Ford Expedition Specs: 4WD 4-Door King Ranch               20.0   \n",
       "2016 Subaru Crosstrek Specs: 5-Door Touring                     17.0   \n",
       "2018 Porsche 911 Specs: Turbo Coupe                             20.0   \n",
       "2017 Volvo XC90 Specs: T5 AWD 5-Passenger Momentum              18.0   \n",
       "2017 Mercedes-Benz SL Class Specs: SL 550 Roadster              19.0   \n",
       "\n",
       "                                                    Tire Rating  \\\n",
       "2016 Ford Expedition Specs: 4WD 4-Door King Ranch             S   \n",
       "2016 Subaru Crosstrek Specs: 5-Door Touring                   H   \n",
       "2018 Porsche 911 Specs: Turbo Coupe                           Y   \n",
       "2017 Volvo XC90 Specs: T5 AWD 5-Passenger Momentum            H   \n",
       "2017 Mercedes-Benz SL Class Specs: SL 550 Roadster            Y   \n",
       "\n",
       "                                                    Tire Width Ratio  \\\n",
       "2016 Ford Expedition Specs: 4WD 4-Door King Ranch           1.000000   \n",
       "2016 Subaru Crosstrek Specs: 5-Door Touring                 1.000000   \n",
       "2018 Porsche 911 Specs: Turbo Coupe                         1.244898   \n",
       "2017 Volvo XC90 Specs: T5 AWD 5-Passenger Momentum          1.000000   \n",
       "2017 Mercedes-Benz SL Class Specs: SL 550 Roadster          1.117647   \n",
       "\n",
       "                                                    Wheel Size Ratio  \\\n",
       "2016 Ford Expedition Specs: 4WD 4-Door King Ranch                1.0   \n",
       "2016 Subaru Crosstrek Specs: 5-Door Touring                      1.0   \n",
       "2018 Porsche 911 Specs: Turbo Coupe                              1.0   \n",
       "2017 Volvo XC90 Specs: T5 AWD 5-Passenger Momentum               1.0   \n",
       "2017 Mercedes-Benz SL Class Specs: SL 550 Roadster               1.0   \n",
       "\n",
       "                                                    Tire Ratio    Year  \n",
       "2016 Ford Expedition Specs: 4WD 4-Door King Ranch          5.0  2016.0  \n",
       "2016 Subaru Crosstrek Specs: 5-Door Touring                5.0  2016.0  \n",
       "2018 Porsche 911 Specs: Turbo Coupe                        3.0  2018.0  \n",
       "2017 Volvo XC90 Specs: T5 AWD 5-Passenger Momentum         6.0  2017.0  \n",
       "2017 Mercedes-Benz SL Class Specs: SL 550 Roadster         3.0  2017.0  \n",
       "\n",
       "[5 rows x 94 columns]"
      ]
     },
     "execution_count": 3,
     "metadata": {},
     "output_type": "execute_result"
    }
   ],
   "source": [
    "df.head()"
   ]
  },
  {
   "cell_type": "markdown",
   "metadata": {},
   "source": [
    "##### Balancing the data"
   ]
  },
  {
   "cell_type": "code",
   "execution_count": 4,
   "metadata": {},
   "outputs": [
    {
     "data": {
      "text/plain": [
       "<matplotlib.axes._subplots.AxesSubplot at 0x28984a91048>"
      ]
     },
     "execution_count": 4,
     "metadata": {},
     "output_type": "execute_result"
    },
    {
     "data": {
      "image/png": "[encoded data removed]",
      "text/plain": [
       "<Figure size 432x288 with 1 Axes>"
      ]
     },
     "metadata": {},
     "output_type": "display_data"
    }
   ],
   "source": [
    "df['EPA Classification'].value_counts().plot(kind='pie')"
   ]
  },
  {
   "cell_type": "code",
   "execution_count": 5,
   "metadata": {},
   "outputs": [
    {
     "data": {
      "text/plain": [
       "Small Sport Utility Vehicles 4WD       1650\n",
       "Mid-Size Cars                          1177\n",
       "Compact Cars                           1029\n",
       "Small Sport Utility Vehicles 2WD        659\n",
       "Large Cars                              598\n",
       "Subcompact Cars                         534\n",
       "Two-Seaters                             329\n",
       "Standard Sport Utility Vehicles 4WD     236\n",
       "Small Station Wagon                     226\n",
       "Minicompact Cars                        188\n",
       "Name: EPA Classification, dtype: int64"
      ]
     },
     "execution_count": 5,
     "metadata": {},
     "output_type": "execute_result"
    }
   ],
   "source": [
    "df['EPA Classification'].value_counts().head(10)"
   ]
  },
  {
   "cell_type": "markdown",
   "metadata": {},
   "source": [
    "That's too unbalanced!"
   ]
  },
  {
   "cell_type": "code",
   "execution_count": 6,
   "metadata": {},
   "outputs": [],
   "source": [
    "small_utility_awd = df.loc[df['EPA Classification'] == 'Small Sport Utility Vehicles 4WD'].sample(n=500, random_state=42)\n",
    "midsized_car = df.loc[df['EPA Classification'] == 'Mid-Size Cars'].sample(n=500, random_state=42)\n",
    "compact_car = df.loc[df['EPA Classification'] == 'Compact Cars'].sample(n=500, random_state=42)\n",
    "small_utility_fwd = df.loc[df['EPA Classification'] == 'Small Sport Utility Vehicles 2WD'].sample(n=500, random_state=42)\n",
    "large_cars = df.loc[df['EPA Classification'] == 'Large Cars'].sample(n=500, random_state=42)\n",
    "subcompact_cars = df.loc[df['EPA Classification'] == 'Subcompact Cars'].sample(n=500, random_state=42)"
   ]
  },
  {
   "cell_type": "code",
   "execution_count": 7,
   "metadata": {},
   "outputs": [],
   "source": [
    "df = pd.concat([small_utility_awd, small_utility_fwd, compact_car, midsized_car, \n",
    "                large_cars, subcompact_cars], axis=0, sort=False).sample(frac=1, random_state=42).reset_index(drop=True)"
   ]
  },
  {
   "cell_type": "code",
   "execution_count": 8,
   "metadata": {},
   "outputs": [
    {
     "data": {
      "text/html": [
       "<div>\n",
       "<style scoped>\n",
       "    .dataframe tbody tr th:only-of-type {\n",
       "        vertical-align: middle;\n",
       "    }\n",
       "\n",
       "    .dataframe tbody tr th {\n",
       "        vertical-align: top;\n",
       "    }\n",
       "\n",
       "    .dataframe thead th {\n",
       "        text-align: right;\n",
       "    }\n",
       "</style>\n",
       "<table border=\"1\" class=\"dataframe\">\n",
       "  <thead>\n",
       "    <tr style=\"text-align: right;\">\n",
       "      <th></th>\n",
       "      <th>Make</th>\n",
       "      <th>Model</th>\n",
       "      <th>MSRP</th>\n",
       "      <th>Style Name</th>\n",
       "      <th>Drivetrain</th>\n",
       "      <th>Passenger Capacity</th>\n",
       "      <th>Passenger Doors</th>\n",
       "      <th>Body Style</th>\n",
       "      <th>EPA Classification</th>\n",
       "      <th>Base Curb Weight (lbs)</th>\n",
       "      <th>...</th>\n",
       "      <th>Displacement (cc)</th>\n",
       "      <th>Rear Tire Width</th>\n",
       "      <th>Front Tire Width</th>\n",
       "      <th>Rear Wheel Size</th>\n",
       "      <th>Front Wheel Size</th>\n",
       "      <th>Tire Rating</th>\n",
       "      <th>Tire Width Ratio</th>\n",
       "      <th>Wheel Size Ratio</th>\n",
       "      <th>Tire Ratio</th>\n",
       "      <th>Year</th>\n",
       "    </tr>\n",
       "  </thead>\n",
       "  <tbody>\n",
       "    <tr>\n",
       "      <th>0</th>\n",
       "      <td>Kia</td>\n",
       "      <td>Forte5</td>\n",
       "      <td>23900.0</td>\n",
       "      <td>SX DCT</td>\n",
       "      <td>Front Wheel Drive</td>\n",
       "      <td>5.0</td>\n",
       "      <td>4</td>\n",
       "      <td>4dr Car</td>\n",
       "      <td>Mid-Size Cars</td>\n",
       "      <td>2898.0</td>\n",
       "      <td>...</td>\n",
       "      <td>97.0</td>\n",
       "      <td>225.0</td>\n",
       "      <td>225.0</td>\n",
       "      <td>18.0</td>\n",
       "      <td>18.0</td>\n",
       "      <td>H</td>\n",
       "      <td>1.000000</td>\n",
       "      <td>1.0</td>\n",
       "      <td>4.0</td>\n",
       "      <td>2018.0</td>\n",
       "    </tr>\n",
       "    <tr>\n",
       "      <th>1</th>\n",
       "      <td>Jaguar</td>\n",
       "      <td>XE</td>\n",
       "      <td>38325.0</td>\n",
       "      <td>25t Premium RWD</td>\n",
       "      <td>Rear Wheel Drive</td>\n",
       "      <td>5.0</td>\n",
       "      <td>4</td>\n",
       "      <td>4dr Car</td>\n",
       "      <td>Compact Cars</td>\n",
       "      <td>3395.0</td>\n",
       "      <td>...</td>\n",
       "      <td>122.0</td>\n",
       "      <td>225.0</td>\n",
       "      <td>225.0</td>\n",
       "      <td>17.0</td>\n",
       "      <td>17.0</td>\n",
       "      <td>H</td>\n",
       "      <td>1.000000</td>\n",
       "      <td>1.0</td>\n",
       "      <td>5.0</td>\n",
       "      <td>2018.0</td>\n",
       "    </tr>\n",
       "    <tr>\n",
       "      <th>2</th>\n",
       "      <td>Audi</td>\n",
       "      <td>S7</td>\n",
       "      <td>81200.0</td>\n",
       "      <td>4.0 TFSI Premium Plus</td>\n",
       "      <td>All Wheel Drive</td>\n",
       "      <td>4.0</td>\n",
       "      <td>4</td>\n",
       "      <td>4dr Car</td>\n",
       "      <td>Mid-Size Cars</td>\n",
       "      <td>4486.0</td>\n",
       "      <td>...</td>\n",
       "      <td>244.0</td>\n",
       "      <td>265.0</td>\n",
       "      <td>265.0</td>\n",
       "      <td>20.0</td>\n",
       "      <td>20.0</td>\n",
       "      <td>Y</td>\n",
       "      <td>1.000000</td>\n",
       "      <td>1.0</td>\n",
       "      <td>3.0</td>\n",
       "      <td>2018.0</td>\n",
       "    </tr>\n",
       "    <tr>\n",
       "      <th>3</th>\n",
       "      <td>Alfa Romeo</td>\n",
       "      <td>Stelvio Quadrifoglio</td>\n",
       "      <td>79795.0</td>\n",
       "      <td>AWD</td>\n",
       "      <td>All Wheel Drive</td>\n",
       "      <td>5.0</td>\n",
       "      <td>4</td>\n",
       "      <td>Sport Utility</td>\n",
       "      <td>Small Sport Utility Vehicles 4WD</td>\n",
       "      <td>4360.0</td>\n",
       "      <td>...</td>\n",
       "      <td>176.0</td>\n",
       "      <td>285.0</td>\n",
       "      <td>255.0</td>\n",
       "      <td>20.0</td>\n",
       "      <td>20.0</td>\n",
       "      <td>Y</td>\n",
       "      <td>1.117647</td>\n",
       "      <td>1.0</td>\n",
       "      <td>4.0</td>\n",
       "      <td>2018.0</td>\n",
       "    </tr>\n",
       "    <tr>\n",
       "      <th>4</th>\n",
       "      <td>Volkswagen</td>\n",
       "      <td>Beetle Convertible</td>\n",
       "      <td>25490.0</td>\n",
       "      <td>2dr Auto 1.8T S</td>\n",
       "      <td>Front Wheel Drive</td>\n",
       "      <td>4.0</td>\n",
       "      <td>2</td>\n",
       "      <td>Convertible</td>\n",
       "      <td>Subcompact Cars</td>\n",
       "      <td>3225.0</td>\n",
       "      <td>...</td>\n",
       "      <td>110.0</td>\n",
       "      <td>215.0</td>\n",
       "      <td>215.0</td>\n",
       "      <td>17.0</td>\n",
       "      <td>17.0</td>\n",
       "      <td>H</td>\n",
       "      <td>1.000000</td>\n",
       "      <td>1.0</td>\n",
       "      <td>5.0</td>\n",
       "      <td>2016.0</td>\n",
       "    </tr>\n",
       "  </tbody>\n",
       "</table>\n",
       "<p>5 rows × 94 columns</p>\n",
       "</div>"
      ],
      "text/plain": [
       "         Make                 Model     MSRP             Style Name  \\\n",
       "0         Kia                Forte5  23900.0                 SX DCT   \n",
       "1      Jaguar                    XE  38325.0        25t Premium RWD   \n",
       "2        Audi                    S7  81200.0  4.0 TFSI Premium Plus   \n",
       "3  Alfa Romeo  Stelvio Quadrifoglio  79795.0                    AWD   \n",
       "4  Volkswagen    Beetle Convertible  25490.0        2dr Auto 1.8T S   \n",
       "\n",
       "          Drivetrain  Passenger Capacity  Passenger Doors     Body Style  \\\n",
       "0  Front Wheel Drive                 5.0                4        4dr Car   \n",
       "1   Rear Wheel Drive                 5.0                4        4dr Car   \n",
       "2    All Wheel Drive                 4.0                4        4dr Car   \n",
       "3    All Wheel Drive                 5.0                4  Sport Utility   \n",
       "4  Front Wheel Drive                 4.0                2    Convertible   \n",
       "\n",
       "                 EPA Classification  Base Curb Weight (lbs)   ...    \\\n",
       "0                     Mid-Size Cars                  2898.0   ...     \n",
       "1                      Compact Cars                  3395.0   ...     \n",
       "2                     Mid-Size Cars                  4486.0   ...     \n",
       "3  Small Sport Utility Vehicles 4WD                  4360.0   ...     \n",
       "4                   Subcompact Cars                  3225.0   ...     \n",
       "\n",
       "   Displacement (cc)  Rear Tire Width  Front Tire Width  Rear Wheel Size  \\\n",
       "0               97.0            225.0             225.0             18.0   \n",
       "1              122.0            225.0             225.0             17.0   \n",
       "2              244.0            265.0             265.0             20.0   \n",
       "3              176.0            285.0             255.0             20.0   \n",
       "4              110.0            215.0             215.0             17.0   \n",
       "\n",
       "   Front Wheel Size  Tire Rating  Tire Width Ratio  Wheel Size Ratio  \\\n",
       "0              18.0            H          1.000000               1.0   \n",
       "1              17.0            H          1.000000               1.0   \n",
       "2              20.0            Y          1.000000               1.0   \n",
       "3              20.0            Y          1.117647               1.0   \n",
       "4              17.0            H          1.000000               1.0   \n",
       "\n",
       "   Tire Ratio    Year  \n",
       "0         4.0  2018.0  \n",
       "1         5.0  2018.0  \n",
       "2         3.0  2018.0  \n",
       "3         4.0  2018.0  \n",
       "4         5.0  2016.0  \n",
       "\n",
       "[5 rows x 94 columns]"
      ]
     },
     "execution_count": 8,
     "metadata": {},
     "output_type": "execute_result"
    }
   ],
   "source": [
    "df.head()"
   ]
  },
  {
   "cell_type": "code",
   "execution_count": 9,
   "metadata": {},
   "outputs": [
    {
     "data": {
      "text/plain": [
       "(3000, 94)"
      ]
     },
     "execution_count": 9,
     "metadata": {},
     "output_type": "execute_result"
    }
   ],
   "source": [
    "df.shape"
   ]
  },
  {
   "cell_type": "code",
   "execution_count": 10,
   "metadata": {},
   "outputs": [
    {
     "data": {
      "text/plain": [
       "Mid-Size Cars                       500\n",
       "Small Sport Utility Vehicles 4WD    500\n",
       "Subcompact Cars                     500\n",
       "Compact Cars                        500\n",
       "Small Sport Utility Vehicles 2WD    500\n",
       "Large Cars                          500\n",
       "Name: EPA Classification, dtype: int64"
      ]
     },
     "execution_count": 10,
     "metadata": {},
     "output_type": "execute_result"
    }
   ],
   "source": [
    "df['EPA Classification'].value_counts()"
   ]
  },
  {
   "cell_type": "code",
   "execution_count": 11,
   "metadata": {},
   "outputs": [
    {
     "data": {
      "text/plain": [
       "<matplotlib.axes._subplots.AxesSubplot at 0x28984dc00b8>"
      ]
     },
     "execution_count": 11,
     "metadata": {},
     "output_type": "execute_result"
    },
    {
     "data": {
      "image/png": "[encoded data removed]",
      "text/plain": [
       "<Figure size 432x288 with 1 Axes>"
      ]
     },
     "metadata": {},
     "output_type": "display_data"
    }
   ],
   "source": [
    "df['EPA Classification'].value_counts().plot(kind='pie')"
   ]
  },
  {
   "cell_type": "markdown",
   "metadata": {},
   "source": [
    "##### Separating the label from the predictor variables"
   ]
  },
  {
   "cell_type": "code",
   "execution_count": 12,
   "metadata": {},
   "outputs": [],
   "source": [
    "X = df.loc[:, ['MSRP', 'Drivetrain', 'Passenger Capacity', 'Passenger Doors', \n",
    "               'Width, Max w/o mirrors (in)', 'Track Width, Rear (in)',\n",
    "               'Height, Overall (in)', 'Wheelbase (in)', 'Track Width, Front (in)',\n",
    "               'Fuel Tank Capacity, Approx (gal)', 'EPA Fuel Economy Est - City (MPG)',\n",
    "               'EPA Fuel Economy Est - Hwy (MPG)', 'Gears', 'Net Horsepower', 'Net Horsepower RPM', \n",
    "               'Net Torque', 'Net Torque RPM', 'Cylinders', 'Engine Configuration', 'Engine Class',\n",
    "               'Displacement (L)', 'Displacement (cc)', 'Rear Tire Width',\n",
    "               'Front Tire Width', 'Rear Wheel Size', 'Front Wheel Size',\n",
    "               'Tire Rating', 'Tire Width Ratio', 'Wheel Size Ratio', 'Tire Ratio']]\n",
    "y = df['EPA Classification']"
   ]
  },
  {
   "cell_type": "markdown",
   "metadata": {},
   "source": [
    "##### One hot encoding certain features"
   ]
  },
  {
   "cell_type": "code",
   "execution_count": 13,
   "metadata": {
    "scrolled": false
   },
   "outputs": [],
   "source": [
    "specs_to_dummies = ['Drivetrain', 'Engine Configuration', 'Engine Class', 'Tire Rating']\n",
    "\n",
    "for item in specs_to_dummies:\n",
    "    dummies = pd.get_dummies(X[item], prefix_sep=': ', prefix=item)\n",
    "    X = X.drop(item, axis=1)\n",
    "    X = pd.concat([X, dummies], sort=False, axis=1)"
   ]
  },
  {
   "cell_type": "code",
   "execution_count": 14,
   "metadata": {},
   "outputs": [
    {
     "data": {
      "text/plain": [
       "Index(['MSRP', 'Passenger Capacity', 'Passenger Doors',\n",
       "       'Width, Max w/o mirrors (in)', 'Track Width, Rear (in)',\n",
       "       'Height, Overall (in)', 'Wheelbase (in)', 'Track Width, Front (in)',\n",
       "       'Fuel Tank Capacity, Approx (gal)', 'EPA Fuel Economy Est - City (MPG)',\n",
       "       'EPA Fuel Economy Est - Hwy (MPG)', 'Gears', 'Net Horsepower',\n",
       "       'Net Horsepower RPM', 'Net Torque', 'Net Torque RPM', 'Cylinders',\n",
       "       'Displacement (L)', 'Displacement (cc)', 'Rear Tire Width',\n",
       "       'Front Tire Width', 'Rear Wheel Size', 'Front Wheel Size',\n",
       "       'Tire Width Ratio', 'Wheel Size Ratio', 'Tire Ratio',\n",
       "       'Drivetrain: All Wheel Drive', 'Drivetrain: Four Wheel Drive',\n",
       "       'Drivetrain: Front Wheel Drive', 'Drivetrain: Rear Wheel Drive',\n",
       "       'Engine Configuration: E', 'Engine Configuration: H',\n",
       "       'Engine Configuration: I', 'Engine Configuration: V',\n",
       "       'Engine Configuration: W', 'Engine Class: Electric',\n",
       "       'Engine Class: Gas', 'Engine Class: Gas/Electric',\n",
       "       'Engine Class: Gas/Ethanol', 'Engine Class: Intercooled',\n",
       "       'Engine Class: Premium', 'Engine Class: Regular',\n",
       "       'Engine Class: Supercharger', 'Engine Class: Turbocharged',\n",
       "       'Engine Class: Twin', 'Tire Rating: H', 'Tire Rating: S',\n",
       "       'Tire Rating: T', 'Tire Rating: V', 'Tire Rating: W', 'Tire Rating: Y',\n",
       "       'Tire Rating: Z'],\n",
       "      dtype='object')"
      ]
     },
     "execution_count": 14,
     "metadata": {},
     "output_type": "execute_result"
    }
   ],
   "source": [
    "X.columns"
   ]
  },
  {
   "cell_type": "markdown",
   "metadata": {},
   "source": [
    "##### Splitting the data"
   ]
  },
  {
   "cell_type": "code",
   "execution_count": 15,
   "metadata": {},
   "outputs": [],
   "source": [
    "X_train, X_test, y_train, y_test = train_test_split(X, y, test_size=0.20)"
   ]
  },
  {
   "cell_type": "markdown",
   "metadata": {},
   "source": [
    "##### Training the model"
   ]
  },
  {
   "cell_type": "code",
   "execution_count": 16,
   "metadata": {},
   "outputs": [
    {
     "data": {
      "text/plain": [
       "DecisionTreeClassifier(class_weight=None, criterion='gini', max_depth=None,\n",
       "            max_features=None, max_leaf_nodes=None,\n",
       "            min_impurity_decrease=0.0, min_impurity_split=None,\n",
       "            min_samples_leaf=1, min_samples_split=2,\n",
       "            min_weight_fraction_leaf=0.0, presort=False, random_state=42,\n",
       "            splitter='best')"
      ]
     },
     "execution_count": 16,
     "metadata": {},
     "output_type": "execute_result"
    }
   ],
   "source": [
    "clf = DecisionTreeClassifier(random_state=42)\n",
    "clf.fit(X_train, y_train)"
   ]
  },
  {
   "cell_type": "markdown",
   "metadata": {},
   "source": [
    "##### Making predictions"
   ]
  },
  {
   "cell_type": "code",
   "execution_count": 17,
   "metadata": {},
   "outputs": [],
   "source": [
    "y_pred = clf.predict(X_test)"
   ]
  },
  {
   "cell_type": "code",
   "execution_count": 18,
   "metadata": {},
   "outputs": [
    {
     "data": {
      "text/plain": [
       "0.9583333333333334"
      ]
     },
     "execution_count": 18,
     "metadata": {},
     "output_type": "execute_result"
    }
   ],
   "source": [
    "accuracy_score(y_test, y_pred)"
   ]
  },
  {
   "cell_type": "markdown",
   "metadata": {},
   "source": [
    "Amazing accuracy."
   ]
  },
  {
   "cell_type": "markdown",
   "metadata": {},
   "source": [
    "##### Getting info about parameters"
   ]
  },
  {
   "cell_type": "code",
   "execution_count": 19,
   "metadata": {},
   "outputs": [],
   "source": [
    "features = pd.DataFrame(clf.feature_importances_)"
   ]
  },
  {
   "cell_type": "code",
   "execution_count": 20,
   "metadata": {},
   "outputs": [
    {
     "data": {
      "text/html": [
       "<div>\n",
       "<style scoped>\n",
       "    .dataframe tbody tr th:only-of-type {\n",
       "        vertical-align: middle;\n",
       "    }\n",
       "\n",
       "    .dataframe tbody tr th {\n",
       "        vertical-align: top;\n",
       "    }\n",
       "\n",
       "    .dataframe thead th {\n",
       "        text-align: right;\n",
       "    }\n",
       "</style>\n",
       "<table border=\"1\" class=\"dataframe\">\n",
       "  <thead>\n",
       "    <tr style=\"text-align: right;\">\n",
       "      <th></th>\n",
       "      <th>Feature</th>\n",
       "      <th>Importance</th>\n",
       "    </tr>\n",
       "  </thead>\n",
       "  <tbody>\n",
       "    <tr>\n",
       "      <th>0</th>\n",
       "      <td>Height, Overall (in)</td>\n",
       "      <td>0.273828</td>\n",
       "    </tr>\n",
       "    <tr>\n",
       "      <th>1</th>\n",
       "      <td>Drivetrain: Front Wheel Drive</td>\n",
       "      <td>0.174539</td>\n",
       "    </tr>\n",
       "    <tr>\n",
       "      <th>2</th>\n",
       "      <td>Fuel Tank Capacity, Approx (gal)</td>\n",
       "      <td>0.107028</td>\n",
       "    </tr>\n",
       "    <tr>\n",
       "      <th>3</th>\n",
       "      <td>Track Width, Rear (in)</td>\n",
       "      <td>0.092047</td>\n",
       "    </tr>\n",
       "    <tr>\n",
       "      <th>4</th>\n",
       "      <td>Passenger Capacity</td>\n",
       "      <td>0.085422</td>\n",
       "    </tr>\n",
       "    <tr>\n",
       "      <th>5</th>\n",
       "      <td>Width, Max w/o mirrors (in)</td>\n",
       "      <td>0.033786</td>\n",
       "    </tr>\n",
       "    <tr>\n",
       "      <th>6</th>\n",
       "      <td>Wheelbase (in)</td>\n",
       "      <td>0.032718</td>\n",
       "    </tr>\n",
       "    <tr>\n",
       "      <th>7</th>\n",
       "      <td>Net Torque RPM</td>\n",
       "      <td>0.026748</td>\n",
       "    </tr>\n",
       "    <tr>\n",
       "      <th>8</th>\n",
       "      <td>MSRP</td>\n",
       "      <td>0.026052</td>\n",
       "    </tr>\n",
       "    <tr>\n",
       "      <th>9</th>\n",
       "      <td>Track Width, Front (in)</td>\n",
       "      <td>0.025407</td>\n",
       "    </tr>\n",
       "    <tr>\n",
       "      <th>10</th>\n",
       "      <td>Net Horsepower RPM</td>\n",
       "      <td>0.019066</td>\n",
       "    </tr>\n",
       "    <tr>\n",
       "      <th>11</th>\n",
       "      <td>Passenger Doors</td>\n",
       "      <td>0.018337</td>\n",
       "    </tr>\n",
       "    <tr>\n",
       "      <th>12</th>\n",
       "      <td>Net Horsepower</td>\n",
       "      <td>0.016622</td>\n",
       "    </tr>\n",
       "    <tr>\n",
       "      <th>13</th>\n",
       "      <td>Engine Class: Turbocharged</td>\n",
       "      <td>0.008921</td>\n",
       "    </tr>\n",
       "    <tr>\n",
       "      <th>14</th>\n",
       "      <td>EPA Fuel Economy Est - Hwy (MPG)</td>\n",
       "      <td>0.006911</td>\n",
       "    </tr>\n",
       "  </tbody>\n",
       "</table>\n",
       "</div>"
      ],
      "text/plain": [
       "                             Feature  Importance\n",
       "0               Height, Overall (in)    0.273828\n",
       "1      Drivetrain: Front Wheel Drive    0.174539\n",
       "2   Fuel Tank Capacity, Approx (gal)    0.107028\n",
       "3             Track Width, Rear (in)    0.092047\n",
       "4                 Passenger Capacity    0.085422\n",
       "5        Width, Max w/o mirrors (in)    0.033786\n",
       "6                     Wheelbase (in)    0.032718\n",
       "7                     Net Torque RPM    0.026748\n",
       "8                               MSRP    0.026052\n",
       "9            Track Width, Front (in)    0.025407\n",
       "10                Net Horsepower RPM    0.019066\n",
       "11                   Passenger Doors    0.018337\n",
       "12                    Net Horsepower    0.016622\n",
       "13        Engine Class: Turbocharged    0.008921\n",
       "14  EPA Fuel Economy Est - Hwy (MPG)    0.006911"
      ]
     },
     "execution_count": 20,
     "metadata": {},
     "output_type": "execute_result"
    }
   ],
   "source": [
    "features_importances = pd.concat([pd.DataFrame(X.columns), features], axis=1, sort=False)\n",
    "features_importances.columns = ['Feature', 'Importance']\n",
    "features_importances.sort_values(by='Importance', ascending=False).reset_index(drop=True).head(15)"
   ]
  },
  {
   "cell_type": "code",
   "execution_count": 29,
   "metadata": {},
   "outputs": [
    {
     "data": {
      "text/html": [
       "<div>\n",
       "<style scoped>\n",
       "    .dataframe tbody tr th:only-of-type {\n",
       "        vertical-align: middle;\n",
       "    }\n",
       "\n",
       "    .dataframe tbody tr th {\n",
       "        vertical-align: top;\n",
       "    }\n",
       "\n",
       "    .dataframe thead th {\n",
       "        text-align: right;\n",
       "    }\n",
       "</style>\n",
       "<table border=\"1\" class=\"dataframe\">\n",
       "  <thead>\n",
       "    <tr style=\"text-align: right;\">\n",
       "      <th></th>\n",
       "      <th>Compact Cars</th>\n",
       "      <th>Large Cars</th>\n",
       "      <th>Mid-Size Cars</th>\n",
       "      <th>Small Sport Utility Vehicles 2WD</th>\n",
       "      <th>Small Sport Utility Vehicles 4WD</th>\n",
       "      <th>Subcompact Cars</th>\n",
       "    </tr>\n",
       "  </thead>\n",
       "  <tbody>\n",
       "    <tr>\n",
       "      <th>Compact Cars</th>\n",
       "      <td>85</td>\n",
       "      <td>2</td>\n",
       "      <td>2</td>\n",
       "      <td>0</td>\n",
       "      <td>0</td>\n",
       "      <td>2</td>\n",
       "    </tr>\n",
       "    <tr>\n",
       "      <th>Large Cars</th>\n",
       "      <td>0</td>\n",
       "      <td>106</td>\n",
       "      <td>2</td>\n",
       "      <td>0</td>\n",
       "      <td>0</td>\n",
       "      <td>0</td>\n",
       "    </tr>\n",
       "    <tr>\n",
       "      <th>Mid-Size Cars</th>\n",
       "      <td>9</td>\n",
       "      <td>2</td>\n",
       "      <td>84</td>\n",
       "      <td>1</td>\n",
       "      <td>0</td>\n",
       "      <td>0</td>\n",
       "    </tr>\n",
       "    <tr>\n",
       "      <th>Small Sport Utility Vehicles 2WD</th>\n",
       "      <td>0</td>\n",
       "      <td>1</td>\n",
       "      <td>0</td>\n",
       "      <td>107</td>\n",
       "      <td>1</td>\n",
       "      <td>0</td>\n",
       "    </tr>\n",
       "    <tr>\n",
       "      <th>Small Sport Utility Vehicles 4WD</th>\n",
       "      <td>0</td>\n",
       "      <td>0</td>\n",
       "      <td>0</td>\n",
       "      <td>2</td>\n",
       "      <td>102</td>\n",
       "      <td>0</td>\n",
       "    </tr>\n",
       "    <tr>\n",
       "      <th>Subcompact Cars</th>\n",
       "      <td>1</td>\n",
       "      <td>0</td>\n",
       "      <td>0</td>\n",
       "      <td>0</td>\n",
       "      <td>0</td>\n",
       "      <td>91</td>\n",
       "    </tr>\n",
       "  </tbody>\n",
       "</table>\n",
       "</div>"
      ],
      "text/plain": [
       "                                  Compact Cars  Large Cars  Mid-Size Cars  \\\n",
       "Compact Cars                                85           2              2   \n",
       "Large Cars                                   0         106              2   \n",
       "Mid-Size Cars                                9           2             84   \n",
       "Small Sport Utility Vehicles 2WD             0           1              0   \n",
       "Small Sport Utility Vehicles 4WD             0           0              0   \n",
       "Subcompact Cars                              1           0              0   \n",
       "\n",
       "                                  Small Sport Utility Vehicles 2WD  \\\n",
       "Compact Cars                                                     0   \n",
       "Large Cars                                                       0   \n",
       "Mid-Size Cars                                                    1   \n",
       "Small Sport Utility Vehicles 2WD                               107   \n",
       "Small Sport Utility Vehicles 4WD                                 2   \n",
       "Subcompact Cars                                                  0   \n",
       "\n",
       "                                  Small Sport Utility Vehicles 4WD  \\\n",
       "Compact Cars                                                     0   \n",
       "Large Cars                                                       0   \n",
       "Mid-Size Cars                                                    0   \n",
       "Small Sport Utility Vehicles 2WD                                 1   \n",
       "Small Sport Utility Vehicles 4WD                               102   \n",
       "Subcompact Cars                                                  0   \n",
       "\n",
       "                                  Subcompact Cars  \n",
       "Compact Cars                                    2  \n",
       "Large Cars                                      0  \n",
       "Mid-Size Cars                                   0  \n",
       "Small Sport Utility Vehicles 2WD                0  \n",
       "Small Sport Utility Vehicles 4WD                0  \n",
       "Subcompact Cars                                91  "
      ]
     },
     "execution_count": 29,
     "metadata": {},
     "output_type": "execute_result"
    }
   ],
   "source": [
    "pd.DataFrame(confusion_matrix(y_test, y_pred), columns=np.unique(df['EPA Classification'].values), \n",
    "             index=np.unique(df['EPA Classification'].values))"
   ]
  },
  {
   "cell_type": "markdown",
   "metadata": {},
   "source": [
    "We can see that mid-sized cars are somewhat often mistaken for compact cars."
   ]
  }
 ],
 "metadata": {
  "kernelspec": {
   "display_name": "Python 3",
   "language": "python",
   "name": "python3"
  },
  "language_info": {
   "codemirror_mode": {
    "name": "ipython",
    "version": 3
   },
   "file_extension": ".py",
   "mimetype": "text/x-python",
   "name": "python",
   "nbconvert_exporter": "python",
   "pygments_lexer": "ipython3",
   "version": "3.7.0"
  }
 },
 "nbformat": 4,
 "nbformat_minor": 2
}
