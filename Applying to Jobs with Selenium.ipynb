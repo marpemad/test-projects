{
 "cells": [
  {
   "cell_type": "markdown",
   "metadata": {},
   "source": [
    "# Applying to Jobs on <font color='red'>[</font> INTACT <font color='red'>]</font> with Selenium"
   ]
  },
  {
   "cell_type": "markdown",
   "metadata": {},
   "source": [
    "#### Importing libraries"
   ]
  },
  {
   "cell_type": "code",
   "execution_count": 1,
   "metadata": {},
   "outputs": [],
   "source": [
    "from selenium import webdriver\n",
    "from selenium.webdriver.common.keys import Keys\n",
    "from selenium.webdriver.chrome.options import Options\n",
    "chrome_options = webdriver.ChromeOptions()\n",
    "prefs = {\"profile.default_content_setting_values.notifications\" : 2}\n",
    "chrome_options.add_experimental_option(\"prefs\", prefs)\n",
    "import re"
   ]
  },
  {
   "cell_type": "markdown",
   "metadata": {},
   "source": [
    "#### Launching the web driver"
   ]
  },
  {
   "cell_type": "code",
   "execution_count": 2,
   "metadata": {},
   "outputs": [],
   "source": [
    "driver = webdriver.Chrome(r'C:/Users/Nicolas/Downloads/chromedriver.exe', options=chrome_options)\n",
    "driver.maximize_window()"
   ]
  },
  {
   "cell_type": "markdown",
   "metadata": {},
   "source": [
    "#### Accessing the webpage"
   ]
  },
  {
   "cell_type": "code",
   "execution_count": 3,
   "metadata": {},
   "outputs": [],
   "source": [
    "webpage = 'https://careers.intact.ca/ca/fr/c/actuariat-et-lab-de-données-jobs'"
   ]
  },
  {
   "cell_type": "code",
   "execution_count": 4,
   "metadata": {},
   "outputs": [],
   "source": [
    "driver.get(webpage)"
   ]
  },
  {
   "cell_type": "markdown",
   "metadata": {},
   "source": [
    "#### Are there interesting job opportunities?"
   ]
  },
  {
   "cell_type": "code",
   "execution_count": 5,
   "metadata": {},
   "outputs": [],
   "source": [
    "jobs = driver.find_elements_by_class_name('jobs-list-item')"
   ]
  },
  {
   "cell_type": "code",
   "execution_count": 6,
   "metadata": {
    "scrolled": true
   },
   "outputs": [
    {
     "name": "stdout",
     "output_type": "stream",
     "text": [
      "1 Scientifique de données (Québec)\n",
      "2 Analyste en actuariat (Québec)\n",
      "3 Scientifique de données (Montréal)\n",
      "4 Scientifique de données senior (Québec)\n",
      "5 Scientifique de données principal (Toronto)\n",
      "6 Senior Analyst, Actuarial (Toronto)\n",
      "7 Directeur principal, Data Lab – Intact International (Hong Kong)\n",
      "8 Directeur, DataLab – Intact International (Hong Kong)\n",
      "9 Analyste principal, Actuariat (Québec)\n",
      "10 Scientifique de données (Toronto)\n",
      "11 Analyste en actuariat\n",
      "12 Analyste principal, Actuariat\n",
      "13 Scientifique de données senior (Montréal)\n"
     ]
    }
   ],
   "source": [
    "job_offers = []\n",
    "for i, ix in enumerate(range(len(jobs))):\n",
    "    print(ix + 1, jobs[i].text.split('\\n')[0])\n",
    "    job_offers.append(jobs[i].text.split('\\n')[0])"
   ]
  },
  {
   "cell_type": "markdown",
   "metadata": {},
   "source": [
    "I want to be a data scientist in Montréal!"
   ]
  },
  {
   "cell_type": "code",
   "execution_count": 7,
   "metadata": {},
   "outputs": [
    {
     "name": "stdout",
     "output_type": "stream",
     "text": [
      "Which is the number of the job you are interested in? Type your response:\n",
      "You are interested in \"Scientifique De Données (Québec)\". Good luck!\n"
     ]
    }
   ],
   "source": [
    "print('Which is the number of the job you are interested in? Type your response:')\n",
    "job_title = 1\n",
    "print('You are interested in \"' + job_offers[int(job_title)-1].title() + '\". Good luck!')"
   ]
  },
  {
   "cell_type": "markdown",
   "metadata": {},
   "source": [
    "#### Clicking the apply button"
   ]
  },
  {
   "cell_type": "code",
   "execution_count": 8,
   "metadata": {},
   "outputs": [],
   "source": [
    "driver.find_element_by_partial_link_text(job_offers[int(job_title)-1]).click()"
   ]
  },
  {
   "cell_type": "code",
   "execution_count": 9,
   "metadata": {},
   "outputs": [],
   "source": [
    "driver.implicitly_wait(3)\n",
    "apply = driver.find_element_by_link_text('POSTULEZ MAINTENANT')\n",
    "apply.click()"
   ]
  },
  {
   "cell_type": "markdown",
   "metadata": {},
   "source": [
    "#### Logging in"
   ]
  },
  {
   "cell_type": "markdown",
   "metadata": {},
   "source": [
    "Email"
   ]
  },
  {
   "cell_type": "code",
   "execution_count": 11,
   "metadata": {},
   "outputs": [],
   "source": [
    "email_form = driver.find_element_by_id('email')\n",
    "email_form.send_keys('---------@email.com')"
   ]
  },
  {
   "cell_type": "markdown",
   "metadata": {},
   "source": [
    "Password"
   ]
  },
  {
   "cell_type": "code",
   "execution_count": 13,
   "metadata": {},
   "outputs": [],
   "source": [
    "password_form = driver.find_element_by_id('password')\n",
    "password_form.send_keys('passw0rd')"
   ]
  },
  {
   "cell_type": "markdown",
   "metadata": {},
   "source": [
    "Submit"
   ]
  },
  {
   "cell_type": "code",
   "execution_count": 15,
   "metadata": {},
   "outputs": [],
   "source": [
    "button = driver.find_element_by_id('login')\n",
    "button.click()"
   ]
  },
  {
   "cell_type": "markdown",
   "metadata": {},
   "source": [
    "#### Applying"
   ]
  },
  {
   "cell_type": "markdown",
   "metadata": {},
   "source": [
    "Accept terms"
   ]
  },
  {
   "cell_type": "code",
   "execution_count": 17,
   "metadata": {},
   "outputs": [],
   "source": [
    "driver.implicitly_wait(3)\n",
    "accept_terms = driver.find_element_by_name('agreement')\n",
    "accept_terms.click()"
   ]
  },
  {
   "cell_type": "code",
   "execution_count": 19,
   "metadata": {},
   "outputs": [],
   "source": [
    "next = driver.find_element_by_id('next')\n",
    "next.click()"
   ]
  },
  {
   "cell_type": "markdown",
   "metadata": {},
   "source": [
    "Upload resume"
   ]
  },
  {
   "cell_type": "code",
   "execution_count": 22,
   "metadata": {},
   "outputs": [],
   "source": [
    "next = driver.find_element_by_id('next')\n",
    "next.click()"
   ]
  },
  {
   "cell_type": "markdown",
   "metadata": {},
   "source": [
    "Personal information"
   ]
  },
  {
   "cell_type": "code",
   "execution_count": 25,
   "metadata": {},
   "outputs": [],
   "source": [
    "first_name_form = driver.find_element_by_id('firstName') \n",
    "first_name_form.send_keys('Nicolas')"
   ]
  },
  {
   "cell_type": "code",
   "execution_count": 26,
   "metadata": {},
   "outputs": [],
   "source": [
    "last_name_form = driver.find_element_by_id('lastName') \n",
    "last_name_form.send_keys('Gervais')"
   ]
  },
  {
   "cell_type": "code",
   "execution_count": 27,
   "metadata": {},
   "outputs": [],
   "source": [
    "phone_form = driver.find_element_by_id('phoneNumber') \n",
    "phone_form.send_keys('4504441234')"
   ]
  },
  {
   "cell_type": "code",
   "execution_count": 28,
   "metadata": {},
   "outputs": [],
   "source": [
    "country = driver.find_element_by_xpath('//*[@id=\"country\"]/option[3]')\n",
    "country.click()"
   ]
  },
  {
   "cell_type": "code",
   "execution_count": 29,
   "metadata": {},
   "outputs": [],
   "source": [
    "address_form = driver.find_element_by_id('address')\n",
    "address_form.send_keys('1234 Main Street')"
   ]
  },
  {
   "cell_type": "code",
   "execution_count": 30,
   "metadata": {},
   "outputs": [],
   "source": [
    "city_form = driver.find_element_by_id('city')\n",
    "city_form.send_keys('Montréal')"
   ]
  },
  {
   "cell_type": "code",
   "execution_count": 31,
   "metadata": {},
   "outputs": [],
   "source": [
    "state = driver.find_element_by_xpath('//*[@id=\"state\"]/option[12]')"
   ]
  },
  {
   "cell_type": "code",
   "execution_count": 32,
   "metadata": {},
   "outputs": [],
   "source": [
    "zipcode_form = driver.find_element_by_id('zipCode')\n",
    "zipcode_form.send_keys('a9a 9a9')"
   ]
  },
  {
   "cell_type": "code",
   "execution_count": 33,
   "metadata": {},
   "outputs": [],
   "source": [
    "student_status = driver.find_element_by_xpath('//*[@id=\"currentStudent\"]/option[2]')\n",
    "student_status.click()"
   ]
  },
  {
   "cell_type": "code",
   "execution_count": 34,
   "metadata": {},
   "outputs": [],
   "source": [
    "source = driver.find_element_by_xpath('//*[@id=\"currentSource\"]/option[5]')\n",
    "source.click()"
   ]
  },
  {
   "cell_type": "code",
   "execution_count": 36,
   "metadata": {},
   "outputs": [],
   "source": [
    "past_work = driver.find_element_by_xpath('//*[@id=\"employeeWork\"]/option[2]')\n",
    "past_work.click()"
   ]
  },
  {
   "cell_type": "code",
   "execution_count": 37,
   "metadata": {},
   "outputs": [],
   "source": [
    "referral = driver.find_element_by_xpath('//*[@id=\"employeeReference\"]/option[3]')\n",
    "referral.click()"
   ]
  },
  {
   "cell_type": "code",
   "execution_count": 38,
   "metadata": {},
   "outputs": [],
   "source": [
    "highest_education = driver.find_element_by_xpath('//*[@id=\"educationLevel\"]/option[10]')\n",
    "highest_education.click()"
   ]
  },
  {
   "cell_type": "code",
   "execution_count": 39,
   "metadata": {},
   "outputs": [],
   "source": [
    "school_form = driver.find_element_by_class_name('schoolName')\n",
    "school_form.send_keys('HEC Montréal/McGill University')"
   ]
  },
  {
   "cell_type": "code",
   "execution_count": 40,
   "metadata": {},
   "outputs": [],
   "source": [
    "employer_form = driver.find_element_by_id('currentEmployer')\n",
    "employer_form.send_keys('Student')"
   ]
  },
  {
   "cell_type": "code",
   "execution_count": 41,
   "metadata": {},
   "outputs": [],
   "source": [
    "industry = driver.find_element_by_xpath('//*[@id=\"industry\"]/option[23]')\n",
    "industry.click()"
   ]
  },
  {
   "cell_type": "code",
   "execution_count": 42,
   "metadata": {},
   "outputs": [],
   "source": [
    "job_form = driver.find_element_by_id('jobProfile')\n",
    "job_form.send_keys('Student')"
   ]
  },
  {
   "cell_type": "markdown",
   "metadata": {},
   "source": [
    "Submit"
   ]
  },
  {
   "cell_type": "code",
   "execution_count": 43,
   "metadata": {},
   "outputs": [],
   "source": [
    "submit_button = driver.find_element_by_id('next')\n",
    "submit_button.click()"
   ]
  },
  {
   "cell_type": "markdown",
   "metadata": {},
   "source": [
    "Form submitted, good luck!"
   ]
  },
  {
   "cell_type": "markdown",
   "metadata": {},
   "source": [
    "#### Shutting down the driver"
   ]
  },
  {
   "cell_type": "code",
   "execution_count": 44,
   "metadata": {},
   "outputs": [],
   "source": [
    "driver.close()"
   ]
  }
 ],
 "metadata": {
  "kernelspec": {
   "display_name": "Python 3",
   "language": "python",
   "name": "python3"
  },
  "language_info": {
   "codemirror_mode": {
    "name": "ipython",
    "version": 3
   },
   "file_extension": ".py",
   "mimetype": "text/x-python",
   "name": "python",
   "nbconvert_exporter": "python",
   "pygments_lexer": "ipython3",
   "version": "3.7.3"
  }
 },
 "nbformat": 4,
 "nbformat_minor": 2
}
