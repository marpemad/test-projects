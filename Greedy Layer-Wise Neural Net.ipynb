{
 "cells": [
  {
   "cell_type": "markdown",
   "metadata": {},
   "source": [
    "# Regression Problem with Greedy Layer-Wise Trained Neural Network"
   ]
  },
  {
   "cell_type": "markdown",
   "metadata": {},
   "source": [
    "## 1. Libraries and settings"
   ]
  },
  {
   "cell_type": "markdown",
   "metadata": {},
   "source": [
    "**1.1 Importing libraries**"
   ]
  },
  {
   "cell_type": "code",
   "execution_count": 2,
   "metadata": {},
   "outputs": [],
   "source": [
    "import pandas as pd\n",
    "import matplotlib.pyplot as plt\n",
    "import seaborn as sns\n",
    "import numpy as np\n",
    "import os\n",
    "from sklearn.model_selection import train_test_split\n",
    "from sklearn.metrics import mean_absolute_error\n",
    "from sklearn.preprocessing import MinMaxScaler\n",
    "from keras.layers import Dense, Dropout, Flatten\n",
    "from keras.models import Sequential\n",
    "from keras.callbacks import EarlyStopping, ModelCheckpoint\n",
    "os.chdir('C:/Users/Nicolas/Documents/Data/electric-motor-'\\\n",
    "         'temperature')"
   ]
  },
  {
   "cell_type": "markdown",
   "metadata": {},
   "source": [
    "**1.2 Plot theme**"
   ]
  },
  {
   "cell_type": "code",
   "execution_count": 55,
   "metadata": {},
   "outputs": [],
   "source": [
    "theme_color = '#8FCB9B'\n",
    "\n",
    "def set_theme():\n",
    "    return ax.set_facecolor(theme_color),\\\n",
    "    ax.grid(True, alpha=4e-1, color='white'),\\\n",
    "    ax.set_axisbelow(True)"
   ]
  },
  {
   "cell_type": "markdown",
   "metadata": {},
   "source": [
    "## 2. Importing the data"
   ]
  },
  {
   "cell_type": "markdown",
   "metadata": {},
   "source": [
    "**2.1 Importing**"
   ]
  },
  {
   "cell_type": "code",
   "execution_count": 4,
   "metadata": {},
   "outputs": [],
   "source": [
    "df = pd.read_csv('pmsm_temperature_data.csv').astype(np.float32)"
   ]
  },
  {
   "cell_type": "markdown",
   "metadata": {},
   "source": [
    "**2.2 Exploring**"
   ]
  },
  {
   "cell_type": "markdown",
   "metadata": {},
   "source": [
    "2.2.1 Head"
   ]
  },
  {
   "cell_type": "code",
   "execution_count": 5,
   "metadata": {
    "scrolled": true
   },
   "outputs": [
    {
     "data": {
      "text/html": [
       "<div>\n",
       "<style scoped>\n",
       "    .dataframe tbody tr th:only-of-type {\n",
       "        vertical-align: middle;\n",
       "    }\n",
       "\n",
       "    .dataframe tbody tr th {\n",
       "        vertical-align: top;\n",
       "    }\n",
       "\n",
       "    .dataframe thead th {\n",
       "        text-align: right;\n",
       "    }\n",
       "</style>\n",
       "<table border=\"1\" class=\"dataframe\">\n",
       "  <thead>\n",
       "    <tr style=\"text-align: right;\">\n",
       "      <th></th>\n",
       "      <th>ambient</th>\n",
       "      <th>coolant</th>\n",
       "      <th>u_d</th>\n",
       "      <th>u_q</th>\n",
       "      <th>motor_speed</th>\n",
       "      <th>torque</th>\n",
       "      <th>i_d</th>\n",
       "      <th>i_q</th>\n",
       "      <th>pm</th>\n",
       "      <th>stator_yoke</th>\n",
       "      <th>stator_tooth</th>\n",
       "      <th>stator_winding</th>\n",
       "      <th>profile_id</th>\n",
       "    </tr>\n",
       "  </thead>\n",
       "  <tbody>\n",
       "    <tr>\n",
       "      <th>0</th>\n",
       "      <td>-0.752143</td>\n",
       "      <td>-1.118446</td>\n",
       "      <td>0.327935</td>\n",
       "      <td>-1.297858</td>\n",
       "      <td>-1.222428</td>\n",
       "      <td>-0.250182</td>\n",
       "      <td>1.029572</td>\n",
       "      <td>-0.245860</td>\n",
       "      <td>-2.522071</td>\n",
       "      <td>-1.831422</td>\n",
       "      <td>-2.066143</td>\n",
       "      <td>-2.018033</td>\n",
       "      <td>4.0</td>\n",
       "    </tr>\n",
       "    <tr>\n",
       "      <th>1</th>\n",
       "      <td>-0.771263</td>\n",
       "      <td>-1.117021</td>\n",
       "      <td>0.329665</td>\n",
       "      <td>-1.297686</td>\n",
       "      <td>-1.222429</td>\n",
       "      <td>-0.249133</td>\n",
       "      <td>1.029509</td>\n",
       "      <td>-0.245832</td>\n",
       "      <td>-2.522418</td>\n",
       "      <td>-1.830969</td>\n",
       "      <td>-2.064859</td>\n",
       "      <td>-2.017631</td>\n",
       "      <td>4.0</td>\n",
       "    </tr>\n",
       "    <tr>\n",
       "      <th>2</th>\n",
       "      <td>-0.782892</td>\n",
       "      <td>-1.116681</td>\n",
       "      <td>0.332772</td>\n",
       "      <td>-1.301822</td>\n",
       "      <td>-1.222428</td>\n",
       "      <td>-0.249431</td>\n",
       "      <td>1.029448</td>\n",
       "      <td>-0.245818</td>\n",
       "      <td>-2.522673</td>\n",
       "      <td>-1.830400</td>\n",
       "      <td>-2.064073</td>\n",
       "      <td>-2.017344</td>\n",
       "      <td>4.0</td>\n",
       "    </tr>\n",
       "    <tr>\n",
       "      <th>3</th>\n",
       "      <td>-0.780935</td>\n",
       "      <td>-1.116764</td>\n",
       "      <td>0.333700</td>\n",
       "      <td>-1.301852</td>\n",
       "      <td>-1.222430</td>\n",
       "      <td>-0.248636</td>\n",
       "      <td>1.032845</td>\n",
       "      <td>-0.246955</td>\n",
       "      <td>-2.521639</td>\n",
       "      <td>-1.830333</td>\n",
       "      <td>-2.063137</td>\n",
       "      <td>-2.017632</td>\n",
       "      <td>4.0</td>\n",
       "    </tr>\n",
       "    <tr>\n",
       "      <th>4</th>\n",
       "      <td>-0.774043</td>\n",
       "      <td>-1.116775</td>\n",
       "      <td>0.335206</td>\n",
       "      <td>-1.303118</td>\n",
       "      <td>-1.222429</td>\n",
       "      <td>-0.248701</td>\n",
       "      <td>1.031807</td>\n",
       "      <td>-0.246610</td>\n",
       "      <td>-2.521900</td>\n",
       "      <td>-1.830498</td>\n",
       "      <td>-2.062795</td>\n",
       "      <td>-2.018145</td>\n",
       "      <td>4.0</td>\n",
       "    </tr>\n",
       "  </tbody>\n",
       "</table>\n",
       "</div>"
      ],
      "text/plain": [
       "    ambient   coolant       u_d       u_q  motor_speed    torque       i_d  \\\n",
       "0 -0.752143 -1.118446  0.327935 -1.297858    -1.222428 -0.250182  1.029572   \n",
       "1 -0.771263 -1.117021  0.329665 -1.297686    -1.222429 -0.249133  1.029509   \n",
       "2 -0.782892 -1.116681  0.332772 -1.301822    -1.222428 -0.249431  1.029448   \n",
       "3 -0.780935 -1.116764  0.333700 -1.301852    -1.222430 -0.248636  1.032845   \n",
       "4 -0.774043 -1.116775  0.335206 -1.303118    -1.222429 -0.248701  1.031807   \n",
       "\n",
       "        i_q        pm  stator_yoke  stator_tooth  stator_winding  profile_id  \n",
       "0 -0.245860 -2.522071    -1.831422     -2.066143       -2.018033         4.0  \n",
       "1 -0.245832 -2.522418    -1.830969     -2.064859       -2.017631         4.0  \n",
       "2 -0.245818 -2.522673    -1.830400     -2.064073       -2.017344         4.0  \n",
       "3 -0.246955 -2.521639    -1.830333     -2.063137       -2.017632         4.0  \n",
       "4 -0.246610 -2.521900    -1.830498     -2.062795       -2.018145         4.0  "
      ]
     },
     "execution_count": 5,
     "metadata": {},
     "output_type": "execute_result"
    }
   ],
   "source": [
    "df.head()"
   ]
  },
  {
   "cell_type": "markdown",
   "metadata": {},
   "source": [
    "2.2.2 Profile ID"
   ]
  },
  {
   "cell_type": "code",
   "execution_count": 5,
   "metadata": {},
   "outputs": [
    {
     "data": {
      "text/plain": [
       "20.0    43970\n",
       "6.0     40387\n",
       "65.0    40093\n",
       "66.0    36475\n",
       "27.0    35360\n",
       "Name: profile_id, dtype: int64"
      ]
     },
     "execution_count": 5,
     "metadata": {},
     "output_type": "execute_result"
    }
   ],
   "source": [
    "df['profile_id'].value_counts().head()"
   ]
  },
  {
   "cell_type": "code",
   "execution_count": 6,
   "metadata": {},
   "outputs": [],
   "source": [
    "df = df.loc[df['profile_id'] == 6].drop('profile_id', axis=1)"
   ]
  },
  {
   "cell_type": "code",
   "execution_count": 7,
   "metadata": {},
   "outputs": [
    {
     "name": "stdout",
     "output_type": "stream",
     "text": [
      "We now have 40,387 rows and 12 columns.\n"
     ]
    }
   ],
   "source": [
    "print(f'We now have {df.shape[0]:,} rows and {df.shape[1]} columns.')"
   ]
  },
  {
   "cell_type": "markdown",
   "metadata": {},
   "source": [
    "## 3. Visualizing distributions of the target variables"
   ]
  },
  {
   "cell_type": "markdown",
   "metadata": {},
   "source": [
    "**3.1 Stator tooth**"
   ]
  },
  {
   "cell_type": "code",
   "execution_count": 56,
   "metadata": {
    "scrolled": true
   },
   "outputs": [
    {
     "data": {
      "image/png": "[encoded data removed]",
      "text/plain": [
       "<Figure size 576x360 with 1 Axes>"
      ]
     },
     "metadata": {
      "needs_background": "light"
     },
     "output_type": "display_data"
    }
   ],
   "source": [
    "fig, ax = plt.subplots(figsize=(8, 5))\n",
    "set_theme()\n",
    "sns.distplot(df.iloc[:, -2], color='#456990', \n",
    "             bins=30, kde=False)\n",
    "ax.set_yticklabels(['{:,}'.format(x) for x in np.array(ax.get_yticks(), \n",
    "                                                       dtype=int)])\n",
    "plt.title(\"Distribution of values in column '{}'\".format(df.columns[-3]))\n",
    "plt.xlabel(None)\n",
    "plt.show()"
   ]
  },
  {
   "cell_type": "markdown",
   "metadata": {},
   "source": [
    "## 4. Processing data for predictive modeling"
   ]
  },
  {
   "cell_type": "markdown",
   "metadata": {},
   "source": [
    "**4.1 Separating the predictor and target variables**"
   ]
  },
  {
   "cell_type": "code",
   "execution_count": 13,
   "metadata": {},
   "outputs": [],
   "source": [
    "X = df.drop(['stator_yoke', 'stator_tooth', 'stator_winding'], axis=1).values"
   ]
  },
  {
   "cell_type": "code",
   "execution_count": 14,
   "metadata": {},
   "outputs": [],
   "source": [
    "y = df['stator_tooth'].values"
   ]
  },
  {
   "cell_type": "markdown",
   "metadata": {},
   "source": [
    "#### 4.2 Rescaling the data"
   ]
  },
  {
   "cell_type": "code",
   "execution_count": 15,
   "metadata": {},
   "outputs": [],
   "source": [
    "scaler = MinMaxScaler()"
   ]
  },
  {
   "cell_type": "code",
   "execution_count": 16,
   "metadata": {},
   "outputs": [],
   "source": [
    "X = scaler.fit_transform(X)"
   ]
  },
  {
   "cell_type": "markdown",
   "metadata": {},
   "source": [
    "**4.2 Train/test split**"
   ]
  },
  {
   "cell_type": "code",
   "execution_count": 17,
   "metadata": {},
   "outputs": [],
   "source": [
    "X_train, X_test, y_train, y_test = train_test_split(X, y, test_size=2e-1)             "
   ]
  },
  {
   "cell_type": "markdown",
   "metadata": {},
   "source": [
    "## 5. Greedy Layer-Wise Neural Net vs Dense Neural Net"
   ]
  },
  {
   "cell_type": "markdown",
   "metadata": {},
   "source": [
    "### 5.1 Greedy Layer-Wise Neural Net"
   ]
  },
  {
   "cell_type": "markdown",
   "metadata": {},
   "source": [
    "We're going to start off with a single-layer neural net. Then we will add identical layers, trained 'greedily', up to 10."
   ]
  },
  {
   "cell_type": "markdown",
   "metadata": {},
   "source": [
    "5.1.1 Building the model"
   ]
  },
  {
   "cell_type": "code",
   "execution_count": 19,
   "metadata": {},
   "outputs": [],
   "source": [
    "model = Sequential([\n",
    "    Dense(48, input_shape=(X.shape[1],), trainable=True, name='first'),\n",
    "    Dense(1, activation='linear')\n",
    "])"
   ]
  },
  {
   "cell_type": "markdown",
   "metadata": {},
   "source": [
    "5.1.2 Compiling the model"
   ]
  },
  {
   "cell_type": "code",
   "execution_count": 20,
   "metadata": {},
   "outputs": [],
   "source": [
    "model.compile(optimizer='adam', loss='mae')"
   ]
  },
  {
   "cell_type": "markdown",
   "metadata": {},
   "source": [
    "5.1.3 Training the model"
   ]
  },
  {
   "cell_type": "code",
   "execution_count": 22,
   "metadata": {},
   "outputs": [
    {
     "name": "stdout",
     "output_type": "stream",
     "text": [
      "Train on 32309 samples, validate on 8078 samples\n",
      "Epoch 1/10\n",
      "32309/32309 [==============================] - 17s 542us/step - loss: 0.1818 - val_loss: 0.1655\n",
      "Epoch 2/10\n",
      "32309/32309 [==============================] - 13s 400us/step - loss: 0.1596 - val_loss: 0.1559\n",
      "Epoch 3/10\n",
      "32309/32309 [==============================] - 13s 394us/step - loss: 0.1587 - val_loss: 0.1566\n",
      "Epoch 4/10\n",
      "32309/32309 [==============================] - 12s 383us/step - loss: 0.1574 - val_loss: 0.1571\n",
      "Epoch 5/10\n",
      "32309/32309 [==============================] - 13s 407us/step - loss: 0.1575 - val_loss: 0.1552\n",
      "Epoch 6/10\n",
      "32309/32309 [==============================] - 12s 374us/step - loss: 0.1569 - val_loss: 0.1626\n",
      "Epoch 7/10\n",
      "32309/32309 [==============================] - 12s 367us/step - loss: 0.1565 - val_loss: 0.1550\n",
      "Epoch 8/10\n",
      "32309/32309 [==============================] - 12s 384us/step - loss: 0.1565 - val_loss: 0.1561\n",
      "Epoch 9/10\n",
      "32309/32309 [==============================] - 12s 379us/step - loss: 0.1559 - val_loss: 0.1554\n",
      "Epoch 10/10\n",
      "32309/32309 [==============================] - 12s 380us/step - loss: 0.1559 - val_loss: 0.1553\n"
     ]
    }
   ],
   "source": [
    "first = model.fit(X_train, y_train,\n",
    "                  epochs=10,\n",
    "                  validation_data=[X_test, y_test],\n",
    "                  batch_size=8)"
   ]
  },
  {
   "cell_type": "markdown",
   "metadata": {},
   "source": [
    "5.1.4 Making predictions"
   ]
  },
  {
   "cell_type": "code",
   "execution_count": 23,
   "metadata": {},
   "outputs": [],
   "source": [
    "y_pred = model.predict(X_test)"
   ]
  },
  {
   "cell_type": "markdown",
   "metadata": {},
   "source": [
    "5.1.5 Evaluating predictions"
   ]
  },
  {
   "cell_type": "code",
   "execution_count": 24,
   "metadata": {},
   "outputs": [
    {
     "data": {
      "text/plain": [
       "0.15531653"
      ]
     },
     "execution_count": 24,
     "metadata": {},
     "output_type": "execute_result"
    }
   ],
   "source": [
    "mae_first = mean_absolute_error(y_test, y_pred)\n",
    "mae_first"
   ]
  },
  {
   "cell_type": "markdown",
   "metadata": {},
   "source": [
    "5.1.6 Making a metrics dataframe"
   ]
  },
  {
   "cell_type": "code",
   "execution_count": 25,
   "metadata": {},
   "outputs": [
    {
     "data": {
      "text/html": [
       "<div>\n",
       "<style scoped>\n",
       "    .dataframe tbody tr th:only-of-type {\n",
       "        vertical-align: middle;\n",
       "    }\n",
       "\n",
       "    .dataframe tbody tr th {\n",
       "        vertical-align: top;\n",
       "    }\n",
       "\n",
       "    .dataframe thead th {\n",
       "        text-align: right;\n",
       "    }\n",
       "</style>\n",
       "<table border=\"1\" class=\"dataframe\">\n",
       "  <thead>\n",
       "    <tr style=\"text-align: right;\">\n",
       "      <th></th>\n",
       "      <th>MAE Train</th>\n",
       "      <th>MAE Test</th>\n",
       "    </tr>\n",
       "  </thead>\n",
       "  <tbody>\n",
       "    <tr>\n",
       "      <th>One Layer</th>\n",
       "      <td>0.155934</td>\n",
       "      <td>0.155317</td>\n",
       "    </tr>\n",
       "  </tbody>\n",
       "</table>\n",
       "</div>"
      ],
      "text/plain": [
       "           MAE Train  MAE Test\n",
       "One Layer   0.155934  0.155317"
      ]
     },
     "execution_count": 25,
     "metadata": {},
     "output_type": "execute_result"
    }
   ],
   "source": [
    "metrics = pd.DataFrame([first.history['loss'][-1], mae_first], \n",
    "                       columns=['One Layer'], index=['MAE Train', 'MAE Test']).T\n",
    "metrics"
   ]
  },
  {
   "cell_type": "markdown",
   "metadata": {},
   "source": [
    "5.1.7 Plotting the metrics"
   ]
  },
  {
   "cell_type": "markdown",
   "metadata": {},
   "source": [
    "### 5.2 Adding More Layers"
   ]
  },
  {
   "cell_type": "markdown",
   "metadata": {},
   "source": [
    "5.2.1 Function to evaluate the model"
   ]
  },
  {
   "cell_type": "code",
   "execution_count": 26,
   "metadata": {},
   "outputs": [],
   "source": [
    "def evaluate_model(model, X_train, X_test, y_train, y_test):\n",
    "    train_loss = model.evaluate(X_train, y_train, verbose=0)\n",
    "    test_loss = model.evaluate(X_test, y_test, verbose=0)\n",
    "    return train_loss, test_loss"
   ]
  },
  {
   "cell_type": "markdown",
   "metadata": {},
   "source": [
    "5.2.2 Function to add layers and evaluate the model's performance"
   ]
  },
  {
   "cell_type": "code",
   "execution_count": 27,
   "metadata": {},
   "outputs": [],
   "source": [
    "def add_layer():\n",
    "    output_layer = model.layers[-1]\n",
    "    model.pop()\n",
    "    for layer in model.layers:\n",
    "        layer.trainable = False\n",
    "    model.add(Dense(48, activation='relu', kernel_initializer='he_uniform'))\n",
    "    model.add(output_layer)\n",
    "    \n",
    "    model.fit(X_train, y_train,\n",
    "              epochs=10,\n",
    "              batch_size=8,\n",
    "              verbose=0)\n",
    "    \n",
    "    train_mae, test_mae = evaluate_model(model, X_train, X_test, y_train, y_test)\n",
    "    return train_mae, test_mae"
   ]
  },
  {
   "cell_type": "markdown",
   "metadata": {},
   "source": [
    "5.2.3 Training the models, up to 10 layers"
   ]
  },
  {
   "cell_type": "code",
   "execution_count": 28,
   "metadata": {},
   "outputs": [
    {
     "name": "stdout",
     "output_type": "stream",
     "text": [
      "Train loss: 0.040023933932715104 — Test loss: 0.04025506637861349\n",
      "Train loss: 0.0441103787772366 — Test loss: 0.044619352850296556\n",
      "Train loss: 0.0318532315782702 — Test loss: 0.03226936412650071\n",
      "Train loss: 0.031455077156906486 — Test loss: 0.03190078808344748\n",
      "Train loss: 0.02738665429300878 — Test loss: 0.027713152854817506\n",
      "Train loss: 0.019409112999050092 — Test loss: 0.0197878060336694\n",
      "Train loss: 0.018066894518941747 — Test loss: 0.018076957351020596\n",
      "Train loss: 0.01656917078584998 — Test loss: 0.016372689290844247\n",
      "Train loss: 0.016209089571747937 — Test loss: 0.015990308411677645\n",
      "Train loss: 0.021157031696421337 — Test loss: 0.02094251515127499\n"
     ]
    }
   ],
   "source": [
    "train_loss_history, test_loss_history = [], []\n",
    "for i in range(10):\n",
    "    train_loss, test_loss = add_layer()\n",
    "    train_loss_history.append(train_loss)\n",
    "    test_loss_history.append(test_loss)\n",
    "    print('Train loss: {} — Test loss: {}'.format(train_loss, test_loss))"
   ]
  },
  {
   "cell_type": "markdown",
   "metadata": {},
   "source": [
    "5.2.4 Plotting the metrics history"
   ]
  },
  {
   "cell_type": "code",
   "execution_count": 57,
   "metadata": {
    "scrolled": true
   },
   "outputs": [
    {
     "data": {
      "image/png": "[encoded data removed]",
      "text/plain": [
       "<Figure size 576x360 with 1 Axes>"
      ]
     },
     "metadata": {
      "needs_background": "light"
     },
     "output_type": "display_data"
    }
   ],
   "source": [
    "fig, ax = plt.subplots(figsize=(8, 5))\n",
    "set_theme()\n",
    "\n",
    "ax.plot(np.arange(1, 11), train_loss_history, color='orange', marker='o', \n",
    "       markeredgecolor='k', alpha=1, markersize=10)\n",
    "\n",
    "ax.plot(np.arange(1, 11), test_loss_history, color='green', marker='o', \n",
    "       markeredgecolor='k', alpha=1, markersize=10)\n",
    "\n",
    "plt.legend(['Train Loss', 'Test Loss'], framealpha=.6)\n",
    "plt.title('MAE Depending on Number of Layers')\n",
    "plt.xlabel('Number of Layers')\n",
    "plt.ylabel('MAE')\n",
    "plt.xticks(np.arange(1, 11))\n",
    "plt.show()"
   ]
  },
  {
   "cell_type": "markdown",
   "metadata": {},
   "source": [
    "We can see that the best model is the one with 9 layers. So we will compare it with a fully-connected neural network trained normally. "
   ]
  },
  {
   "cell_type": "markdown",
   "metadata": {},
   "source": [
    "### 5.3 Comparing with a Fully-Connected Neural Net (9 layers)"
   ]
  },
  {
   "cell_type": "markdown",
   "metadata": {},
   "source": [
    "5.3.1 Building the models"
   ]
  },
  {
   "cell_type": "code",
   "execution_count": 31,
   "metadata": {},
   "outputs": [],
   "source": [
    "model = Sequential([\n",
    "    Dense(48, input_shape=(X.shape[1],)),\n",
    "    Dense(48, activation='relu', kernel_initializer='he_uniform'),\n",
    "    Dense(48, activation='relu', kernel_initializer='he_uniform'),\n",
    "    Dense(48, activation='relu', kernel_initializer='he_uniform'),\n",
    "    Dense(48, activation='relu', kernel_initializer='he_uniform'),\n",
    "    Dense(48, activation='relu', kernel_initializer='he_uniform'),\n",
    "    Dense(48, activation='relu', kernel_initializer='he_uniform'),\n",
    "    Dense(48, activation='relu', kernel_initializer='he_uniform'),\n",
    "    Dense(48, activation='relu', kernel_initializer='he_uniform'),\n",
    "    Dense(48, activation='relu', kernel_initializer='he_uniform'),\n",
    "    Dense(1, activation='linear')\n",
    "])"
   ]
  },
  {
   "cell_type": "markdown",
   "metadata": {},
   "source": [
    "5.3.2 Compiling the model"
   ]
  },
  {
   "cell_type": "code",
   "execution_count": 32,
   "metadata": {},
   "outputs": [],
   "source": [
    "model.compile(optimizer='adam', loss='mae')"
   ]
  },
  {
   "cell_type": "markdown",
   "metadata": {},
   "source": [
    "5.3.3 Fitting the model"
   ]
  },
  {
   "cell_type": "code",
   "execution_count": 33,
   "metadata": {},
   "outputs": [],
   "source": [
    "_ = model.fit(X_train, y_train,\n",
    "              epochs=9*10,\n",
    "              batch_size=8,\n",
    "              verbose=0)"
   ]
  },
  {
   "cell_type": "markdown",
   "metadata": {},
   "source": [
    "5.3.4 Evaluating the model"
   ]
  },
  {
   "cell_type": "code",
   "execution_count": 34,
   "metadata": {},
   "outputs": [],
   "source": [
    "train_mae_fc, test_mae_fc = evaluate_model(model, X_train, X_test, y_train, y_test)"
   ]
  },
  {
   "cell_type": "markdown",
   "metadata": {},
   "source": [
    "5.3.5 Plotting the performance of all models"
   ]
  },
  {
   "cell_type": "code",
   "execution_count": 59,
   "metadata": {},
   "outputs": [
    {
     "data": {
      "image/png": "[encoded data removed]",
      "text/plain": [
       "<Figure size 576x360 with 1 Axes>"
      ]
     },
     "metadata": {
      "needs_background": "light"
     },
     "output_type": "display_data"
    }
   ],
   "source": [
    "fig, ax = plt.subplots(figsize=(8, 5))\n",
    "set_theme()\n",
    "\n",
    "ax.plot(np.arange(1, 11), train_loss_history, color='orange', marker='o', \n",
    "       mec='k', alpha=1, ms=10, ls='--', visible=True)\n",
    "\n",
    "ax.plot(np.arange(1, 11), test_loss_history, color='green', marker='o', \n",
    "       mec='k', alpha=1, ms=10, ls='--', visible=True)\n",
    "\n",
    "ax.plot([1, 10], [train_mae_fc, train_mae_fc], color='red', marker='s', \n",
    "       mec='k', alpha=1, ms=10, ls='-', visible=True)\n",
    "\n",
    "ax.plot([1, 10], [test_mae_fc, test_mae_fc], color='yellow', marker='s', \n",
    "       mec='k', alpha=1, ms=10, ls='-', visible=True)\n",
    "\n",
    "plt.legend(['Train Loss', 'Test Loss', '6 Layer Train Loss', '6 Layer Test Loss'], framealpha=.6)\n",
    "plt.title('MAE Depending on Number of Layers')\n",
    "plt.xlabel('Number of Layers')\n",
    "plt.ylabel('MAE')\n",
    "plt.xticks(np.arange(1, 11))\n",
    "plt.show()"
   ]
  },
  {
   "cell_type": "markdown",
   "metadata": {},
   "source": [
    "The greedy layer-wise neural net strongly outperforms the backprop trained neural net. "
   ]
  }
 ],
 "metadata": {
  "kernelspec": {
   "display_name": "Python 3",
   "language": "python",
   "name": "python3"
  },
  "language_info": {
   "codemirror_mode": {
    "name": "ipython",
    "version": 3
   },
   "file_extension": ".py",
   "mimetype": "text/x-python",
   "name": "python",
   "nbconvert_exporter": "python",
   "pygments_lexer": "ipython3",
   "version": "3.7.0"
  }
 },
 "nbformat": 4,
 "nbformat_minor": 2
}
