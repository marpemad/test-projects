{
 "cells": [
  {
   "cell_type": "markdown",
   "metadata": {},
   "source": [
    "# Predicting <font color='blue'>Electric</font> Vehicle Rotor <font color='red'>*Temperature °C*</font>"
   ]
  },
  {
   "cell_type": "markdown",
   "metadata": {},
   "source": [
    "## 1. Libraries and settings"
   ]
  },
  {
   "cell_type": "markdown",
   "metadata": {},
   "source": [
    "**1.1 Importing libraries**"
   ]
  },
  {
   "cell_type": "code",
   "execution_count": 2,
   "metadata": {},
   "outputs": [],
   "source": [
    "from winsound import Beep\n",
    "import pandas as pd\n",
    "# import pandas_profiling\n",
    "import matplotlib.pyplot as plt\n",
    "import seaborn as sns\n",
    "import numpy as np\n",
    "from scipy import stats\n",
    "from time import time\n",
    "import os\n",
    "from sklearn.model_selection import train_test_split, GridSearchCV,\\\n",
    "    RandomizedSearchCV\n",
    "from sklearn.linear_model import LinearRegression\n",
    "from sklearn.ensemble import RandomForestRegressor, AdaBoostRegressor,\\\n",
    "    RandomForestRegressor, BaggingRegressor\n",
    "from sklearn.neural_network import MLPRegressor\n",
    "from sklearn.tree import DecisionTreeRegressor, ExtraTreeRegressor\n",
    "from sklearn.metrics import mean_absolute_error\n",
    "from sklearn.preprocessing import MinMaxScaler, PolynomialFeatures\n",
    "from sklearn.svm import SVR\n",
    "from keras.layers import Dense, Dropout, Flatten\n",
    "from keras.models import Sequential\n",
    "from keras.callbacks import EarlyStopping\n",
    "os.chdir('C:/Users/Nicolas/Documents/scraping/electric-motor-'\\\n",
    "         'temperature')"
   ]
  },
  {
   "cell_type": "markdown",
   "metadata": {},
   "source": [
    "**1.2 Plot theme**"
   ]
  },
  {
   "cell_type": "code",
   "execution_count": 3,
   "metadata": {},
   "outputs": [],
   "source": [
    "theme_color = '#B5DDA4'\n",
    "\n",
    "def set_theme():\n",
    "    return ax.set_facecolor(theme_color),\\\n",
    "    ax.grid(True, alpha=4e-1, color='white'),\\\n",
    "    ax.set_axisbelow(True)"
   ]
  },
  {
   "cell_type": "markdown",
   "metadata": {},
   "source": [
    "**1.3 Run finished alert**"
   ]
  },
  {
   "cell_type": "code",
   "execution_count": 4,
   "metadata": {},
   "outputs": [],
   "source": [
    "def alert():\n",
    "    return Beep(1_200, 5_00)"
   ]
  },
  {
   "cell_type": "markdown",
   "metadata": {},
   "source": [
    "## 2. Importing the data"
   ]
  },
  {
   "cell_type": "markdown",
   "metadata": {},
   "source": [
    "**2.1 Importing**"
   ]
  },
  {
   "cell_type": "code",
   "execution_count": 5,
   "metadata": {},
   "outputs": [],
   "source": [
    "df = pd.read_csv('pmsm_temperature_data.csv').astype(np.float32)"
   ]
  },
  {
   "cell_type": "markdown",
   "metadata": {},
   "source": [
    "**2.2 Exploring**"
   ]
  },
  {
   "cell_type": "markdown",
   "metadata": {},
   "source": [
    "2.2.1 Head"
   ]
  },
  {
   "cell_type": "code",
   "execution_count": 6,
   "metadata": {
    "scrolled": true
   },
   "outputs": [
    {
     "data": {
      "text/html": [
       "<div>\n",
       "<style scoped>\n",
       "    .dataframe tbody tr th:only-of-type {\n",
       "        vertical-align: middle;\n",
       "    }\n",
       "\n",
       "    .dataframe tbody tr th {\n",
       "        vertical-align: top;\n",
       "    }\n",
       "\n",
       "    .dataframe thead th {\n",
       "        text-align: right;\n",
       "    }\n",
       "</style>\n",
       "<table border=\"1\" class=\"dataframe\">\n",
       "  <thead>\n",
       "    <tr style=\"text-align: right;\">\n",
       "      <th></th>\n",
       "      <th>ambient</th>\n",
       "      <th>coolant</th>\n",
       "      <th>u_d</th>\n",
       "      <th>u_q</th>\n",
       "      <th>motor_speed</th>\n",
       "      <th>torque</th>\n",
       "      <th>i_d</th>\n",
       "      <th>i_q</th>\n",
       "      <th>pm</th>\n",
       "      <th>stator_yoke</th>\n",
       "      <th>stator_tooth</th>\n",
       "      <th>stator_winding</th>\n",
       "      <th>profile_id</th>\n",
       "    </tr>\n",
       "  </thead>\n",
       "  <tbody>\n",
       "    <tr>\n",
       "      <th>0</th>\n",
       "      <td>-0.752143</td>\n",
       "      <td>-1.118446</td>\n",
       "      <td>0.327935</td>\n",
       "      <td>-1.297858</td>\n",
       "      <td>-1.222428</td>\n",
       "      <td>-0.250182</td>\n",
       "      <td>1.029572</td>\n",
       "      <td>-0.245860</td>\n",
       "      <td>-2.522071</td>\n",
       "      <td>-1.831422</td>\n",
       "      <td>-2.066143</td>\n",
       "      <td>-2.018033</td>\n",
       "      <td>4.0</td>\n",
       "    </tr>\n",
       "    <tr>\n",
       "      <th>1</th>\n",
       "      <td>-0.771263</td>\n",
       "      <td>-1.117021</td>\n",
       "      <td>0.329665</td>\n",
       "      <td>-1.297686</td>\n",
       "      <td>-1.222429</td>\n",
       "      <td>-0.249133</td>\n",
       "      <td>1.029509</td>\n",
       "      <td>-0.245832</td>\n",
       "      <td>-2.522418</td>\n",
       "      <td>-1.830969</td>\n",
       "      <td>-2.064859</td>\n",
       "      <td>-2.017631</td>\n",
       "      <td>4.0</td>\n",
       "    </tr>\n",
       "    <tr>\n",
       "      <th>2</th>\n",
       "      <td>-0.782892</td>\n",
       "      <td>-1.116681</td>\n",
       "      <td>0.332772</td>\n",
       "      <td>-1.301822</td>\n",
       "      <td>-1.222428</td>\n",
       "      <td>-0.249431</td>\n",
       "      <td>1.029448</td>\n",
       "      <td>-0.245818</td>\n",
       "      <td>-2.522673</td>\n",
       "      <td>-1.830400</td>\n",
       "      <td>-2.064073</td>\n",
       "      <td>-2.017344</td>\n",
       "      <td>4.0</td>\n",
       "    </tr>\n",
       "    <tr>\n",
       "      <th>3</th>\n",
       "      <td>-0.780935</td>\n",
       "      <td>-1.116764</td>\n",
       "      <td>0.333700</td>\n",
       "      <td>-1.301852</td>\n",
       "      <td>-1.222430</td>\n",
       "      <td>-0.248636</td>\n",
       "      <td>1.032845</td>\n",
       "      <td>-0.246955</td>\n",
       "      <td>-2.521639</td>\n",
       "      <td>-1.830333</td>\n",
       "      <td>-2.063137</td>\n",
       "      <td>-2.017632</td>\n",
       "      <td>4.0</td>\n",
       "    </tr>\n",
       "    <tr>\n",
       "      <th>4</th>\n",
       "      <td>-0.774043</td>\n",
       "      <td>-1.116775</td>\n",
       "      <td>0.335206</td>\n",
       "      <td>-1.303118</td>\n",
       "      <td>-1.222429</td>\n",
       "      <td>-0.248701</td>\n",
       "      <td>1.031807</td>\n",
       "      <td>-0.246610</td>\n",
       "      <td>-2.521900</td>\n",
       "      <td>-1.830498</td>\n",
       "      <td>-2.062795</td>\n",
       "      <td>-2.018145</td>\n",
       "      <td>4.0</td>\n",
       "    </tr>\n",
       "  </tbody>\n",
       "</table>\n",
       "</div>"
      ],
      "text/plain": [
       "    ambient   coolant       u_d       u_q  motor_speed    torque       i_d  \\\n",
       "0 -0.752143 -1.118446  0.327935 -1.297858    -1.222428 -0.250182  1.029572   \n",
       "1 -0.771263 -1.117021  0.329665 -1.297686    -1.222429 -0.249133  1.029509   \n",
       "2 -0.782892 -1.116681  0.332772 -1.301822    -1.222428 -0.249431  1.029448   \n",
       "3 -0.780935 -1.116764  0.333700 -1.301852    -1.222430 -0.248636  1.032845   \n",
       "4 -0.774043 -1.116775  0.335206 -1.303118    -1.222429 -0.248701  1.031807   \n",
       "\n",
       "        i_q        pm  stator_yoke  stator_tooth  stator_winding  profile_id  \n",
       "0 -0.245860 -2.522071    -1.831422     -2.066143       -2.018033         4.0  \n",
       "1 -0.245832 -2.522418    -1.830969     -2.064859       -2.017631         4.0  \n",
       "2 -0.245818 -2.522673    -1.830400     -2.064073       -2.017344         4.0  \n",
       "3 -0.246955 -2.521639    -1.830333     -2.063137       -2.017632         4.0  \n",
       "4 -0.246610 -2.521900    -1.830498     -2.062795       -2.018145         4.0  "
      ]
     },
     "execution_count": 6,
     "metadata": {},
     "output_type": "execute_result"
    }
   ],
   "source": [
    "df.head()"
   ]
  },
  {
   "cell_type": "markdown",
   "metadata": {},
   "source": [
    "2.2.2 Variable descriptions"
   ]
  },
  {
   "cell_type": "markdown",
   "metadata": {},
   "source": [
    "- `ambient` Ambient temperature as measured by a thermal sensor located closely to the stator. <br>\n",
    "- `coolant` Coolant temperature. The motor is water cooled. Measurement is taken at outflow.<br>\n",
    "- `u_d` Voltage d-component<br>\n",
    "- `u_q` Voltage q-component<br>\n",
    "- `motor_speed` Motor speed<br>\n",
    "- `torque` Torque induced by current.<br>\n",
    "- `i_d` Current d-component<br>\n",
    "- `i_q` Current q-component<br>\n",
    "- `pm` Permanent Magnet surface temperature representing the rotor temperature. <br>\n",
    "- `stator_yoke` Stator yoke temperature measured with a thermal sensor.<br>\n",
    "- `stator_tooth` Stator tooth temperature measured with a thermal sensor.<br>\n",
    "- `stator_winding` Stator winding temperature measured with a thermal sensor.<br>\n",
    "- `profile_id` Each measurement session has a unique ID. <br>"
   ]
  },
  {
   "cell_type": "markdown",
   "metadata": {},
   "source": [
    "2.2.3 Missing values"
   ]
  },
  {
   "cell_type": "code",
   "execution_count": 7,
   "metadata": {},
   "outputs": [
    {
     "data": {
      "text/plain": [
       "0"
      ]
     },
     "execution_count": 7,
     "metadata": {},
     "output_type": "execute_result"
    }
   ],
   "source": [
    "df.isnull().sum().sum()"
   ]
  },
  {
   "cell_type": "markdown",
   "metadata": {},
   "source": [
    "2.2.4 Shape"
   ]
  },
  {
   "cell_type": "code",
   "execution_count": 8,
   "metadata": {},
   "outputs": [
    {
     "data": {
      "text/plain": [
       "(998070, 13)"
      ]
     },
     "execution_count": 8,
     "metadata": {},
     "output_type": "execute_result"
    }
   ],
   "source": [
    "df.shape"
   ]
  },
  {
   "cell_type": "code",
   "execution_count": 9,
   "metadata": {},
   "outputs": [
    {
     "name": "stdout",
     "output_type": "stream",
     "text": [
      "We have 998,070 rows and 13 columns.\n"
     ]
    }
   ],
   "source": [
    "print(f'We have {df.shape[0]:,} rows and {df.shape[1]} columns.')"
   ]
  },
  {
   "cell_type": "markdown",
   "metadata": {},
   "source": [
    "2.2.5 Profile ID"
   ]
  },
  {
   "cell_type": "code",
   "execution_count": 10,
   "metadata": {},
   "outputs": [
    {
     "data": {
      "text/plain": [
       "20.0    43970\n",
       "6.0     40387\n",
       "65.0    40093\n",
       "66.0    36475\n",
       "27.0    35360\n",
       "Name: profile_id, dtype: int64"
      ]
     },
     "execution_count": 10,
     "metadata": {},
     "output_type": "execute_result"
    }
   ],
   "source": [
    "df['profile_id'].value_counts().head()"
   ]
  },
  {
   "cell_type": "code",
   "execution_count": 11,
   "metadata": {},
   "outputs": [],
   "source": [
    "df = df.loc[df['profile_id'] == 20].drop('profile_id', axis=1)"
   ]
  },
  {
   "cell_type": "code",
   "execution_count": 12,
   "metadata": {},
   "outputs": [
    {
     "name": "stdout",
     "output_type": "stream",
     "text": [
      "We now have 43,970 rows and 12 columns.\n"
     ]
    }
   ],
   "source": [
    "print(f'We now have {df.shape[0]:,} rows and {df.shape[1]} columns.')"
   ]
  },
  {
   "cell_type": "markdown",
   "metadata": {},
   "source": [
    "2.2.6 Correlation Matrix"
   ]
  },
  {
   "cell_type": "code",
   "execution_count": 13,
   "metadata": {},
   "outputs": [],
   "source": [
    "df = df.rename(columns={'stator_yoke':'yoke', 'stator_tooth':'tooth', 'stator_winding':'winding'})"
   ]
  },
  {
   "cell_type": "code",
   "execution_count": 14,
   "metadata": {
    "scrolled": true
   },
   "outputs": [
    {
     "data": {
      "text/html": [
       "<style  type=\"text/css\" >\n",
       "    #T_2d53c36e_aee5_11e9_bd51_a08cfd1afaabrow0_col0 {\n",
       "            background-color:  #73c264;\n",
       "        }    #T_2d53c36e_aee5_11e9_bd51_a08cfd1afaabrow0_col1 {\n",
       "            background-color:  #c3e67d;\n",
       "        }    #T_2d53c36e_aee5_11e9_bd51_a08cfd1afaabrow0_col2 {\n",
       "            background-color:  #fee18d;\n",
       "        }    #T_2d53c36e_aee5_11e9_bd51_a08cfd1afaabrow0_col3 {\n",
       "            background-color:  #f8864f;\n",
       "        }    #T_2d53c36e_aee5_11e9_bd51_a08cfd1afaabrow0_col4 {\n",
       "            background-color:  #fff8b4;\n",
       "        }    #T_2d53c36e_aee5_11e9_bd51_a08cfd1afaabrow0_col5 {\n",
       "            background-color:  #fee695;\n",
       "        }    #T_2d53c36e_aee5_11e9_bd51_a08cfd1afaabrow0_col6 {\n",
       "            background-color:  #feeb9d;\n",
       "        }    #T_2d53c36e_aee5_11e9_bd51_a08cfd1afaabrow0_col7 {\n",
       "            background-color:  #fee18d;\n",
       "        }    #T_2d53c36e_aee5_11e9_bd51_a08cfd1afaabrow0_col8 {\n",
       "            background-color:  #c9e881;\n",
       "        }    #T_2d53c36e_aee5_11e9_bd51_a08cfd1afaabrow0_col9 {\n",
       "            background-color:  #afdd70;\n",
       "        }    #T_2d53c36e_aee5_11e9_bd51_a08cfd1afaabrow0_col10 {\n",
       "            background-color:  #bde379;\n",
       "        }    #T_2d53c36e_aee5_11e9_bd51_a08cfd1afaabrow0_col11 {\n",
       "            background-color:  #cbe982;\n",
       "        }    #T_2d53c36e_aee5_11e9_bd51_a08cfd1afaabrow1_col0 {\n",
       "            background-color:  #bfe47a;\n",
       "        }    #T_2d53c36e_aee5_11e9_bd51_a08cfd1afaabrow1_col1 {\n",
       "            background-color:  #73c264;\n",
       "        }    #T_2d53c36e_aee5_11e9_bd51_a08cfd1afaabrow1_col2 {\n",
       "            background-color:  #feeda1;\n",
       "        }    #T_2d53c36e_aee5_11e9_bd51_a08cfd1afaabrow1_col3 {\n",
       "            background-color:  #fca55d;\n",
       "        }    #T_2d53c36e_aee5_11e9_bd51_a08cfd1afaabrow1_col4 {\n",
       "            background-color:  #feea9b;\n",
       "        }    #T_2d53c36e_aee5_11e9_bd51_a08cfd1afaabrow1_col5 {\n",
       "            background-color:  #fee28f;\n",
       "        }    #T_2d53c36e_aee5_11e9_bd51_a08cfd1afaabrow1_col6 {\n",
       "            background-color:  #fdfebc;\n",
       "        }    #T_2d53c36e_aee5_11e9_bd51_a08cfd1afaabrow1_col7 {\n",
       "            background-color:  #fee18d;\n",
       "        }    #T_2d53c36e_aee5_11e9_bd51_a08cfd1afaabrow1_col8 {\n",
       "            background-color:  #fafdb8;\n",
       "        }    #T_2d53c36e_aee5_11e9_bd51_a08cfd1afaabrow1_col9 {\n",
       "            background-color:  #a2d76a;\n",
       "        }    #T_2d53c36e_aee5_11e9_bd51_a08cfd1afaabrow1_col10 {\n",
       "            background-color:  #cbe982;\n",
       "        }    #T_2d53c36e_aee5_11e9_bd51_a08cfd1afaabrow1_col11 {\n",
       "            background-color:  #dff293;\n",
       "        }    #T_2d53c36e_aee5_11e9_bd51_a08cfd1afaabrow2_col0 {\n",
       "            background-color:  #f88950;\n",
       "        }    #T_2d53c36e_aee5_11e9_bd51_a08cfd1afaabrow2_col1 {\n",
       "            background-color:  #fb9d59;\n",
       "        }    #T_2d53c36e_aee5_11e9_bd51_a08cfd1afaabrow2_col2 {\n",
       "            background-color:  #73c264;\n",
       "        }    #T_2d53c36e_aee5_11e9_bd51_a08cfd1afaabrow2_col3 {\n",
       "            background-color:  #fdbf6f;\n",
       "        }    #T_2d53c36e_aee5_11e9_bd51_a08cfd1afaabrow2_col4 {\n",
       "            background-color:  #f99355;\n",
       "        }    #T_2d53c36e_aee5_11e9_bd51_a08cfd1afaabrow2_col5 {\n",
       "            background-color:  #f67a49;\n",
       "        }    #T_2d53c36e_aee5_11e9_bd51_a08cfd1afaabrow2_col6 {\n",
       "            background-color:  #89cc67;\n",
       "        }    #T_2d53c36e_aee5_11e9_bd51_a08cfd1afaabrow2_col7 {\n",
       "            background-color:  #f67a49;\n",
       "        }    #T_2d53c36e_aee5_11e9_bd51_a08cfd1afaabrow2_col8 {\n",
       "            background-color:  #f7814c;\n",
       "        }    #T_2d53c36e_aee5_11e9_bd51_a08cfd1afaabrow2_col9 {\n",
       "            background-color:  #f67a49;\n",
       "        }    #T_2d53c36e_aee5_11e9_bd51_a08cfd1afaabrow2_col10 {\n",
       "            background-color:  #f67a49;\n",
       "        }    #T_2d53c36e_aee5_11e9_bd51_a08cfd1afaabrow2_col11 {\n",
       "            background-color:  #f67c4a;\n",
       "        }    #T_2d53c36e_aee5_11e9_bd51_a08cfd1afaabrow3_col0 {\n",
       "            background-color:  #f67a49;\n",
       "        }    #T_2d53c36e_aee5_11e9_bd51_a08cfd1afaabrow3_col1 {\n",
       "            background-color:  #f88950;\n",
       "        }    #T_2d53c36e_aee5_11e9_bd51_a08cfd1afaabrow3_col2 {\n",
       "            background-color:  #fff1a8;\n",
       "        }    #T_2d53c36e_aee5_11e9_bd51_a08cfd1afaabrow3_col3 {\n",
       "            background-color:  #73c264;\n",
       "        }    #T_2d53c36e_aee5_11e9_bd51_a08cfd1afaabrow3_col4 {\n",
       "            background-color:  #d5ed88;\n",
       "        }    #T_2d53c36e_aee5_11e9_bd51_a08cfd1afaabrow3_col5 {\n",
       "            background-color:  #fed07e;\n",
       "        }    #T_2d53c36e_aee5_11e9_bd51_a08cfd1afaabrow3_col6 {\n",
       "            background-color:  #fffbb8;\n",
       "        }    #T_2d53c36e_aee5_11e9_bd51_a08cfd1afaabrow3_col7 {\n",
       "            background-color:  #fecc7b;\n",
       "        }    #T_2d53c36e_aee5_11e9_bd51_a08cfd1afaabrow3_col8 {\n",
       "            background-color:  #fece7c;\n",
       "        }    #T_2d53c36e_aee5_11e9_bd51_a08cfd1afaabrow3_col9 {\n",
       "            background-color:  #fdc574;\n",
       "        }    #T_2d53c36e_aee5_11e9_bd51_a08cfd1afaabrow3_col10 {\n",
       "            background-color:  #fede89;\n",
       "        }    #T_2d53c36e_aee5_11e9_bd51_a08cfd1afaabrow3_col11 {\n",
       "            background-color:  #fee28f;\n",
       "        }    #T_2d53c36e_aee5_11e9_bd51_a08cfd1afaabrow4_col0 {\n",
       "            background-color:  #fdb96a;\n",
       "        }    #T_2d53c36e_aee5_11e9_bd51_a08cfd1afaabrow4_col1 {\n",
       "            background-color:  #f67a49;\n",
       "        }    #T_2d53c36e_aee5_11e9_bd51_a08cfd1afaabrow4_col2 {\n",
       "            background-color:  #f67a49;\n",
       "        }    #T_2d53c36e_aee5_11e9_bd51_a08cfd1afaabrow4_col3 {\n",
       "            background-color:  #f4fab0;\n",
       "        }    #T_2d53c36e_aee5_11e9_bd51_a08cfd1afaabrow4_col4 {\n",
       "            background-color:  #73c264;\n",
       "        }    #T_2d53c36e_aee5_11e9_bd51_a08cfd1afaabrow4_col5 {\n",
       "            background-color:  #fee999;\n",
       "        }    #T_2d53c36e_aee5_11e9_bd51_a08cfd1afaabrow4_col6 {\n",
       "            background-color:  #f67a49;\n",
       "        }    #T_2d53c36e_aee5_11e9_bd51_a08cfd1afaabrow4_col7 {\n",
       "            background-color:  #feda86;\n",
       "        }    #T_2d53c36e_aee5_11e9_bd51_a08cfd1afaabrow4_col8 {\n",
       "            background-color:  #ddf191;\n",
       "        }    #T_2d53c36e_aee5_11e9_bd51_a08cfd1afaabrow4_col9 {\n",
       "            background-color:  #fffab6;\n",
       "        }    #T_2d53c36e_aee5_11e9_bd51_a08cfd1afaabrow4_col10 {\n",
       "            background-color:  #dcf08f;\n",
       "        }    #T_2d53c36e_aee5_11e9_bd51_a08cfd1afaabrow4_col11 {\n",
       "            background-color:  #c9e881;\n",
       "        }    #T_2d53c36e_aee5_11e9_bd51_a08cfd1afaabrow5_col0 {\n",
       "            background-color:  #fca55d;\n",
       "        }    #T_2d53c36e_aee5_11e9_bd51_a08cfd1afaabrow5_col1 {\n",
       "            background-color:  #f88950;\n",
       "        }    #T_2d53c36e_aee5_11e9_bd51_a08cfd1afaabrow5_col2 {\n",
       "            background-color:  #f88950;\n",
       "        }    #T_2d53c36e_aee5_11e9_bd51_a08cfd1afaabrow5_col3 {\n",
       "            background-color:  #f7814c;\n",
       "        }    #T_2d53c36e_aee5_11e9_bd51_a08cfd1afaabrow5_col4 {\n",
       "            background-color:  #fff5ae;\n",
       "        }    #T_2d53c36e_aee5_11e9_bd51_a08cfd1afaabrow5_col5 {\n",
       "            background-color:  #73c264;\n",
       "        }    #T_2d53c36e_aee5_11e9_bd51_a08cfd1afaabrow5_col6 {\n",
       "            background-color:  #fdbd6d;\n",
       "        }    #T_2d53c36e_aee5_11e9_bd51_a08cfd1afaabrow5_col7 {\n",
       "            background-color:  #75c465;\n",
       "        }    #T_2d53c36e_aee5_11e9_bd51_a08cfd1afaabrow5_col8 {\n",
       "            background-color:  #f5fbb2;\n",
       "        }    #T_2d53c36e_aee5_11e9_bd51_a08cfd1afaabrow5_col9 {\n",
       "            background-color:  #fff2aa;\n",
       "        }    #T_2d53c36e_aee5_11e9_bd51_a08cfd1afaabrow5_col10 {\n",
       "            background-color:  #eff8aa;\n",
       "        }    #T_2d53c36e_aee5_11e9_bd51_a08cfd1afaabrow5_col11 {\n",
       "            background-color:  #daf08d;\n",
       "        }    #T_2d53c36e_aee5_11e9_bd51_a08cfd1afaabrow6_col0 {\n",
       "            background-color:  #f98e52;\n",
       "        }    #T_2d53c36e_aee5_11e9_bd51_a08cfd1afaabrow6_col1 {\n",
       "            background-color:  #fdc372;\n",
       "        }    #T_2d53c36e_aee5_11e9_bd51_a08cfd1afaabrow6_col2 {\n",
       "            background-color:  #8ccd67;\n",
       "        }    #T_2d53c36e_aee5_11e9_bd51_a08cfd1afaabrow6_col3 {\n",
       "            background-color:  #fdc574;\n",
       "        }    #T_2d53c36e_aee5_11e9_bd51_a08cfd1afaabrow6_col4 {\n",
       "            background-color:  #f67a49;\n",
       "        }    #T_2d53c36e_aee5_11e9_bd51_a08cfd1afaabrow6_col5 {\n",
       "            background-color:  #fb9d59;\n",
       "        }    #T_2d53c36e_aee5_11e9_bd51_a08cfd1afaabrow6_col6 {\n",
       "            background-color:  #73c264;\n",
       "        }    #T_2d53c36e_aee5_11e9_bd51_a08cfd1afaabrow6_col7 {\n",
       "            background-color:  #fca85e;\n",
       "        }    #T_2d53c36e_aee5_11e9_bd51_a08cfd1afaabrow6_col8 {\n",
       "            background-color:  #f67a49;\n",
       "        }    #T_2d53c36e_aee5_11e9_bd51_a08cfd1afaabrow6_col9 {\n",
       "            background-color:  #f98e52;\n",
       "        }    #T_2d53c36e_aee5_11e9_bd51_a08cfd1afaabrow6_col10 {\n",
       "            background-color:  #f67f4b;\n",
       "        }    #T_2d53c36e_aee5_11e9_bd51_a08cfd1afaabrow6_col11 {\n",
       "            background-color:  #f67a49;\n",
       "        }    #T_2d53c36e_aee5_11e9_bd51_a08cfd1afaabrow7_col0 {\n",
       "            background-color:  #fca55d;\n",
       "        }    #T_2d53c36e_aee5_11e9_bd51_a08cfd1afaabrow7_col1 {\n",
       "            background-color:  #f99355;\n",
       "        }    #T_2d53c36e_aee5_11e9_bd51_a08cfd1afaabrow7_col2 {\n",
       "            background-color:  #fa9857;\n",
       "        }    #T_2d53c36e_aee5_11e9_bd51_a08cfd1afaabrow7_col3 {\n",
       "            background-color:  #f88c51;\n",
       "        }    #T_2d53c36e_aee5_11e9_bd51_a08cfd1afaabrow7_col4 {\n",
       "            background-color:  #feeda1;\n",
       "        }    #T_2d53c36e_aee5_11e9_bd51_a08cfd1afaabrow7_col5 {\n",
       "            background-color:  #75c465;\n",
       "        }    #T_2d53c36e_aee5_11e9_bd51_a08cfd1afaabrow7_col6 {\n",
       "            background-color:  #fecc7b;\n",
       "        }    #T_2d53c36e_aee5_11e9_bd51_a08cfd1afaabrow7_col7 {\n",
       "            background-color:  #73c264;\n",
       "        }    #T_2d53c36e_aee5_11e9_bd51_a08cfd1afaabrow7_col8 {\n",
       "            background-color:  #fbfdba;\n",
       "        }    #T_2d53c36e_aee5_11e9_bd51_a08cfd1afaabrow7_col9 {\n",
       "            background-color:  #fff0a6;\n",
       "        }    #T_2d53c36e_aee5_11e9_bd51_a08cfd1afaabrow7_col10 {\n",
       "            background-color:  #f5fbb2;\n",
       "        }    #T_2d53c36e_aee5_11e9_bd51_a08cfd1afaabrow7_col11 {\n",
       "            background-color:  #e0f295;\n",
       "        }    #T_2d53c36e_aee5_11e9_bd51_a08cfd1afaabrow8_col0 {\n",
       "            background-color:  #e2f397;\n",
       "        }    #T_2d53c36e_aee5_11e9_bd51_a08cfd1afaabrow8_col1 {\n",
       "            background-color:  #fede89;\n",
       "        }    #T_2d53c36e_aee5_11e9_bd51_a08cfd1afaabrow8_col2 {\n",
       "            background-color:  #f88c51;\n",
       "        }    #T_2d53c36e_aee5_11e9_bd51_a08cfd1afaabrow8_col3 {\n",
       "            background-color:  #f67a49;\n",
       "        }    #T_2d53c36e_aee5_11e9_bd51_a08cfd1afaabrow8_col4 {\n",
       "            background-color:  #d7ee8a;\n",
       "        }    #T_2d53c36e_aee5_11e9_bd51_a08cfd1afaabrow8_col5 {\n",
       "            background-color:  #f7fcb4;\n",
       "        }    #T_2d53c36e_aee5_11e9_bd51_a08cfd1afaabrow8_col6 {\n",
       "            background-color:  #fb9d59;\n",
       "        }    #T_2d53c36e_aee5_11e9_bd51_a08cfd1afaabrow8_col7 {\n",
       "            background-color:  #fffdbc;\n",
       "        }    #T_2d53c36e_aee5_11e9_bd51_a08cfd1afaabrow8_col8 {\n",
       "            background-color:  #73c264;\n",
       "        }    #T_2d53c36e_aee5_11e9_bd51_a08cfd1afaabrow8_col9 {\n",
       "            background-color:  #bbe278;\n",
       "        }    #T_2d53c36e_aee5_11e9_bd51_a08cfd1afaabrow8_col10 {\n",
       "            background-color:  #96d268;\n",
       "        }    #T_2d53c36e_aee5_11e9_bd51_a08cfd1afaabrow8_col11 {\n",
       "            background-color:  #8ccd67;\n",
       "        }    #T_2d53c36e_aee5_11e9_bd51_a08cfd1afaabrow9_col0 {\n",
       "            background-color:  #b9e176;\n",
       "        }    #T_2d53c36e_aee5_11e9_bd51_a08cfd1afaabrow9_col1 {\n",
       "            background-color:  #addc6f;\n",
       "        }    #T_2d53c36e_aee5_11e9_bd51_a08cfd1afaabrow9_col2 {\n",
       "            background-color:  #fdb163;\n",
       "        }    #T_2d53c36e_aee5_11e9_bd51_a08cfd1afaabrow9_col3 {\n",
       "            background-color:  #fa9b58;\n",
       "        }    #T_2d53c36e_aee5_11e9_bd51_a08cfd1afaabrow9_col4 {\n",
       "            background-color:  #eef8a8;\n",
       "        }    #T_2d53c36e_aee5_11e9_bd51_a08cfd1afaabrow9_col5 {\n",
       "            background-color:  #fffdbc;\n",
       "        }    #T_2d53c36e_aee5_11e9_bd51_a08cfd1afaabrow9_col6 {\n",
       "            background-color:  #fecc7b;\n",
       "        }    #T_2d53c36e_aee5_11e9_bd51_a08cfd1afaabrow9_col7 {\n",
       "            background-color:  #fff8b4;\n",
       "        }    #T_2d53c36e_aee5_11e9_bd51_a08cfd1afaabrow9_col8 {\n",
       "            background-color:  #b3df72;\n",
       "        }    #T_2d53c36e_aee5_11e9_bd51_a08cfd1afaabrow9_col9 {\n",
       "            background-color:  #73c264;\n",
       "        }    #T_2d53c36e_aee5_11e9_bd51_a08cfd1afaabrow9_col10 {\n",
       "            background-color:  #82c966;\n",
       "        }    #T_2d53c36e_aee5_11e9_bd51_a08cfd1afaabrow9_col11 {\n",
       "            background-color:  #91d068;\n",
       "        }    #T_2d53c36e_aee5_11e9_bd51_a08cfd1afaabrow10_col0 {\n",
       "            background-color:  #d7ee8a;\n",
       "        }    #T_2d53c36e_aee5_11e9_bd51_a08cfd1afaabrow10_col1 {\n",
       "            background-color:  #e9f6a1;\n",
       "        }    #T_2d53c36e_aee5_11e9_bd51_a08cfd1afaabrow10_col2 {\n",
       "            background-color:  #f7844e;\n",
       "        }    #T_2d53c36e_aee5_11e9_bd51_a08cfd1afaabrow10_col3 {\n",
       "            background-color:  #fa9656;\n",
       "        }    #T_2d53c36e_aee5_11e9_bd51_a08cfd1afaabrow10_col4 {\n",
       "            background-color:  #d5ed88;\n",
       "        }    #T_2d53c36e_aee5_11e9_bd51_a08cfd1afaabrow10_col5 {\n",
       "            background-color:  #f1f9ac;\n",
       "        }    #T_2d53c36e_aee5_11e9_bd51_a08cfd1afaabrow10_col6 {\n",
       "            background-color:  #fba05b;\n",
       "        }    #T_2d53c36e_aee5_11e9_bd51_a08cfd1afaabrow10_col7 {\n",
       "            background-color:  #fbfdba;\n",
       "        }    #T_2d53c36e_aee5_11e9_bd51_a08cfd1afaabrow10_col8 {\n",
       "            background-color:  #96d268;\n",
       "        }    #T_2d53c36e_aee5_11e9_bd51_a08cfd1afaabrow10_col9 {\n",
       "            background-color:  #84ca66;\n",
       "        }    #T_2d53c36e_aee5_11e9_bd51_a08cfd1afaabrow10_col10 {\n",
       "            background-color:  #73c264;\n",
       "        }    #T_2d53c36e_aee5_11e9_bd51_a08cfd1afaabrow10_col11 {\n",
       "            background-color:  #73c264;\n",
       "        }</style>  \n",
       "<table id=\"T_2d53c36e_aee5_11e9_bd51_a08cfd1afaab\" > \n",
       "<thead>    <tr> \n",
       "        <th class=\"blank level0\" ></th> \n",
       "        <th class=\"col_heading level0 col0\" >ambient</th> \n",
       "        <th class=\"col_heading level0 col1\" >coolant</th> \n",
       "        <th class=\"col_heading level0 col2\" >u_d</th> \n",
       "        <th class=\"col_heading level0 col3\" >u_q</th> \n",
       "        <th class=\"col_heading level0 col4\" >motor_speed</th> \n",
       "        <th class=\"col_heading level0 col5\" >torque</th> \n",
       "        <th class=\"col_heading level0 col6\" >i_d</th> \n",
       "        <th class=\"col_heading level0 col7\" >i_q</th> \n",
       "        <th class=\"col_heading level0 col8\" >pm</th> \n",
       "        <th class=\"col_heading level0 col9\" >yoke</th> \n",
       "        <th class=\"col_heading level0 col10\" >tooth</th> \n",
       "        <th class=\"col_heading level0 col11\" >winding</th> \n",
       "    </tr></thead> \n",
       "<tbody>    <tr> \n",
       "        <th id=\"T_2d53c36e_aee5_11e9_bd51_a08cfd1afaablevel0_row0\" class=\"row_heading level0 row0\" >ambient</th> \n",
       "        <td id=\"T_2d53c36e_aee5_11e9_bd51_a08cfd1afaabrow0_col0\" class=\"data row0 col0\" >1</td> \n",
       "        <td id=\"T_2d53c36e_aee5_11e9_bd51_a08cfd1afaabrow0_col1\" class=\"data row0 col1\" >0.732546</td> \n",
       "        <td id=\"T_2d53c36e_aee5_11e9_bd51_a08cfd1afaabrow0_col2\" class=\"data row0 col2\" >-0.116566</td> \n",
       "        <td id=\"T_2d53c36e_aee5_11e9_bd51_a08cfd1afaabrow0_col3\" class=\"data row0 col3\" >-0.166344</td> \n",
       "        <td id=\"T_2d53c36e_aee5_11e9_bd51_a08cfd1afaabrow0_col4\" class=\"data row0 col4\" >0.040813</td> \n",
       "        <td id=\"T_2d53c36e_aee5_11e9_bd51_a08cfd1afaabrow0_col5\" class=\"data row0 col5\" >-0.028495</td> \n",
       "        <td id=\"T_2d53c36e_aee5_11e9_bd51_a08cfd1afaabrow0_col6\" class=\"data row0 col6\" >-0.101042</td> \n",
       "        <td id=\"T_2d53c36e_aee5_11e9_bd51_a08cfd1afaabrow0_col7\" class=\"data row0 col7\" >-0.032948</td> \n",
       "        <td id=\"T_2d53c36e_aee5_11e9_bd51_a08cfd1afaabrow0_col8\" class=\"data row0 col8\" >0.574095</td> \n",
       "        <td id=\"T_2d53c36e_aee5_11e9_bd51_a08cfd1afaabrow0_col9\" class=\"data row0 col9\" >0.759837</td> \n",
       "        <td id=\"T_2d53c36e_aee5_11e9_bd51_a08cfd1afaabrow0_col10\" class=\"data row0 col10\" >0.63667</td> \n",
       "        <td id=\"T_2d53c36e_aee5_11e9_bd51_a08cfd1afaabrow0_col11\" class=\"data row0 col11\" >0.509429</td> \n",
       "    </tr>    <tr> \n",
       "        <th id=\"T_2d53c36e_aee5_11e9_bd51_a08cfd1afaablevel0_row1\" class=\"row_heading level0 row1\" >coolant</th> \n",
       "        <td id=\"T_2d53c36e_aee5_11e9_bd51_a08cfd1afaabrow1_col0\" class=\"data row1 col0\" >0.732546</td> \n",
       "        <td id=\"T_2d53c36e_aee5_11e9_bd51_a08cfd1afaabrow1_col1\" class=\"data row1 col1\" >1</td> \n",
       "        <td id=\"T_2d53c36e_aee5_11e9_bd51_a08cfd1afaabrow1_col2\" class=\"data row1 col2\" >-0.001174</td> \n",
       "        <td id=\"T_2d53c36e_aee5_11e9_bd51_a08cfd1afaabrow1_col3\" class=\"data row1 col3\" >-0.066948</td> \n",
       "        <td id=\"T_2d53c36e_aee5_11e9_bd51_a08cfd1afaabrow1_col4\" class=\"data row1 col4\" >-0.110457</td> \n",
       "        <td id=\"T_2d53c36e_aee5_11e9_bd51_a08cfd1afaabrow1_col5\" class=\"data row1 col5\" >-0.063609</td> \n",
       "        <td id=\"T_2d53c36e_aee5_11e9_bd51_a08cfd1afaabrow1_col6\" class=\"data row1 col6\" >0.12658</td> \n",
       "        <td id=\"T_2d53c36e_aee5_11e9_bd51_a08cfd1afaabrow1_col7\" class=\"data row1 col7\" >-0.034647</td> \n",
       "        <td id=\"T_2d53c36e_aee5_11e9_bd51_a08cfd1afaabrow1_col8\" class=\"data row1 col8\" >0.237368</td> \n",
       "        <td id=\"T_2d53c36e_aee5_11e9_bd51_a08cfd1afaabrow1_col9\" class=\"data row1 col9\" >0.811872</td> \n",
       "        <td id=\"T_2d53c36e_aee5_11e9_bd51_a08cfd1afaabrow1_col10\" class=\"data row1 col10\" >0.560639</td> \n",
       "        <td id=\"T_2d53c36e_aee5_11e9_bd51_a08cfd1afaabrow1_col11\" class=\"data row1 col11\" >0.375406</td> \n",
       "    </tr>    <tr> \n",
       "        <th id=\"T_2d53c36e_aee5_11e9_bd51_a08cfd1afaablevel0_row2\" class=\"row_heading level0 row2\" >u_d</th> \n",
       "        <td id=\"T_2d53c36e_aee5_11e9_bd51_a08cfd1afaabrow2_col0\" class=\"data row2 col0\" >-0.116566</td> \n",
       "        <td id=\"T_2d53c36e_aee5_11e9_bd51_a08cfd1afaabrow2_col1\" class=\"data row2 col1\" >-0.001174</td> \n",
       "        <td id=\"T_2d53c36e_aee5_11e9_bd51_a08cfd1afaabrow2_col2\" class=\"data row2 col2\" >1</td> \n",
       "        <td id=\"T_2d53c36e_aee5_11e9_bd51_a08cfd1afaabrow2_col3\" class=\"data row2 col3\" >0.036672</td> \n",
       "        <td id=\"T_2d53c36e_aee5_11e9_bd51_a08cfd1afaabrow2_col4\" class=\"data row2 col4\" >-0.662405</td> \n",
       "        <td id=\"T_2d53c36e_aee5_11e9_bd51_a08cfd1afaabrow2_col5\" class=\"data row2 col5\" >-0.596901</td> \n",
       "        <td id=\"T_2d53c36e_aee5_11e9_bd51_a08cfd1afaabrow2_col6\" class=\"data row2 col6\" >0.89119</td> \n",
       "        <td id=\"T_2d53c36e_aee5_11e9_bd51_a08cfd1afaabrow2_col7\" class=\"data row2 col7\" >-0.532353</td> \n",
       "        <td id=\"T_2d53c36e_aee5_11e9_bd51_a08cfd1afaabrow2_col8\" class=\"data row2 col8\" >-0.580232</td> \n",
       "        <td id=\"T_2d53c36e_aee5_11e9_bd51_a08cfd1afaabrow2_col9\" class=\"data row2 col9\" >-0.414595</td> \n",
       "        <td id=\"T_2d53c36e_aee5_11e9_bd51_a08cfd1afaabrow2_col10\" class=\"data row2 col10\" >-0.623072</td> \n",
       "        <td id=\"T_2d53c36e_aee5_11e9_bd51_a08cfd1afaabrow2_col11\" class=\"data row2 col11\" >-0.723109</td> \n",
       "    </tr>    <tr> \n",
       "        <th id=\"T_2d53c36e_aee5_11e9_bd51_a08cfd1afaablevel0_row3\" class=\"row_heading level0 row3\" >u_q</th> \n",
       "        <td id=\"T_2d53c36e_aee5_11e9_bd51_a08cfd1afaabrow3_col0\" class=\"data row3 col0\" >-0.166344</td> \n",
       "        <td id=\"T_2d53c36e_aee5_11e9_bd51_a08cfd1afaabrow3_col1\" class=\"data row3 col1\" >-0.066948</td> \n",
       "        <td id=\"T_2d53c36e_aee5_11e9_bd51_a08cfd1afaabrow3_col2\" class=\"data row3 col2\" >0.036672</td> \n",
       "        <td id=\"T_2d53c36e_aee5_11e9_bd51_a08cfd1afaabrow3_col3\" class=\"data row3 col3\" >1</td> \n",
       "        <td id=\"T_2d53c36e_aee5_11e9_bd51_a08cfd1afaabrow3_col4\" class=\"data row3 col4\" >0.458356</td> \n",
       "        <td id=\"T_2d53c36e_aee5_11e9_bd51_a08cfd1afaabrow3_col5\" class=\"data row3 col5\" >-0.179879</td> \n",
       "        <td id=\"T_2d53c36e_aee5_11e9_bd51_a08cfd1afaabrow3_col6\" class=\"data row3 col6\" >0.059739</td> \n",
       "        <td id=\"T_2d53c36e_aee5_11e9_bd51_a08cfd1afaabrow3_col7\" class=\"data row3 col7\" >-0.15156</td> \n",
       "        <td id=\"T_2d53c36e_aee5_11e9_bd51_a08cfd1afaabrow3_col8\" class=\"data row3 col8\" >-0.204726</td> \n",
       "        <td id=\"T_2d53c36e_aee5_11e9_bd51_a08cfd1afaabrow3_col9\" class=\"data row3 col9\" >-0.100949</td> \n",
       "        <td id=\"T_2d53c36e_aee5_11e9_bd51_a08cfd1afaabrow3_col10\" class=\"data row3 col10\" >-0.11124</td> \n",
       "        <td id=\"T_2d53c36e_aee5_11e9_bd51_a08cfd1afaabrow3_col11\" class=\"data row3 col11\" >-0.161283</td> \n",
       "    </tr>    <tr> \n",
       "        <th id=\"T_2d53c36e_aee5_11e9_bd51_a08cfd1afaablevel0_row4\" class=\"row_heading level0 row4\" >motor_speed</th> \n",
       "        <td id=\"T_2d53c36e_aee5_11e9_bd51_a08cfd1afaabrow4_col0\" class=\"data row4 col0\" >0.040813</td> \n",
       "        <td id=\"T_2d53c36e_aee5_11e9_bd51_a08cfd1afaabrow4_col1\" class=\"data row4 col1\" >-0.110457</td> \n",
       "        <td id=\"T_2d53c36e_aee5_11e9_bd51_a08cfd1afaabrow4_col2\" class=\"data row4 col2\" >-0.662405</td> \n",
       "        <td id=\"T_2d53c36e_aee5_11e9_bd51_a08cfd1afaabrow4_col3\" class=\"data row4 col3\" >0.458356</td> \n",
       "        <td id=\"T_2d53c36e_aee5_11e9_bd51_a08cfd1afaabrow4_col4\" class=\"data row4 col4\" >1</td> \n",
       "        <td id=\"T_2d53c36e_aee5_11e9_bd51_a08cfd1afaabrow4_col5\" class=\"data row4 col5\" >-0.001776</td> \n",
       "        <td id=\"T_2d53c36e_aee5_11e9_bd51_a08cfd1afaabrow4_col6\" class=\"data row4 col6\" >-0.786186</td> \n",
       "        <td id=\"T_2d53c36e_aee5_11e9_bd51_a08cfd1afaabrow4_col7\" class=\"data row4 col7\" >-0.070917</td> \n",
       "        <td id=\"T_2d53c36e_aee5_11e9_bd51_a08cfd1afaabrow4_col8\" class=\"data row4 col8\" >0.444886</td> \n",
       "        <td id=\"T_2d53c36e_aee5_11e9_bd51_a08cfd1afaabrow4_col9\" class=\"data row4 col9\" >0.247069</td> \n",
       "        <td id=\"T_2d53c36e_aee5_11e9_bd51_a08cfd1afaabrow4_col10\" class=\"data row4 col10\" >0.45647</td> \n",
       "        <td id=\"T_2d53c36e_aee5_11e9_bd51_a08cfd1afaabrow4_col11\" class=\"data row4 col11\" >0.521446</td> \n",
       "    </tr>    <tr> \n",
       "        <th id=\"T_2d53c36e_aee5_11e9_bd51_a08cfd1afaablevel0_row5\" class=\"row_heading level0 row5\" >torque</th> \n",
       "        <td id=\"T_2d53c36e_aee5_11e9_bd51_a08cfd1afaabrow5_col0\" class=\"data row5 col0\" >-0.028495</td> \n",
       "        <td id=\"T_2d53c36e_aee5_11e9_bd51_a08cfd1afaabrow5_col1\" class=\"data row5 col1\" >-0.063609</td> \n",
       "        <td id=\"T_2d53c36e_aee5_11e9_bd51_a08cfd1afaabrow5_col2\" class=\"data row5 col2\" >-0.596901</td> \n",
       "        <td id=\"T_2d53c36e_aee5_11e9_bd51_a08cfd1afaabrow5_col3\" class=\"data row5 col3\" >-0.179879</td> \n",
       "        <td id=\"T_2d53c36e_aee5_11e9_bd51_a08cfd1afaabrow5_col4\" class=\"data row5 col4\" >-0.001776</td> \n",
       "        <td id=\"T_2d53c36e_aee5_11e9_bd51_a08cfd1afaabrow5_col5\" class=\"data row5 col5\" >1</td> \n",
       "        <td id=\"T_2d53c36e_aee5_11e9_bd51_a08cfd1afaabrow5_col6\" class=\"data row5 col6\" >-0.439186</td> \n",
       "        <td id=\"T_2d53c36e_aee5_11e9_bd51_a08cfd1afaabrow5_col7\" class=\"data row5 col7\" >0.992171</td> \n",
       "        <td id=\"T_2d53c36e_aee5_11e9_bd51_a08cfd1afaabrow5_col8\" class=\"data row5 col8\" >0.26557</td> \n",
       "        <td id=\"T_2d53c36e_aee5_11e9_bd51_a08cfd1afaabrow5_col9\" class=\"data row5 col9\" >0.185622</td> \n",
       "        <td id=\"T_2d53c36e_aee5_11e9_bd51_a08cfd1afaabrow5_col10\" class=\"data row5 col10\" >0.307752</td> \n",
       "        <td id=\"T_2d53c36e_aee5_11e9_bd51_a08cfd1afaabrow5_col11\" class=\"data row5 col11\" >0.416969</td> \n",
       "    </tr>    <tr> \n",
       "        <th id=\"T_2d53c36e_aee5_11e9_bd51_a08cfd1afaablevel0_row6\" class=\"row_heading level0 row6\" >i_d</th> \n",
       "        <td id=\"T_2d53c36e_aee5_11e9_bd51_a08cfd1afaabrow6_col0\" class=\"data row6 col0\" >-0.101042</td> \n",
       "        <td id=\"T_2d53c36e_aee5_11e9_bd51_a08cfd1afaabrow6_col1\" class=\"data row6 col1\" >0.12658</td> \n",
       "        <td id=\"T_2d53c36e_aee5_11e9_bd51_a08cfd1afaabrow6_col2\" class=\"data row6 col2\" >0.89119</td> \n",
       "        <td id=\"T_2d53c36e_aee5_11e9_bd51_a08cfd1afaabrow6_col3\" class=\"data row6 col3\" >0.059739</td> \n",
       "        <td id=\"T_2d53c36e_aee5_11e9_bd51_a08cfd1afaabrow6_col4\" class=\"data row6 col4\" >-0.786186</td> \n",
       "        <td id=\"T_2d53c36e_aee5_11e9_bd51_a08cfd1afaabrow6_col5\" class=\"data row6 col5\" >-0.439186</td> \n",
       "        <td id=\"T_2d53c36e_aee5_11e9_bd51_a08cfd1afaabrow6_col6\" class=\"data row6 col6\" >1</td> \n",
       "        <td id=\"T_2d53c36e_aee5_11e9_bd51_a08cfd1afaabrow6_col7\" class=\"data row6 col7\" >-0.342511</td> \n",
       "        <td id=\"T_2d53c36e_aee5_11e9_bd51_a08cfd1afaabrow6_col8\" class=\"data row6 col8\" >-0.615226</td> \n",
       "        <td id=\"T_2d53c36e_aee5_11e9_bd51_a08cfd1afaabrow6_col9\" class=\"data row6 col9\" >-0.343533</td> \n",
       "        <td id=\"T_2d53c36e_aee5_11e9_bd51_a08cfd1afaabrow6_col10\" class=\"data row6 col10\" >-0.604713</td> \n",
       "        <td id=\"T_2d53c36e_aee5_11e9_bd51_a08cfd1afaabrow6_col11\" class=\"data row6 col11\" >-0.735469</td> \n",
       "    </tr>    <tr> \n",
       "        <th id=\"T_2d53c36e_aee5_11e9_bd51_a08cfd1afaablevel0_row7\" class=\"row_heading level0 row7\" >i_q</th> \n",
       "        <td id=\"T_2d53c36e_aee5_11e9_bd51_a08cfd1afaabrow7_col0\" class=\"data row7 col0\" >-0.032948</td> \n",
       "        <td id=\"T_2d53c36e_aee5_11e9_bd51_a08cfd1afaabrow7_col1\" class=\"data row7 col1\" >-0.034647</td> \n",
       "        <td id=\"T_2d53c36e_aee5_11e9_bd51_a08cfd1afaabrow7_col2\" class=\"data row7 col2\" >-0.532353</td> \n",
       "        <td id=\"T_2d53c36e_aee5_11e9_bd51_a08cfd1afaabrow7_col3\" class=\"data row7 col3\" >-0.15156</td> \n",
       "        <td id=\"T_2d53c36e_aee5_11e9_bd51_a08cfd1afaabrow7_col4\" class=\"data row7 col4\" >-0.070917</td> \n",
       "        <td id=\"T_2d53c36e_aee5_11e9_bd51_a08cfd1afaabrow7_col5\" class=\"data row7 col5\" >0.992171</td> \n",
       "        <td id=\"T_2d53c36e_aee5_11e9_bd51_a08cfd1afaabrow7_col6\" class=\"data row7 col6\" >-0.342511</td> \n",
       "        <td id=\"T_2d53c36e_aee5_11e9_bd51_a08cfd1afaabrow7_col7\" class=\"data row7 col7\" >1</td> \n",
       "        <td id=\"T_2d53c36e_aee5_11e9_bd51_a08cfd1afaabrow7_col8\" class=\"data row7 col8\" >0.219197</td> \n",
       "        <td id=\"T_2d53c36e_aee5_11e9_bd51_a08cfd1afaabrow7_col9\" class=\"data row7 col9\" >0.169929</td> \n",
       "        <td id=\"T_2d53c36e_aee5_11e9_bd51_a08cfd1afaabrow7_col10\" class=\"data row7 col10\" >0.264509</td> \n",
       "        <td id=\"T_2d53c36e_aee5_11e9_bd51_a08cfd1afaabrow7_col11\" class=\"data row7 col11\" >0.358426</td> \n",
       "    </tr>    <tr> \n",
       "        <th id=\"T_2d53c36e_aee5_11e9_bd51_a08cfd1afaablevel0_row8\" class=\"row_heading level0 row8\" >pm</th> \n",
       "        <td id=\"T_2d53c36e_aee5_11e9_bd51_a08cfd1afaabrow8_col0\" class=\"data row8 col0\" >0.574095</td> \n",
       "        <td id=\"T_2d53c36e_aee5_11e9_bd51_a08cfd1afaabrow8_col1\" class=\"data row8 col1\" >0.237368</td> \n",
       "        <td id=\"T_2d53c36e_aee5_11e9_bd51_a08cfd1afaabrow8_col2\" class=\"data row8 col2\" >-0.580232</td> \n",
       "        <td id=\"T_2d53c36e_aee5_11e9_bd51_a08cfd1afaabrow8_col3\" class=\"data row8 col3\" >-0.204726</td> \n",
       "        <td id=\"T_2d53c36e_aee5_11e9_bd51_a08cfd1afaabrow8_col4\" class=\"data row8 col4\" >0.444886</td> \n",
       "        <td id=\"T_2d53c36e_aee5_11e9_bd51_a08cfd1afaabrow8_col5\" class=\"data row8 col5\" >0.26557</td> \n",
       "        <td id=\"T_2d53c36e_aee5_11e9_bd51_a08cfd1afaabrow8_col6\" class=\"data row8 col6\" >-0.615226</td> \n",
       "        <td id=\"T_2d53c36e_aee5_11e9_bd51_a08cfd1afaabrow8_col7\" class=\"data row8 col7\" >0.219197</td> \n",
       "        <td id=\"T_2d53c36e_aee5_11e9_bd51_a08cfd1afaabrow8_col8\" class=\"data row8 col8\" >1</td> \n",
       "        <td id=\"T_2d53c36e_aee5_11e9_bd51_a08cfd1afaabrow8_col9\" class=\"data row8 col9\" >0.69267</td> \n",
       "        <td id=\"T_2d53c36e_aee5_11e9_bd51_a08cfd1afaabrow8_col10\" class=\"data row8 col10\" >0.840942</td> \n",
       "        <td id=\"T_2d53c36e_aee5_11e9_bd51_a08cfd1afaabrow8_col11\" class=\"data row8 col11\" >0.855445</td> \n",
       "    </tr>    <tr> \n",
       "        <th id=\"T_2d53c36e_aee5_11e9_bd51_a08cfd1afaablevel0_row9\" class=\"row_heading level0 row9\" >yoke</th> \n",
       "        <td id=\"T_2d53c36e_aee5_11e9_bd51_a08cfd1afaabrow9_col0\" class=\"data row9 col0\" >0.759837</td> \n",
       "        <td id=\"T_2d53c36e_aee5_11e9_bd51_a08cfd1afaabrow9_col1\" class=\"data row9 col1\" >0.811872</td> \n",
       "        <td id=\"T_2d53c36e_aee5_11e9_bd51_a08cfd1afaabrow9_col2\" class=\"data row9 col2\" >-0.414595</td> \n",
       "        <td id=\"T_2d53c36e_aee5_11e9_bd51_a08cfd1afaabrow9_col3\" class=\"data row9 col3\" >-0.100949</td> \n",
       "        <td id=\"T_2d53c36e_aee5_11e9_bd51_a08cfd1afaabrow9_col4\" class=\"data row9 col4\" >0.247069</td> \n",
       "        <td id=\"T_2d53c36e_aee5_11e9_bd51_a08cfd1afaabrow9_col5\" class=\"data row9 col5\" >0.185622</td> \n",
       "        <td id=\"T_2d53c36e_aee5_11e9_bd51_a08cfd1afaabrow9_col6\" class=\"data row9 col6\" >-0.343533</td> \n",
       "        <td id=\"T_2d53c36e_aee5_11e9_bd51_a08cfd1afaabrow9_col7\" class=\"data row9 col7\" >0.169929</td> \n",
       "        <td id=\"T_2d53c36e_aee5_11e9_bd51_a08cfd1afaabrow9_col8\" class=\"data row9 col8\" >0.69267</td> \n",
       "        <td id=\"T_2d53c36e_aee5_11e9_bd51_a08cfd1afaabrow9_col9\" class=\"data row9 col9\" >1</td> \n",
       "        <td id=\"T_2d53c36e_aee5_11e9_bd51_a08cfd1afaabrow9_col10\" class=\"data row9 col10\" >0.935035</td> \n",
       "        <td id=\"T_2d53c36e_aee5_11e9_bd51_a08cfd1afaabrow9_col11\" class=\"data row9 col11\" >0.832941</td> \n",
       "    </tr>    <tr> \n",
       "        <th id=\"T_2d53c36e_aee5_11e9_bd51_a08cfd1afaablevel0_row10\" class=\"row_heading level0 row10\" >tooth</th> \n",
       "        <td id=\"T_2d53c36e_aee5_11e9_bd51_a08cfd1afaabrow10_col0\" class=\"data row10 col0\" >0.63667</td> \n",
       "        <td id=\"T_2d53c36e_aee5_11e9_bd51_a08cfd1afaabrow10_col1\" class=\"data row10 col1\" >0.560639</td> \n",
       "        <td id=\"T_2d53c36e_aee5_11e9_bd51_a08cfd1afaabrow10_col2\" class=\"data row10 col2\" >-0.623072</td> \n",
       "        <td id=\"T_2d53c36e_aee5_11e9_bd51_a08cfd1afaabrow10_col3\" class=\"data row10 col3\" >-0.11124</td> \n",
       "        <td id=\"T_2d53c36e_aee5_11e9_bd51_a08cfd1afaabrow10_col4\" class=\"data row10 col4\" >0.45647</td> \n",
       "        <td id=\"T_2d53c36e_aee5_11e9_bd51_a08cfd1afaabrow10_col5\" class=\"data row10 col5\" >0.307752</td> \n",
       "        <td id=\"T_2d53c36e_aee5_11e9_bd51_a08cfd1afaabrow10_col6\" class=\"data row10 col6\" >-0.604713</td> \n",
       "        <td id=\"T_2d53c36e_aee5_11e9_bd51_a08cfd1afaabrow10_col7\" class=\"data row10 col7\" >0.264509</td> \n",
       "        <td id=\"T_2d53c36e_aee5_11e9_bd51_a08cfd1afaabrow10_col8\" class=\"data row10 col8\" >0.840942</td> \n",
       "        <td id=\"T_2d53c36e_aee5_11e9_bd51_a08cfd1afaabrow10_col9\" class=\"data row10 col9\" >0.935035</td> \n",
       "        <td id=\"T_2d53c36e_aee5_11e9_bd51_a08cfd1afaabrow10_col10\" class=\"data row10 col10\" >1</td> \n",
       "        <td id=\"T_2d53c36e_aee5_11e9_bd51_a08cfd1afaabrow10_col11\" class=\"data row10 col11\" >0.971879</td> \n",
       "    </tr></tbody> \n",
       "</table> "
      ],
      "text/plain": [
       "<pandas.io.formats.style.Styler at 0x28b15408c50>"
      ]
     },
     "execution_count": 14,
     "metadata": {},
     "output_type": "execute_result"
    }
   ],
   "source": [
    "(np.round(df.corr().iloc[:-1, :], 6).style.format({})\n",
    " .background_gradient(cmap='RdYlGn', low=.4, high=.4)\n",
    ")"
   ]
  },
  {
   "cell_type": "markdown",
   "metadata": {},
   "source": [
    "## 3. Visualizing distributions of the target variables"
   ]
  },
  {
   "cell_type": "markdown",
   "metadata": {},
   "source": [
    "**3.1 Stator yoke**"
   ]
  },
  {
   "cell_type": "code",
   "execution_count": 15,
   "metadata": {},
   "outputs": [
    {
     "data": {
      "image/png": "[encoded data removed]",
      "text/plain": [
       "<Figure size 576x360 with 1 Axes>"
      ]
     },
     "metadata": {
      "needs_background": "light"
     },
     "output_type": "display_data"
    }
   ],
   "source": [
    "fig, ax = plt.subplots(figsize=(8, 5))\n",
    "set_theme()\n",
    "sns.distplot(df.iloc[:, -4], color='#327038', \n",
    "             bins=40, kde=False)\n",
    "ax.set_yticklabels(['{:,}'.format(x) for x in np.array(ax.get_yticks(), \n",
    "                                                       dtype=int)])\n",
    "plt.title(\"Distribution of values in column '{}'\".format(df.columns[-4]))\n",
    "plt.xlabel(None)\n",
    "plt.show()"
   ]
  },
  {
   "cell_type": "markdown",
   "metadata": {},
   "source": [
    "**3.2 Stator tooth**"
   ]
  },
  {
   "cell_type": "code",
   "execution_count": 16,
   "metadata": {
    "scrolled": true
   },
   "outputs": [
    {
     "data": {
      "image/png": "[encoded data removed]",
      "text/plain": [
       "<Figure size 576x360 with 1 Axes>"
      ]
     },
     "metadata": {
      "needs_background": "light"
     },
     "output_type": "display_data"
    }
   ],
   "source": [
    "fig, ax = plt.subplots(figsize=(8, 5))\n",
    "set_theme()\n",
    "sns.distplot(df.iloc[:, -3], color='#327038', \n",
    "             bins=30, kde=False)\n",
    "ax.set_yticklabels(['{:,}'.format(x) for x in np.array(ax.get_yticks(), \n",
    "                                                       dtype=int)])\n",
    "plt.title(\"Distribution of values in column '{}'\".format(df.columns[-3]))\n",
    "plt.xlabel(None)\n",
    "plt.show()"
   ]
  },
  {
   "cell_type": "markdown",
   "metadata": {},
   "source": [
    "**3.3 Stator winding**"
   ]
  },
  {
   "cell_type": "code",
   "execution_count": 17,
   "metadata": {},
   "outputs": [
    {
     "data": {
      "image/png": "[encoded data removed]",
      "text/plain": [
       "<Figure size 576x360 with 1 Axes>"
      ]
     },
     "metadata": {
      "needs_background": "light"
     },
     "output_type": "display_data"
    }
   ],
   "source": [
    "fig, ax = plt.subplots(figsize=(8, 5))\n",
    "set_theme()\n",
    "sns.distplot(df.iloc[:, -2], color='#327038', \n",
    "             bins=50, kde=False)\n",
    "ax.set_yticklabels(['{:,}'.format(x) for x in np.array(ax.get_yticks(), \n",
    "                                                       dtype=int)])\n",
    "plt.title(\"Distribution of values in column '{}'\".format(df.columns[-2]))\n",
    "plt.xlabel(None)\n",
    "plt.show()"
   ]
  },
  {
   "cell_type": "markdown",
   "metadata": {},
   "source": [
    "## 4. Processing data for predictive modeling"
   ]
  },
  {
   "cell_type": "markdown",
   "metadata": {},
   "source": [
    "**4.1 Separating the predictor and target variables**"
   ]
  },
  {
   "cell_type": "code",
   "execution_count": 18,
   "metadata": {},
   "outputs": [],
   "source": [
    "X = df.drop(['yoke', 'tooth', 'winding'], axis=1).values"
   ]
  },
  {
   "cell_type": "code",
   "execution_count": 19,
   "metadata": {},
   "outputs": [],
   "source": [
    "y_yoke = df['yoke'].values\n",
    "y_tooth = df['tooth'].values\n",
    "y_winding = df['winding'].values"
   ]
  },
  {
   "cell_type": "markdown",
   "metadata": {},
   "source": [
    "**4.2 Train/test split**"
   ]
  },
  {
   "cell_type": "code",
   "execution_count": 20,
   "metadata": {},
   "outputs": [],
   "source": [
    "X_train, X_test, yoke_train, yoke_test, tooth_train, tooth_test,\\\n",
    "            winding_train, winding_test = train_test_split(X, y_yoke, \n",
    "            y_tooth, y_winding, test_size=2e-1)"
   ]
  },
  {
   "cell_type": "markdown",
   "metadata": {},
   "source": [
    "## 5. Predictive modeling"
   ]
  },
  {
   "cell_type": "markdown",
   "metadata": {},
   "source": [
    "### 5.1 Linear Regression"
   ]
  },
  {
   "cell_type": "markdown",
   "metadata": {},
   "source": [
    "5.1.1 Instantiating the model"
   ]
  },
  {
   "cell_type": "code",
   "execution_count": 21,
   "metadata": {},
   "outputs": [],
   "source": [
    "reg_yoke = LinearRegression(n_jobs=-1)\n",
    "reg_tooth = LinearRegression(n_jobs=-1)\n",
    "reg_winding = LinearRegression(n_jobs=-1)"
   ]
  },
  {
   "cell_type": "markdown",
   "metadata": {},
   "source": [
    "5.1.2 Fitting the model"
   ]
  },
  {
   "cell_type": "code",
   "execution_count": 22,
   "metadata": {},
   "outputs": [
    {
     "data": {
      "text/plain": [
       "LinearRegression(copy_X=True, fit_intercept=True, n_jobs=-1, normalize=False)"
      ]
     },
     "execution_count": 22,
     "metadata": {},
     "output_type": "execute_result"
    }
   ],
   "source": [
    "reg_yoke.fit(X_train, yoke_train)\n",
    "reg_tooth.fit(X_train, tooth_train)\n",
    "reg_winding.fit(X_train, winding_train)"
   ]
  },
  {
   "cell_type": "markdown",
   "metadata": {},
   "source": [
    "5.1.3 Making predictions"
   ]
  },
  {
   "cell_type": "code",
   "execution_count": 23,
   "metadata": {},
   "outputs": [],
   "source": [
    "reg_yoke_pred = reg_yoke.predict(X_test)\n",
    "reg_tooth_pred = reg_tooth.predict(X_test)\n",
    "reg_winding_pred = reg_winding.predict(X_test)"
   ]
  },
  {
   "cell_type": "markdown",
   "metadata": {},
   "source": [
    "5.1.4 Evaluating predictions"
   ]
  },
  {
   "cell_type": "code",
   "execution_count": 24,
   "metadata": {},
   "outputs": [
    {
     "data": {
      "text/plain": [
       "(0.1305153, 0.17445399, 0.1941152)"
      ]
     },
     "execution_count": 24,
     "metadata": {},
     "output_type": "execute_result"
    }
   ],
   "source": [
    "mae_reg_yoke = mean_absolute_error(yoke_test, reg_yoke_pred)\n",
    "mae_reg_tooth = mean_absolute_error(tooth_test, reg_tooth_pred)\n",
    "mae_reg_winding = mean_absolute_error(winding_test, reg_winding_pred)\n",
    "mae_reg_yoke, mae_reg_tooth, mae_reg_winding"
   ]
  },
  {
   "cell_type": "markdown",
   "metadata": {},
   "source": [
    "5.1.5 Interpreting coefficients"
   ]
  },
  {
   "cell_type": "code",
   "execution_count": 25,
   "metadata": {
    "scrolled": false
   },
   "outputs": [
    {
     "data": {
      "text/html": [
       "<div>\n",
       "<style scoped>\n",
       "    .dataframe tbody tr th:only-of-type {\n",
       "        vertical-align: middle;\n",
       "    }\n",
       "\n",
       "    .dataframe tbody tr th {\n",
       "        vertical-align: top;\n",
       "    }\n",
       "\n",
       "    .dataframe thead th {\n",
       "        text-align: right;\n",
       "    }\n",
       "</style>\n",
       "<table border=\"1\" class=\"dataframe\">\n",
       "  <thead>\n",
       "    <tr style=\"text-align: right;\">\n",
       "      <th></th>\n",
       "      <th>ambient</th>\n",
       "      <th>coolant</th>\n",
       "      <th>u_d</th>\n",
       "      <th>u_q</th>\n",
       "      <th>motor_speed</th>\n",
       "      <th>torque</th>\n",
       "      <th>i_d</th>\n",
       "      <th>i_q</th>\n",
       "      <th>pm</th>\n",
       "    </tr>\n",
       "  </thead>\n",
       "  <tbody>\n",
       "    <tr>\n",
       "      <th>Yoke</th>\n",
       "      <td>-0.141422</td>\n",
       "      <td>0.854417</td>\n",
       "      <td>-0.049346</td>\n",
       "      <td>0.008969</td>\n",
       "      <td>0.220990</td>\n",
       "      <td>3.632026</td>\n",
       "      <td>0.340488</td>\n",
       "      <td>-3.224398</td>\n",
       "      <td>0.416592</td>\n",
       "    </tr>\n",
       "    <tr>\n",
       "      <th>Tooth</th>\n",
       "      <td>-0.212942</td>\n",
       "      <td>0.689089</td>\n",
       "      <td>-0.020080</td>\n",
       "      <td>-0.123356</td>\n",
       "      <td>0.595140</td>\n",
       "      <td>5.656495</td>\n",
       "      <td>0.631485</td>\n",
       "      <td>-4.897159</td>\n",
       "      <td>0.574417</td>\n",
       "    </tr>\n",
       "    <tr>\n",
       "      <th>Winding</th>\n",
       "      <td>-0.251175</td>\n",
       "      <td>0.572213</td>\n",
       "      <td>0.087256</td>\n",
       "      <td>-0.313239</td>\n",
       "      <td>0.945791</td>\n",
       "      <td>7.392169</td>\n",
       "      <td>0.862015</td>\n",
       "      <td>-6.207423</td>\n",
       "      <td>0.585768</td>\n",
       "    </tr>\n",
       "  </tbody>\n",
       "</table>\n",
       "</div>"
      ],
      "text/plain": [
       "          ambient   coolant       u_d       u_q  motor_speed    torque  \\\n",
       "Yoke    -0.141422  0.854417 -0.049346  0.008969     0.220990  3.632026   \n",
       "Tooth   -0.212942  0.689089 -0.020080 -0.123356     0.595140  5.656495   \n",
       "Winding -0.251175  0.572213  0.087256 -0.313239     0.945791  7.392169   \n",
       "\n",
       "              i_d       i_q        pm  \n",
       "Yoke     0.340488 -3.224398  0.416592  \n",
       "Tooth    0.631485 -4.897159  0.574417  \n",
       "Winding  0.862015 -6.207423  0.585768  "
      ]
     },
     "execution_count": 25,
     "metadata": {},
     "output_type": "execute_result"
    }
   ],
   "source": [
    "pd.DataFrame([reg_yoke.coef_, reg_tooth.coef_, reg_winding.coef_], \n",
    "             index=['Yoke', 'Tooth', 'Winding'], columns=df.drop(['yoke', 'tooth', 'winding'], \n",
    "             axis=1).columns.values)"
   ]
  },
  {
   "cell_type": "markdown",
   "metadata": {},
   "source": [
    "5.1.6 Making a metrics dataframe"
   ]
  },
  {
   "cell_type": "code",
   "execution_count": 26,
   "metadata": {},
   "outputs": [
    {
     "data": {
      "text/html": [
       "<div>\n",
       "<style scoped>\n",
       "    .dataframe tbody tr th:only-of-type {\n",
       "        vertical-align: middle;\n",
       "    }\n",
       "\n",
       "    .dataframe tbody tr th {\n",
       "        vertical-align: top;\n",
       "    }\n",
       "\n",
       "    .dataframe thead th {\n",
       "        text-align: right;\n",
       "    }\n",
       "</style>\n",
       "<table border=\"1\" class=\"dataframe\">\n",
       "  <thead>\n",
       "    <tr style=\"text-align: right;\">\n",
       "      <th></th>\n",
       "      <th>MAE Yoke</th>\n",
       "      <th>MAE Tooth</th>\n",
       "      <th>MAE Winding</th>\n",
       "    </tr>\n",
       "  </thead>\n",
       "  <tbody>\n",
       "    <tr>\n",
       "      <th>Lin. Reg.</th>\n",
       "      <td>0.130515</td>\n",
       "      <td>0.174454</td>\n",
       "      <td>0.194115</td>\n",
       "    </tr>\n",
       "  </tbody>\n",
       "</table>\n",
       "</div>"
      ],
      "text/plain": [
       "           MAE Yoke  MAE Tooth  MAE Winding\n",
       "Lin. Reg.  0.130515   0.174454     0.194115"
      ]
     },
     "execution_count": 26,
     "metadata": {},
     "output_type": "execute_result"
    }
   ],
   "source": [
    "metrics = pd.DataFrame([mae_reg_yoke, mae_reg_tooth, mae_reg_winding], \n",
    "                       columns=['Lin. Reg.'], \n",
    "                       index=['MAE Yoke', 'MAE Tooth', 'MAE Winding']).T\n",
    "metrics"
   ]
  },
  {
   "cell_type": "markdown",
   "metadata": {},
   "source": [
    "5.1.7 Plotting the metrics"
   ]
  },
  {
   "cell_type": "code",
   "execution_count": 27,
   "metadata": {
    "scrolled": true
   },
   "outputs": [
    {
     "data": {
      "image/png": "[encoded data removed]",
      "text/plain": [
       "<Figure size 576x360 with 1 Axes>"
      ]
     },
     "metadata": {
      "needs_background": "light"
     },
     "output_type": "display_data"
    }
   ],
   "source": [
    "fig, ax = plt.subplots(figsize=(8, 5))\n",
    "set_theme()\n",
    "\n",
    "ax.bar(metrics.index, metrics.iloc[:, 1].values, color='orange', \n",
    "       edgecolor='k', linewidth=1, width=-1, align='edge', \n",
    "       alpha=1)\n",
    "\n",
    "ax.bar(metrics.index, metrics.iloc[:, 0].values, color='green', \n",
    "       edgecolor='k', linewidth=1, width=1, align='edge', \n",
    "       alpha=1)\n",
    "\n",
    "ax.bar(metrics.index, metrics.iloc[:, 2].values, color='yellow', \n",
    "       edgecolor='k', linewidth=1, width=1, alpha=1)\n",
    "\n",
    "plt.xlim(-3.5, 3.5)\n",
    "plt.legend(['Yoke', 'Tooth', 'Winding'])\n",
    "plt.title('MAE for Various Models')\n",
    "plt.show()"
   ]
  },
  {
   "cell_type": "markdown",
   "metadata": {},
   "source": [
    "### 5.2 Decision Tree Regressor"
   ]
  },
  {
   "cell_type": "markdown",
   "metadata": {},
   "source": [
    "5.1.1 Instantiating the model"
   ]
  },
  {
   "cell_type": "code",
   "execution_count": 28,
   "metadata": {},
   "outputs": [],
   "source": [
    "tree_yoke = DecisionTreeRegressor()\n",
    "tree_tooth = DecisionTreeRegressor()\n",
    "tree_winding = DecisionTreeRegressor()"
   ]
  },
  {
   "cell_type": "markdown",
   "metadata": {},
   "source": [
    "5.1.2 Fitting a basic model"
   ]
  },
  {
   "cell_type": "code",
   "execution_count": 29,
   "metadata": {},
   "outputs": [
    {
     "data": {
      "text/plain": [
       "DecisionTreeRegressor(criterion='mse', max_depth=None, max_features=None,\n",
       "           max_leaf_nodes=None, min_impurity_decrease=0.0,\n",
       "           min_impurity_split=None, min_samples_leaf=1,\n",
       "           min_samples_split=2, min_weight_fraction_leaf=0.0,\n",
       "           presort=False, random_state=None, splitter='best')"
      ]
     },
     "execution_count": 29,
     "metadata": {},
     "output_type": "execute_result"
    }
   ],
   "source": [
    "tree_yoke.fit(X_train, yoke_train)\n",
    "tree_tooth.fit(X_train, tooth_train)\n",
    "tree_winding.fit(X_train, winding_train)"
   ]
  },
  {
   "cell_type": "markdown",
   "metadata": {},
   "source": [
    "5.1.3 Making predictions"
   ]
  },
  {
   "cell_type": "code",
   "execution_count": 30,
   "metadata": {},
   "outputs": [],
   "source": [
    "tree_yoke_pred = tree_yoke.predict(X_test)\n",
    "tree_tooth_pred = tree_tooth.predict(X_test)\n",
    "tree_winding_pred = tree_winding.predict(X_test)"
   ]
  },
  {
   "cell_type": "markdown",
   "metadata": {},
   "source": [
    "5.1.4 Evaluating predictions"
   ]
  },
  {
   "cell_type": "code",
   "execution_count": 31,
   "metadata": {
    "scrolled": true
   },
   "outputs": [
    {
     "data": {
      "text/plain": [
       "(0.0016755280492423196, 0.002238414532350303, 0.0029399182598904682)"
      ]
     },
     "execution_count": 31,
     "metadata": {},
     "output_type": "execute_result"
    }
   ],
   "source": [
    "mae_tree_yoke = mean_absolute_error(yoke_test, tree_yoke_pred)\n",
    "mae_tree_tooth = mean_absolute_error(tooth_test, tree_tooth_pred)\n",
    "mae_tree_winding = mean_absolute_error(winding_test, tree_winding_pred)\n",
    "mae_tree_yoke, mae_tree_tooth, mae_tree_winding"
   ]
  },
  {
   "cell_type": "markdown",
   "metadata": {},
   "source": [
    "5.1.5. Grid search"
   ]
  },
  {
   "cell_type": "code",
   "execution_count": 32,
   "metadata": {},
   "outputs": [],
   "source": [
    "yoke_grid = RandomizedSearchCV(tree_yoke, cv=3,\n",
    "            param_distributions=\n",
    "                        {'min_samples_split': np.linspace(2, 100, 25, dtype=int),\n",
    "                        'max_depth': [None, 5, 10, 20, 50, 100, 200],\n",
    "                        'max_features': [8, 9, None]},\n",
    "                  n_jobs=-1, n_iter=15)\n",
    "tooth_grid = RandomizedSearchCV(tree_tooth, cv=5,\n",
    "            param_distributions=\n",
    "                        {'min_samples_split': np.linspace(2, 100, 25, dtype=int),\n",
    "                         'max_depth': [None, 5, 10, 20, 50, 100, 200],\n",
    "                         'max_features': [8, 9, None]},\n",
    "                  n_jobs=-1, n_iter=15)\n",
    "winding_grid = RandomizedSearchCV(tree_winding, cv=5,\n",
    "            param_distributions=\n",
    "                        {'min_samples_split': np.linspace(2, 100, 25, dtype=int),\n",
    "                         'max_depth': [None, 5, 10, 20, 50, 100, 200],\n",
    "                         'max_features': [8, 9, None]},\n",
    "                  n_jobs=-1, n_iter=15)"
   ]
  },
  {
   "cell_type": "code",
   "execution_count": 33,
   "metadata": {
    "scrolled": true
   },
   "outputs": [
    {
     "name": "stdout",
     "output_type": "stream",
     "text": [
      "23 seconds\n"
     ]
    }
   ],
   "source": [
    "start_timer = time()\n",
    "yoke_grid.fit(X_train, yoke_train)\n",
    "tooth_grid.fit(X_train, tooth_train)\n",
    "winding_grid.fit(X_train, winding_train)\n",
    "stop_timer = time()\n",
    "print(str(round(stop_timer-start_timer)), 'seconds')"
   ]
  },
  {
   "cell_type": "code",
   "execution_count": 34,
   "metadata": {},
   "outputs": [],
   "source": [
    "tree_yoke_pred_cv = yoke_grid.best_estimator_.predict(X_test)\n",
    "tree_tooth_pred_cv = tooth_grid.best_estimator_.predict(X_test)\n",
    "tree_winding_pred_cv = winding_grid.best_estimator_.predict(X_test)"
   ]
  },
  {
   "cell_type": "code",
   "execution_count": 35,
   "metadata": {},
   "outputs": [
    {
     "data": {
      "text/plain": [
       "(0.0020781471406845233, 0.002591512738163349, 0.003896100359989437)"
      ]
     },
     "execution_count": 35,
     "metadata": {},
     "output_type": "execute_result"
    }
   ],
   "source": [
    "tree_yoke_pred_cv_mae = mean_absolute_error(yoke_test, tree_yoke_pred_cv)\n",
    "tree_tooth_pred_cv_mae = mean_absolute_error(tooth_test, tree_tooth_pred_cv)\n",
    "tree_winding_pred_cv_mae = mean_absolute_error(winding_test, tree_winding_pred_cv)\n",
    "tree_yoke_pred_cv_mae, tree_tooth_pred_cv_mae, tree_winding_pred_cv_mae"
   ]
  },
  {
   "cell_type": "markdown",
   "metadata": {},
   "source": [
    "5.1.5 Interpreting coefficients"
   ]
  },
  {
   "cell_type": "code",
   "execution_count": 36,
   "metadata": {
    "scrolled": true
   },
   "outputs": [
    {
     "data": {
      "text/html": [
       "<div>\n",
       "<style scoped>\n",
       "    .dataframe tbody tr th:only-of-type {\n",
       "        vertical-align: middle;\n",
       "    }\n",
       "\n",
       "    .dataframe tbody tr th {\n",
       "        vertical-align: top;\n",
       "    }\n",
       "\n",
       "    .dataframe thead th {\n",
       "        text-align: right;\n",
       "    }\n",
       "</style>\n",
       "<table border=\"1\" class=\"dataframe\">\n",
       "  <thead>\n",
       "    <tr style=\"text-align: right;\">\n",
       "      <th></th>\n",
       "      <th>ambient</th>\n",
       "      <th>coolant</th>\n",
       "      <th>u_d</th>\n",
       "      <th>u_q</th>\n",
       "      <th>motor_speed</th>\n",
       "      <th>torque</th>\n",
       "      <th>i_d</th>\n",
       "      <th>i_q</th>\n",
       "      <th>pm</th>\n",
       "    </tr>\n",
       "  </thead>\n",
       "  <tbody>\n",
       "    <tr>\n",
       "      <th>Yoke</th>\n",
       "      <td>0.000409</td>\n",
       "      <td>0.669342</td>\n",
       "      <td>0.016652</td>\n",
       "      <td>0.007577</td>\n",
       "      <td>0.003491</td>\n",
       "      <td>0.006325</td>\n",
       "      <td>0.019702</td>\n",
       "      <td>0.006661</td>\n",
       "      <td>0.269841</td>\n",
       "    </tr>\n",
       "    <tr>\n",
       "      <th>Tooth</th>\n",
       "      <td>0.000270</td>\n",
       "      <td>0.011678</td>\n",
       "      <td>0.037183</td>\n",
       "      <td>0.019931</td>\n",
       "      <td>0.015219</td>\n",
       "      <td>0.087017</td>\n",
       "      <td>0.001411</td>\n",
       "      <td>0.095883</td>\n",
       "      <td>0.731410</td>\n",
       "    </tr>\n",
       "    <tr>\n",
       "      <th>Winding</th>\n",
       "      <td>0.017744</td>\n",
       "      <td>0.000438</td>\n",
       "      <td>0.125032</td>\n",
       "      <td>0.012457</td>\n",
       "      <td>0.007002</td>\n",
       "      <td>0.048073</td>\n",
       "      <td>0.054685</td>\n",
       "      <td>0.024685</td>\n",
       "      <td>0.709884</td>\n",
       "    </tr>\n",
       "  </tbody>\n",
       "</table>\n",
       "</div>"
      ],
      "text/plain": [
       "          ambient   coolant       u_d       u_q  motor_speed    torque  \\\n",
       "Yoke     0.000409  0.669342  0.016652  0.007577     0.003491  0.006325   \n",
       "Tooth    0.000270  0.011678  0.037183  0.019931     0.015219  0.087017   \n",
       "Winding  0.017744  0.000438  0.125032  0.012457     0.007002  0.048073   \n",
       "\n",
       "              i_d       i_q        pm  \n",
       "Yoke     0.019702  0.006661  0.269841  \n",
       "Tooth    0.001411  0.095883  0.731410  \n",
       "Winding  0.054685  0.024685  0.709884  "
      ]
     },
     "execution_count": 36,
     "metadata": {},
     "output_type": "execute_result"
    }
   ],
   "source": [
    "pd.DataFrame([tree_yoke.feature_importances_, tree_tooth.feature_importances_, \n",
    "              tree_winding.feature_importances_], index=['Yoke', 'Tooth', 'Winding'], \n",
    "              columns=df.drop(['yoke', 'tooth', 'winding'], \n",
    "             axis=1).columns.values)"
   ]
  },
  {
   "cell_type": "markdown",
   "metadata": {},
   "source": [
    "5.1.6 Making a metrics dataframe"
   ]
  },
  {
   "cell_type": "code",
   "execution_count": 37,
   "metadata": {},
   "outputs": [
    {
     "data": {
      "text/html": [
       "<div>\n",
       "<style scoped>\n",
       "    .dataframe tbody tr th:only-of-type {\n",
       "        vertical-align: middle;\n",
       "    }\n",
       "\n",
       "    .dataframe tbody tr th {\n",
       "        vertical-align: top;\n",
       "    }\n",
       "\n",
       "    .dataframe thead th {\n",
       "        text-align: right;\n",
       "    }\n",
       "</style>\n",
       "<table border=\"1\" class=\"dataframe\">\n",
       "  <thead>\n",
       "    <tr style=\"text-align: right;\">\n",
       "      <th></th>\n",
       "      <th>MAE Yoke</th>\n",
       "      <th>MAE Tooth</th>\n",
       "      <th>MAE Winding</th>\n",
       "    </tr>\n",
       "  </thead>\n",
       "  <tbody>\n",
       "    <tr>\n",
       "      <th>Lin. Reg.</th>\n",
       "      <td>0.130515</td>\n",
       "      <td>0.174454</td>\n",
       "      <td>0.194115</td>\n",
       "    </tr>\n",
       "    <tr>\n",
       "      <th>Decision Tree</th>\n",
       "      <td>0.001676</td>\n",
       "      <td>0.002238</td>\n",
       "      <td>0.002940</td>\n",
       "    </tr>\n",
       "  </tbody>\n",
       "</table>\n",
       "</div>"
      ],
      "text/plain": [
       "               MAE Yoke  MAE Tooth  MAE Winding\n",
       "Lin. Reg.      0.130515   0.174454     0.194115\n",
       "Decision Tree  0.001676   0.002238     0.002940"
      ]
     },
     "execution_count": 37,
     "metadata": {},
     "output_type": "execute_result"
    }
   ],
   "source": [
    "metrics_tree = pd.DataFrame([mae_tree_yoke, mae_tree_tooth, \n",
    "                              mae_tree_winding], columns=['Decision Tree'], \n",
    "                       index=['MAE Yoke', 'MAE Tooth', 'MAE Winding']).T\n",
    "\n",
    "metrics = pd.concat([metrics, metrics_tree], axis=0, sort=False)\n",
    "metrics"
   ]
  },
  {
   "cell_type": "markdown",
   "metadata": {},
   "source": [
    "5.1.7 Plotting the metrics"
   ]
  },
  {
   "cell_type": "code",
   "execution_count": 38,
   "metadata": {
    "scrolled": false
   },
   "outputs": [
    {
     "data": {
      "image/png": "[encoded data removed]",
      "text/plain": [
       "<Figure size 576x360 with 1 Axes>"
      ]
     },
     "metadata": {
      "needs_background": "light"
     },
     "output_type": "display_data"
    }
   ],
   "source": [
    "fig, ax = plt.subplots(figsize=(8, 5))\n",
    "set_theme()\n",
    "\n",
    "ax.bar(metrics.index, metrics.iloc[:, 1].values, color='orange', \n",
    "       edgecolor='k', linewidth=1, width=-0.2, align='edge', \n",
    "       alpha=1)\n",
    "\n",
    "ax.bar(metrics.index, metrics.iloc[:, 0].values, color='green', \n",
    "       edgecolor='k', linewidth=1, width=0.2, align='edge', \n",
    "       alpha=1)\n",
    "\n",
    "ax.bar(metrics.index, metrics.iloc[:, 2].values, color='yellow', \n",
    "       edgecolor='k', linewidth=1, width=.2, alpha=1)\n",
    "\n",
    "plt.xlim(-1.5, 2.5)\n",
    "plt.legend(['Yoke', 'Tooth', 'Winding'])\n",
    "plt.title('MAE for Various Models')\n",
    "plt.show()"
   ]
  },
  {
   "cell_type": "markdown",
   "metadata": {},
   "source": [
    "### 5.3 Fully-Connected Neural Network "
   ]
  },
  {
   "cell_type": "markdown",
   "metadata": {},
   "source": [
    "5.3.1 Rescaling the data"
   ]
  },
  {
   "cell_type": "code",
   "execution_count": 39,
   "metadata": {},
   "outputs": [],
   "source": [
    "mm_scaler = MinMaxScaler()"
   ]
  },
  {
   "cell_type": "code",
   "execution_count": 40,
   "metadata": {},
   "outputs": [],
   "source": [
    "X_train_scaled = mm_scaler.fit_transform(X_train)\n",
    "X_test_scaled = mm_scaler.transform(X_test)"
   ]
  },
  {
   "cell_type": "markdown",
   "metadata": {},
   "source": [
    "5.3.2 Building the models"
   ]
  },
  {
   "cell_type": "code",
   "execution_count": 82,
   "metadata": {},
   "outputs": [],
   "source": [
    "nn_yoke = Sequential([\n",
    "    Dense(64, input_shape=(X_train_scaled.shape[1],)),\n",
    "    Dense(128, activation='relu'),\n",
    "    Dense(256, activation='relu'),\n",
    "    Dropout(5e-1),\n",
    "    Dense(1, activation='linear')\n",
    "])"
   ]
  },
  {
   "cell_type": "code",
   "execution_count": 83,
   "metadata": {},
   "outputs": [],
   "source": [
    "nn_tooth = Sequential([\n",
    "    Dense(64, input_shape=(X_train_scaled.shape[1],)),\n",
    "    Dense(128, activation='relu'),\n",
    "    Dense(256, activation='relu'),\n",
    "    Dropout(5e-1),\n",
    "    Dense(1, activation='linear')\n",
    "])"
   ]
  },
  {
   "cell_type": "code",
   "execution_count": 84,
   "metadata": {},
   "outputs": [],
   "source": [
    "nn_winding = Sequential([\n",
    "    Dense(64, input_shape=(X_train_scaled.shape[1],)),\n",
    "    Dense(126, activation='relu'),\n",
    "    Dense(128, activation='relu'),\n",
    "    Dropout(5e-1),\n",
    "    Dense(1, activation='linear')\n",
    "])"
   ]
  },
  {
   "cell_type": "markdown",
   "metadata": {},
   "source": [
    "5.3.3 Model parameters"
   ]
  },
  {
   "cell_type": "code",
   "execution_count": 85,
   "metadata": {},
   "outputs": [],
   "source": [
    "batch_size=128\n",
    "early_stopping = EarlyStopping(monitor='val_loss', patience=10, restore_best_weights=True)\n",
    "epochs=50"
   ]
  },
  {
   "cell_type": "markdown",
   "metadata": {},
   "source": [
    "5.3.4 Compiling the models"
   ]
  },
  {
   "cell_type": "code",
   "execution_count": 86,
   "metadata": {},
   "outputs": [],
   "source": [
    "nn_yoke.compile(optimizer='adam', loss='mae')\n",
    "nn_tooth.compile(optimizer='adam', loss='mae')\n",
    "nn_winding.compile(optimizer='adam', loss='mae')"
   ]
  },
  {
   "cell_type": "markdown",
   "metadata": {},
   "source": [
    "5.3.5 Training the models"
   ]
  },
  {
   "cell_type": "code",
   "execution_count": 87,
   "metadata": {},
   "outputs": [
    {
     "name": "stdout",
     "output_type": "stream",
     "text": [
      "Train on 35176 samples, validate on 8794 samples\n",
      "Epoch 1/50\n",
      "35176/35176 [==============================] - 3s 71us/step - loss: 0.1843 - val_loss: 0.0935\n",
      "Epoch 2/50\n",
      "35176/35176 [==============================] - 1s 37us/step - loss: 0.1243 - val_loss: 0.0858\n",
      "Epoch 3/50\n",
      "35176/35176 [==============================] - 1s 37us/step - loss: 0.1162 - val_loss: 0.0806\n",
      "Epoch 4/50\n",
      "35176/35176 [==============================] - 1s 37us/step - loss: 0.1107 - val_loss: 0.0602\n",
      "Epoch 5/50\n",
      "35176/35176 [==============================] - 2s 43us/step - loss: 0.1077 - val_loss: 0.0628\n",
      "Epoch 6/50\n",
      "35176/35176 [==============================] - 1s 42us/step - loss: 0.1055 - val_loss: 0.0609\n",
      "Epoch 7/50\n",
      "35176/35176 [==============================] - 2s 46us/step - loss: 0.1031 - val_loss: 0.0526\n",
      "Epoch 8/50\n",
      "35176/35176 [==============================] - 1s 42us/step - loss: 0.1027 - val_loss: 0.0463\n",
      "Epoch 9/50\n",
      "35176/35176 [==============================] - 1s 42us/step - loss: 0.1006 - val_loss: 0.0548\n",
      "Epoch 10/50\n",
      "35176/35176 [==============================] - 2s 43us/step - loss: 0.0981 - val_loss: 0.0545\n",
      "Epoch 11/50\n",
      "35176/35176 [==============================] - 2s 45us/step - loss: 0.0975 - val_loss: 0.0412\n",
      "Epoch 12/50\n",
      "35176/35176 [==============================] - 1s 42us/step - loss: 0.0972 - val_loss: 0.0405\n",
      "Epoch 13/50\n",
      "35176/35176 [==============================] - 1s 40us/step - loss: 0.0966 - val_loss: 0.0390\n",
      "Epoch 14/50\n",
      "35176/35176 [==============================] - 1s 41us/step - loss: 0.0952 - val_loss: 0.0503\n",
      "Epoch 15/50\n",
      "35176/35176 [==============================] - 1s 39us/step - loss: 0.0935 - val_loss: 0.0423\n",
      "Epoch 16/50\n",
      "35176/35176 [==============================] - 1s 39us/step - loss: 0.0927 - val_loss: 0.0456\n",
      "Epoch 17/50\n",
      "35176/35176 [==============================] - 1s 41us/step - loss: 0.0920 - val_loss: 0.0365\n",
      "Epoch 18/50\n",
      "35176/35176 [==============================] - 1s 40us/step - loss: 0.0903 - val_loss: 0.0491\n",
      "Epoch 19/50\n",
      "35176/35176 [==============================] - 1s 39us/step - loss: 0.0902 - val_loss: 0.0354\n",
      "Epoch 20/50\n",
      "35176/35176 [==============================] - 1s 40us/step - loss: 0.0893 - val_loss: 0.0355\n",
      "Epoch 21/50\n",
      "35176/35176 [==============================] - 1s 38us/step - loss: 0.0902 - val_loss: 0.0360\n",
      "Epoch 22/50\n",
      "35176/35176 [==============================] - 1s 42us/step - loss: 0.0889 - val_loss: 0.0421\n",
      "Epoch 23/50\n",
      "35176/35176 [==============================] - 1s 40us/step - loss: 0.0885 - val_loss: 0.0299\n",
      "Epoch 24/50\n",
      "35176/35176 [==============================] - 1s 37us/step - loss: 0.0884 - val_loss: 0.0474\n",
      "Epoch 25/50\n",
      "35176/35176 [==============================] - 1s 40us/step - loss: 0.0873 - val_loss: 0.0398\n",
      "Epoch 26/50\n",
      "35176/35176 [==============================] - 1s 40us/step - loss: 0.0866 - val_loss: 0.0344\n",
      "Epoch 27/50\n",
      "35176/35176 [==============================] - 1s 38us/step - loss: 0.0883 - val_loss: 0.0283\n",
      "Epoch 28/50\n",
      "35176/35176 [==============================] - 1s 39us/step - loss: 0.0867 - val_loss: 0.0459\n",
      "Epoch 29/50\n",
      "35176/35176 [==============================] - 1s 40us/step - loss: 0.0878 - val_loss: 0.0277\n",
      "Epoch 30/50\n",
      "35176/35176 [==============================] - 1s 42us/step - loss: 0.0887 - val_loss: 0.0325\n",
      "Epoch 31/50\n",
      "35176/35176 [==============================] - 1s 42us/step - loss: 0.0857 - val_loss: 0.0303\n",
      "Epoch 32/50\n",
      "35176/35176 [==============================] - 1s 41us/step - loss: 0.0858 - val_loss: 0.0402\n",
      "Epoch 33/50\n",
      "35176/35176 [==============================] - 2s 43us/step - loss: 0.0866 - val_loss: 0.0328\n",
      "Epoch 34/50\n",
      "35176/35176 [==============================] - 1s 41us/step - loss: 0.0856 - val_loss: 0.0242\n",
      "Epoch 35/50\n",
      "35176/35176 [==============================] - 1s 41us/step - loss: 0.0850 - val_loss: 0.0427\n",
      "Epoch 36/50\n",
      "35176/35176 [==============================] - 1s 40us/step - loss: 0.0856 - val_loss: 0.0452\n",
      "Epoch 37/50\n",
      "35176/35176 [==============================] - 1s 39us/step - loss: 0.0851 - val_loss: 0.0428\n",
      "Epoch 38/50\n",
      "35176/35176 [==============================] - 1s 39us/step - loss: 0.0851 - val_loss: 0.0297\n",
      "Epoch 39/50\n",
      "35176/35176 [==============================] - 1s 40us/step - loss: 0.0840 - val_loss: 0.0298\n",
      "Epoch 40/50\n",
      "35176/35176 [==============================] - 1s 39us/step - loss: 0.0841 - val_loss: 0.0318\n",
      "Epoch 41/50\n",
      "35176/35176 [==============================] - 1s 40us/step - loss: 0.0842 - val_loss: 0.0383\n",
      "Epoch 42/50\n",
      "35176/35176 [==============================] - 1s 42us/step - loss: 0.0847 - val_loss: 0.0387\n",
      "Epoch 43/50\n",
      "35176/35176 [==============================] - 1s 39us/step - loss: 0.0847 - val_loss: 0.0284\n",
      "Epoch 44/50\n",
      "35176/35176 [==============================] - 1s 42us/step - loss: 0.0837 - val_loss: 0.0506\n"
     ]
    }
   ],
   "source": [
    "yoke_history = nn_yoke.fit(X_train_scaled, yoke_train,\n",
    "               verbose=1,\n",
    "               callbacks=[early_stopping],\n",
    "               epochs=epochs,\n",
    "               batch_size=batch_size,\n",
    "               validation_data=[X_test_scaled, yoke_test])"
   ]
  },
  {
   "cell_type": "code",
   "execution_count": 90,
   "metadata": {},
   "outputs": [
    {
     "name": "stdout",
     "output_type": "stream",
     "text": [
      "Train on 35176 samples, validate on 8794 samples\n",
      "Epoch 1/50\n",
      "35176/35176 [==============================] - 1s 38us/step - loss: 0.1071 - val_loss: 0.0687\n",
      "Epoch 2/50\n",
      "35176/35176 [==============================] - 2s 43us/step - loss: 0.1060 - val_loss: 0.0609\n",
      "Epoch 3/50\n",
      "35176/35176 [==============================] - 1s 41us/step - loss: 0.1033 - val_loss: 0.0388\n",
      "Epoch 4/50\n",
      "35176/35176 [==============================] - 1s 38us/step - loss: 0.1015 - val_loss: 0.0542\n",
      "Epoch 5/50\n",
      "35176/35176 [==============================] - 1s 38us/step - loss: 0.1016 - val_loss: 0.0464\n",
      "Epoch 6/50\n",
      "35176/35176 [==============================] - 1s 38us/step - loss: 0.1005 - val_loss: 0.0459\n",
      "Epoch 7/50\n",
      "35176/35176 [==============================] - 1s 40us/step - loss: 0.1018 - val_loss: 0.0612\n",
      "Epoch 8/50\n",
      "35176/35176 [==============================] - 1s 40us/step - loss: 0.1000 - val_loss: 0.0710\n",
      "Epoch 9/50\n",
      "35176/35176 [==============================] - 1s 42us/step - loss: 0.0996 - val_loss: 0.0680\n",
      "Epoch 10/50\n",
      "35176/35176 [==============================] - 1s 40us/step - loss: 0.0986 - val_loss: 0.0806\n",
      "Epoch 11/50\n",
      "35176/35176 [==============================] - 1s 38us/step - loss: 0.0992 - val_loss: 0.0414\n",
      "Epoch 12/50\n",
      "35176/35176 [==============================] - 1s 38us/step - loss: 0.0964 - val_loss: 0.0402\n",
      "Epoch 13/50\n",
      "35176/35176 [==============================] - 1s 38us/step - loss: 0.0969 - val_loss: 0.0423\n"
     ]
    }
   ],
   "source": [
    "tooth_history = nn_tooth.fit(X_train_scaled, tooth_train,\n",
    "                verbose=1,\n",
    "                callbacks=[early_stopping],\n",
    "                epochs=epochs,\n",
    "                batch_size=batch_size,\n",
    "                validation_data=[X_test_scaled, tooth_test])"
   ]
  },
  {
   "cell_type": "code",
   "execution_count": 91,
   "metadata": {},
   "outputs": [
    {
     "name": "stdout",
     "output_type": "stream",
     "text": [
      "Train on 35176 samples, validate on 8794 samples\n",
      "Epoch 1/50\n",
      "35176/35176 [==============================] - 1s 39us/step - loss: 0.1687 - val_loss: 0.0892\n",
      "Epoch 2/50\n",
      "35176/35176 [==============================] - 1s 40us/step - loss: 0.1614 - val_loss: 0.0865\n",
      "Epoch 3/50\n",
      "35176/35176 [==============================] - 1s 37us/step - loss: 0.1564 - val_loss: 0.0755\n",
      "Epoch 4/50\n",
      "35176/35176 [==============================] - 1s 38us/step - loss: 0.1530 - val_loss: 0.0927\n",
      "Epoch 5/50\n",
      "35176/35176 [==============================] - 1s 38us/step - loss: 0.1525 - val_loss: 0.0795\n",
      "Epoch 6/50\n",
      "35176/35176 [==============================] - 1s 38us/step - loss: 0.1495 - val_loss: 0.0748\n",
      "Epoch 7/50\n",
      "35176/35176 [==============================] - 1s 39us/step - loss: 0.1488 - val_loss: 0.0692\n",
      "Epoch 8/50\n",
      "35176/35176 [==============================] - 1s 41us/step - loss: 0.1447 - val_loss: 0.0657\n",
      "Epoch 9/50\n",
      "35176/35176 [==============================] - 1s 39us/step - loss: 0.1445 - val_loss: 0.0673\n",
      "Epoch 10/50\n",
      "35176/35176 [==============================] - 1s 40us/step - loss: 0.1425 - val_loss: 0.0666\n",
      "Epoch 11/50\n",
      "35176/35176 [==============================] - 2s 44us/step - loss: 0.1428 - val_loss: 0.0620\n",
      "Epoch 12/50\n",
      "35176/35176 [==============================] - 2s 46us/step - loss: 0.1404 - val_loss: 0.0734\n",
      "Epoch 13/50\n",
      "35176/35176 [==============================] - 2s 44us/step - loss: 0.1399 - val_loss: 0.0649\n",
      "Epoch 14/50\n",
      "35176/35176 [==============================] - 1s 41us/step - loss: 0.1386 - val_loss: 0.0512\n",
      "Epoch 15/50\n",
      "35176/35176 [==============================] - 1s 38us/step - loss: 0.1390 - val_loss: 0.0751\n",
      "Epoch 16/50\n",
      "35176/35176 [==============================] - 1s 38us/step - loss: 0.1378 - val_loss: 0.0529\n",
      "Epoch 17/50\n",
      "35176/35176 [==============================] - 1s 40us/step - loss: 0.1361 - val_loss: 0.0485\n",
      "Epoch 18/50\n",
      "35176/35176 [==============================] - 2s 55us/step - loss: 0.1361 - val_loss: 0.0677\n",
      "Epoch 19/50\n",
      "35176/35176 [==============================] - 2s 57us/step - loss: 0.1350 - val_loss: 0.0657\n",
      "Epoch 20/50\n",
      "35176/35176 [==============================] - 2s 43us/step - loss: 0.1367 - val_loss: 0.0614\n",
      "Epoch 21/50\n",
      "35176/35176 [==============================] - 1s 42us/step - loss: 0.1362 - val_loss: 0.0668\n",
      "Epoch 22/50\n",
      "35176/35176 [==============================] - 1s 39us/step - loss: 0.1332 - val_loss: 0.0484\n",
      "Epoch 23/50\n",
      "35176/35176 [==============================] - 1s 40us/step - loss: 0.1333 - val_loss: 0.0461\n",
      "Epoch 24/50\n",
      "35176/35176 [==============================] - 1s 40us/step - loss: 0.1353 - val_loss: 0.0590\n",
      "Epoch 25/50\n",
      "35176/35176 [==============================] - 1s 39us/step - loss: 0.1339 - val_loss: 0.0572\n",
      "Epoch 26/50\n",
      "35176/35176 [==============================] - 1s 41us/step - loss: 0.1343 - val_loss: 0.0471\n",
      "Epoch 27/50\n",
      "35176/35176 [==============================] - 1s 40us/step - loss: 0.1341 - val_loss: 0.0597\n",
      "Epoch 28/50\n",
      "35176/35176 [==============================] - 1s 41us/step - loss: 0.1336 - val_loss: 0.0505\n",
      "Epoch 29/50\n",
      "35176/35176 [==============================] - 1s 41us/step - loss: 0.1324 - val_loss: 0.0492\n",
      "Epoch 30/50\n",
      "35176/35176 [==============================] - 1s 39us/step - loss: 0.1319 - val_loss: 0.0557\n",
      "Epoch 31/50\n",
      "35176/35176 [==============================] - 1s 39us/step - loss: 0.1323 - val_loss: 0.0690\n",
      "Epoch 32/50\n",
      "35176/35176 [==============================] - 1s 39us/step - loss: 0.1334 - val_loss: 0.0528\n",
      "Epoch 33/50\n",
      "35176/35176 [==============================] - 1s 39us/step - loss: 0.1317 - val_loss: 0.0502\n"
     ]
    }
   ],
   "source": [
    "winding_history = nn_winding.fit(X_train_scaled, winding_train,\n",
    "                  verbose=1,\n",
    "                  callbacks=[early_stopping],\n",
    "                  epochs=epochs,\n",
    "                  batch_size=batch_size,\n",
    "                  validation_data=[X_test_scaled, winding_test])"
   ]
  },
  {
   "cell_type": "markdown",
   "metadata": {},
   "source": [
    "5.3.6 Making predictions"
   ]
  },
  {
   "cell_type": "code",
   "execution_count": 92,
   "metadata": {},
   "outputs": [],
   "source": [
    "nn_yoke_pred = nn_yoke.predict(X_test_scaled)\n",
    "nn_tooth_pred = nn_tooth.predict(X_test_scaled)\n",
    "nn_winding_pred = nn_winding.predict(X_test_scaled)"
   ]
  },
  {
   "cell_type": "markdown",
   "metadata": {},
   "source": [
    "5.1.4 Evaluating predictions"
   ]
  },
  {
   "cell_type": "code",
   "execution_count": 93,
   "metadata": {
    "scrolled": true
   },
   "outputs": [
    {
     "data": {
      "text/plain": [
       "(0.024188332, 0.038796525, 0.046080757)"
      ]
     },
     "execution_count": 93,
     "metadata": {},
     "output_type": "execute_result"
    }
   ],
   "source": [
    "mae_nn_yoke = mean_absolute_error(yoke_test, nn_yoke_pred)\n",
    "mae_nn_tooth = mean_absolute_error(tooth_test, nn_tooth_pred)\n",
    "mae_nn_winding = mean_absolute_error(winding_test, nn_winding_pred)\n",
    "mae_nn_yoke, mae_nn_tooth, mae_nn_winding"
   ]
  },
  {
   "cell_type": "markdown",
   "metadata": {},
   "source": [
    "5.1.6 Making a metrics dataframe"
   ]
  },
  {
   "cell_type": "code",
   "execution_count": 94,
   "metadata": {},
   "outputs": [
    {
     "data": {
      "text/html": [
       "<div>\n",
       "<style scoped>\n",
       "    .dataframe tbody tr th:only-of-type {\n",
       "        vertical-align: middle;\n",
       "    }\n",
       "\n",
       "    .dataframe tbody tr th {\n",
       "        vertical-align: top;\n",
       "    }\n",
       "\n",
       "    .dataframe thead th {\n",
       "        text-align: right;\n",
       "    }\n",
       "</style>\n",
       "<table border=\"1\" class=\"dataframe\">\n",
       "  <thead>\n",
       "    <tr style=\"text-align: right;\">\n",
       "      <th></th>\n",
       "      <th>MAE Yoke</th>\n",
       "      <th>MAE Tooth</th>\n",
       "      <th>MAE Winding</th>\n",
       "    </tr>\n",
       "  </thead>\n",
       "  <tbody>\n",
       "    <tr>\n",
       "      <th>Lin. Reg.</th>\n",
       "      <td>0.130515</td>\n",
       "      <td>0.174454</td>\n",
       "      <td>0.194115</td>\n",
       "    </tr>\n",
       "    <tr>\n",
       "      <th>Decision Tree</th>\n",
       "      <td>0.001676</td>\n",
       "      <td>0.002238</td>\n",
       "      <td>0.002940</td>\n",
       "    </tr>\n",
       "    <tr>\n",
       "      <th>Neural Net</th>\n",
       "      <td>0.024188</td>\n",
       "      <td>0.038797</td>\n",
       "      <td>0.046081</td>\n",
       "    </tr>\n",
       "  </tbody>\n",
       "</table>\n",
       "</div>"
      ],
      "text/plain": [
       "               MAE Yoke  MAE Tooth  MAE Winding\n",
       "Lin. Reg.      0.130515   0.174454     0.194115\n",
       "Decision Tree  0.001676   0.002238     0.002940\n",
       "Neural Net     0.024188   0.038797     0.046081"
      ]
     },
     "execution_count": 94,
     "metadata": {},
     "output_type": "execute_result"
    }
   ],
   "source": [
    "metrics_nn = pd.DataFrame([mae_nn_yoke, mae_nn_tooth, \n",
    "                              mae_nn_winding], columns=['Neural Net'], \n",
    "                       index=['MAE Yoke', 'MAE Tooth', 'MAE Winding']).T\n",
    "\n",
    "metrics = pd.concat([metrics, metrics_nn], axis=0, sort=False)\n",
    "metrics"
   ]
  },
  {
   "cell_type": "markdown",
   "metadata": {},
   "source": [
    "5.1.7 Plotting the metrics"
   ]
  },
  {
   "cell_type": "code",
   "execution_count": 99,
   "metadata": {
    "scrolled": false
   },
   "outputs": [
    {
     "data": {
      "image/png": "[encoded data removed]",
      "text/plain": [
       "<Figure size 576x360 with 1 Axes>"
      ]
     },
     "metadata": {
      "needs_background": "light"
     },
     "output_type": "display_data"
    }
   ],
   "source": [
    "fig, ax = plt.subplots(figsize=(8, 5))\n",
    "set_theme()\n",
    "\n",
    "ax.bar(metrics.index, metrics.iloc[:, 1].values, color='orange', \n",
    "       edgecolor='k', linewidth=1, width=-0.2, align='edge', \n",
    "       alpha=1)\n",
    "\n",
    "ax.bar(metrics.index, metrics.iloc[:, 0].values, color='green', \n",
    "       edgecolor='k', linewidth=1, width=0.2, align='edge', \n",
    "       alpha=1)\n",
    "\n",
    "ax.bar(metrics.index, metrics.iloc[:, 2].values, color='yellow', \n",
    "       edgecolor='k', linewidth=1, width=.2, alpha=1)\n",
    "\n",
    "plt.xlim(-.5, 2.5)\n",
    "plt.legend(['Yoke', 'Tooth', 'Winding'])\n",
    "plt.title('Metrics for Various Models')\n",
    "plt.show()"
   ]
  },
  {
   "cell_type": "markdown",
   "metadata": {},
   "source": [
    "### 5.4 AdaBoost Regressor"
   ]
  },
  {
   "cell_type": "markdown",
   "metadata": {},
   "source": [
    "5.4.1 Instantiating the model"
   ]
  },
  {
   "cell_type": "code",
   "execution_count": 100,
   "metadata": {},
   "outputs": [],
   "source": [
    "adb_yoke = AdaBoostRegressor()\n",
    "adb_tooth = AdaBoostRegressor()\n",
    "adb_winding = AdaBoostRegressor()"
   ]
  },
  {
   "cell_type": "markdown",
   "metadata": {},
   "source": [
    "5.4.2 Fitting a basic model"
   ]
  },
  {
   "cell_type": "code",
   "execution_count": 101,
   "metadata": {},
   "outputs": [
    {
     "name": "stdout",
     "output_type": "stream",
     "text": [
      "12 seconds\n"
     ]
    }
   ],
   "source": [
    "start_timer = time()\n",
    "adb_yoke.fit(X_train, yoke_train)\n",
    "adb_tooth.fit(X_train, tooth_train)\n",
    "adb_winding.fit(X_train, winding_train)\n",
    "stop_timer = time()\n",
    "print(str(int(stop_timer-start_timer)), 'seconds')"
   ]
  },
  {
   "cell_type": "markdown",
   "metadata": {},
   "source": [
    "5.4.3 Making predictions"
   ]
  },
  {
   "cell_type": "code",
   "execution_count": 102,
   "metadata": {},
   "outputs": [],
   "source": [
    "adb_yoke_pred = adb_yoke.predict(X_test)\n",
    "adb_tooth_pred = adb_tooth.predict(X_test)\n",
    "adb_winding_pred = adb_winding.predict(X_test)"
   ]
  },
  {
   "cell_type": "markdown",
   "metadata": {},
   "source": [
    "5.4.4 Evaluating predictions"
   ]
  },
  {
   "cell_type": "code",
   "execution_count": 103,
   "metadata": {
    "scrolled": true
   },
   "outputs": [
    {
     "data": {
      "text/plain": [
       "(0.18874579970533323, 0.24222200862440438, 0.26588630385561823)"
      ]
     },
     "execution_count": 103,
     "metadata": {},
     "output_type": "execute_result"
    }
   ],
   "source": [
    "mae_adb_yoke = mean_absolute_error(yoke_test, adb_yoke_pred)\n",
    "mae_adb_tooth = mean_absolute_error(tooth_test, adb_tooth_pred)\n",
    "mae_adb_winding = mean_absolute_error(winding_test, adb_winding_pred)\n",
    "mae_adb_yoke, mae_adb_tooth, mae_adb_winding"
   ]
  },
  {
   "cell_type": "markdown",
   "metadata": {},
   "source": [
    "5.4.5 Grid search"
   ]
  },
  {
   "cell_type": "code",
   "execution_count": 104,
   "metadata": {},
   "outputs": [],
   "source": [
    "yoke_grid = RandomizedSearchCV(adb_yoke, cv=3,\n",
    "            param_distributions=\n",
    "                        {'n_estimators': np.linspace(3, 50, 25, dtype=int),\n",
    "                         'learning_rate': np.linspace(1, 10, 20, dtype=int)},\n",
    "                         n_jobs=-1, n_iter=50)\n",
    "tooth_grid = RandomizedSearchCV(adb_tooth, cv=5,\n",
    "            param_distributions=\n",
    "                        {'n_estimators': np.linspace(3, 50, 25, dtype=int),\n",
    "                         'learning_rate': np.linspace(1, 10, 20, dtype=int)},\n",
    "                         n_jobs=-1, n_iter=50)\n",
    "winding_grid = RandomizedSearchCV(adb_winding, cv=5,\n",
    "            param_distributions=\n",
    "                        {'n_estimators': np.linspace(3, 50, 25, dtype=int),\n",
    "                         'learning_rate': np.linspace(1, 10, 20, dtype=int)},\n",
    "                         n_jobs=-1, n_iter=50)"
   ]
  },
  {
   "cell_type": "code",
   "execution_count": 105,
   "metadata": {
    "scrolled": true
   },
   "outputs": [
    {
     "name": "stdout",
     "output_type": "stream",
     "text": [
      "4 minutes\n"
     ]
    }
   ],
   "source": [
    "start_timer = time()\n",
    "yoke_grid.fit(X_train, yoke_train)\n",
    "tooth_grid.fit(X_train, tooth_train)\n",
    "winding_grid.fit(X_train, winding_train)\n",
    "stop_timer = time()\n",
    "print(str(int((stop_timer-start_timer)/60)), 'minutes')\n",
    "alert()"
   ]
  },
  {
   "cell_type": "code",
   "execution_count": 106,
   "metadata": {},
   "outputs": [],
   "source": [
    "ada_yoke_pred_cv = yoke_grid.best_estimator_.predict(X_test)\n",
    "ada_tooth_pred_cv = tooth_grid.best_estimator_.predict(X_test)\n",
    "ada_winding_pred_cv = winding_grid.best_estimator_.predict(X_test)"
   ]
  },
  {
   "cell_type": "code",
   "execution_count": 107,
   "metadata": {},
   "outputs": [
    {
     "data": {
      "text/plain": [
       "(0.17456673790353558, 0.210692645279599, 0.23982166735577723)"
      ]
     },
     "execution_count": 107,
     "metadata": {},
     "output_type": "execute_result"
    }
   ],
   "source": [
    "ada_yoke_pred_cv_mae = mean_absolute_error(yoke_test, ada_yoke_pred_cv)\n",
    "ada_tooth_pred_cv_mae = mean_absolute_error(tooth_test, ada_tooth_pred_cv)\n",
    "ada_winding_pred_cv_mae = mean_absolute_error(winding_test, ada_winding_pred_cv)\n",
    "ada_yoke_pred_cv_mae, ada_tooth_pred_cv_mae, ada_winding_pred_cv_mae"
   ]
  },
  {
   "cell_type": "markdown",
   "metadata": {},
   "source": [
    "5.4.6 Interpreting coefficients"
   ]
  },
  {
   "cell_type": "code",
   "execution_count": 108,
   "metadata": {
    "scrolled": true
   },
   "outputs": [
    {
     "data": {
      "text/html": [
       "<div>\n",
       "<style scoped>\n",
       "    .dataframe tbody tr th:only-of-type {\n",
       "        vertical-align: middle;\n",
       "    }\n",
       "\n",
       "    .dataframe tbody tr th {\n",
       "        vertical-align: top;\n",
       "    }\n",
       "\n",
       "    .dataframe thead th {\n",
       "        text-align: right;\n",
       "    }\n",
       "</style>\n",
       "<table border=\"1\" class=\"dataframe\">\n",
       "  <thead>\n",
       "    <tr style=\"text-align: right;\">\n",
       "      <th></th>\n",
       "      <th>ambient</th>\n",
       "      <th>coolant</th>\n",
       "      <th>u_d</th>\n",
       "      <th>u_q</th>\n",
       "      <th>motor_speed</th>\n",
       "      <th>torque</th>\n",
       "      <th>i_d</th>\n",
       "      <th>i_q</th>\n",
       "      <th>pm</th>\n",
       "    </tr>\n",
       "  </thead>\n",
       "  <tbody>\n",
       "    <tr>\n",
       "      <th>Yoke</th>\n",
       "      <td>0.000409</td>\n",
       "      <td>0.669342</td>\n",
       "      <td>0.016652</td>\n",
       "      <td>0.007577</td>\n",
       "      <td>0.003491</td>\n",
       "      <td>0.006325</td>\n",
       "      <td>0.019702</td>\n",
       "      <td>0.006661</td>\n",
       "      <td>0.269841</td>\n",
       "    </tr>\n",
       "    <tr>\n",
       "      <th>Tooth</th>\n",
       "      <td>0.000270</td>\n",
       "      <td>0.011678</td>\n",
       "      <td>0.037183</td>\n",
       "      <td>0.019931</td>\n",
       "      <td>0.015219</td>\n",
       "      <td>0.087017</td>\n",
       "      <td>0.001411</td>\n",
       "      <td>0.095883</td>\n",
       "      <td>0.731410</td>\n",
       "    </tr>\n",
       "    <tr>\n",
       "      <th>Winding</th>\n",
       "      <td>0.017744</td>\n",
       "      <td>0.000438</td>\n",
       "      <td>0.125032</td>\n",
       "      <td>0.012457</td>\n",
       "      <td>0.007002</td>\n",
       "      <td>0.048073</td>\n",
       "      <td>0.054685</td>\n",
       "      <td>0.024685</td>\n",
       "      <td>0.709884</td>\n",
       "    </tr>\n",
       "  </tbody>\n",
       "</table>\n",
       "</div>"
      ],
      "text/plain": [
       "          ambient   coolant       u_d       u_q  motor_speed    torque  \\\n",
       "Yoke     0.000409  0.669342  0.016652  0.007577     0.003491  0.006325   \n",
       "Tooth    0.000270  0.011678  0.037183  0.019931     0.015219  0.087017   \n",
       "Winding  0.017744  0.000438  0.125032  0.012457     0.007002  0.048073   \n",
       "\n",
       "              i_d       i_q        pm  \n",
       "Yoke     0.019702  0.006661  0.269841  \n",
       "Tooth    0.001411  0.095883  0.731410  \n",
       "Winding  0.054685  0.024685  0.709884  "
      ]
     },
     "execution_count": 108,
     "metadata": {},
     "output_type": "execute_result"
    }
   ],
   "source": [
    "pd.DataFrame([tree_yoke.feature_importances_, tree_tooth.feature_importances_, \n",
    "              tree_winding.feature_importances_], index=['Yoke', 'Tooth', 'Winding'], \n",
    "              columns=df.drop(['yoke', 'tooth', 'winding'], \n",
    "             axis=1).columns.values)"
   ]
  },
  {
   "cell_type": "markdown",
   "metadata": {},
   "source": [
    "5.4.7 Making a metrics dataframe"
   ]
  },
  {
   "cell_type": "code",
   "execution_count": 109,
   "metadata": {},
   "outputs": [
    {
     "data": {
      "text/html": [
       "<div>\n",
       "<style scoped>\n",
       "    .dataframe tbody tr th:only-of-type {\n",
       "        vertical-align: middle;\n",
       "    }\n",
       "\n",
       "    .dataframe tbody tr th {\n",
       "        vertical-align: top;\n",
       "    }\n",
       "\n",
       "    .dataframe thead th {\n",
       "        text-align: right;\n",
       "    }\n",
       "</style>\n",
       "<table border=\"1\" class=\"dataframe\">\n",
       "  <thead>\n",
       "    <tr style=\"text-align: right;\">\n",
       "      <th></th>\n",
       "      <th>MAE Yoke</th>\n",
       "      <th>MAE Tooth</th>\n",
       "      <th>MAE Winding</th>\n",
       "    </tr>\n",
       "  </thead>\n",
       "  <tbody>\n",
       "    <tr>\n",
       "      <th>Lin. Reg.</th>\n",
       "      <td>0.130515</td>\n",
       "      <td>0.174454</td>\n",
       "      <td>0.194115</td>\n",
       "    </tr>\n",
       "    <tr>\n",
       "      <th>Decision Tree</th>\n",
       "      <td>0.001676</td>\n",
       "      <td>0.002238</td>\n",
       "      <td>0.002940</td>\n",
       "    </tr>\n",
       "    <tr>\n",
       "      <th>Neural Net</th>\n",
       "      <td>0.024188</td>\n",
       "      <td>0.038797</td>\n",
       "      <td>0.046081</td>\n",
       "    </tr>\n",
       "    <tr>\n",
       "      <th>AdaBoost</th>\n",
       "      <td>0.174567</td>\n",
       "      <td>0.210693</td>\n",
       "      <td>0.239822</td>\n",
       "    </tr>\n",
       "  </tbody>\n",
       "</table>\n",
       "</div>"
      ],
      "text/plain": [
       "               MAE Yoke  MAE Tooth  MAE Winding\n",
       "Lin. Reg.      0.130515   0.174454     0.194115\n",
       "Decision Tree  0.001676   0.002238     0.002940\n",
       "Neural Net     0.024188   0.038797     0.046081\n",
       "AdaBoost       0.174567   0.210693     0.239822"
      ]
     },
     "execution_count": 109,
     "metadata": {},
     "output_type": "execute_result"
    }
   ],
   "source": [
    "metrics_ada = pd.DataFrame([ada_yoke_pred_cv_mae, ada_tooth_pred_cv_mae, \n",
    "                            ada_winding_pred_cv_mae], columns=['AdaBoost'], \n",
    "                            index=['MAE Yoke', 'MAE Tooth', 'MAE Winding']).T\n",
    "\n",
    "metrics = pd.concat([metrics, metrics_ada], axis=0, sort=False)\n",
    "metrics"
   ]
  },
  {
   "cell_type": "markdown",
   "metadata": {},
   "source": [
    "5.4.8 Plotting the metrics"
   ]
  },
  {
   "cell_type": "code",
   "execution_count": 112,
   "metadata": {
    "scrolled": false
   },
   "outputs": [
    {
     "data": {
      "image/png": "[encoded data removed]",
      "text/plain": [
       "<Figure size 576x360 with 1 Axes>"
      ]
     },
     "metadata": {
      "needs_background": "light"
     },
     "output_type": "display_data"
    }
   ],
   "source": [
    "fig, ax = plt.subplots(figsize=(8, 5))\n",
    "set_theme()\n",
    "\n",
    "ax.bar(metrics.index[:], metrics.iloc[:, 1].values, color='orange', \n",
    "       edgecolor='k', linewidth=1, width=-0.2, align='edge', \n",
    "       alpha=1)\n",
    "\n",
    "ax.bar(metrics.index[:], metrics.iloc[:, 0].values, color='green', \n",
    "       edgecolor='k', linewidth=1, width=0.2, align='edge', \n",
    "       alpha=1)\n",
    "\n",
    "ax.bar(metrics.index[:], metrics.iloc[:, 2].values, color='yellow', \n",
    "       edgecolor='k', linewidth=1, width=.2, alpha=1)\n",
    "\n",
    "plt.xlim(-.5, 3.5)\n",
    "plt.legend(['Yoke', 'Tooth', 'Winding'])\n",
    "plt.title('MAE for Various Models')\n",
    "plt.show()"
   ]
  },
  {
   "cell_type": "markdown",
   "metadata": {},
   "source": [
    "### 5.5 Extra Tree Regressor"
   ]
  },
  {
   "cell_type": "markdown",
   "metadata": {},
   "source": [
    "5.5.1 Instantiating the model"
   ]
  },
  {
   "cell_type": "code",
   "execution_count": 113,
   "metadata": {},
   "outputs": [],
   "source": [
    "ext_yoke = ExtraTreeRegressor()\n",
    "ext_tooth = ExtraTreeRegressor()\n",
    "ext_winding = ExtraTreeRegressor()"
   ]
  },
  {
   "cell_type": "markdown",
   "metadata": {},
   "source": [
    "5.5.2 Fitting a basic model"
   ]
  },
  {
   "cell_type": "code",
   "execution_count": 114,
   "metadata": {},
   "outputs": [
    {
     "name": "stdout",
     "output_type": "stream",
     "text": [
      "0 seconds\n"
     ]
    }
   ],
   "source": [
    "start_timer = time()\n",
    "ext_yoke.fit(X_train, yoke_train)\n",
    "ext_tooth.fit(X_train, tooth_train)\n",
    "ext_winding.fit(X_train, winding_train)\n",
    "stop_timer = time()\n",
    "print(str(int(stop_timer-start_timer)), 'seconds')"
   ]
  },
  {
   "cell_type": "markdown",
   "metadata": {},
   "source": [
    "5.5.3 Making predictions"
   ]
  },
  {
   "cell_type": "code",
   "execution_count": 115,
   "metadata": {},
   "outputs": [],
   "source": [
    "ext_yoke_pred = ext_yoke.predict(X_test)\n",
    "ext_tooth_pred = ext_tooth.predict(X_test)\n",
    "ext_winding_pred = ext_winding.predict(X_test)"
   ]
  },
  {
   "cell_type": "markdown",
   "metadata": {},
   "source": [
    "5.5.4 Evaluating predictions"
   ]
  },
  {
   "cell_type": "code",
   "execution_count": 116,
   "metadata": {
    "scrolled": true
   },
   "outputs": [
    {
     "data": {
      "text/plain": [
       "(0.002083347747695101, 0.0033293946791861507, 0.003664773641035985)"
      ]
     },
     "execution_count": 116,
     "metadata": {},
     "output_type": "execute_result"
    }
   ],
   "source": [
    "mae_ext_yoke = mean_absolute_error(yoke_test, ext_yoke_pred)\n",
    "mae_ext_tooth = mean_absolute_error(tooth_test, ext_tooth_pred)\n",
    "mae_ext_winding = mean_absolute_error(winding_test, ext_winding_pred)\n",
    "mae_ext_yoke, mae_ext_tooth, mae_ext_winding"
   ]
  },
  {
   "cell_type": "markdown",
   "metadata": {},
   "source": [
    "5.5.5 Grid search"
   ]
  },
  {
   "cell_type": "code",
   "execution_count": 117,
   "metadata": {},
   "outputs": [],
   "source": [
    "yoke_grid = RandomizedSearchCV(ext_yoke, cv=3,\n",
    "            param_distributions=\n",
    "                        {'max_depth': np.linspace(3, 100, 25, dtype=int),\n",
    "                         'min_samples_leaf': np.linspace(1, 100, 50, dtype=int)},\n",
    "                         n_jobs=-1, n_iter=1_00)\n",
    "tooth_grid = RandomizedSearchCV(ext_tooth, cv=5,\n",
    "            param_distributions=\n",
    "                        {'max_depth': np.linspace(3, 100, 25, dtype=int),\n",
    "                         'min_samples_leaf': np.linspace(1, 100, 50, dtype=int)},\n",
    "                         n_jobs=-1, n_iter=1_00)\n",
    "winding_grid = RandomizedSearchCV(ext_winding, cv=5,\n",
    "            param_distributions=\n",
    "                        {'max_depth': np.linspace(3, 100, 25, dtype=int),\n",
    "                         'min_samples_leaf': np.linspace(1, 100, 50, dtype=int)},\n",
    "                         n_jobs=-1, n_iter=1_00)"
   ]
  },
  {
   "cell_type": "code",
   "execution_count": 118,
   "metadata": {
    "scrolled": true
   },
   "outputs": [
    {
     "name": "stdout",
     "output_type": "stream",
     "text": [
      "21 seconds\n"
     ]
    }
   ],
   "source": [
    "start_timer = time()\n",
    "yoke_grid.fit(X_train, yoke_train)\n",
    "tooth_grid.fit(X_train, tooth_train)\n",
    "winding_grid.fit(X_train, winding_train)\n",
    "stop_timer = time()\n",
    "print(str(int(stop_timer-start_timer)), 'seconds')"
   ]
  },
  {
   "cell_type": "code",
   "execution_count": 119,
   "metadata": {},
   "outputs": [],
   "source": [
    "ext_yoke_pred_cv = yoke_grid.best_estimator_.predict(X_test)\n",
    "ext_tooth_pred_cv = tooth_grid.best_estimator_.predict(X_test)\n",
    "ext_winding_pred_cv = winding_grid.best_estimator_.predict(X_test)"
   ]
  },
  {
   "cell_type": "code",
   "execution_count": 120,
   "metadata": {},
   "outputs": [
    {
     "data": {
      "text/plain": [
       "(0.00364949673226968, 0.0025155882278224254, 0.014629122864923584)"
      ]
     },
     "execution_count": 120,
     "metadata": {},
     "output_type": "execute_result"
    }
   ],
   "source": [
    "ext_yoke_pred_cv_mae = mean_absolute_error(yoke_test, ext_yoke_pred_cv)\n",
    "ext_tooth_pred_cv_mae = mean_absolute_error(tooth_test, ext_tooth_pred_cv)\n",
    "ext_winding_pred_cv_mae = mean_absolute_error(winding_test, ext_winding_pred_cv)\n",
    "ext_yoke_pred_cv_mae, ext_tooth_pred_cv_mae, ext_winding_pred_cv_mae"
   ]
  },
  {
   "cell_type": "markdown",
   "metadata": {},
   "source": [
    "5.5.6 Interpreting coefficients"
   ]
  },
  {
   "cell_type": "code",
   "execution_count": 121,
   "metadata": {
    "scrolled": true
   },
   "outputs": [
    {
     "data": {
      "text/html": [
       "<div>\n",
       "<style scoped>\n",
       "    .dataframe tbody tr th:only-of-type {\n",
       "        vertical-align: middle;\n",
       "    }\n",
       "\n",
       "    .dataframe tbody tr th {\n",
       "        vertical-align: top;\n",
       "    }\n",
       "\n",
       "    .dataframe thead th {\n",
       "        text-align: right;\n",
       "    }\n",
       "</style>\n",
       "<table border=\"1\" class=\"dataframe\">\n",
       "  <thead>\n",
       "    <tr style=\"text-align: right;\">\n",
       "      <th></th>\n",
       "      <th>ambient</th>\n",
       "      <th>coolant</th>\n",
       "      <th>u_d</th>\n",
       "      <th>u_q</th>\n",
       "      <th>motor_speed</th>\n",
       "      <th>torque</th>\n",
       "      <th>i_d</th>\n",
       "      <th>i_q</th>\n",
       "      <th>pm</th>\n",
       "    </tr>\n",
       "  </thead>\n",
       "  <tbody>\n",
       "    <tr>\n",
       "      <th>Yoke</th>\n",
       "      <td>0.000409</td>\n",
       "      <td>0.669342</td>\n",
       "      <td>0.016652</td>\n",
       "      <td>0.007577</td>\n",
       "      <td>0.003491</td>\n",
       "      <td>0.006325</td>\n",
       "      <td>0.019702</td>\n",
       "      <td>0.006661</td>\n",
       "      <td>0.269841</td>\n",
       "    </tr>\n",
       "    <tr>\n",
       "      <th>Tooth</th>\n",
       "      <td>0.000270</td>\n",
       "      <td>0.011678</td>\n",
       "      <td>0.037183</td>\n",
       "      <td>0.019931</td>\n",
       "      <td>0.015219</td>\n",
       "      <td>0.087017</td>\n",
       "      <td>0.001411</td>\n",
       "      <td>0.095883</td>\n",
       "      <td>0.731410</td>\n",
       "    </tr>\n",
       "    <tr>\n",
       "      <th>Winding</th>\n",
       "      <td>0.017744</td>\n",
       "      <td>0.000438</td>\n",
       "      <td>0.125032</td>\n",
       "      <td>0.012457</td>\n",
       "      <td>0.007002</td>\n",
       "      <td>0.048073</td>\n",
       "      <td>0.054685</td>\n",
       "      <td>0.024685</td>\n",
       "      <td>0.709884</td>\n",
       "    </tr>\n",
       "  </tbody>\n",
       "</table>\n",
       "</div>"
      ],
      "text/plain": [
       "          ambient   coolant       u_d       u_q  motor_speed    torque  \\\n",
       "Yoke     0.000409  0.669342  0.016652  0.007577     0.003491  0.006325   \n",
       "Tooth    0.000270  0.011678  0.037183  0.019931     0.015219  0.087017   \n",
       "Winding  0.017744  0.000438  0.125032  0.012457     0.007002  0.048073   \n",
       "\n",
       "              i_d       i_q        pm  \n",
       "Yoke     0.019702  0.006661  0.269841  \n",
       "Tooth    0.001411  0.095883  0.731410  \n",
       "Winding  0.054685  0.024685  0.709884  "
      ]
     },
     "execution_count": 121,
     "metadata": {},
     "output_type": "execute_result"
    }
   ],
   "source": [
    "pd.DataFrame([tree_yoke.feature_importances_, tree_tooth.feature_importances_, \n",
    "              tree_winding.feature_importances_], index=['Yoke', 'Tooth', 'Winding'], \n",
    "              columns=df.drop(['yoke', 'tooth', 'winding'], \n",
    "             axis=1).columns.values)"
   ]
  },
  {
   "cell_type": "markdown",
   "metadata": {},
   "source": [
    "5.5.7 Making a metrics dataframe"
   ]
  },
  {
   "cell_type": "code",
   "execution_count": 122,
   "metadata": {},
   "outputs": [
    {
     "data": {
      "text/html": [
       "<div>\n",
       "<style scoped>\n",
       "    .dataframe tbody tr th:only-of-type {\n",
       "        vertical-align: middle;\n",
       "    }\n",
       "\n",
       "    .dataframe tbody tr th {\n",
       "        vertical-align: top;\n",
       "    }\n",
       "\n",
       "    .dataframe thead th {\n",
       "        text-align: right;\n",
       "    }\n",
       "</style>\n",
       "<table border=\"1\" class=\"dataframe\">\n",
       "  <thead>\n",
       "    <tr style=\"text-align: right;\">\n",
       "      <th></th>\n",
       "      <th>MAE Yoke</th>\n",
       "      <th>MAE Tooth</th>\n",
       "      <th>MAE Winding</th>\n",
       "    </tr>\n",
       "  </thead>\n",
       "  <tbody>\n",
       "    <tr>\n",
       "      <th>Lin. Reg.</th>\n",
       "      <td>0.130515</td>\n",
       "      <td>0.174454</td>\n",
       "      <td>0.194115</td>\n",
       "    </tr>\n",
       "    <tr>\n",
       "      <th>Decision Tree</th>\n",
       "      <td>0.001676</td>\n",
       "      <td>0.002238</td>\n",
       "      <td>0.002940</td>\n",
       "    </tr>\n",
       "    <tr>\n",
       "      <th>Neural Net</th>\n",
       "      <td>0.024188</td>\n",
       "      <td>0.038797</td>\n",
       "      <td>0.046081</td>\n",
       "    </tr>\n",
       "    <tr>\n",
       "      <th>AdaBoost</th>\n",
       "      <td>0.174567</td>\n",
       "      <td>0.210693</td>\n",
       "      <td>0.239822</td>\n",
       "    </tr>\n",
       "    <tr>\n",
       "      <th>Extra Trees</th>\n",
       "      <td>0.002083</td>\n",
       "      <td>0.003329</td>\n",
       "      <td>0.003665</td>\n",
       "    </tr>\n",
       "  </tbody>\n",
       "</table>\n",
       "</div>"
      ],
      "text/plain": [
       "               MAE Yoke  MAE Tooth  MAE Winding\n",
       "Lin. Reg.      0.130515   0.174454     0.194115\n",
       "Decision Tree  0.001676   0.002238     0.002940\n",
       "Neural Net     0.024188   0.038797     0.046081\n",
       "AdaBoost       0.174567   0.210693     0.239822\n",
       "Extra Trees    0.002083   0.003329     0.003665"
      ]
     },
     "execution_count": 122,
     "metadata": {},
     "output_type": "execute_result"
    }
   ],
   "source": [
    "metrics_ext = pd.DataFrame([mae_ext_yoke, mae_ext_tooth, \n",
    "                            mae_ext_winding], columns=['Extra Trees'], \n",
    "                            index=['MAE Yoke', 'MAE Tooth', 'MAE Winding']).T\n",
    "\n",
    "metrics = pd.concat([metrics, metrics_ext], axis=0, sort=False)\n",
    "metrics"
   ]
  },
  {
   "cell_type": "markdown",
   "metadata": {},
   "source": [
    "5.5.8 Plotting the metrics"
   ]
  },
  {
   "cell_type": "code",
   "execution_count": 126,
   "metadata": {
    "scrolled": false
   },
   "outputs": [
    {
     "data": {
      "image/png": "[encoded data removed]",
      "text/plain": [
       "<Figure size 576x360 with 1 Axes>"
      ]
     },
     "metadata": {
      "needs_background": "light"
     },
     "output_type": "display_data"
    }
   ],
   "source": [
    "fig, ax = plt.subplots(figsize=(8, 5))\n",
    "set_theme()\n",
    "\n",
    "ax.bar(metrics.index[[1, 2, 4]], metrics.iloc[[1, 2, 4], 1].values, color='orange', \n",
    "       edgecolor='k', linewidth=1, width=-0.2, align='edge', \n",
    "       alpha=1)\n",
    "\n",
    "ax.bar(metrics.index[[1, 2, 4]], metrics.iloc[[1, 2, 4], 0].values, color='green', \n",
    "       edgecolor='k', linewidth=1, width=0.2, align='edge', \n",
    "       alpha=1)\n",
    "\n",
    "ax.bar(metrics.index[[1, 2, 4]], metrics.iloc[[1, 2, 4], 2].values, color='yellow', \n",
    "       edgecolor='k', linewidth=1, width=.2, alpha=1)\n",
    "\n",
    "plt.xlim(-.5, 2.5)\n",
    "plt.legend(['Yoke', 'Tooth', 'Winding'])\n",
    "plt.title('MAE for Various Models')\n",
    "plt.show()"
   ]
  },
  {
   "cell_type": "markdown",
   "metadata": {},
   "source": [
    "### 5.6 Random Forest Regressor"
   ]
  },
  {
   "cell_type": "markdown",
   "metadata": {},
   "source": [
    "5.6.1 Instantiating the model"
   ]
  },
  {
   "cell_type": "code",
   "execution_count": 127,
   "metadata": {},
   "outputs": [],
   "source": [
    "rf_yoke = RandomForestRegressor(n_estimators=100, min_samples_leaf=10)\n",
    "rf_tooth = RandomForestRegressor(n_estimators=100, min_samples_leaf=10)\n",
    "rf_winding = RandomForestRegressor(n_estimators=100, min_samples_leaf=10)"
   ]
  },
  {
   "cell_type": "markdown",
   "metadata": {},
   "source": [
    "5.6.2 Fitting a basic model"
   ]
  },
  {
   "cell_type": "code",
   "execution_count": 128,
   "metadata": {},
   "outputs": [
    {
     "name": "stdout",
     "output_type": "stream",
     "text": [
      "71 seconds\n"
     ]
    }
   ],
   "source": [
    "start_timer = time()\n",
    "rf_yoke.fit(X_train, yoke_train)\n",
    "rf_tooth.fit(X_train, tooth_train)\n",
    "rf_winding.fit(X_train, winding_train)\n",
    "stop_timer = time()\n",
    "print(str(int(stop_timer-start_timer)), 'seconds')\n",
    "alert()"
   ]
  },
  {
   "cell_type": "markdown",
   "metadata": {},
   "source": [
    "5.6.3 Making predictions"
   ]
  },
  {
   "cell_type": "code",
   "execution_count": 129,
   "metadata": {},
   "outputs": [],
   "source": [
    "rf_yoke_pred = rf_yoke.predict(X_test)\n",
    "rf_tooth_pred = rf_tooth.predict(X_test)\n",
    "rf_winding_pred = rf_winding.predict(X_test)"
   ]
  },
  {
   "cell_type": "markdown",
   "metadata": {},
   "source": [
    "5.5.4 Evaluating predictions"
   ]
  },
  {
   "cell_type": "code",
   "execution_count": 130,
   "metadata": {
    "scrolled": true
   },
   "outputs": [
    {
     "data": {
      "text/plain": [
       "(0.0026076813916418484, 0.00370135569189068, 0.004498487374014646)"
      ]
     },
     "execution_count": 130,
     "metadata": {},
     "output_type": "execute_result"
    }
   ],
   "source": [
    "mae_rf_yoke = mean_absolute_error(yoke_test, rf_yoke_pred)\n",
    "mae_rf_tooth = mean_absolute_error(tooth_test, rf_tooth_pred)\n",
    "mae_rf_winding = mean_absolute_error(winding_test, rf_winding_pred)\n",
    "mae_rf_yoke, mae_rf_tooth, mae_rf_winding"
   ]
  },
  {
   "cell_type": "markdown",
   "metadata": {},
   "source": [
    "5.5.5 Interpreting coefficients"
   ]
  },
  {
   "cell_type": "code",
   "execution_count": 131,
   "metadata": {
    "scrolled": true
   },
   "outputs": [
    {
     "data": {
      "text/html": [
       "<div>\n",
       "<style scoped>\n",
       "    .dataframe tbody tr th:only-of-type {\n",
       "        vertical-align: middle;\n",
       "    }\n",
       "\n",
       "    .dataframe tbody tr th {\n",
       "        vertical-align: top;\n",
       "    }\n",
       "\n",
       "    .dataframe thead th {\n",
       "        text-align: right;\n",
       "    }\n",
       "</style>\n",
       "<table border=\"1\" class=\"dataframe\">\n",
       "  <thead>\n",
       "    <tr style=\"text-align: right;\">\n",
       "      <th></th>\n",
       "      <th>ambient</th>\n",
       "      <th>coolant</th>\n",
       "      <th>u_d</th>\n",
       "      <th>u_q</th>\n",
       "      <th>motor_speed</th>\n",
       "      <th>torque</th>\n",
       "      <th>i_d</th>\n",
       "      <th>i_q</th>\n",
       "      <th>pm</th>\n",
       "    </tr>\n",
       "  </thead>\n",
       "  <tbody>\n",
       "    <tr>\n",
       "      <th>Yoke</th>\n",
       "      <td>0.000409</td>\n",
       "      <td>0.669342</td>\n",
       "      <td>0.016652</td>\n",
       "      <td>0.007577</td>\n",
       "      <td>0.003491</td>\n",
       "      <td>0.006325</td>\n",
       "      <td>0.019702</td>\n",
       "      <td>0.006661</td>\n",
       "      <td>0.269841</td>\n",
       "    </tr>\n",
       "    <tr>\n",
       "      <th>Tooth</th>\n",
       "      <td>0.000270</td>\n",
       "      <td>0.011678</td>\n",
       "      <td>0.037183</td>\n",
       "      <td>0.019931</td>\n",
       "      <td>0.015219</td>\n",
       "      <td>0.087017</td>\n",
       "      <td>0.001411</td>\n",
       "      <td>0.095883</td>\n",
       "      <td>0.731410</td>\n",
       "    </tr>\n",
       "    <tr>\n",
       "      <th>Winding</th>\n",
       "      <td>0.017744</td>\n",
       "      <td>0.000438</td>\n",
       "      <td>0.125032</td>\n",
       "      <td>0.012457</td>\n",
       "      <td>0.007002</td>\n",
       "      <td>0.048073</td>\n",
       "      <td>0.054685</td>\n",
       "      <td>0.024685</td>\n",
       "      <td>0.709884</td>\n",
       "    </tr>\n",
       "  </tbody>\n",
       "</table>\n",
       "</div>"
      ],
      "text/plain": [
       "          ambient   coolant       u_d       u_q  motor_speed    torque  \\\n",
       "Yoke     0.000409  0.669342  0.016652  0.007577     0.003491  0.006325   \n",
       "Tooth    0.000270  0.011678  0.037183  0.019931     0.015219  0.087017   \n",
       "Winding  0.017744  0.000438  0.125032  0.012457     0.007002  0.048073   \n",
       "\n",
       "              i_d       i_q        pm  \n",
       "Yoke     0.019702  0.006661  0.269841  \n",
       "Tooth    0.001411  0.095883  0.731410  \n",
       "Winding  0.054685  0.024685  0.709884  "
      ]
     },
     "execution_count": 131,
     "metadata": {},
     "output_type": "execute_result"
    }
   ],
   "source": [
    "pd.DataFrame([tree_yoke.feature_importances_, tree_tooth.feature_importances_, \n",
    "              tree_winding.feature_importances_], index=['Yoke', 'Tooth', 'Winding'], \n",
    "              columns=df.drop(['yoke', 'tooth', 'winding'], \n",
    "             axis=1).columns.values)"
   ]
  },
  {
   "cell_type": "markdown",
   "metadata": {},
   "source": [
    "5.5.6 Making a metrics dataframe"
   ]
  },
  {
   "cell_type": "code",
   "execution_count": 132,
   "metadata": {},
   "outputs": [
    {
     "data": {
      "text/html": [
       "<div>\n",
       "<style scoped>\n",
       "    .dataframe tbody tr th:only-of-type {\n",
       "        vertical-align: middle;\n",
       "    }\n",
       "\n",
       "    .dataframe tbody tr th {\n",
       "        vertical-align: top;\n",
       "    }\n",
       "\n",
       "    .dataframe thead th {\n",
       "        text-align: right;\n",
       "    }\n",
       "</style>\n",
       "<table border=\"1\" class=\"dataframe\">\n",
       "  <thead>\n",
       "    <tr style=\"text-align: right;\">\n",
       "      <th></th>\n",
       "      <th>MAE Yoke</th>\n",
       "      <th>MAE Tooth</th>\n",
       "      <th>MAE Winding</th>\n",
       "    </tr>\n",
       "  </thead>\n",
       "  <tbody>\n",
       "    <tr>\n",
       "      <th>Lin. Reg.</th>\n",
       "      <td>0.130515</td>\n",
       "      <td>0.174454</td>\n",
       "      <td>0.194115</td>\n",
       "    </tr>\n",
       "    <tr>\n",
       "      <th>Decision Tree</th>\n",
       "      <td>0.001676</td>\n",
       "      <td>0.002238</td>\n",
       "      <td>0.002940</td>\n",
       "    </tr>\n",
       "    <tr>\n",
       "      <th>Neural Net</th>\n",
       "      <td>0.024188</td>\n",
       "      <td>0.038797</td>\n",
       "      <td>0.046081</td>\n",
       "    </tr>\n",
       "    <tr>\n",
       "      <th>AdaBoost</th>\n",
       "      <td>0.174567</td>\n",
       "      <td>0.210693</td>\n",
       "      <td>0.239822</td>\n",
       "    </tr>\n",
       "    <tr>\n",
       "      <th>Extra Trees</th>\n",
       "      <td>0.002083</td>\n",
       "      <td>0.003329</td>\n",
       "      <td>0.003665</td>\n",
       "    </tr>\n",
       "    <tr>\n",
       "      <th>Random Forest</th>\n",
       "      <td>0.002608</td>\n",
       "      <td>0.003701</td>\n",
       "      <td>0.004498</td>\n",
       "    </tr>\n",
       "  </tbody>\n",
       "</table>\n",
       "</div>"
      ],
      "text/plain": [
       "               MAE Yoke  MAE Tooth  MAE Winding\n",
       "Lin. Reg.      0.130515   0.174454     0.194115\n",
       "Decision Tree  0.001676   0.002238     0.002940\n",
       "Neural Net     0.024188   0.038797     0.046081\n",
       "AdaBoost       0.174567   0.210693     0.239822\n",
       "Extra Trees    0.002083   0.003329     0.003665\n",
       "Random Forest  0.002608   0.003701     0.004498"
      ]
     },
     "execution_count": 132,
     "metadata": {},
     "output_type": "execute_result"
    }
   ],
   "source": [
    "metrics_rf = pd.DataFrame([mae_rf_yoke, mae_rf_tooth, \n",
    "                            mae_rf_winding], columns=['Random Forest'], \n",
    "                            index=['MAE Yoke', 'MAE Tooth', 'MAE Winding']).T\n",
    "\n",
    "metrics = pd.concat([metrics, metrics_rf], axis=0, sort=False)\n",
    "metrics"
   ]
  },
  {
   "cell_type": "markdown",
   "metadata": {},
   "source": [
    "5.5.7 Plotting the metrics"
   ]
  },
  {
   "cell_type": "code",
   "execution_count": 133,
   "metadata": {
    "scrolled": false
   },
   "outputs": [
    {
     "data": {
      "image/png": "[encoded data removed]",
      "text/plain": [
       "<Figure size 576x360 with 1 Axes>"
      ]
     },
     "metadata": {
      "needs_background": "light"
     },
     "output_type": "display_data"
    }
   ],
   "source": [
    "fig, ax = plt.subplots(figsize=(8, 5))\n",
    "set_theme()\n",
    "\n",
    "ax.bar(metrics.index[[1, 4, 5]], metrics.iloc[[1, 4, 5], 1].values, color='orange', \n",
    "       edgecolor='k', linewidth=1, width=-0.2, align='edge', \n",
    "       alpha=1)\n",
    "\n",
    "ax.bar(metrics.index[[1, 4, 5]], metrics.iloc[[1, 4, 5], 0].values, color='green', \n",
    "       edgecolor='k', linewidth=1, width=0.2, align='edge', \n",
    "       alpha=1)\n",
    "\n",
    "ax.bar(metrics.index[[1, 4, 5]], metrics.iloc[[1, 4, 5], 2].values, color='yellow', \n",
    "       edgecolor='k', linewidth=1, width=.2, alpha=1)\n",
    "\n",
    "plt.xlim(-1, 3)\n",
    "plt.legend(['Yoke', 'Tooth', 'Winding'])\n",
    "plt.title('MAE for Various Models')\n",
    "plt.show()"
   ]
  },
  {
   "cell_type": "markdown",
   "metadata": {},
   "source": [
    "### 5.7 Multi-Layer Perceptron Regressor"
   ]
  },
  {
   "cell_type": "markdown",
   "metadata": {},
   "source": [
    "5.7.1 Instantiating the model"
   ]
  },
  {
   "cell_type": "code",
   "execution_count": 134,
   "metadata": {},
   "outputs": [],
   "source": [
    "mlp_yoke = MLPRegressor(hidden_layer_sizes=(48, 96, 128), batch_size=128, \n",
    "                        verbose=True, alpha=.0001, early_stopping=True,\n",
    "                        validation_fraction=1e-1) \n",
    "mlp_tooth = MLPRegressor(hidden_layer_sizes=(48, 96, 128), batch_size=128, \n",
    "                         verbose=True, alpha=.0001, early_stopping=True,\n",
    "                        validation_fraction=1e-1)\n",
    "mlp_winding = MLPRegressor(hidden_layer_sizes=(48, 96, 128), batch_size=128, \n",
    "                           verbose=True, alpha=.0001, early_stopping=True,\n",
    "                        validation_fraction=1e-1)"
   ]
  },
  {
   "cell_type": "markdown",
   "metadata": {},
   "source": [
    "5.6.2 Fitting a basic model"
   ]
  },
  {
   "cell_type": "code",
   "execution_count": 135,
   "metadata": {
    "scrolled": false
   },
   "outputs": [
    {
     "name": "stdout",
     "output_type": "stream",
     "text": [
      "Iteration 1, loss = 0.02788637\n",
      "Validation score: 0.989422\n",
      "Iteration 2, loss = 0.00325410\n",
      "Validation score: 0.995491\n",
      "Iteration 3, loss = 0.00164304\n",
      "Validation score: 0.997401\n",
      "Iteration 4, loss = 0.00121233\n",
      "Validation score: 0.998181\n",
      "Iteration 5, loss = 0.00099881\n",
      "Validation score: 0.998299\n",
      "Iteration 6, loss = 0.00092035\n",
      "Validation score: 0.998149\n",
      "Iteration 7, loss = 0.00092285\n",
      "Validation score: 0.998765\n",
      "Iteration 8, loss = 0.00078745\n",
      "Validation score: 0.998677\n",
      "Iteration 9, loss = 0.00082725\n",
      "Validation score: 0.998812\n",
      "Iteration 10, loss = 0.00078450\n",
      "Validation score: 0.998515\n",
      "Validation score did not improve more than tol=0.000100 for two consecutive epochs. Stopping.\n",
      "Iteration 1, loss = 0.03498186\n",
      "Validation score: 0.980151\n",
      "Iteration 2, loss = 0.00904154\n",
      "Validation score: 0.986689\n",
      "Iteration 3, loss = 0.00477112\n",
      "Validation score: 0.993473\n",
      "Iteration 4, loss = 0.00333813\n",
      "Validation score: 0.995573\n",
      "Iteration 5, loss = 0.00265785\n",
      "Validation score: 0.995891\n",
      "Iteration 6, loss = 0.00239119\n",
      "Validation score: 0.995499\n",
      "Iteration 7, loss = 0.00196979\n",
      "Validation score: 0.996621\n",
      "Iteration 8, loss = 0.00204260\n",
      "Validation score: 0.995573\n",
      "Iteration 9, loss = 0.00205205\n",
      "Validation score: 0.997392\n",
      "Iteration 10, loss = 0.00167891\n",
      "Validation score: 0.993738\n",
      "Iteration 11, loss = 0.00180588\n",
      "Validation score: 0.997144\n",
      "Iteration 12, loss = 0.00180126\n",
      "Validation score: 0.996482\n",
      "Validation score did not improve more than tol=0.000100 for two consecutive epochs. Stopping.\n",
      "Iteration 1, loss = 0.04271577\n",
      "Validation score: 0.966950\n",
      "Iteration 2, loss = 0.01421957\n",
      "Validation score: 0.977919\n",
      "Iteration 3, loss = 0.00936396\n",
      "Validation score: 0.982708\n",
      "Iteration 4, loss = 0.00684069\n",
      "Validation score: 0.984907\n",
      "Iteration 5, loss = 0.00584530\n",
      "Validation score: 0.985763\n",
      "Iteration 6, loss = 0.00475605\n",
      "Validation score: 0.987542\n",
      "Iteration 7, loss = 0.00462822\n",
      "Validation score: 0.988612\n",
      "Iteration 8, loss = 0.00422924\n",
      "Validation score: 0.987735\n",
      "Iteration 9, loss = 0.00411386\n",
      "Validation score: 0.989651\n",
      "Iteration 10, loss = 0.00429204\n",
      "Validation score: 0.989704\n",
      "Iteration 11, loss = 0.00350330\n",
      "Validation score: 0.989241\n",
      "Iteration 12, loss = 0.00377648\n",
      "Validation score: 0.990410\n",
      "Iteration 13, loss = 0.00374866\n",
      "Validation score: 0.990734\n",
      "Iteration 14, loss = 0.00364126\n",
      "Validation score: 0.989963\n",
      "Iteration 15, loss = 0.00351205\n",
      "Validation score: 0.991189\n",
      "Iteration 16, loss = 0.00327664\n",
      "Validation score: 0.990564\n",
      "Iteration 17, loss = 0.00356484\n",
      "Validation score: 0.990721\n",
      "Iteration 18, loss = 0.00335444\n",
      "Validation score: 0.991237\n",
      "Validation score did not improve more than tol=0.000100 for two consecutive epochs. Stopping.\n",
      "21 seconds\n"
     ]
    }
   ],
   "source": [
    "start_timer = time()\n",
    "mlp_yoke.fit(X_train, yoke_train)\n",
    "mlp_tooth.fit(X_train, tooth_train)\n",
    "mlp_winding.fit(X_train, winding_train)\n",
    "stop_timer = time()\n",
    "print(str(int(stop_timer-start_timer)), 'seconds')\n",
    "alert()"
   ]
  },
  {
   "cell_type": "markdown",
   "metadata": {},
   "source": [
    "5.6.3 Making predictions"
   ]
  },
  {
   "cell_type": "code",
   "execution_count": 136,
   "metadata": {},
   "outputs": [],
   "source": [
    "mlp_yoke_pred = mlp_yoke.predict(X_test)\n",
    "mlp_tooth_pred = mlp_tooth.predict(X_test)\n",
    "mlp_winding_pred = mlp_winding.predict(X_test)"
   ]
  },
  {
   "cell_type": "markdown",
   "metadata": {},
   "source": [
    "5.5.4 Evaluating predictions"
   ]
  },
  {
   "cell_type": "code",
   "execution_count": 137,
   "metadata": {
    "scrolled": true
   },
   "outputs": [
    {
     "data": {
      "text/plain": [
       "(0.019477105943019008, 0.027979039865052912, 0.02367108535582188)"
      ]
     },
     "execution_count": 137,
     "metadata": {},
     "output_type": "execute_result"
    }
   ],
   "source": [
    "mae_mlp_yoke = mean_absolute_error(yoke_test, mlp_yoke_pred)\n",
    "mae_mlp_tooth = mean_absolute_error(tooth_test, mlp_tooth_pred)\n",
    "mae_mlp_winding = mean_absolute_error(winding_test, mlp_winding_pred)\n",
    "mae_mlp_yoke, mae_mlp_tooth, mae_mlp_winding"
   ]
  },
  {
   "cell_type": "markdown",
   "metadata": {},
   "source": [
    "5.5.6 Making a metrics dataframe"
   ]
  },
  {
   "cell_type": "code",
   "execution_count": 138,
   "metadata": {
    "scrolled": true
   },
   "outputs": [
    {
     "data": {
      "text/html": [
       "<div>\n",
       "<style scoped>\n",
       "    .dataframe tbody tr th:only-of-type {\n",
       "        vertical-align: middle;\n",
       "    }\n",
       "\n",
       "    .dataframe tbody tr th {\n",
       "        vertical-align: top;\n",
       "    }\n",
       "\n",
       "    .dataframe thead th {\n",
       "        text-align: right;\n",
       "    }\n",
       "</style>\n",
       "<table border=\"1\" class=\"dataframe\">\n",
       "  <thead>\n",
       "    <tr style=\"text-align: right;\">\n",
       "      <th></th>\n",
       "      <th>MAE Yoke</th>\n",
       "      <th>MAE Tooth</th>\n",
       "      <th>MAE Winding</th>\n",
       "    </tr>\n",
       "  </thead>\n",
       "  <tbody>\n",
       "    <tr>\n",
       "      <th>Lin. Reg.</th>\n",
       "      <td>0.130515</td>\n",
       "      <td>0.174454</td>\n",
       "      <td>0.194115</td>\n",
       "    </tr>\n",
       "    <tr>\n",
       "      <th>Decision Tree</th>\n",
       "      <td>0.001676</td>\n",
       "      <td>0.002238</td>\n",
       "      <td>0.002940</td>\n",
       "    </tr>\n",
       "    <tr>\n",
       "      <th>Neural Net</th>\n",
       "      <td>0.024188</td>\n",
       "      <td>0.038797</td>\n",
       "      <td>0.046081</td>\n",
       "    </tr>\n",
       "    <tr>\n",
       "      <th>AdaBoost</th>\n",
       "      <td>0.174567</td>\n",
       "      <td>0.210693</td>\n",
       "      <td>0.239822</td>\n",
       "    </tr>\n",
       "    <tr>\n",
       "      <th>Extra Trees</th>\n",
       "      <td>0.002083</td>\n",
       "      <td>0.003329</td>\n",
       "      <td>0.003665</td>\n",
       "    </tr>\n",
       "    <tr>\n",
       "      <th>Random Forest</th>\n",
       "      <td>0.002608</td>\n",
       "      <td>0.003701</td>\n",
       "      <td>0.004498</td>\n",
       "    </tr>\n",
       "    <tr>\n",
       "      <th>Perceptron</th>\n",
       "      <td>0.019477</td>\n",
       "      <td>0.027979</td>\n",
       "      <td>0.023671</td>\n",
       "    </tr>\n",
       "  </tbody>\n",
       "</table>\n",
       "</div>"
      ],
      "text/plain": [
       "               MAE Yoke  MAE Tooth  MAE Winding\n",
       "Lin. Reg.      0.130515   0.174454     0.194115\n",
       "Decision Tree  0.001676   0.002238     0.002940\n",
       "Neural Net     0.024188   0.038797     0.046081\n",
       "AdaBoost       0.174567   0.210693     0.239822\n",
       "Extra Trees    0.002083   0.003329     0.003665\n",
       "Random Forest  0.002608   0.003701     0.004498\n",
       "Perceptron     0.019477   0.027979     0.023671"
      ]
     },
     "execution_count": 138,
     "metadata": {},
     "output_type": "execute_result"
    }
   ],
   "source": [
    "metrics_mlp = pd.DataFrame([mae_mlp_yoke, mae_mlp_tooth, \n",
    "                            mae_mlp_winding], columns=['Perceptron'], \n",
    "                            index=['MAE Yoke', 'MAE Tooth', 'MAE Winding']).T\n",
    "\n",
    "metrics = pd.concat([metrics, metrics_mlp], axis=0, sort=False)\n",
    "metrics"
   ]
  },
  {
   "cell_type": "markdown",
   "metadata": {},
   "source": [
    "5.5.7 Plotting the metrics"
   ]
  },
  {
   "cell_type": "code",
   "execution_count": 139,
   "metadata": {
    "scrolled": false
   },
   "outputs": [
    {
     "data": {
      "image/png": "[encoded data removed]",
      "text/plain": [
       "<Figure size 576x360 with 1 Axes>"
      ]
     },
     "metadata": {
      "needs_background": "light"
     },
     "output_type": "display_data"
    }
   ],
   "source": [
    "fig, ax = plt.subplots(figsize=(8, 5))\n",
    "set_theme()\n",
    "\n",
    "ax.bar(metrics.index[[1, 4, 5, 6]], metrics.iloc[[1, 4, 5, 6], 1].values, color='orange', \n",
    "       edgecolor='k', linewidth=1, width=-0.2, align='edge', \n",
    "       alpha=1)\n",
    "\n",
    "ax.bar(metrics.index[[1, 4, 5, 6]], metrics.iloc[[1, 4, 5, 6], 0].values, color='green', \n",
    "       edgecolor='k', linewidth=1, width=0.2, align='edge', \n",
    "       alpha=1)\n",
    "\n",
    "ax.bar(metrics.index[[1, 4, 5, 6]], metrics.iloc[[1, 4, 5, 6], 2].values, color='yellow', \n",
    "       edgecolor='k', linewidth=1, width=.2, alpha=1)\n",
    "\n",
    "plt.xlim(-.5, 3.5)\n",
    "plt.legend(['Yoke', 'Tooth', 'Winding'])\n",
    "plt.title('MAE for Various Models')\n",
    "plt.show()"
   ]
  },
  {
   "cell_type": "markdown",
   "metadata": {},
   "source": [
    "### 5.8 Bagging Regressor"
   ]
  },
  {
   "cell_type": "markdown",
   "metadata": {},
   "source": [
    "5.8.1 Instantiating the model"
   ]
  },
  {
   "cell_type": "code",
   "execution_count": 140,
   "metadata": {},
   "outputs": [],
   "source": [
    "bag_yoke = BaggingRegressor(tree_yoke)\n",
    "bag_tooth = BaggingRegressor(tree_tooth)\n",
    "bag_winding = BaggingRegressor(tree_winding)"
   ]
  },
  {
   "cell_type": "markdown",
   "metadata": {},
   "source": [
    "5.8.3 Fitting a basic model"
   ]
  },
  {
   "cell_type": "code",
   "execution_count": 141,
   "metadata": {},
   "outputs": [
    {
     "name": "stdout",
     "output_type": "stream",
     "text": [
      "8 seconds\n"
     ]
    }
   ],
   "source": [
    "start_timer = time()\n",
    "bag_yoke.fit(X_train, yoke_train)\n",
    "bag_tooth.fit(X_train, tooth_train)\n",
    "bag_winding.fit(X_train, winding_train)\n",
    "stop_timer = time()\n",
    "print(str(int(stop_timer-start_timer)), 'seconds')"
   ]
  },
  {
   "cell_type": "markdown",
   "metadata": {},
   "source": [
    "5.5.3 Making predictions"
   ]
  },
  {
   "cell_type": "code",
   "execution_count": 142,
   "metadata": {},
   "outputs": [],
   "source": [
    "bag_yoke_pred = bag_yoke.predict(X_test)\n",
    "bag_tooth_pred = bag_tooth.predict(X_test)\n",
    "bag_winding_pred = bag_winding.predict(X_test)"
   ]
  },
  {
   "cell_type": "markdown",
   "metadata": {},
   "source": [
    "5.5.4 Evaluating predictions"
   ]
  },
  {
   "cell_type": "code",
   "execution_count": 143,
   "metadata": {
    "scrolled": false
   },
   "outputs": [
    {
     "data": {
      "text/plain": [
       "(0.001620443093577333, 0.00219417315171001, 0.0027988373772071164)"
      ]
     },
     "execution_count": 143,
     "metadata": {},
     "output_type": "execute_result"
    }
   ],
   "source": [
    "mae_bag_yoke = mean_absolute_error(yoke_test, bag_yoke_pred)\n",
    "mae_bag_tooth = mean_absolute_error(tooth_test, bag_tooth_pred)\n",
    "mae_bag_winding = mean_absolute_error(winding_test, bag_winding_pred)\n",
    "mae_bag_yoke, mae_bag_tooth, mae_bag_winding"
   ]
  },
  {
   "cell_type": "markdown",
   "metadata": {},
   "source": [
    "5.5.5 Grid search"
   ]
  },
  {
   "cell_type": "code",
   "execution_count": 165,
   "metadata": {},
   "outputs": [],
   "source": [
    "yoke_grid = RandomizedSearchCV(bag_yoke, cv=3,\n",
    "            param_distributions=\n",
    "                        {'max_samples': np.linspace(.75, 1., 25),\n",
    "                         'n_estimators':[7, 8, 9, 10, 11, 12, 13]},\n",
    "                         n_jobs=-1, n_iter=20)\n",
    "tooth_grid = RandomizedSearchCV(bag_tooth, cv=5,\n",
    "            param_distributions=\n",
    "                        {'max_samples': np.linspace(.75, 1., 25),\n",
    "                         'n_estimators':[7, 8, 9, 10, 11, 12, 13]},\n",
    "                         n_jobs=-1, n_iter=20)\n",
    "winding_grid = RandomizedSearchCV(bag_winding, cv=5,\n",
    "            param_distributions=\n",
    "                        {'max_samples': np.linspace(.75, 1., 25),\n",
    "                         'n_estimators':[7, 8, 9, 10, 11, 12, 13]},\n",
    "                         n_jobs=-1, n_iter=20)"
   ]
  },
  {
   "cell_type": "code",
   "execution_count": 166,
   "metadata": {
    "scrolled": true
   },
   "outputs": [
    {
     "name": "stdout",
     "output_type": "stream",
     "text": [
      "233 seconds\n"
     ]
    }
   ],
   "source": [
    "start_timer = time()\n",
    "yoke_grid.fit(X_train, yoke_train)\n",
    "tooth_grid.fit(X_train, tooth_train)\n",
    "winding_grid.fit(X_train, winding_train)\n",
    "stop_timer = time()\n",
    "print(str(int(stop_timer-start_timer)), 'seconds')\n",
    "alert()"
   ]
  },
  {
   "cell_type": "code",
   "execution_count": 167,
   "metadata": {},
   "outputs": [
    {
     "data": {
      "text/plain": [
       "({'n_estimators': 11, 'max_samples': 0.8958333333333333},\n",
       " {'n_estimators': 12, 'max_samples': 0.8333333333333334},\n",
       " {'n_estimators': 9, 'max_samples': 0.8229166666666666})"
      ]
     },
     "execution_count": 167,
     "metadata": {},
     "output_type": "execute_result"
    }
   ],
   "source": [
    "tooth_grid.best_params_, yoke_grid.best_params_, winding_grid.best_params_"
   ]
  },
  {
   "cell_type": "code",
   "execution_count": 168,
   "metadata": {},
   "outputs": [],
   "source": [
    "bag_yoke_pred_cv = yoke_grid.best_estimator_.predict(X_test)\n",
    "bag_tooth_pred_cv = tooth_grid.best_estimator_.predict(X_test)\n",
    "bag_winding_pred_cv = winding_grid.best_estimator_.predict(X_test)"
   ]
  },
  {
   "cell_type": "code",
   "execution_count": 169,
   "metadata": {},
   "outputs": [
    {
     "data": {
      "text/plain": [
       "(0.0015910627446702008, 0.002162611807924626, 0.003056335748541774)"
      ]
     },
     "execution_count": 169,
     "metadata": {},
     "output_type": "execute_result"
    }
   ],
   "source": [
    "bag_yoke_pred_cv_mae = mean_absolute_error(yoke_test, bag_yoke_pred_cv)\n",
    "bag_tooth_pred_cv_mae = mean_absolute_error(tooth_test, bag_tooth_pred_cv)\n",
    "bag_winding_pred_cv_mae = mean_absolute_error(winding_test, bag_winding_pred_cv)\n",
    "bag_yoke_pred_cv_mae, bag_tooth_pred_cv_mae, bag_winding_pred_cv_mae"
   ]
  },
  {
   "cell_type": "markdown",
   "metadata": {},
   "source": [
    "5.5.7 Making a metrics dataframe"
   ]
  },
  {
   "cell_type": "code",
   "execution_count": 172,
   "metadata": {},
   "outputs": [
    {
     "data": {
      "text/html": [
       "<div>\n",
       "<style scoped>\n",
       "    .dataframe tbody tr th:only-of-type {\n",
       "        vertical-align: middle;\n",
       "    }\n",
       "\n",
       "    .dataframe tbody tr th {\n",
       "        vertical-align: top;\n",
       "    }\n",
       "\n",
       "    .dataframe thead th {\n",
       "        text-align: right;\n",
       "    }\n",
       "</style>\n",
       "<table border=\"1\" class=\"dataframe\">\n",
       "  <thead>\n",
       "    <tr style=\"text-align: right;\">\n",
       "      <th></th>\n",
       "      <th>MAE Yoke</th>\n",
       "      <th>MAE Tooth</th>\n",
       "      <th>MAE Winding</th>\n",
       "    </tr>\n",
       "  </thead>\n",
       "  <tbody>\n",
       "    <tr>\n",
       "      <th>Lin. Reg.</th>\n",
       "      <td>0.130515</td>\n",
       "      <td>0.174454</td>\n",
       "      <td>0.194115</td>\n",
       "    </tr>\n",
       "    <tr>\n",
       "      <th>Decision Tree</th>\n",
       "      <td>0.001676</td>\n",
       "      <td>0.002238</td>\n",
       "      <td>0.002940</td>\n",
       "    </tr>\n",
       "    <tr>\n",
       "      <th>Neural Net</th>\n",
       "      <td>0.024188</td>\n",
       "      <td>0.038797</td>\n",
       "      <td>0.046081</td>\n",
       "    </tr>\n",
       "    <tr>\n",
       "      <th>AdaBoost</th>\n",
       "      <td>0.174567</td>\n",
       "      <td>0.210693</td>\n",
       "      <td>0.239822</td>\n",
       "    </tr>\n",
       "    <tr>\n",
       "      <th>Extra Trees</th>\n",
       "      <td>0.002083</td>\n",
       "      <td>0.003329</td>\n",
       "      <td>0.003665</td>\n",
       "    </tr>\n",
       "    <tr>\n",
       "      <th>Random Forest</th>\n",
       "      <td>0.002608</td>\n",
       "      <td>0.003701</td>\n",
       "      <td>0.004498</td>\n",
       "    </tr>\n",
       "    <tr>\n",
       "      <th>Perceptron</th>\n",
       "      <td>0.019477</td>\n",
       "      <td>0.027979</td>\n",
       "      <td>0.023671</td>\n",
       "    </tr>\n",
       "    <tr>\n",
       "      <th>Bagging</th>\n",
       "      <td>0.001591</td>\n",
       "      <td>0.002163</td>\n",
       "      <td>0.003056</td>\n",
       "    </tr>\n",
       "  </tbody>\n",
       "</table>\n",
       "</div>"
      ],
      "text/plain": [
       "               MAE Yoke  MAE Tooth  MAE Winding\n",
       "Lin. Reg.      0.130515   0.174454     0.194115\n",
       "Decision Tree  0.001676   0.002238     0.002940\n",
       "Neural Net     0.024188   0.038797     0.046081\n",
       "AdaBoost       0.174567   0.210693     0.239822\n",
       "Extra Trees    0.002083   0.003329     0.003665\n",
       "Random Forest  0.002608   0.003701     0.004498\n",
       "Perceptron     0.019477   0.027979     0.023671\n",
       "Bagging        0.001591   0.002163     0.003056"
      ]
     },
     "execution_count": 172,
     "metadata": {},
     "output_type": "execute_result"
    }
   ],
   "source": [
    "metrics_bag = pd.DataFrame([bag_yoke_pred_cv_mae, bag_tooth_pred_cv_mae, \n",
    "                            bag_winding_pred_cv_mae], columns=['Bagging'], \n",
    "                            index=['MAE Yoke', 'MAE Tooth', 'MAE Winding']).T\n",
    "\n",
    "metrics = pd.concat([metrics, metrics_bag], axis=0, sort=False)\n",
    "metrics"
   ]
  },
  {
   "cell_type": "markdown",
   "metadata": {},
   "source": [
    "5.5.8 Plotting the metrics"
   ]
  },
  {
   "cell_type": "code",
   "execution_count": 175,
   "metadata": {
    "scrolled": false
   },
   "outputs": [
    {
     "data": {
      "image/png": "[encoded data removed]",
      "text/plain": [
       "<Figure size 576x360 with 1 Axes>"
      ]
     },
     "metadata": {
      "needs_background": "light"
     },
     "output_type": "display_data"
    }
   ],
   "source": [
    "fig, ax = plt.subplots(figsize=(8, 5))\n",
    "set_theme()\n",
    "\n",
    "ax.bar(metrics.index[[1, 4, 5, 7]], metrics.iloc[[1, 4, 5, 7], 1].values, color='orange', \n",
    "       edgecolor='k', linewidth=1, width=-0.2, align='edge', \n",
    "       alpha=1)\n",
    "\n",
    "ax.bar(metrics.index[[1, 4, 5, 7]], metrics.iloc[[1, 4, 5, 7], 0].values, color='green', \n",
    "       edgecolor='k', linewidth=1, width=0.2, align='edge', \n",
    "       alpha=1)\n",
    "\n",
    "ax.bar(metrics.index[[1, 4, 5, 7]], metrics.iloc[[1, 4, 5, 7], 2].values, color='yellow', \n",
    "       edgecolor='k', linewidth=1, width=.2, alpha=1)\n",
    "\n",
    "plt.xlim(-.5, 3.5)\n",
    "plt.legend(['Yoke', 'Tooth', 'Winding'])\n",
    "plt.title('MAE for Various Models')\n",
    "plt.show()"
   ]
  },
  {
   "cell_type": "markdown",
   "metadata": {},
   "source": [
    "## 6. Final results of selected models"
   ]
  },
  {
   "cell_type": "code",
   "execution_count": 200,
   "metadata": {},
   "outputs": [],
   "source": [
    "yoke_predict = bag_yoke.predict(X_test)\n",
    "tooth_predict = bag_tooth.predict(X_test)\n",
    "winding_predict = tree_winding.predict(X_test)"
   ]
  },
  {
   "cell_type": "code",
   "execution_count": 241,
   "metadata": {},
   "outputs": [],
   "source": [
    "random = np.random.uniform(0, 1, X_test.shape[0])"
   ]
  },
  {
   "cell_type": "code",
   "execution_count": 254,
   "metadata": {},
   "outputs": [
    {
     "data": {
      "image/png": "[encoded data removed]",
      "text/plain": [
       "<Figure size 576x360 with 1 Axes>"
      ]
     },
     "metadata": {
      "needs_background": "light"
     },
     "output_type": "display_data"
    }
   ],
   "source": [
    "fig, ax = plt.subplots(figsize=(8, 5))\n",
    "set_theme()\n",
    "\n",
    "ax.scatter(yoke_test, yoke_predict+random + 2, \n",
    "           color='orange', edgecolor='k', s=100)\n",
    "\n",
    "ax.scatter(tooth_test, tooth_predict+random, \n",
    "           color='green', edgecolor='k', s=100)\n",
    "\n",
    "ax.scatter(winding_test, winding_predict+random - 2, \n",
    "           color='yellow', edgecolor='k', s=100)\n",
    "\n",
    "plt.legend(['Yoke', 'Tooth', 'Winding'])\n",
    "plt.title('Final Precision of Predictions')\n",
    "plt.show()"
   ]
  },
  {
   "cell_type": "markdown",
   "metadata": {},
   "source": [
    "I expanded the data to show how much all three make a straight line. It's nearly perfect accuracy on the test set."
   ]
  },
  {
   "cell_type": "code",
   "execution_count": 276,
   "metadata": {},
   "outputs": [
    {
     "name": "stdout",
     "output_type": "stream",
     "text": [
      "Final Stator Yoke mean absolute error: 0.001591.\n",
      "Final Stator Tooth mean absolute error: 0.002163.\n",
      "Final Stator Winding mean absolute error: 0.002940.\n"
     ]
    }
   ],
   "source": [
    "print('Final Stator Yoke mean absolute error: %f.'%np.round(metrics.loc['Bagging', 'MAE Yoke'], 10))\n",
    "print('Final Stator Tooth mean absolute error: %f.'%np.round(metrics.loc['Bagging', 'MAE Tooth'], 10))\n",
    "print('Final Stator Winding mean absolute error: %f.'%np.round(metrics.loc['Decision Tree', 'MAE Winding'], 10))"
   ]
  }
 ],
 "metadata": {
  "kernelspec": {
   "display_name": "Python 3",
   "language": "python",
   "name": "python3"
  },
  "language_info": {
   "codemirror_mode": {
    "name": "ipython",
    "version": 3
   },
   "file_extension": ".py",
   "mimetype": "text/x-python",
   "name": "python",
   "nbconvert_exporter": "python",
   "pygments_lexer": "ipython3",
   "version": "3.7.0"
  }
 },
 "nbformat": 4,
 "nbformat_minor": 2
}
