{
 "cells": [
  {
   "cell_type": "code",
   "execution_count": 1,
   "metadata": {},
   "outputs": [
    {
     "name": "stderr",
     "output_type": "stream",
     "text": [
      "Using TensorFlow backend.\n"
     ]
    }
   ],
   "source": [
    "import pandas as pd\n",
    "import matplotlib.pyplot as plt\n",
    "%matplotlib inline\n",
    "import numpy as np\n",
    "import tensorflow as tf\n",
    "import keras \n",
    "from tensorflow.keras import backend as K\n",
    "from tensorflow.keras.models import Sequential\n",
    "from tensorflow.keras.layers import Flatten, Dense, Conv2D, MaxPooling2D, \\\n",
    "        Dropout, Conv1D, BatchNormalization, Activation, Reshape\n",
    "from tensorflow.keras.optimizers import Adam\n",
    "from tensorflow.keras.metrics import categorical_crossentropy\n",
    "from tensorflow.keras.preprocessing.image import ImageDataGenerator\n",
    "from sklearn.metrics import confusion_matrix\n",
    "from IPython.display import display \n",
    "from PIL import Image\n",
    "import itertools"
   ]
  },
  {
   "cell_type": "code",
   "execution_count": 2,
   "metadata": {},
   "outputs": [],
   "source": [
    "train_path = 'C:/Users/Nicolas/Documents/Practice Projects Jupyter/ChessPieces/train'\n",
    "val_path = 'C:/Users/Nicolas/Documents/Practice Projects Jupyter/ChessPieces/val'"
   ]
  },
  {
   "cell_type": "code",
   "execution_count": 3,
   "metadata": {
    "scrolled": true
   },
   "outputs": [
    {
     "name": "stdout",
     "output_type": "stream",
     "text": [
      "Found 40 images belonging to 2 classes.\n",
      "Found 16 images belonging to 2 classes.\n"
     ]
    }
   ],
   "source": [
    "train_batches = ImageDataGenerator().flow_from_directory(train_path, \n",
    "                            target_size=(30, 30), classes=['knights', 'pawns'], \n",
    "                                                         batch_size=10)\n",
    "val_batches = ImageDataGenerator().flow_from_directory(val_path, \n",
    "                            target_size=(30, 30), classes=['knights', 'pawns'], \n",
    "                                                       batch_size=4)"
   ]
  },
  {
   "cell_type": "code",
   "execution_count": 4,
   "metadata": {},
   "outputs": [],
   "source": [
    "def plots(ims, figsize=(12, 6), rows=1, interp=False, titles=None):\n",
    "    if type(ims[0]) is np.ndarray:\n",
    "        ims = np.array(ims).astype(np.uint8)\n",
    "        if (ims.shape[-1] != 3):\n",
    "            ims = ims.transpose((0, 2, 3, 1))\n",
    "    f = plt.figure(figsize=figsize)\n",
    "    if len(ims) % 2 == 0:\n",
    "           cols = len(ims)//rows\n",
    "    else:\n",
    "           len(ims)//rows +1\n",
    "    for i in range(len(ims)):\n",
    "        sp = f.add_subplot(rows, cols, i+1)\n",
    "        sp.axis('Off')\n",
    "        if titles is not None:\n",
    "            sp.set_title(titles[i], fontsize=16)\n",
    "        plt.imshow(ims[i], interpolation=None if interp else 'none')"
   ]
  },
  {
   "cell_type": "code",
   "execution_count": 5,
   "metadata": {},
   "outputs": [],
   "source": [
    "imgs, labels = next(train_batches)"
   ]
  },
  {
   "cell_type": "code",
   "execution_count": 6,
   "metadata": {
    "scrolled": true
   },
   "outputs": [
    {
     "name": "stderr",
     "output_type": "stream",
     "text": [
      "C:\\Users\\Nicolas\\Miniconda3\\envs\\tfenv\\lib\\site-packages\\matplotlib\\text.py:1191: FutureWarning: elementwise comparison failed; returning scalar instead, but in the future will perform elementwise comparison\n",
      "  if s != self._text:\n"
     ]
    },
    {
     "data": {
      "image/png": "[encoded data removed]",
      "text/plain": [
       "<Figure size 864x432 with 10 Axes>"
      ]
     },
     "metadata": {
      "needs_background": "light"
     },
     "output_type": "display_data"
    }
   ],
   "source": [
    "plots(imgs, titles=labels)"
   ]
  },
  {
   "cell_type": "code",
   "execution_count": 7,
   "metadata": {},
   "outputs": [],
   "source": [
    "model = Sequential([\n",
    "                    Conv2D(32, (3, 3), input_shape=(30, 30, 3)),\n",
    "                    Flatten(),\n",
    "                    Dense(10, activation='relu'),\n",
    "                    Dense(10, activation='relu'),\n",
    "                    Dense(2, activation='softmax')\n",
    "                    ])"
   ]
  },
  {
   "cell_type": "code",
   "execution_count": 8,
   "metadata": {},
   "outputs": [],
   "source": [
    "model.compile(Adam(lr=0.0001), loss='categorical_crossentropy', metrics=['accuracy'])"
   ]
  },
  {
   "cell_type": "code",
   "execution_count": 9,
   "metadata": {},
   "outputs": [],
   "source": [
    "steps_per_epoch=4\n",
    "validation_steps=4\n",
    "epochs=15"
   ]
  },
  {
   "cell_type": "code",
   "execution_count": 10,
   "metadata": {},
   "outputs": [
    {
     "name": "stdout",
     "output_type": "stream",
     "text": [
      "Epoch 1/15\n",
      "4/4 [==============================] - 1s 263ms/step - loss: 15.8710 - accuracy: 0.4750 - val_loss: 5.8010 - val_accuracy: 0.4375\n",
      "Epoch 2/15\n",
      "4/4 [==============================] - 0s 34ms/step - loss: 6.2267 - accuracy: 0.5000 - val_loss: 5.5674 - val_accuracy: 0.6250\n",
      "Epoch 3/15\n",
      "4/4 [==============================] - 0s 35ms/step - loss: 2.4456 - accuracy: 0.7500 - val_loss: 3.3333 - val_accuracy: 0.7500\n",
      "Epoch 4/15\n",
      "4/4 [==============================] - 0s 35ms/step - loss: 0.7618 - accuracy: 0.9250 - val_loss: 0.2028 - val_accuracy: 0.9375\n",
      "Epoch 5/15\n",
      "4/4 [==============================] - 0s 35ms/step - loss: 0.0016 - accuracy: 1.0000 - val_loss: 1.0329 - val_accuracy: 0.9375\n",
      "Epoch 6/15\n",
      "4/4 [==============================] - 0s 34ms/step - loss: 0.3815 - accuracy: 0.9500 - val_loss: 0.6911 - val_accuracy: 0.9375\n",
      "Epoch 7/15\n",
      "4/4 [==============================] - 0s 38ms/step - loss: 2.3559e-04 - accuracy: 1.0000 - val_loss: 3.6680e-04 - val_accuracy: 1.0000\n",
      "Epoch 8/15\n",
      "4/4 [==============================] - 0s 42ms/step - loss: 3.7849e-07 - accuracy: 1.0000 - val_loss: 0.0050 - val_accuracy: 1.0000\n",
      "Epoch 9/15\n",
      "4/4 [==============================] - 0s 42ms/step - loss: 3.2186e-07 - accuracy: 1.0000 - val_loss: 0.4114 - val_accuracy: 0.8750\n",
      "Epoch 10/15\n",
      "4/4 [==============================] - 0s 43ms/step - loss: 0.0011 - accuracy: 1.0000 - val_loss: 0.9189 - val_accuracy: 0.8750\n",
      "Epoch 11/15\n",
      "4/4 [==============================] - 0s 42ms/step - loss: 0.0126 - accuracy: 1.0000 - val_loss: 0.4674 - val_accuracy: 0.8750\n",
      "Epoch 12/15\n",
      "4/4 [==============================] - 0s 34ms/step - loss: 1.5206e-05 - accuracy: 1.0000 - val_loss: 0.1963 - val_accuracy: 0.8750\n",
      "Epoch 13/15\n",
      "4/4 [==============================] - 0s 43ms/step - loss: 4.8279e-07 - accuracy: 1.0000 - val_loss: 0.0813 - val_accuracy: 0.9375\n",
      "Epoch 14/15\n",
      "4/4 [==============================] - 0s 32ms/step - loss: 1.8179e-07 - accuracy: 1.0000 - val_loss: 0.0382 - val_accuracy: 1.0000\n",
      "Epoch 15/15\n",
      "4/4 [==============================] - 0s 39ms/step - loss: 2.3842e-08 - accuracy: 1.0000 - val_loss: 0.0212 - val_accuracy: 1.0000\n"
     ]
    }
   ],
   "source": [
    "history = model.fit_generator(train_batches, steps_per_epoch=4, validation_data=val_batches, \n",
    "                    validation_steps=validation_steps, epochs=epochs)"
   ]
  },
  {
   "cell_type": "code",
   "execution_count": 11,
   "metadata": {},
   "outputs": [
    {
     "data": {
      "text/plain": [
       "<matplotlib.legend.Legend at 0x262f53b2908>"
      ]
     },
     "execution_count": 11,
     "metadata": {},
     "output_type": "execute_result"
    },
    {
     "data": {
      "image/png": "[encoded data removed]",
      "text/plain": [
       "<Figure size 432x288 with 1 Axes>"
      ]
     },
     "metadata": {
      "needs_background": "light"
     },
     "output_type": "display_data"
    }
   ],
   "source": [
    "plt.plot(history.history['val_loss'], color='orange')\n",
    "plt.plot(history.history['loss'], color='green')\n",
    "plt.legend(['Validation Loss', 'Train Loss'])"
   ]
  }
 ],
 "metadata": {
  "kernelspec": {
   "display_name": "Python 3",
   "language": "python",
   "name": "python3"
  },
  "language_info": {
   "codemirror_mode": {
    "name": "ipython",
    "version": 3
   },
   "file_extension": ".py",
   "mimetype": "text/x-python",
   "name": "python",
   "nbconvert_exporter": "python",
   "pygments_lexer": "ipython3",
   "version": "3.6.8"
  }
 },
 "nbformat": 4,
 "nbformat_minor": 2
}
