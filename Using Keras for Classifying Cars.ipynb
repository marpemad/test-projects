{
 "cells": [
  {
   "cell_type": "markdown",
   "metadata": {},
   "source": [
    "# Welcome to my Keras practice to classify cars"
   ]
  },
  {
   "cell_type": "markdown",
   "metadata": {},
   "source": [
    "##### Importing libraries"
   ]
  },
  {
   "cell_type": "code",
   "execution_count": 23,
   "metadata": {},
   "outputs": [],
   "source": [
    "import pandas as pd\n",
    "import tensorflow as tf\n",
    "import matplotlib.pyplot as plt\n",
    "%matplotlib inline\n",
    "from sklearn.preprocessing import OrdinalEncoder\n",
    "from sklearn.preprocessing import MinMaxScaler\n",
    "import numpy as np"
   ]
  },
  {
   "cell_type": "markdown",
   "metadata": {},
   "source": [
    "##### Importing the data"
   ]
  },
  {
   "cell_type": "code",
   "execution_count": 24,
   "metadata": {},
   "outputs": [],
   "source": [
    "df = pd.read_csv('C:/Users/Nicolas/Documents/Scraping/thecarconnection/raw_data_imputed.csv', \n",
    "                 index_col=0).sample(frac=1, random_state=42).reset_index(drop=True)"
   ]
  },
  {
   "cell_type": "code",
   "execution_count": 25,
   "metadata": {},
   "outputs": [
    {
     "data": {
      "text/html": [
       "<div>\n",
       "<style scoped>\n",
       "    .dataframe tbody tr th:only-of-type {\n",
       "        vertical-align: middle;\n",
       "    }\n",
       "\n",
       "    .dataframe tbody tr th {\n",
       "        vertical-align: top;\n",
       "    }\n",
       "\n",
       "    .dataframe thead th {\n",
       "        text-align: right;\n",
       "    }\n",
       "</style>\n",
       "<table border=\"1\" class=\"dataframe\">\n",
       "  <thead>\n",
       "    <tr style=\"text-align: right;\">\n",
       "      <th></th>\n",
       "      <th>Make</th>\n",
       "      <th>Model</th>\n",
       "      <th>MSRP</th>\n",
       "      <th>Style Name</th>\n",
       "      <th>Drivetrain</th>\n",
       "      <th>Passenger Capacity</th>\n",
       "      <th>Passenger Doors</th>\n",
       "      <th>Body Style</th>\n",
       "      <th>EPA Classification</th>\n",
       "      <th>Base Curb Weight (lbs)</th>\n",
       "      <th>...</th>\n",
       "      <th>Displacement (cc)</th>\n",
       "      <th>Rear Tire Width</th>\n",
       "      <th>Front Tire Width</th>\n",
       "      <th>Rear Wheel Size</th>\n",
       "      <th>Front Wheel Size</th>\n",
       "      <th>Tire Rating</th>\n",
       "      <th>Tire Width Ratio</th>\n",
       "      <th>Wheel Size Ratio</th>\n",
       "      <th>Tire Ratio</th>\n",
       "      <th>Year</th>\n",
       "    </tr>\n",
       "  </thead>\n",
       "  <tbody>\n",
       "    <tr>\n",
       "      <th>0</th>\n",
       "      <td>Ford</td>\n",
       "      <td>Expedition</td>\n",
       "      <td>62295.0</td>\n",
       "      <td>4WD 4dr King Ranch</td>\n",
       "      <td>Four Wheel Drive</td>\n",
       "      <td>8.0</td>\n",
       "      <td>4</td>\n",
       "      <td>Sport Utility</td>\n",
       "      <td>Small Sport Utility Vehicles 4WD</td>\n",
       "      <td>3905.44</td>\n",
       "      <td>...</td>\n",
       "      <td>213.0</td>\n",
       "      <td>275.0</td>\n",
       "      <td>275.0</td>\n",
       "      <td>20.0</td>\n",
       "      <td>20.0</td>\n",
       "      <td>S</td>\n",
       "      <td>1.000000</td>\n",
       "      <td>1.0</td>\n",
       "      <td>5.0</td>\n",
       "      <td>2016.0</td>\n",
       "    </tr>\n",
       "    <tr>\n",
       "      <th>1</th>\n",
       "      <td>Subaru</td>\n",
       "      <td>Crosstrek</td>\n",
       "      <td>29995.0</td>\n",
       "      <td>Touring CVT</td>\n",
       "      <td>All Wheel Drive</td>\n",
       "      <td>5.0</td>\n",
       "      <td>4</td>\n",
       "      <td>Sport Utility</td>\n",
       "      <td>Small Sport Utility Vehicles 4WD</td>\n",
       "      <td>3495.00</td>\n",
       "      <td>...</td>\n",
       "      <td>122.0</td>\n",
       "      <td>225.0</td>\n",
       "      <td>225.0</td>\n",
       "      <td>17.0</td>\n",
       "      <td>17.0</td>\n",
       "      <td>H</td>\n",
       "      <td>1.000000</td>\n",
       "      <td>1.0</td>\n",
       "      <td>5.0</td>\n",
       "      <td>2016.0</td>\n",
       "    </tr>\n",
       "    <tr>\n",
       "      <th>2</th>\n",
       "      <td>Porsche</td>\n",
       "      <td>911</td>\n",
       "      <td>161800.0</td>\n",
       "      <td>Turbo Coupe</td>\n",
       "      <td>All Wheel Drive</td>\n",
       "      <td>4.0</td>\n",
       "      <td>2</td>\n",
       "      <td>2dr Car</td>\n",
       "      <td>Minicompact Cars</td>\n",
       "      <td>3516.00</td>\n",
       "      <td>...</td>\n",
       "      <td>232.0</td>\n",
       "      <td>305.0</td>\n",
       "      <td>245.0</td>\n",
       "      <td>20.0</td>\n",
       "      <td>20.0</td>\n",
       "      <td>Y</td>\n",
       "      <td>1.244898</td>\n",
       "      <td>1.0</td>\n",
       "      <td>3.0</td>\n",
       "      <td>2018.0</td>\n",
       "    </tr>\n",
       "    <tr>\n",
       "      <th>3</th>\n",
       "      <td>Volvo</td>\n",
       "      <td>XC90</td>\n",
       "      <td>47950.0</td>\n",
       "      <td>T5 AWD 5-Passenger Momentum</td>\n",
       "      <td>All Wheel Drive</td>\n",
       "      <td>5.0</td>\n",
       "      <td>4</td>\n",
       "      <td>Sport Utility</td>\n",
       "      <td>Small Sport Utility Vehicles 4WD</td>\n",
       "      <td>4394.00</td>\n",
       "      <td>...</td>\n",
       "      <td>120.0</td>\n",
       "      <td>235.0</td>\n",
       "      <td>235.0</td>\n",
       "      <td>18.0</td>\n",
       "      <td>18.0</td>\n",
       "      <td>H</td>\n",
       "      <td>1.000000</td>\n",
       "      <td>1.0</td>\n",
       "      <td>6.0</td>\n",
       "      <td>2017.0</td>\n",
       "    </tr>\n",
       "    <tr>\n",
       "      <th>4</th>\n",
       "      <td>Mercedes-Benz</td>\n",
       "      <td>SL Class</td>\n",
       "      <td>110800.0</td>\n",
       "      <td>SL 550</td>\n",
       "      <td>Rear Wheel Drive</td>\n",
       "      <td>2.0</td>\n",
       "      <td>2</td>\n",
       "      <td>Convertible</td>\n",
       "      <td>Two-Seaters</td>\n",
       "      <td>3959.00</td>\n",
       "      <td>...</td>\n",
       "      <td>285.0</td>\n",
       "      <td>285.0</td>\n",
       "      <td>255.0</td>\n",
       "      <td>19.0</td>\n",
       "      <td>19.0</td>\n",
       "      <td>Y</td>\n",
       "      <td>1.117647</td>\n",
       "      <td>1.0</td>\n",
       "      <td>3.0</td>\n",
       "      <td>2017.0</td>\n",
       "    </tr>\n",
       "  </tbody>\n",
       "</table>\n",
       "<p>5 rows × 94 columns</p>\n",
       "</div>"
      ],
      "text/plain": [
       "            Make       Model      MSRP                   Style Name  \\\n",
       "0           Ford  Expedition   62295.0           4WD 4dr King Ranch   \n",
       "1         Subaru   Crosstrek   29995.0                  Touring CVT   \n",
       "2        Porsche         911  161800.0                  Turbo Coupe   \n",
       "3          Volvo        XC90   47950.0  T5 AWD 5-Passenger Momentum   \n",
       "4  Mercedes-Benz    SL Class  110800.0                       SL 550   \n",
       "\n",
       "         Drivetrain  Passenger Capacity  Passenger Doors     Body Style  \\\n",
       "0  Four Wheel Drive                 8.0                4  Sport Utility   \n",
       "1   All Wheel Drive                 5.0                4  Sport Utility   \n",
       "2   All Wheel Drive                 4.0                2        2dr Car   \n",
       "3   All Wheel Drive                 5.0                4  Sport Utility   \n",
       "4  Rear Wheel Drive                 2.0                2    Convertible   \n",
       "\n",
       "                 EPA Classification  Base Curb Weight (lbs)  ...  \\\n",
       "0  Small Sport Utility Vehicles 4WD                 3905.44  ...   \n",
       "1  Small Sport Utility Vehicles 4WD                 3495.00  ...   \n",
       "2                  Minicompact Cars                 3516.00  ...   \n",
       "3  Small Sport Utility Vehicles 4WD                 4394.00  ...   \n",
       "4                       Two-Seaters                 3959.00  ...   \n",
       "\n",
       "   Displacement (cc)  Rear Tire Width  Front Tire Width  Rear Wheel Size  \\\n",
       "0              213.0            275.0             275.0             20.0   \n",
       "1              122.0            225.0             225.0             17.0   \n",
       "2              232.0            305.0             245.0             20.0   \n",
       "3              120.0            235.0             235.0             18.0   \n",
       "4              285.0            285.0             255.0             19.0   \n",
       "\n",
       "   Front Wheel Size  Tire Rating  Tire Width Ratio  Wheel Size Ratio  \\\n",
       "0              20.0            S          1.000000               1.0   \n",
       "1              17.0            H          1.000000               1.0   \n",
       "2              20.0            Y          1.244898               1.0   \n",
       "3              18.0            H          1.000000               1.0   \n",
       "4              19.0            Y          1.117647               1.0   \n",
       "\n",
       "   Tire Ratio    Year  \n",
       "0         5.0  2016.0  \n",
       "1         5.0  2016.0  \n",
       "2         3.0  2018.0  \n",
       "3         6.0  2017.0  \n",
       "4         3.0  2017.0  \n",
       "\n",
       "[5 rows x 94 columns]"
      ]
     },
     "execution_count": 25,
     "metadata": {},
     "output_type": "execute_result"
    }
   ],
   "source": [
    "df.head()"
   ]
  },
  {
   "cell_type": "markdown",
   "metadata": {},
   "source": [
    "## Preprocessing"
   ]
  },
  {
   "cell_type": "markdown",
   "metadata": {},
   "source": [
    "##### Making sure the data is balanced"
   ]
  },
  {
   "cell_type": "code",
   "execution_count": 26,
   "metadata": {},
   "outputs": [
    {
     "data": {
      "text/plain": [
       "Small Sport Utility Vehicles 4WD    1650\n",
       "Mid-Size Cars                       1177\n",
       "Compact Cars                        1029\n",
       "Small Sport Utility Vehicles 2WD     659\n",
       "Large Cars                           598\n",
       "Name: EPA Classification, dtype: int64"
      ]
     },
     "execution_count": 26,
     "metadata": {},
     "output_type": "execute_result"
    }
   ],
   "source": [
    "df['EPA Classification'].value_counts().head()"
   ]
  },
  {
   "cell_type": "code",
   "execution_count": 27,
   "metadata": {},
   "outputs": [],
   "source": [
    "small_utility_awd = df.loc[df['EPA Classification'] == 'Small Sport Utility Vehicles 4WD'].sample(n=1000)\n",
    "midsized_car = df.loc[df['EPA Classification'] == 'Mid-Size Cars'].sample(n=1000)\n",
    "compact_car = df.loc[df['EPA Classification'] == 'Compact Cars'].sample(n=1000)"
   ]
  },
  {
   "cell_type": "code",
   "execution_count": 28,
   "metadata": {},
   "outputs": [],
   "source": [
    "df = pd.concat([small_utility_awd, compact_car, midsized_car], \n",
    "                axis=0, sort=False).sample(frac=1)"
   ]
  },
  {
   "cell_type": "markdown",
   "metadata": {},
   "source": [
    "##### Double checking the balanced data"
   ]
  },
  {
   "cell_type": "code",
   "execution_count": 29,
   "metadata": {
    "scrolled": true
   },
   "outputs": [
    {
     "data": {
      "text/plain": [
       "Small Sport Utility Vehicles 4WD    1000\n",
       "Mid-Size Cars                       1000\n",
       "Compact Cars                        1000\n",
       "Name: EPA Classification, dtype: int64"
      ]
     },
     "execution_count": 29,
     "metadata": {},
     "output_type": "execute_result"
    }
   ],
   "source": [
    "df['EPA Classification'].value_counts().head()"
   ]
  },
  {
   "cell_type": "code",
   "execution_count": 30,
   "metadata": {},
   "outputs": [
    {
     "data": {
      "text/plain": [
       "Text(0.5, 1.0, 'Pie Chart of Car Types')"
      ]
     },
     "execution_count": 30,
     "metadata": {},
     "output_type": "execute_result"
    },
    {
     "data": {
      "image/png": "[encoded data removed]",
      "text/plain": [
       "<Figure size 432x288 with 1 Axes>"
      ]
     },
     "metadata": {},
     "output_type": "display_data"
    }
   ],
   "source": [
    "df['EPA Classification'].value_counts().head().plot(kind='pie', cmap='coolwarm')\n",
    "plt.title('Pie Chart of Car Types')"
   ]
  },
  {
   "cell_type": "markdown",
   "metadata": {},
   "source": [
    "##### Separating the `x` and `y`"
   ]
  },
  {
   "cell_type": "code",
   "execution_count": 14,
   "metadata": {},
   "outputs": [],
   "source": [
    "x = df.loc[:, ['MSRP', 'Drivetrain', 'Passenger Capacity', 'Passenger Doors', \n",
    "               'Width, Max w/o mirrors (in)', 'Track Width, Rear (in)',\n",
    "               'Height, Overall (in)', 'Wheelbase (in)', 'Track Width, Front (in)',\n",
    "               'Fuel Tank Capacity, Approx (gal)', 'EPA Fuel Economy Est - City (MPG)',\n",
    "               'EPA Fuel Economy Est - Hwy (MPG)', 'Gears', 'Net Horsepower', 'Net Horsepower RPM', \n",
    "               'Net Torque', 'Net Torque RPM', 'Cylinders', 'Engine Configuration', 'Engine Class',\n",
    "               'Displacement (L)', 'Displacement (cc)', 'Rear Tire Width',\n",
    "               'Front Tire Width', 'Rear Wheel Size', 'Front Wheel Size',\n",
    "               'Tire Rating', 'Tire Width Ratio', 'Wheel Size Ratio', 'Tire Ratio']]"
   ]
  },
  {
   "cell_type": "code",
   "execution_count": 15,
   "metadata": {},
   "outputs": [],
   "source": [
    "y = OrdinalEncoder().fit_transform(np.array(df['EPA Classification']).reshape(-1, 1))"
   ]
  },
  {
   "cell_type": "code",
   "execution_count": 16,
   "metadata": {},
   "outputs": [],
   "source": [
    "specs_to_dummies = ['Drivetrain', 'Engine Configuration', 'Engine Class', 'Tire Rating']\n",
    "\n",
    "for item in specs_to_dummies:\n",
    "    dummies = pd.get_dummies(x[item], prefix_sep=': ', prefix=item)\n",
    "    x = x.drop(item, axis=1)\n",
    "    x = pd.concat([x, dummies], sort=False, axis=1)\n",
    "x = x.reset_index(drop=True)"
   ]
  },
  {
   "cell_type": "markdown",
   "metadata": {},
   "source": [
    "##### Transforming the data into numbers between 0 and 1"
   ]
  },
  {
   "cell_type": "code",
   "execution_count": 17,
   "metadata": {},
   "outputs": [
    {
     "name": "stderr",
     "output_type": "stream",
     "text": [
      "C:\\Users\\Nicolas\\Miniconda3\\envs\\tfenv\\lib\\site-packages\\sklearn\\preprocessing\\data.py:334: DataConversionWarning: Data with input dtype uint8, int64, float64 were all converted to float64 by MinMaxScaler.\n",
      "  return self.partial_fit(X, y)\n"
     ]
    }
   ],
   "source": [
    "scaler = MinMaxScaler(feature_range=(0, 1))\n",
    "x = scaler.fit_transform(x)"
   ]
  },
  {
   "cell_type": "markdown",
   "metadata": {},
   "source": [
    "## Building and training the model"
   ]
  },
  {
   "cell_type": "markdown",
   "metadata": {},
   "source": [
    "##### Building"
   ]
  },
  {
   "cell_type": "code",
   "execution_count": 31,
   "metadata": {},
   "outputs": [],
   "source": [
    "model = tf.keras.models.Sequential()\n",
    "model.add(tf.keras.layers.Dense(2, input_shape=(52,)))\n",
    "model.add(tf.keras.layers.Dense(200, activation=tf.nn.relu))\n",
    "model.add(tf.keras.layers.Dense(200, activation=tf.nn.relu))\n",
    "model.add(tf.keras.layers.Dense(3, activation=tf.nn.softmax))"
   ]
  },
  {
   "cell_type": "markdown",
   "metadata": {},
   "source": [
    "##### Compiling"
   ]
  },
  {
   "cell_type": "code",
   "execution_count": 19,
   "metadata": {},
   "outputs": [],
   "source": [
    "model.compile(optimizer='adam',\n",
    "              loss='sparse_categorical_crossentropy',\n",
    "             metrics=['accuracy'])"
   ]
  },
  {
   "cell_type": "markdown",
   "metadata": {},
   "source": [
    "##### Training"
   ]
  },
  {
   "cell_type": "code",
   "execution_count": 20,
   "metadata": {
    "scrolled": true
   },
   "outputs": [
    {
     "name": "stdout",
     "output_type": "stream",
     "text": [
      "Train on 2700 samples, validate on 300 samples\n",
      "Epoch 1/10\n",
      "2700/2700 [==============================] - 2s 561us/sample - loss: 0.8035 - acc: 0.5956 - val_loss: 0.5366 - val_acc: 0.7367\n",
      "Epoch 2/10\n",
      "2700/2700 [==============================] - 1s 347us/sample - loss: 0.4776 - acc: 0.7663 - val_loss: 0.4408 - val_acc: 0.8067\n",
      "Epoch 3/10\n",
      "2700/2700 [==============================] - 1s 307us/sample - loss: 0.3908 - acc: 0.8215 - val_loss: 0.3565 - val_acc: 0.8633\n",
      "Epoch 4/10\n",
      "2700/2700 [==============================] - 1s 243us/sample - loss: 0.3258 - acc: 0.8567 - val_loss: 0.3230 - val_acc: 0.8700\n",
      "Epoch 5/10\n",
      "2700/2700 [==============================] - 1s 267us/sample - loss: 0.2884 - acc: 0.8844 - val_loss: 0.3096 - val_acc: 0.8867\n",
      "Epoch 6/10\n",
      "2700/2700 [==============================] - 1s 239us/sample - loss: 0.2723 - acc: 0.8837 - val_loss: 0.2959 - val_acc: 0.8967\n",
      "Epoch 7/10\n",
      "2700/2700 [==============================] - 1s 241us/sample - loss: 0.2512 - acc: 0.8941 - val_loss: 0.3007 - val_acc: 0.8667\n",
      "Epoch 8/10\n",
      "2700/2700 [==============================] - 1s 256us/sample - loss: 0.2348 - acc: 0.9052 - val_loss: 0.2808 - val_acc: 0.9033\n",
      "Epoch 9/10\n",
      "2700/2700 [==============================] - 1s 390us/sample - loss: 0.2314 - acc: 0.9093 - val_loss: 0.2815 - val_acc: 0.9100\n",
      "Epoch 10/10\n",
      "2700/2700 [==============================] - 1s 265us/sample - loss: 0.2220 - acc: 0.9078 - val_loss: 0.2563 - val_acc: 0.9133\n"
     ]
    },
    {
     "data": {
      "text/plain": [
       "<tensorflow.python.keras.callbacks.History at 0x20772b7a400>"
      ]
     },
     "execution_count": 20,
     "metadata": {},
     "output_type": "execute_result"
    }
   ],
   "source": [
    "model.fit(x, y, epochs=10, batch_size=10, validation_split=0.1)"
   ]
  },
  {
   "cell_type": "markdown",
   "metadata": {},
   "source": [
    "## Final score and summary"
   ]
  },
  {
   "cell_type": "code",
   "execution_count": 22,
   "metadata": {},
   "outputs": [],
   "source": [
    "# Epoch 92/100\n",
    "# 2700/2700 [==============================] - 1s 263us/sample\n",
    "# loss: 0.0812 - acc: 0.9685 - val_loss: 0.0814 - val_acc: 0.9767"
   ]
  },
  {
   "cell_type": "markdown",
   "metadata": {},
   "source": [
    "Highest accuracy in the validation sample: 97.67%, loss of 8.12%"
   ]
  },
  {
   "cell_type": "code",
   "execution_count": 15,
   "metadata": {},
   "outputs": [
    {
     "name": "stdout",
     "output_type": "stream",
     "text": [
      "_________________________________________________________________\n",
      "Layer (type)                 Output Shape              Param #   \n",
      "=================================================================\n",
      "dense (Dense)                (None, 2)                 106       \n",
      "_________________________________________________________________\n",
      "dense_1 (Dense)              (None, 200)               600       \n",
      "_________________________________________________________________\n",
      "dense_2 (Dense)              (None, 200)               40200     \n",
      "_________________________________________________________________\n",
      "dense_3 (Dense)              (None, 3)                 603       \n",
      "=================================================================\n",
      "Total params: 41,509\n",
      "Trainable params: 41,509\n",
      "Non-trainable params: 0\n",
      "_________________________________________________________________\n"
     ]
    }
   ],
   "source": [
    "model.summary()"
   ]
  }
 ],
 "metadata": {
  "kernelspec": {
   "display_name": "Python 3",
   "language": "python",
   "name": "python3"
  },
  "language_info": {
   "codemirror_mode": {
    "name": "ipython",
    "version": 3
   },
   "file_extension": ".py",
   "mimetype": "text/x-python",
   "name": "python",
   "nbconvert_exporter": "python",
   "pygments_lexer": "ipython3",
   "version": "3.6.8"
  }
 },
 "nbformat": 4,
 "nbformat_minor": 2
}
